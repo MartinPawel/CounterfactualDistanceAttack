{
 "cells": [
  {
   "cell_type": "code",
   "execution_count": 343,
   "metadata": {},
   "outputs": [
    {
     "name": "stdout",
     "output_type": "stream",
     "text": [
      "The autoreload extension is already loaded. To reload it, use:\n",
      "  %reload_ext autoreload\n"
     ]
    }
   ],
   "source": [
    "%load_ext autoreload\n",
    "%autoreload 2"
   ]
  },
  {
   "cell_type": "code",
   "execution_count": 344,
   "metadata": {},
   "outputs": [],
   "source": [
    "# Utils\n",
    "import os\n",
    "import json\n",
    "import torch\n",
    "import pandas as pd\n",
    "import numpy as np\n",
    "import torch.nn as nn\n",
    "import matplotlib.pyplot as plt\n",
    "import datetime\n",
    "import seaborn as sns\n",
    "from sklearn.metrics import f1_score, accuracy_score\n",
    "from scipy.stats import norm, lognorm\n",
    "from statsmodels.distributions.empirical_distribution import ECDF\n",
    "from sklearn import metrics\n",
    "from matplotlib.colors import Normalize\n",
    "import matplotlib.cm as cm\n",
    "from joblib import Parallel, delayed\n",
    "import random\n",
    "from scipy import interpolate\n",
    "\n",
    "# Models\n",
    "from sklearn.neural_network import MLPClassifier\n",
    "from torch.optim import Adam, RMSprop, SGD\n",
    "from tqdm import tqdm\n",
    "from scipy import interpolate\n",
    "# from opacus import PrivacyEngine\n",
    "\n",
    "# Data\n",
    "from torch.utils.data import DataLoader\n",
    "import torch.utils.data as data\n",
    "from sklearn.model_selection import train_test_split\n",
    "from sklearn.preprocessing import MinMaxScaler, StandardScaler\n",
    "from sklearn.datasets import make_classification\n",
    "\n",
    "# Seeds\n",
    "import random\n",
    "torch.manual_seed(12345678910)\n",
    "random.seed(12345678910)"
   ]
  },
  {
   "cell_type": "code",
   "execution_count": 345,
   "metadata": {},
   "outputs": [
    {
     "data": {
      "text/plain": [
       "'data'"
      ]
     },
     "execution_count": 345,
     "metadata": {},
     "output_type": "execute_result"
    }
   ],
   "source": [
    "## for Palatino and other serif fonts use:\n",
    "# Seaborn style\n",
    "sns.set_theme(style=\"whitegrid\", font_scale=1.25)\n",
    "from matplotlib import rc\n",
    "font = {'family': 'serif',\n",
    "        'weight': 'bold',\n",
    "        'serif': ['Palatino'],\n",
    "        'size': 20}\n",
    "rc('font', **font)\n",
    "rc('text', usetex=True)\n",
    "plt.rcParams['text.latex.preamble'] = [r'\\boldmath']\n",
    "plt.rcParams['axes.autolimit_mode']"
   ]
  },
  {
   "cell_type": "code",
   "execution_count": 346,
   "metadata": {},
   "outputs": [],
   "source": [
    "class Loader(data.Dataset):\n",
    "    def __init__(self, X: np.array, y: np.array):\n",
    "        \n",
    "        \"\"\"\n",
    "        Load training dataset\n",
    "        :param path: string with path to training set\n",
    "        :param label: string, column name for label\n",
    "        :param scale: string; either 'minmax' or 'standard'\n",
    "        :return: tensor with training data\n",
    "        \"\"\"\n",
    "        \n",
    "        # Load dataset\n",
    "        self.y= y\n",
    "\n",
    "        # Save target and predictors\n",
    "        self.X = X\n",
    "        \n",
    "\n",
    "    def __len__(self):\n",
    "        return len(self.X)\n",
    "\n",
    "    def __getitem__(self, idx):\n",
    "        # select correct row with idx\n",
    "        if isinstance(idx, torch.Tensor):\n",
    "            idx = idx.tolist()\n",
    "        return self.X[idx], self.y[idx], idx\n",
    "\n",
    "    def get_number_of_features(self):\n",
    "        return self.X.shape[1]\n",
    "    \n",
    "    def get_number_of_instances(self):\n",
    "        return self.y.shape[0]\n"
   ]
  },
  {
   "cell_type": "code",
   "execution_count": 347,
   "metadata": {},
   "outputs": [],
   "source": [
    "class ann(nn.Module):\n",
    "    def __init__(self, input_dim: int, \n",
    "                 hidden_layers: list,\n",
    "                 train_loader,\n",
    "                 num_of_classes: int = 1, \n",
    "                 fit_sklearn=False, \n",
    "                 epochs=750,\n",
    "                 multiplier=None):\n",
    "        \n",
    "        super().__init__()\n",
    "        self.hidden_layers = hidden_layers\n",
    "        self.input_dim = input_dim\n",
    "        self.fit_sklearn = fit_sklearn\n",
    "        self.optim = \"sgd\"\n",
    "        self.n_epochs = epochs\n",
    "        self.multiplier = multiplier\n",
    "        self.train_loader = train_loader\n",
    "        self.delta = parameters_MODEL['delta']\n",
    "        \n",
    "        \n",
    "        # input layer\n",
    "        self.input1 = nn.Linear(input_dim, self.hidden_layers[0])\n",
    "        \n",
    "        # second layer if necessary\n",
    "        if len(hidden_layers) == 2:\n",
    "            self.input2 = nn.Linear(self.hidden_layers[1], self.hidden_layers[1])\n",
    "            self.input3 = nn.Linear(hidden_layers[1], num_of_classes)\n",
    "        else:\n",
    "            # output layer\n",
    "            self.input3 = nn.Linear(hidden_layers[0], num_of_classes)\n",
    "\n",
    "        # Activation\n",
    "        self.relu = nn.ReLU()\n",
    "        self.sigmoid = nn.Sigmoid()\n",
    "    \n",
    "    def fit(self, model, X: np.array, y: np.array):\n",
    "\n",
    "        if self.fit_sklearn:\n",
    "            self._fit_sklearn(X, y)\n",
    "        else:\n",
    "            self._fit_sgd(model, torch.tensor(X).float(), torch.tensor(y).float())\n",
    "    \n",
    "    def _fit_sklearn(self, \n",
    "                     X: np.array, \n",
    "                     y: np.array):\n",
    "        \n",
    "        num_inputs = len(X)\n",
    "        sklearn_ann = MLPClassifier(hidden_layer_sizes=self.hidden_layers, \n",
    "                                    solver='lbfgs',\n",
    "                                    activation='relu', \n",
    "                                    alpha=0.0, \n",
    "                                    max_iter=750, \n",
    "                                    tol=1e-4)\n",
    "        sklearn_ann.fit(X, y)\n",
    "        self.input1.weight.data = torch.tensor(sklearn_ann.coefs_[0], dtype=torch.float32).t()\n",
    "        self.input1.bias.data = torch.tensor(sklearn_ann.intercepts_[0], dtype=torch.float32).flatten()\n",
    "        \n",
    "        if len(self.hidden_layers) == 2:\n",
    "            self.input2.weight.data = torch.tensor(sklearn_ann.coefs_[1], dtype=torch.float32).t()\n",
    "            self.input2.bias.data = torch.tensor(sklearn_ann.intercepts_[1], dtype=torch.float32).flatten()\n",
    "            \n",
    "            self.input3.weight.data = torch.tensor(sklearn_ann.coefs_[2], dtype=torch.float32).t()\n",
    "            self.input3.bias.data = torch.tensor(sklearn_ann.intercepts_[2], dtype=torch.float32).flatten()\n",
    "        else:\n",
    "            self.input3.weight.data = torch.tensor(sklearn_ann.coefs_[1], dtype=torch.float32).t()\n",
    "            self.input3.bias.data = torch.tensor(sklearn_ann.intercepts_[1], dtype=torch.float32).flatten()\n",
    "        print(\"Sklearn loss:\", sklearn_ann.loss_)\n",
    "        \n",
    "    \n",
    "    def _fit_sgd(self, \n",
    "                 model, \n",
    "                 X: torch.tensor,\n",
    "                 y: torch.tensor):\n",
    "        \"\"\" Fit with stochastic Gradiend Descent. \"\"\"\n",
    "    \n",
    "        criterion = nn.BCELoss(reduction='none')\n",
    "        \n",
    "        current_lr = 0.001\n",
    "        if self.optim == \"adam\":\n",
    "            optim = Adam(model.parameters(), lr=current_lr)\n",
    "        elif self.optim == \"sgd\":\n",
    "            optim = SGD(model.parameters(), lr=current_lr)\n",
    "        else:\n",
    "            raise ValueError(\"Currently adam and sgd are supported.\")\n",
    "        \n",
    "        if self.multiplier is not None:\n",
    "            privacy_engine = PrivacyEngine(model,\n",
    "                                   batch_size=X.shape[0],\n",
    "                                   sample_size=X.shape[0],\n",
    "                                   alphas=range(0, 30000),\n",
    "                                   max_grad_norm=1.0,\n",
    "                                   epochs=self.n_epochs,\n",
    "                                   target_epsilon=parameters_MODEL['epsilon'],\n",
    "                                   target_delta=parameters_MODEL['delta'],\n",
    "                                   )\n",
    "            privacy_engine.attach(optim)\n",
    "        \n",
    "\n",
    "        for e in range(self.n_epochs):\n",
    "            if e % 5 == 0:\n",
    "                print('Epoch {}/{}'.format(e, self.n_epochs - 1))\n",
    "                print('-' * 10)\n",
    "\n",
    "            running_loss = 0.0\n",
    "            running_acc = 0.0\n",
    "            running_f1 = 0.0\n",
    "\n",
    "            for i, (inputs, labels, indeces) in enumerate(self.train_loader):\n",
    "\n",
    "                labels = labels.type(torch.long)\n",
    "\n",
    "                torch.set_grad_enabled(True)\n",
    "                y_pred = model(inputs.float()).reshape(-1)\n",
    "                loss = torch.mean(criterion(y_pred.float(), labels.float()))\n",
    "\n",
    "                # backward + optimize only if in training phase\n",
    "                loss.backward()\n",
    "                optim.step()\n",
    "\n",
    "                # statistics\n",
    "                preds = y_pred.data >= 0.5\n",
    "                running_acc += accuracy_score(labels.numpy(), preds.view(-1).long().numpy())\n",
    "                running_loss += loss.item()  # * inputs.size(0)\n",
    "                running_f1 += f1_score(labels.numpy(), preds.view(-1).long().numpy())\n",
    "\n",
    "                epoch_loss = running_loss / (i + 1)\n",
    "                epoch_acc = running_acc / (i + 1)\n",
    "                epoch_f1 = running_f1 / (i + 1)\n",
    "                \n",
    "                if self.multiplier is not None:\n",
    "                    epsilon, best_alpha = optim.privacy_engine.get_privacy_spent(self.delta)\n",
    "\n",
    "                    print(\n",
    "                        f\"Train Epoch: {e} \\t\"\n",
    "                        f\"(ε = {epsilon:.2f}, delta = {self.delta}) for alpha = {best_alpha}\")\n",
    "                \n",
    "                optim.zero_grad()\n",
    "\n",
    "\n",
    "    def forward(self, x):\n",
    "        \"\"\"\n",
    "        Forward pass through the network\n",
    "        Parameters\n",
    "        ----------\n",
    "        x: tabular data input\n",
    "        Returns\n",
    "        -------\n",
    "        prediction\n",
    "        \"\"\"\n",
    "        \n",
    "        output = self.input1(x)\n",
    "        output = self.relu(output)\n",
    "        \n",
    "        if len(self.hidden_layers) == 2:\n",
    "            output = self.input2(output)\n",
    "            output = self.relu(output)\n",
    "        \n",
    "        output = self.input3(output)\n",
    "        output = self.sigmoid(output)\n",
    "        return output.reshape(-1)"
   ]
  },
  {
   "cell_type": "code",
   "execution_count": 348,
   "metadata": {},
   "outputs": [],
   "source": [
    "class VAE_model(nn.Module):\n",
    "    \n",
    "    def __init__(self, \n",
    "                 D: int, \n",
    "                 activFun=nn.Softplus(), \n",
    "                 d: int = 6,\n",
    "                 H1: int = 25, \n",
    "                 H2: int = 25):\n",
    "        super(VAE_model, self).__init__()\n",
    "\n",
    "        # The VAE components\n",
    "        self.enc = nn.Sequential(\n",
    "            nn.Linear(D, H1),\n",
    "            activFun,\n",
    "            nn.Linear(H1, H2),\n",
    "            activFun\n",
    "        )\n",
    "\n",
    "        self.mu_enc = nn.Sequential(\n",
    "            self.enc,\n",
    "            nn.Linear(H2, d)\n",
    "        )\n",
    "\n",
    "        self.log_var_enc = nn.Sequential(\n",
    "            self.enc,\n",
    "            nn.Linear(H2, d)\n",
    "        )\n",
    "\n",
    "        self.dec = nn.Sequential(\n",
    "            nn.Linear(d, H2),\n",
    "            activFun,\n",
    "            nn.Linear(H2, H1),\n",
    "            activFun\n",
    "        )\n",
    "\n",
    "        self.mu_dec = nn.Sequential(\n",
    "            self.dec,\n",
    "            nn.Linear(H1, D)\n",
    "        )\n",
    "\n",
    "        self.log_var_dec = nn.Sequential(\n",
    "            self.dec,\n",
    "            nn.Linear(H1, D)\n",
    "        )\n",
    "\n",
    "    def encode(self, x):\n",
    "        return self.mu_enc(x), self.log_var_enc(x)\n",
    "    \n",
    "    def encode_csearch(self, x):\n",
    "        return self.mu_enc(x)\n",
    "\n",
    "    def decode(self, z):\n",
    "        return self.mu_dec(z), self.log_var_dec(z)\n",
    "    \n",
    "    def decode_csearch(self, z):\n",
    "        return self.mu_dec(z)\n",
    "\n",
    "    @staticmethod\n",
    "    def reparametrization_trick(mu, log_var):\n",
    "        std = torch.exp(0.5 * log_var)\n",
    "        epsilon = torch.randn_like(std)  # the Gaussian random noise\n",
    "        return mu + std * epsilon\n",
    "\n",
    "    def forward(self, x):\n",
    "        mu_z, log_var_z = self.encode(x)\n",
    "        z_rep = self.reparametrization_trick(mu_z, log_var_z)\n",
    "        mu_x, log_var_x = self.decode(z_rep)\n",
    "\n",
    "        return mu_x, log_var_x, z_rep, mu_z, log_var_z\n",
    "\n",
    "    def predict(self, data):\n",
    "            return self.forward(data)\n",
    "    \n",
    "    def regenerate(self, z, grad=False):\n",
    "        mu_x, log_var_x = self.decode(z)\n",
    "        return mu_x\n",
    "\n",
    "    # Computes the objective function of the VAE\n",
    "    def VAE_loss(self, x, mu_x, log_var_x, mu_z, log_var_z, r=0.25):\n",
    "        D = mu_x.shape[1]\n",
    "        d = mu_z.shape[1]\n",
    "\n",
    "        if log_var_x.shape[1] == 1:\n",
    "            P_X_Z = + 0.5 * (D * log_var_x + (((x - mu_x) ** 2) / log_var_x.exp()).sum(dim=1, keepdim=True)).mean()\n",
    "        else:\n",
    "            P_X_Z = + 0.5 * (log_var_x.sum(dim=1, keepdim=True)\n",
    "                            + (((x - mu_x) ** 2) / log_var_x.exp()).sum(dim=1, keepdim=True)).mean()\n",
    "\n",
    "        if log_var_z.shape[1] == 1:\n",
    "            Q_Z_X = - 0.5 * (d * log_var_z).mean()\n",
    "        else:\n",
    "            Q_Z_X = - 0.5 * log_var_z.sum(dim=1, keepdim=True).mean()\n",
    "\n",
    "        if log_var_z.shape[1] == 1:\n",
    "            P_Z = + 0.5 * ((mu_z ** 2).sum(dim=1, keepdim=True) + d * log_var_z.exp()).mean()\n",
    "        else:\n",
    "            P_Z = + 0.5 * ((mu_z ** 2).sum(dim=1, keepdim=True) + log_var_z.exp().sum(dim=1, keepdim=True)).mean()\n",
    "\n",
    "        return P_X_Z + r * Q_Z_X + r * P_Z\n",
    "    \n",
    "    \n",
    "    def fit(self, \n",
    "            model, \n",
    "            train_loader, \n",
    "            test_loader, \n",
    "            learning_rate=0.002, \n",
    "            epochs=50, \n",
    "            batch_size=32, \n",
    "            lambda_reg=1e-6):\n",
    "    \n",
    "        loaders = {'train': train_loader,\n",
    "                   'test': test_loader}\n",
    "\n",
    "        optimizer_model = torch.optim.Adam(model.parameters(),\n",
    "                                           lr=learning_rate,\n",
    "                                           weight_decay=lambda_reg)\n",
    "\n",
    "        # Use GPU if available\n",
    "        device = torch.device(\"cuda:0\" if torch.cuda.is_available() else \"cpu\")\n",
    "        model = model.to(device)\n",
    "\n",
    "        # Train the VAE with the new prior\n",
    "        ELBO_train = np.zeros((epochs, 1))\n",
    "        ELBO_test = np.zeros((epochs, 1))\n",
    "\n",
    "        for epoch in range(epochs):\n",
    "\n",
    "            if epoch % 5 == 0:\n",
    "                print('-' * 10)\n",
    "                print('Epoch {}/{}'.format(epoch, epochs - 1))\n",
    "\n",
    "            # Each epoch has a training and validation phase\n",
    "            for phase in ['train', 'test']:\n",
    "                if phase == 'train':\n",
    "                    model.train()  # Set model to training mode\n",
    "                else:\n",
    "                    model.eval()  # Set model to evaluation mode\n",
    "\n",
    "                # Initialize the losses\n",
    "                train_loss = 0\n",
    "                test_loss = 0\n",
    "\n",
    "                # Train for all the batches\n",
    "                for batch_idx, (data, _, _) in enumerate(loaders[phase]):\n",
    "                    data = data.view(data.shape[0], -1).float()\n",
    "\n",
    "                    optimizer_model.zero_grad()\n",
    "\n",
    "                    with torch.set_grad_enabled(phase == 'train'):\n",
    "                        MU_X_eval, LOG_VAR_X_eval, Z_ENC_eval, MU_Z_eval, LOG_VAR_Z_eval = model(data)\n",
    "\n",
    "                        # The VAE loss\n",
    "                        loss = model.VAE_loss(x=data, mu_x=MU_X_eval, log_var_x=LOG_VAR_X_eval,\n",
    "                                              mu_z=MU_Z_eval, log_var_z=LOG_VAR_Z_eval)\n",
    "\n",
    "                        # backward + optimize only if in training phase\n",
    "                        if phase == 'train':\n",
    "                            loss.backward()\n",
    "                            optimizer_model.step()\n",
    "                            train_loss += loss.detach().item() / batch_size\n",
    "                        else:\n",
    "                            test_loss += loss.detach().item() / batch_size\n",
    "\n",
    "                if epoch % 10 == 0 and phase == 'train':\n",
    "                    ELBO_train[epoch] = train_loss\n",
    "                    print(\"[Epoch: {}| {}/{}] [ELBO: {:.3f}]\".format(phase, epoch, epochs, ELBO_train[epoch, 0]))\n",
    "                elif epoch % 10 == 0 and phase == 'test':\n",
    "                    ELBO_test[epoch] = test_loss\n",
    "                    print(\"[Epoch: {}| {}/{}] [ELBO: {:.3f}]\".format(phase, epoch, epochs, ELBO_test[epoch, 0]))\n",
    "\n",
    "        print(\"Training on completed\")"
   ]
  },
  {
   "cell_type": "code",
   "execution_count": 349,
   "metadata": {},
   "outputs": [],
   "source": [
    "def train_vae(state,\n",
    "              X_train: np.array,\n",
    "              y_train: np.array,\n",
    "              X_test: np.array,\n",
    "              y_test: np.array,\n",
    "              ita: int,\n",
    "              parameters_MODEL: dict,\n",
    "              parameters_DATA: dict):\n",
    "    \n",
    "    dataset_train = Loader(X=X_train[:, 0:parameters_DATA['d']], \n",
    "                           y=y_private_train[:].reshape(-1))\n",
    "    \n",
    "    dataset_test = Loader(X=X_test[:, 0:parameters_DATA['d']], \n",
    "                          y=y_private_test[:].reshape(-1))\n",
    "\n",
    "    trainloader = DataLoader(dataset_train, \n",
    "                             batch_size=parameters_MODEL['batch_size'], \n",
    "                             shuffle=True)\n",
    "    \n",
    "    testloader = DataLoader(dataset_test, \n",
    "                            batch_size=parameters_MODEL['batch_size'], \n",
    "                            shuffle=True)  \n",
    "\n",
    "    model_private = VAE_model(input_size=parameters_DATA['d'])\n",
    "    \n",
    "    cap_state = state.capitalize()\n",
    "    dataset = parameters_DATA['dataset']\n",
    "    os.makedirs(f'./newresults\\Saved_Models/{cap_state}/{dataset}', \n",
    "                exist_ok=True)\n",
    "    \n",
    "    # Decide whether to load or train model\n",
    "    if parameters_MODEL['train_from_scratch']:\n",
    "        model_private.fit(trainloader, \n",
    "                          testloader,\n",
    "                          dataset_train)\n",
    "        \n",
    "        torch.save(model.state_dict(),\n",
    "                   './newresults\\Saved_Models/{}/iter{}_vae_{}_{}.pt'.format(cap_state,\n",
    "                                                                  str(ita),\n",
    "                                                                  state, \n",
    "                                                                  dataset))\n",
    "    \n",
    "    else:\n",
    "        model_path = f'./newresults\\Saved_Models/{cap_state}/iter{ita}_vae_{state}_{dataset}.pt'\n",
    "        if os.path.isfile(model_path):\n",
    "            # Load model if it already exists\n",
    "            model_private.load_state_dict(torch.load(model_path, \n",
    "                                                     map_location=torch.device('cpu')))\n",
    "\n",
    "        else:\n",
    "            # Fit and save model since it doesn't exist, yet.\n",
    "            model_private.fit(trainloader, \n",
    "                              testloader,\n",
    "                              dataset_train)\n",
    "            \n",
    "            torch.save(model_private.state_dict(),\n",
    "                       './newresults\\Saved_Models/{}/iter{}_vae_{}_{}.pt'.format(cap_state,\n",
    "                                                                      ita,\n",
    "                                                                      state, \n",
    "                                                                      dataset))\n",
    "    return model_private"
   ]
  },
  {
   "cell_type": "code",
   "execution_count": 350,
   "metadata": {},
   "outputs": [],
   "source": [
    "def train_private_model(X_private_train: np.array,\n",
    "                        y_private_train: np.array,\n",
    "                        X_private_test: np.array,\n",
    "                        y_private_test: np.array,\n",
    "                        ita: int,\n",
    "                        parameters_MODEL: dict,\n",
    "                        parameters_DATA: dict):\n",
    "    \n",
    "    dataset_train = Loader(X=X_private_train[:, 0:parameters_DATA['d']], \n",
    "                           y=y_private_train[:].reshape(-1))\n",
    "\n",
    "    trainloader = DataLoader(dataset_train, \n",
    "                             batch_size=parameters_MODEL['batch_size'], \n",
    "                             shuffle=True)\n",
    "    \n",
    "    model_private = ann(input_dim=parameters_DATA['d'], \n",
    "                        hidden_layers=parameters_MODEL['hidden_layers'],\n",
    "                        train_loader=trainloader,\n",
    "                        fit_sklearn=parameters_MODEL['sklearn'],\n",
    "                        epochs=parameters_MODEL['epochs'],\n",
    "                        multiplier=parameters_MODEL['noise_ratio'])\n",
    "    \n",
    "    width = len(parameters_MODEL['hidden_layers'])\n",
    "    depth = parameters_MODEL['hidden_layers'][0]\n",
    "    \n",
    "    dataset = parameters_DATA['dataset']\n",
    "    os.makedirs(f'.\\Saved_Models/Private/{dataset}', \n",
    "                exist_ok=True) \n",
    "    \n",
    "    # Decide whether to load or train model\n",
    "    if parameters_MODEL['train_from_scratch']:\n",
    "        model_private.fit(model_private, \n",
    "                          X=X_private_train[:, 0:parameters_DATA['d']], \n",
    "                          y=y_private_train[:].reshape(-1))\n",
    "\n",
    "        torch.save(model_private.state_dict(),\n",
    "                   './newresults\\Saved_Models/Private/{}/iter{}_private_depth{}_width{}.pt'.format(dataset, \n",
    "                                                                                 ita,\n",
    "                                                                                 depth,\n",
    "                                                                                 width))\n",
    "    \n",
    "    else:\n",
    "        model_path = f'./newresults\\Saved_Models/Private/{dataset}/iter{ita}_private_depth{depth}_width{width}.pt'\n",
    "        print(model_path)\n",
    "        if os.path.isfile(model_path):\n",
    "            # Load model if it already exists\n",
    "            model_private.load_state_dict(torch.load(model_path, \n",
    "                                                     map_location=torch.device('cpu')))\n",
    "            \n",
    "            y_pred_train = ((model_private(torch.from_numpy(X_private_train[:, 0:parameters_DATA['d']]).float()) > 0.5) * 1).detach().numpy()\n",
    "            y_pred_test = ((model_private(torch.from_numpy(X_private_test[:, 0:parameters_DATA['d']]).float()) > 0.5) *1 ).detach().numpy()\n",
    "\n",
    "            print(\"Accuracy on Train set:\", \n",
    "                  accuracy_score(y_private_train, y_pred_train))\n",
    "            print(\"Accuracy on Test set:\", \n",
    "                  accuracy_score(y_private_test, y_pred_test))\n",
    "\n",
    "        else:\n",
    "            # Fit and save model since it doesn't exist, yet.\n",
    "            model_private.fit(model_private, \n",
    "                              X=X_private_train[:, 0:parameters_DATA['d']],\n",
    "                              y=y_private_train[:].reshape(-1))\n",
    "            \n",
    "            torch.save(model_private.state_dict(),\n",
    "                       './newresults\\Saved_Models/Private/{}/iter{}_private_depth{}_width{}.pt'.format(dataset, \n",
    "                                                                                            ita,\n",
    "                                                                                            depth,\n",
    "                                                                                            width))\n",
    "    return model_private"
   ]
  },
  {
   "cell_type": "code",
   "execution_count": 351,
   "metadata": {},
   "outputs": [],
   "source": [
    "def train_public_models(X_public_train: np.array,\n",
    "                        y_public_train: np.array,\n",
    "                        X_public_test: np.array,\n",
    "                        y_public_test: np.array,\n",
    "                        ita: int,\n",
    "                        parameters_GENERAL: dict,\n",
    "                        parameters_MODEL: dict,\n",
    "                        parameters_DATA: dict) -> list:\n",
    "    \n",
    "    models_public = []\n",
    "    train_data_public = []\n",
    "    data_public_train = np.c_[X_public_train, y_public_train]\n",
    "    data_public_train = pd.DataFrame(data_public_train)\n",
    "    \n",
    "    depth = len(parameters_MODEL['hidden_layers'])\n",
    "    width = parameters_MODEL['hidden_layers'][0]\n",
    "    \n",
    "    dataset = parameters_DATA['dataset']\n",
    "    os.makedirs(f'./newresults\\Saved_Models/Public/{dataset}', \n",
    "                exist_ok=True)\n",
    "    \n",
    "    if parameters_MODEL['train_from_scratch']:\n",
    "\n",
    "        for i in tqdm(range(parameters_GENERAL['n_shadow_models'])):\n",
    "\n",
    "            # subsample shadow training set\n",
    "            ds = data_public_train.sample(frac=0.95, \n",
    "                                          replace=False,\n",
    "                                          random_state=i)\n",
    "            train_data_public.append(ds)\n",
    "\n",
    "            dataset_train_pub = Loader(X=ds.values[:, 0:parameters_DATA['d']], \n",
    "                                       y=ds.values[:,-1].reshape(-1))\n",
    "\n",
    "            trainloader = DataLoader(dataset_train_pub, \n",
    "                                     batch_size=parameters_MODEL['batch_size'], \n",
    "                                     shuffle=True)\n",
    "            \n",
    "            model_public = ann(input_dim=parameters_DATA['d'], \n",
    "                               hidden_layers=parameters_MODEL['hidden_layers'],\n",
    "                               train_loader=trainloader,\n",
    "                               epochs=parameters_MODEL['epochs'],\n",
    "                               multiplier=parameters_MODEL['noise_ratio'],\n",
    "                               fit_sklearn=parameters_MODEL['sklearn'])\n",
    "\n",
    "            model_public.fit(model_public,\n",
    "                             X=ds.values[:, 0:parameters_DATA['d']], \n",
    "                             y=ds.values[:,-1])\n",
    "            \n",
    "            torch.save(model_public.state_dict(),\n",
    "           './newresults\\Saved_Models/Public/{}/iter{}_depth{}_width{}_{}.pt'.format(parameters_DATA['dataset'], \n",
    "                                                                                 ita,\n",
    "                                                                                 depth,\n",
    "                                                                                 width,\n",
    "                                                                                 str(i)))\n",
    "            \n",
    "            models_public.append(model_public)\n",
    "    \n",
    "    else:\n",
    "        \n",
    "        for i in tqdm(range(parameters_GENERAL['n_shadow_models'])):\n",
    "            # print(f'Generating {i}-th public model')\n",
    "            model_path = f'./newresults\\Saved_Models/Public/{dataset}/iter{ita}_depth{depth}_width{width}_{str(i)}.pt'\n",
    "            print(model_path)\n",
    "            # subsample shadow training set\n",
    "            ds = data_public_train.sample(frac=0.95, \n",
    "                                          replace=False,\n",
    "                                          random_state=i)\n",
    "            train_data_public.append(ds)\n",
    "\n",
    "            dataset_train_pub = Loader(X=ds.values[:, 0:parameters_DATA['d']], \n",
    "                                       y=ds.values[:,-1].reshape(-1))\n",
    "\n",
    "            trainloader = DataLoader(dataset_train_pub, \n",
    "                                     batch_size=parameters_MODEL['batch_size'], \n",
    "                                     shuffle=True)\n",
    "\n",
    "            model_public = ann(input_dim=parameters_DATA['d'], \n",
    "                               hidden_layers=parameters_MODEL['hidden_layers'],\n",
    "                               train_loader=trainloader,\n",
    "                               epochs=parameters_MODEL['epochs'],\n",
    "                               multiplier=parameters_MODEL['noise_ratio'],\n",
    "                               fit_sklearn=parameters_MODEL['sklearn'])\n",
    "            \n",
    "            \n",
    "            if os.path.isfile(model_path):\n",
    "                print('Loading model ...')\n",
    "                # Load public model if it already exists\n",
    "                model_public.load_state_dict(torch.load(model_path, \n",
    "                                                        map_location=torch.device('cpu')))\n",
    "                \n",
    "                \n",
    "                y_pred_train = ((model_public(torch.from_numpy(X_public_train[:, 0:parameters_DATA['d']]).float()) > 0.5) * 1).detach().numpy()\n",
    "                y_pred_test = ((model_public(torch.from_numpy(X_public_test[:, 0:parameters_DATA['d']]).float()) > 0.5) *1 ).detach().numpy()\n",
    "\n",
    "                # print(f\"Shadow model {i}: Accuracy on Train set:\", \n",
    "                #       accuracy_score(y_public_train, y_pred_train))\n",
    "                # print(f\"Shadow model {i}: Accuracy on Test set:\", \n",
    "                #       accuracy_score(y_public_test, y_pred_test))\n",
    "                \n",
    "            else:\n",
    "                print('Training model ...')\n",
    "                # Fit and save model since it doesn't exist, yet.\n",
    "                model_public.fit(model_public, \n",
    "                                 X=ds.values[:, 0:parameters_DATA['d']], \n",
    "                                 y=ds.values[:,-1])\n",
    "\n",
    "                torch.save(model_public.state_dict(),\n",
    "                           './newresults\\Saved_Models/Public/{}/iter{}_depth{}_width{}_{}.pt'.format(parameters_DATA['dataset'], \n",
    "                                                                                                 ita,\n",
    "                                                                                                 depth,\n",
    "                                                                                                 width,\n",
    "                                                                                                 str(i)))\n",
    "            models_public.append(model_public)\n",
    "    \n",
    "    return models_public"
   ]
  },
  {
   "cell_type": "code",
   "execution_count": 352,
   "metadata": {},
   "outputs": [],
   "source": [
    "def get_input_subset(model, \n",
    "                     inputs: torch.tensor, \n",
    "                     labels: torch.tensor,\n",
    "                     subset_size: int = 500,\n",
    "                     decision_threshold: float = 0.5) -> torch.tensor:\n",
    "    \n",
    "    \"\"\"\n",
    "    Get negatively classified inputs & return their predictions\n",
    "    \"\"\"\n",
    "    pred = model(inputs).detach().numpy().reshape(-1)\n",
    "    yhat = (model(inputs) > decision_threshold) * 1\n",
    "    check = (model(inputs) < decision_threshold).detach().numpy()\n",
    "    selected_indices = np.where(check)[0]\n",
    "    input_subset = inputs[selected_indices]\n",
    "    predicted_label_subset = yhat[selected_indices]\n",
    "    label_subset = labels[selected_indices]\n",
    "    \n",
    "    return input_subset[0:subset_size, :], predicted_label_subset[0:subset_size], label_subset[0:subset_size]"
   ]
  },
  {
   "cell_type": "code",
   "execution_count": 353,
   "metadata": {},
   "outputs": [],
   "source": [
    "class SCFE:\n",
    "    \n",
    "    def __init__(self, \n",
    "                 classifier, \n",
    "                 target_threshold: float = 0.5, \n",
    "                 _lambda: float = 10.0,\n",
    "                 lr: float = 0.05,\n",
    "                 max_iter: int = 500, \n",
    "                 t_max_min: float = 0.15,\n",
    "                 step: float = 0.25,\n",
    "                 norm: int = 1, \n",
    "                 optimizer: str = 'adam'):\n",
    "        \n",
    "        super().__init__()\n",
    "        self.model_classification = classifier\n",
    "        self.lr = lr\n",
    "        self.max_iter = max_iter\n",
    "        self.optimizer = optimizer\n",
    "        self.t_max_min = t_max_min\n",
    "        self.norm = norm\n",
    "        self.sigmoid = nn.Sigmoid()\n",
    "        self.target_thres = target_threshold\n",
    "        self._lambda = _lambda\n",
    "        self.step = step\n",
    "    \n",
    "    def generate_counterfactuals(self, \n",
    "                                 query_instance: torch.tensor, \n",
    "                                 target_class: int = 1) -> torch.tensor:\n",
    "        \"\"\"\n",
    "            query instance: the point to be explained\n",
    "            target_class: Direction of the desired change. If target_class = 1, we aim to improve the score,\n",
    "            if target_class = 0, we aim to decrese it (in classification and regression problems).\n",
    "            _lambda: Lambda parameter (distance regularization) parameter of the problem\n",
    "        \"\"\"\n",
    "        \n",
    "        if target_class == 1:\n",
    "            target_prediction = torch.tensor(1).float().reshape(-1)\n",
    "        else:\n",
    "            target_prediction = torch.tensor(0).float().reshape(-1)\n",
    "        \n",
    "        output = self._call_model(query_instance.reshape(1, -1))\n",
    "        check_output = output.clone().detach()\n",
    "        \n",
    "        cf = query_instance.clone().requires_grad_(True)\n",
    "        \n",
    "        if self.optimizer == 'adam':\n",
    "            optim = torch.optim.Adam([cf], self.lr)\n",
    "        else:\n",
    "            optim = torch.optim.RMSprop([cf], self.lr)\n",
    "        \n",
    "        # Timer\n",
    "        t0 = datetime.datetime.now()\n",
    "        t_max = datetime.timedelta(minutes=self.t_max_min)\n",
    "        \n",
    "        counterfactuals = []\n",
    "        while not self._check_cf_valid(output, target_class):\n",
    "            \n",
    "            it = 0\n",
    "            distances = []\n",
    "            all_loss = []\n",
    "            \n",
    "            while not self._check_cf_valid(output, target_class) and iter < self.max_iter:\n",
    "                cf.requires_grad = True\n",
    "                optim.zero_grad()\n",
    "                total_loss, loss_distance = self.compute_loss(self._lambda,\n",
    "                                                              cf,\n",
    "                                                              query_instance,\n",
    "                                                              target_prediction)\n",
    "                total_loss.backward()\n",
    "                optim.step()                \n",
    "                output = self._call_model(cf)\n",
    "                \n",
    "                if self._check_cf_valid(output, target_class):\n",
    "                    counterfactuals.append(cf.clone().detach())\n",
    "                    dist = torch.norm(cf - query_instance, self.norm).clone().detach()\n",
    "                    distances.append(dist)\n",
    "                    all_loss.append(total_loss.clone().detach())\n",
    "                \n",
    "                it = it + 1\n",
    "            \n",
    "            output = self._call_model(cf).reshape(1, -1).detach()\n",
    "            if datetime.datetime.now() - t0 > t_max:\n",
    "                break\n",
    "\n",
    "            if self.step == 0.0:  # Don't search over lambdas\n",
    "                break\n",
    "            else:\n",
    "                self._lambda -= self.step\n",
    "\n",
    "        if not len(counterfactuals):\n",
    "            # print('No CE found')\n",
    "            cf.detach_()\n",
    "            return cf, torch.tensor(np.nan), torch.tensor(np.nan), self.model_classification(query_instance.reshape(1, -1))\n",
    "        \n",
    "        # Choose the nearest counterfactual\n",
    "        counterfactuals = torch.stack(counterfactuals)\n",
    "        \n",
    "        distances = torch.stack(distances)\n",
    "        distances = distances.detach()\n",
    "        index = torch.argmin(distances)\n",
    "        counterfactuals = counterfactuals.detach()\n",
    "\n",
    "        ce_star = counterfactuals[index]\n",
    "        distance_star = distances[index]\n",
    "        \n",
    "        return ce_star, distance_star, self.model_classification(ce_star), self.model_classification(query_instance.reshape(1, -1))\n",
    "    \n",
    "    def compute_loss(self, \n",
    "                     _lambda: float, \n",
    "                     cf_candidate: torch.tensor, \n",
    "                     original_instance: torch.tensor,\n",
    "                     target: torch.tensor) -> torch.tensor:\n",
    "        \n",
    "        output = self._call_model(cf_candidate)\n",
    "        bce_loss = nn.BCELoss()\n",
    "        loss_classification = bce_loss(output.reshape(-1), target)\n",
    "        loss_distance = torch.norm((cf_candidate - original_instance), self.norm)\n",
    "        total_loss = loss_classification + _lambda * loss_distance\n",
    "        return total_loss, loss_distance\n",
    "\n",
    "    def _call_model(self, cf_candidate):\n",
    "        output = self.model_classification(cf_candidate)[0]\n",
    "        return output\n",
    "\n",
    "    def _check_cf_valid(self, output, target_class):\n",
    "        \"\"\" Check if the output constitutes a sufficient CF-example.\n",
    "            target_class = 1 in general means that we aim to improve the score,\n",
    "            whereas for target_class = 0 we aim to decrease it.\n",
    "        \"\"\"\n",
    "        if target_class == 1:\n",
    "            check = output > self.target_thres\n",
    "            return check\n",
    "        else:\n",
    "            check = output < self.target_thres\n",
    "            return check\n"
   ]
  },
  {
   "cell_type": "code",
   "execution_count": 354,
   "metadata": {},
   "outputs": [],
   "source": [
    "class CCHVAE:\n",
    "\n",
    "    def __init__(self, \n",
    "                 classifier, \n",
    "                 model_vae, \n",
    "                 target_threshold: float = 0.5,\n",
    "                 n_search_samples: int = 1000,\n",
    "                 p_norm: int = 1,\n",
    "                 step: float = 0.05, \n",
    "                 max_iter: int = 750, \n",
    "                 clamp: bool = True):\n",
    "        \n",
    "        super().__init__()\n",
    "        self.classifier = classifier\n",
    "        self.generative_model = model_vae\n",
    "        self.n_search_samples = n_search_samples\n",
    "        self.p_norm = p_norm\n",
    "        self.step = step\n",
    "        self.max_iter = max_iter\n",
    "        self.clamp = clamp\n",
    "        self.target_treshold = target_threshold\n",
    "\n",
    "    def hyper_sphere_coordindates(self, instance, high, low):\n",
    "    \n",
    "        \"\"\"\n",
    "        :param n_search_samples: int > 0\n",
    "        :param instance: numpy input point array\n",
    "        :param high: float>= 0, h>l; upper bound\n",
    "        :param low: float>= 0, l<h; lower bound\n",
    "        :param p: float>= 1; norm\n",
    "        :return: candidate counterfactuals & distances\n",
    "        \"\"\"\n",
    "    \n",
    "        delta_instance = np.random.randn(self.n_search_samples, instance.shape[1])\n",
    "        dist = np.random.rand(self.n_search_samples) * (high - low) + low  # length range [l, h)\n",
    "        norm_p = LA.norm(delta_instance, ord=self.p_norm, axis=1)\n",
    "        d_norm = np.divide(dist, norm_p).reshape(-1, 1)  # rescale/normalize factor\n",
    "        delta_instance = np.multiply(delta_instance, d_norm)\n",
    "        candidate_counterfactuals = instance + delta_instance\n",
    "    \n",
    "        return candidate_counterfactuals, dist\n",
    "\n",
    "    def generate_counterfactuals(self, query_instance: torch.tensor, target_class: torch.tensor = 1) -> torch.tensor:\n",
    "        \"\"\"\n",
    "        :param instance: np array\n",
    "        :return: best CE\n",
    "        \"\"\" \n",
    "\n",
    "        # init step size for growing the sphere\n",
    "        low = 0\n",
    "        high = low + self.step\n",
    "\n",
    "        # counter\n",
    "        count = 0\n",
    "        counter_step = 1\n",
    "        query_instance = query_instance.detach().numpy()\n",
    "\n",
    "        # get predicted label of instance\n",
    "        pred_at_x = self.classifier(torch.from_numpy(query_instance.reshape(1, -1)).float())\n",
    "        self.classifier.eval()\n",
    "        instance_label = 1 - target_class.detach().numpy()\n",
    "        # vectorize z\n",
    "        z = self.generative_model.encode_csearch(torch.from_numpy(query_instance).float()).detach().numpy()\n",
    "        z_rep = np.repeat(z.reshape(1, -1), self.n_search_samples, axis=0)\n",
    "\n",
    "        while True:\n",
    "            count = count + counter_step\n",
    "\n",
    "            if count > self.max_iter:\n",
    "                candidate_counterfactual_star = np.empty(query_instance.shape[0], )\n",
    "                candidate_counterfactual_star[:] = np.nan\n",
    "                distance_star = np.nan\n",
    "                pred_at_ce = np.nan\n",
    "                pred_at_x = torch.tensor(pred_at_x.clone().detach())\n",
    "                print('No CE found')\n",
    "                break\n",
    "\n",
    "            # STEP 1 -- SAMPLE POINTS on hypersphere around instance\n",
    "            latent_neighbourhood, _ = CCHVAE.hyper_sphere_coordindates(self, z_rep, high, low)\n",
    "\n",
    "            x_ce = self.generative_model.decode_csearch(torch.from_numpy(latent_neighbourhood).float()).detach().numpy()\n",
    "\n",
    "            if self.clamp:\n",
    "                x_ce = x_ce.clip(0, 1)\n",
    "\n",
    "            # STEP 2 -- COMPUTE l1 & l2 norms\n",
    "            if self.p_norm == 1:\n",
    "                distances = np.abs((x_ce - query_instance)).sum(axis=1)\n",
    "            elif self.p_norm == 2:\n",
    "                distances = LA.norm(x_ce - query_instance, axis=1)\n",
    "            else:\n",
    "                print('Distance not defined yet')\n",
    "            \n",
    "            # counterfactual labels\n",
    "            y_preds = self.classifier(torch.from_numpy(x_ce).float()).detach().numpy()\n",
    "            y_candidate = ((self.classifier(torch.from_numpy(x_ce).float()).detach().numpy() > self.target_treshold)*1).reshape(-1)\n",
    "\n",
    "            indeces = np.where(y_candidate != instance_label)[0]\n",
    "            candidate_counterfactuals = x_ce[indeces]\n",
    "            candidate_dist = distances[indeces]\n",
    "\n",
    "            if len(candidate_dist) == 0:  # no candidate found & push search range outside\n",
    "                low = high\n",
    "                high = low + self.step\n",
    "            elif len(candidate_dist) > 0:  # certain candidates generated\n",
    "                min_index = np.argmin(candidate_dist)\n",
    "                candidate_counterfactual_star = candidate_counterfactuals[min_index]\n",
    "                distance_star = np.abs(candidate_counterfactual_star - query_instance).sum()\n",
    "                pred_at_ce = self.classifier(torch.tensor(candidate_counterfactual_star)).detach().numpy()\n",
    "                # print('CE found')\n",
    "                break\n",
    "\n",
    "        return torch.tensor(candidate_counterfactual_star), torch.tensor(distance_star), torch.tensor(pred_at_ce), torch.tensor(pred_at_x)"
   ]
  },
  {
   "cell_type": "code",
   "execution_count": 355,
   "metadata": {},
   "outputs": [],
   "source": [
    "def get_input_subset(model, \n",
    "                     inputs: torch.tensor, \n",
    "                     labels: torch.tensor,\n",
    "                     subset_size: int = 500,\n",
    "                     decision_threshold: float = 0.5) -> torch.tensor:\n",
    "    \n",
    "    \"\"\"\n",
    "    Get negatively classified inputs & return their predictions\n",
    "    \"\"\"\n",
    "    \n",
    "    pred = model(inputs).detach().numpy().reshape(-1)\n",
    "    yhat = (model(inputs) > decision_threshold) * 1\n",
    "    check = (model(inputs) < decision_threshold).detach().numpy()\n",
    "    selected_indices = np.where(check)[0]\n",
    "    input_subset = inputs[selected_indices]\n",
    "    predicted_label_subset = yhat[selected_indices]\n",
    "    label_subset = labels[selected_indices]\n",
    "    \n",
    "    return input_subset[0:subset_size, :], predicted_label_subset[0:subset_size], label_subset[0:subset_size]\n",
    "\n",
    "def get_recourses(x_subset: torch.tensor, \n",
    "                  model,\n",
    "                  parameters_CE,\n",
    "                  recourse_type: str = 'scfe'):\n",
    "    \n",
    "    counterfactuals = np.zeros_like(x_subset)\n",
    "    distances = np.zeros_like(x_subset[:, 0])\n",
    "    preds_at_counterfactuals = np.zeros_like(x_subset[:, 0])\n",
    "    preds_at_inputs = np.zeros_like(x_subset[:, 0])\n",
    "    \n",
    "    \n",
    "    if recourse_type == 'scfe':\n",
    "        recourse_model = SCFE(classifier=model,\n",
    "                              lr=parameters_CE['lr_scfe'],\n",
    "                              _lambda=0.0,\n",
    "                              step=0.00,\n",
    "                              max_iter=parameters_CE['max_iter'],\n",
    "                              norm=1,\n",
    "    \n",
    "    elif recourse_type == 'cchvae':\n",
    "        recourse_model = CCHVAE(classifier=model,\n",
    "                                model_vae=gen_model)\n",
    "        \n",
    "    elif recourse_type == 'gs':\n",
    "        a = 2\n",
    "    else:\n",
    "        raise ValueError('Currently only cchvae, gs and scfe are supported')\n",
    "    \n",
    "    for j in range(x_subset.shape[0]):\n",
    "        pred_class = torch.tensor(0)\n",
    "        q_j = torch.tensor(x_subset[j]).reshape(1,-1).float()\n",
    "        counterfactual, distance, prediction_at_ce, prediction_at_input = recourse_model.generate_counterfactuals(query_instance=q_j,\n",
    "                                                                                                                  target_class=1-pred_class)\n",
    "        preds_at_counterfactuals[j] = prediction_at_ce\n",
    "        preds_at_inputs[j] = prediction_at_input\n",
    "        counterfactuals[j, :] = counterfactual.detach().numpy()\n",
    "        distances[j] = distance.detach().numpy()\n",
    "        \n",
    "        if (j % 100) == 0:\n",
    "            print(f\"Finding counterfactual for {recourse_type} at iteration: {j}\")\n",
    "            \n",
    "    return counterfactuals, distances, preds_at_counterfactuals, preds_at_inputs"
   ]
  },
  {
   "cell_type": "code",
   "execution_count": 356,
   "metadata": {},
   "outputs": [],
   "source": [
    "def get_info_private(model_private,\n",
    "                     X_private_train: np.array,\n",
    "                     y_private_train: np.array,\n",
    "                     X_private_test: np.array,\n",
    "                     y_private_test: np.array,\n",
    "                     parameters_GENERAL: dict,\n",
    "                     parameters_DATA: dict,\n",
    "                     parameters_CE: dict):\n",
    "\n",
    "\n",
    "    result_dict_pri = {\n",
    "        'train': dict(),\n",
    "        'test': dict(),\n",
    "    }\n",
    "    \n",
    "    depth = len(parameters_MODEL['hidden_layers'])\n",
    "    width = parameters_MODEL['hidden_layers'][0]\n",
    "    ce_method = parameters_CE['methods']\n",
    "\n",
    "    # Check if dir already exists; if not, open new dir\n",
    "    dataset = parameters_DATA['dataset']\n",
    "    os.makedirs(f'./newresults\\Saved_Intermediate/{dataset}/', \n",
    "                exist_ok=True)\n",
    "    \n",
    "    # If info dict file already exists or if 'from_scratch=True', then find new recourses\n",
    "    intermediate_path = f'./newresults\\Saved_Intermediate/{dataset}/infodict_{ce_method}_depth{depth}_width{width}.json'\n",
    "    \n",
    "    if parameters_MODEL['train_from_scratch']:\n",
    "\n",
    "        tr_inp_subset, tr_pred_label_subset, tr_label_subset = get_input_subset(model=model_private,\n",
    "                                                                                inputs=torch.from_numpy(X_private_train[:, 0:parameters_DATA['d']]).float(),\n",
    "                                                                                labels=torch.from_numpy(y_private_train[:]).float(),\n",
    "                                                                                subset_size=parameters_GENERAL['ce_subset']\n",
    "                                                                               )\n",
    "\n",
    "        te_inp_subset, te_pred_label_subset, te_label_subset = get_input_subset(model=model_private, \n",
    "                                                                                inputs=torch.from_numpy(X_private_test[:, 0:parameters_DATA['d']]).float(),\n",
    "                                                                                labels=torch.from_numpy(y_private_test[:]).float(),\n",
    "                                                                                subset_size=parameters_GENERAL['ce_subset']\n",
    "                                                                               )\n",
    "\n",
    "        tr_ces, tr_dists, tr_preds_ces, tr_preds_inputs = get_recourses(tr_inp_subset, \n",
    "                                                                        model_private, \n",
    "                                                                        parameters_CE)\n",
    "        \n",
    "        # To save to .json, we have to convert everything to lists\n",
    "        # Collect results for train set    \n",
    "        result_dict_pri['train']['ces'] = tr_ces.tolist()\n",
    "        result_dict_pri['train']['input'] = tr_inp_subset.detach().numpy().tolist()\n",
    "        result_dict_pri['train']['distances'] = tr_dists.tolist()\n",
    "        result_dict_pri['train']['preds_at_ces'] = tr_preds_ces.tolist()\n",
    "        result_dict_pri['train']['preds_at_inputs'] = tr_preds_inputs.tolist()\n",
    "        result_dict_pri['train']['label'] = tr_label_subset.tolist()\n",
    "\n",
    "        te_ces, te_dists, te_preds_ces, te_preds_inputs = get_recourses(te_inp_subset, \n",
    "                                                                        model_private, \n",
    "                                                                        parameters_CE)\n",
    "\n",
    "        # Collect results for test set\n",
    "        result_dict_pri['test']['ces'] = te_ces.tolist()\n",
    "        result_dict_pri['test']['input'] = te_inp_subset.detach().numpy().tolist()\n",
    "        result_dict_pri['test']['distances'] = te_dists.tolist()\n",
    "        result_dict_pri['test']['preds_at_ces'] = te_preds_ces.tolist()\n",
    "        result_dict_pri['test']['preds_at_inputs'] = te_preds_inputs.tolist()\n",
    "        result_dict_pri['test']['label'] = te_label_subset.tolist()\n",
    "        \n",
    "        # Save intermediate results to json files\n",
    "        with open(f'.\\newresults\\Saved_Intermediate/{dataset}/infodict_{ce_method}_depth{depth}_width{width}.json', 'w') as fp:\n",
    "             json.dump(result_dict_pri, \n",
    "                       fp, \n",
    "                       indent=4, \n",
    "                       sort_keys=True)\n",
    "\n",
    "    else:\n",
    "        # Load already existing intermediate results\n",
    "        infodict = open(f'./newresults\\Saved_Intermediate/{dataset}/infodict_{ce_method}_depth{depth}_width{width}.json')\n",
    "        result_dict_pri = json.load(infodict)\n",
    "            \n",
    "    return result_dict_pri"
   ]
  },
  {
   "cell_type": "code",
   "execution_count": 357,
   "metadata": {},
   "outputs": [],
   "source": [
    "def get_info_shadow(result_dict_pri: dict,\n",
    "                    models_public: list,\n",
    "                    ita: int,\n",
    "                    parameters_GENERAL: dict,\n",
    "                    parameters_CE: dict):\n",
    "    \n",
    "    result_shadow_pri = {}\n",
    "    depth = len(parameters_MODEL['hidden_layers'])\n",
    "    width = parameters_MODEL['hidden_layers'][0]\n",
    "    ce_method = parameters_CE['methods']\n",
    "\n",
    "    # Check if dir already exists; if not, open new dir\n",
    "    dataset = parameters_DATA['dataset']\n",
    "    os.makedirs(f'./newresults\\Saved_Intermediate/{dataset}/', \n",
    "                exist_ok=True)\n",
    "    \n",
    "    # If info dict file already exists or if 'from_scratch=True', then find new recourses\n",
    "    # intermediate_path = f'./newresults\\Saved_Intermediate/{dataset}/iter{ita}_infodict_shadow_{ce_method}_depth{depth}_width{width}_{model_id}.json'\n",
    "    \n",
    "    for model_id in range(24):\n",
    "        print(f'Shadow model: {model_id}')\n",
    "        # Load already existing intermediate results\n",
    "        infodict = open(f'./newresults\\Saved_Intermediate/{dataset}/iter{ita}_infodict_shadow_{ce_method}_depth{depth}_width{width}_{str(model_id)}.json')\n",
    "        info = json.load(infodict)\n",
    "        result_shadow_pri[str(model_id)] = info[str(model_id)]\n",
    "    return result_shadow_pri"
   ]
  },
  {
   "cell_type": "code",
   "execution_count": 358,
   "metadata": {},
   "outputs": [],
   "source": [
    "class performance_measures:\n",
    "    def __init__(self,\n",
    "                 train_labels: np.array, \n",
    "                 test_labels: np.array, \n",
    "                 train_predictions: np.array, \n",
    "                 test_predictions: np.array,\n",
    "                 train_predictions_shadow: list,\n",
    "                 test_predictions_shadow: list,\n",
    "                 train_distance: np.array,\n",
    "                 test_distance: np.array,\n",
    "                 train_distance_shadow: list,\n",
    "                 test_distance_shadow: list,\n",
    "                 var_dist_train: np.array,\n",
    "                 var_dist_test: np.array,\n",
    "                 interpolation_intuition: bool = False,\n",
    "                 global_variance: bool = False,\n",
    "                 emp_cdf: bool = False\n",
    "                ):\n",
    "        \n",
    "        # Mostly used for loss-based attacks\n",
    "        self.train_labels = train_labels \n",
    "        self.test_labels = test_labels \n",
    "        self.train_predictions = train_predictions\n",
    "        self.test_predictions = test_predictions\n",
    "        self.train_predictions_shadow = train_predictions_shadow\n",
    "        self.test_predictions_shadow = test_predictions_shadow\n",
    "        # Mostly used for distance-based attacks\n",
    "        self.train_distance = train_distance\n",
    "        self.test_distance = test_distance\n",
    "        self.train_distance_shadow = train_distance_shadow\n",
    "        self.test_distance_shadow = test_distance_shadow\n",
    "        self.var_dist_train = var_dist_train\n",
    "        self.var_dist_test = var_dist_test\n",
    "        # Depends on intuition\n",
    "        self.interpolation_intuition = interpolation_intuition\n",
    "        self.global_variance = global_variance\n",
    "        self.emp_cdf = emp_cdf\n",
    "        \n",
    "    def measure_baseline_distance(self):\n",
    "    \n",
    "        if self.interpolation_intuition:\n",
    "            pos_label = 0\n",
    "        else:\n",
    "            pos_label = 1\n",
    "\n",
    "        y0 = list(np.repeat(0, len(self.test_distance.tolist())))\n",
    "        y1 = list(np.repeat(1, len(self.train_distance.tolist())))\n",
    "        ytrue = y0 + y1\n",
    "        y = np.array(ytrue)\n",
    "\n",
    "        scores = np.array(self.test_distance.tolist() + self.train_distance.tolist())\n",
    "        fprs, tprs, thresholds = metrics.roc_curve(y, scores, pos_label=pos_label)\n",
    "\n",
    "        accuracies = []\n",
    "        for threshold in thresholds:\n",
    "            predicted_train = (self.train_distance > threshold) * 1\n",
    "            predicted_test = (self.test_distance > threshold) * 1\n",
    "\n",
    "            \"\"\"\n",
    "            How good at correctly predicting train and test instances\n",
    "            \"\"\"\n",
    "            sum_train = np.sum(predicted_train == 1)  # for this part, the true label is y=1 (belong to train set)\n",
    "            sum_test = np.sum(predicted_test == 0)    # for this part, the true label is y=0 (belong to test set)\n",
    "            accuracy = (sum_train + sum_test) / (predicted_train.shape[0] + predicted_test.shape[0])\n",
    "            accuracies.append(accuracy)\n",
    "\n",
    "        auc = metrics.auc(fprs, tprs)\n",
    "\n",
    "        return accuracies, tprs, fprs, auc, thresholds\n",
    "    \n",
    "    def measure_baseline_distance_var(self):\n",
    "        \n",
    "        var_train = - self.var_dist_train\n",
    "        var_test = - self.var_dist_test\n",
    "\n",
    "        'pos label = 1 since we are predicting whether **-variance** is **greater** than threshold'\n",
    "\n",
    "        y0 = list(np.repeat(0, var_test.shape[0]))\n",
    "        y1 = list(np.repeat(1, var_train.shape[0]))\n",
    "        ytrue = y0 + y1\n",
    "        y = np.array(ytrue)\n",
    "\n",
    "        scores = np.array(var_test.tolist() + var_train.tolist())\n",
    "        fprs, tprs, thresholds = metrics.roc_curve(y, scores, pos_label=1)\n",
    "\n",
    "        accuracies = []\n",
    "        for threshold in thresholds:\n",
    "            predicted_train = (var_train > threshold) * 1\n",
    "            predicted_test = (var_test > threshold) * 1\n",
    "\n",
    "            \"\"\"\n",
    "            How good at correctly predicting train and test instances\n",
    "            \"\"\"\n",
    "            sum_train = np.sum(predicted_train == 1)  # for this part, the true label is y=1 (belong to train set)\n",
    "            sum_test = np.sum(predicted_test == 0)    # for this part, the true label is y=0 (belong to test set)\n",
    "            accuracy = (sum_train + sum_test) / (predicted_train.shape[0] + predicted_test.shape[0])\n",
    "            accuracies.append(accuracy)\n",
    "\n",
    "        auc = metrics.auc(fprs, tprs)\n",
    "\n",
    "        return accuracies, tprs, fprs, auc, thresholds\n",
    "    \n",
    "    def measure_baseline_loss(self):\n",
    "    \n",
    "        loss_criterion = nn.BCELoss(reduce=False)\n",
    "\n",
    "        # If loss < threshold --> train (yhat=1), else test(yhat=0)\n",
    "        # Note we take the negative of the loss since we have pos label 1 in roc curve metric\n",
    "\n",
    "        train_loss = - loss_criterion(torch.from_numpy(self.train_predictions).float(),\n",
    "                                      torch.from_numpy(self.train_labels).float()).detach().numpy()\n",
    "        test_loss = - loss_criterion(torch.from_numpy(self.test_predictions).float(),\n",
    "                                     torch.from_numpy(self.test_labels).float()).detach().numpy()\n",
    "\n",
    "        y0 = list(np.repeat(0, len(test_loss.tolist())))\n",
    "        y1 = list(np.repeat(1, len(train_loss.tolist())))\n",
    "        ytrue = y0 + y1\n",
    "        y = np.array(ytrue)\n",
    "\n",
    "        scores = np.array(test_loss.tolist() + train_loss.tolist())\n",
    "        fprs, tprs, thresholds = metrics.roc_curve(y, scores, pos_label=1)\n",
    "\n",
    "        accuracies = []\n",
    "        for threshold in thresholds:\n",
    "            predicted_train = (train_loss > threshold) * 1\n",
    "            predicted_test = (test_loss > threshold) * 1\n",
    "\n",
    "            \"\"\"\n",
    "            How good at correctly predicting train and test instances\n",
    "            \"\"\"\n",
    "\n",
    "            sum_train = np.sum(predicted_train == 1)  # for this part, the true label is y=1 (belong to train set)\n",
    "            sum_test = np.sum(predicted_test == 0)    # for this part, the true label is y=0 (belong to test set)\n",
    "            accuracy = (sum_train + sum_test) / (predicted_train.shape[0] + predicted_test.shape[0])\n",
    "            accuracies.append(accuracy)\n",
    "\n",
    "        auc = metrics.auc(fprs, tprs)\n",
    "\n",
    "        return accuracies, tprs, fprs, auc, thresholds\n",
    "    \n",
    "    def _get_stable_logit_loss(self,\n",
    "                               label, \n",
    "                               prediction, \n",
    "                               eps=1e-45):\n",
    "        if label == 1:\n",
    "            stable_logit_loss = np.log(prediction + eps) - np.log((1-prediction) + eps)\n",
    "        else:\n",
    "            stable_logit_loss = np.log((1 - prediction) + eps) - np.log(prediction + eps)\n",
    "        return stable_logit_loss\n",
    "\n",
    "\n",
    "    def _compute_lambda_loss(self,\n",
    "                             predictions: np.array,\n",
    "                             labels: np.array,\n",
    "                             shadowmodel_predictions: list):\n",
    "\n",
    "        cap_lambda_list = []\n",
    "        sigmas2_mle_list = []\n",
    "        mus_mle_list = []\n",
    "        logit_losses_shadow_all = [] \n",
    "\n",
    "        number_shadow_models = len(self.train_predictions_shadow) #- 10 #done this as first 10 models had not been trained\n",
    "        \n",
    "        # collect all stable logit losses for global variance if required\n",
    "        if self.global_variance:\n",
    "            for point in range(labels.shape[0]):\n",
    "                y_i = labels[point]\n",
    "                logit_loss = self._get_stable_logit_loss(y_i, \n",
    "                                                         predictions[point])\n",
    "\n",
    "                for m in range(10, number_shadow_models): #done this as first 10 models had not been trained\n",
    "                    pred_m = shadowmodel_predictions[m][point]\n",
    "                    logit_loss_shadow = self._get_stable_logit_loss(y_i,\n",
    "                                                                    pred_m)\n",
    "                    if np.isnan(pred_m):\n",
    "                        correction_count += 1\n",
    "                    else:\n",
    "                        logit_losses_shadow_all.append(logit_loss_shadow)\n",
    "        \n",
    "        # Compute Lambda\n",
    "        correction_count = 0\n",
    "        for point in range(labels.shape[0]):\n",
    "\n",
    "            y_i = labels[point]\n",
    "            logit_loss = self._get_stable_logit_loss(y_i, \n",
    "                                                     predictions[point])\n",
    "\n",
    "            logit_losses_shadow = []\n",
    "\n",
    "            for m in range(number_shadow_models):\n",
    "\n",
    "                pred_m = shadowmodel_predictions[m][point]\n",
    "                logit_loss_shadow = self._get_stable_logit_loss(y_i,\n",
    "                                                                pred_m)\n",
    "\n",
    "                if np.isnan(pred_m):\n",
    "                    correction_count += 1\n",
    "                else:\n",
    "                    logit_losses_shadow.append(logit_loss_shadow)\n",
    "            \n",
    "            # compute means and variances        \n",
    "            mean_shadow_losses = np.mean(logit_losses_shadow)\n",
    "            if self.global_variance:\n",
    "                var_shadow_losses =  np.var(logit_losses_shadow_all,\n",
    "                                            ddof=1) \n",
    "            else:\n",
    "                var_shadow_losses = np.var(logit_losses_shadow, \n",
    "                                           ddof=1)\n",
    "            \n",
    "            '''\n",
    "            Note that: logit_loss is the converted model confidence.\n",
    "            The larger the target model’s confidence (i.e., logit loss) is compared to µout\n",
    "            (i.e., mean_shadow_losses), the higher the likelihood that the query sample is a member.\n",
    "            '''\n",
    "            \n",
    "            if self.emp_cdf:\n",
    "                ecdf = ECDF(logit_losses_shadow)\n",
    "                cap_lambda = ecdf(logit_loss)\n",
    "                cap_lambda_list.append(cap_lambda)\n",
    "            \n",
    "            else:\n",
    "            \n",
    "                cap_lambda = norm.cdf(x=logit_loss,\n",
    "                                      loc=mean_shadow_losses,\n",
    "                                      scale=np.sqrt(var_shadow_losses))\n",
    "                cap_lambda_list.append(cap_lambda)\n",
    "                mus_mle_list.append(mean_shadow_losses)\n",
    "                sigmas2_mle_list.append(var_shadow_losses)\n",
    "        \n",
    "        return cap_lambda_list, mus_mle_list, sigmas2_mle_list\n",
    "    \n",
    "    \n",
    "    def measure_loss_lrt(self):\n",
    "    \n",
    "        # train\n",
    "        print(\"Compute Lambda on Train\")\n",
    "        cap_lambda_train_list, sigmas2_mle_train_list, mus_mle_train_list  = self._compute_lambda_loss(self.train_predictions,\n",
    "                                                                                                       self.train_labels,\n",
    "                                                                                                       self.train_predictions_shadow)\n",
    "\n",
    "        # test\n",
    "        print(\"Compute Lambda on Test\")\n",
    "        cap_lambda_test_list, sigmas2_mle_test_list, mus_mle_test_list  = self._compute_lambda_loss(self.test_predictions,\n",
    "                                                                                                    self.test_labels,\n",
    "                                                                                                    self.test_predictions_shadow)\n",
    "\n",
    "        accuracies = []\n",
    "\n",
    "        # determine nans and disregard\n",
    "        test_nan_idx = np.where(~np.isnan(cap_lambda_test_list))[0]\n",
    "        train_nan_idx = np.where(~np.isnan(cap_lambda_train_list))[0]\n",
    "\n",
    "        # adjust Lambdas for presence of nans\n",
    "        cap_lambda_test_list = np.array(cap_lambda_test_list).reshape(-1)[test_nan_idx]\n",
    "        cap_lambda_train_list = np.array(cap_lambda_train_list).reshape(-1)[train_nan_idx]\n",
    "\n",
    "        y0 = list(np.repeat(0, len(cap_lambda_test_list)))\n",
    "        y1 = list(np.repeat(1, len(cap_lambda_train_list)))\n",
    "        ytrue = y0 + y1\n",
    "        y = np.array(ytrue)\n",
    "\n",
    "        scores = np.array(cap_lambda_test_list.tolist() + cap_lambda_train_list.tolist())\n",
    "        fprs, tprs, thresholds = metrics.roc_curve(y, scores, pos_label=1)\n",
    "\n",
    "        for threshold in thresholds:\n",
    "            predicted_train = (cap_lambda_train_list > threshold) * 1\n",
    "            predicted_test = (cap_lambda_test_list > threshold) * 1\n",
    "\n",
    "            \"\"\"\n",
    "            How good at correctly predicting train and test instances\n",
    "            \"\"\"\n",
    "            sum_train = np.sum(predicted_train == 1)  # for this part, the true label is y=1 (belong to train set)\n",
    "            sum_test = np.sum(predicted_test == 0)    # for this part, the true label is y=0 (belong to test set)\n",
    "            accuracy = (sum_train + sum_test) / (predicted_train.shape[0] + predicted_test.shape[0])\n",
    "            accuracies.append(accuracy)\n",
    "\n",
    "        auc = metrics.auc(fprs, tprs)\n",
    "        \n",
    "        return accuracies, tprs, fprs, auc, thresholds\n",
    "    \n",
    "    \n",
    "    def _compute_lambda_dist(self,\n",
    "                             distances: np.array, \n",
    "                             distances_shadow: list,\n",
    "                             predictions: np.array,\n",
    "                             predictions_shadow: list,\n",
    "                             number_shadow_models: int,\n",
    "                             reverse: bool=False,\n",
    "                             eps: float = 1e-45):\n",
    "    \n",
    "        cap_lambda_list = []\n",
    "        sigmas2_mle_list = []\n",
    "        mus_mle_list = []\n",
    "        preds_no_found_shadow = []\n",
    "        preds_no_found = []\n",
    "        log_dists_all = []\n",
    "\n",
    "        if self.global_variance: \n",
    "            effective_number_shadow_models = number_shadow_models #- 10 # done this as first 10 models had not been trained\n",
    "        else:\n",
    "            effective_number_shadow_models = number_shadow_models #- 1 - 10 # done this as first 10 models had not been trained\n",
    "        \n",
    "        if self.global_variance:\n",
    "            for point in range(distances.shape[0]):\n",
    "                for m in range(number_shadow_models):\n",
    "                    dist_m = distances_shadow[m][point]\n",
    "                    if not np.isnan(dist_m):\n",
    "                        log_dist_m = np.log(dist_m + eps)\n",
    "                        log_dists_all.append(log_dist_m)\n",
    "\n",
    "        for point in range(distances.shape[0]): \n",
    "\n",
    "            dist_i = distances[point]\n",
    "            log_dists_shadow = []\n",
    "            mu_mle = 0\n",
    "            sigma2_mle = 0\n",
    "                            \n",
    "            # MU: compute mle estimator\n",
    "            correction_count = 0\n",
    "            for m in range(10, number_shadow_models): # done this as first 10 models had not been trained\n",
    "                dist_m = distances_shadow[m][point]\n",
    "                if np.isnan(dist_m):\n",
    "                    correction_count += 1\n",
    "                else:\n",
    "                    log_dist_m = np.log(dist_m + eps)\n",
    "                    mu_mle += log_dist_m\n",
    "                    log_dists_shadow.append(log_dist_m)\n",
    "\n",
    "                if correction_count == (effective_number_shadow_models):\n",
    "                    print('No CE found for any of the shadow models')\n",
    "                    print('Target model prediction at input:', predictions[point])\n",
    "                    preds = []\n",
    "                    for m in range(number_shadow_models):\n",
    "                        pred_m = predictions_shadow[m][point]\n",
    "                        preds.append(pred_m)\n",
    "                    preds_no_found.append(predictions[point])\n",
    "                    min_pred = np.min(preds)\n",
    "                    preds = np.array(preds)\n",
    "                    second_min = np.partition(preds, 1)[2] #[1]\n",
    "                    preds_no_found_shadow.append(second_min)\n",
    "                    print('Second lowest shadow model prediction at input:', second_min)\n",
    "                    break\n",
    "            if correction_count == (effective_number_shadow_models):\n",
    "                mu_mle = np.nan\n",
    "            else:\n",
    "                mu_mle = 1/(number_shadow_models - correction_count) * mu_mle\n",
    "\n",
    "            # Only compute Lambda, if CE found for at least one shadow model\n",
    "            if correction_count == number_shadow_models - 1:\n",
    "                sigma2_mle = np.nan\n",
    "                cap_lambda = np.nan\n",
    "            else:\n",
    "                # SIGMA2: compute mle estimator\n",
    "                correction_count_sig = 0\n",
    "                for m in range(number_shadow_models):\n",
    "                    dist_m = distances_shadow[m][point]\n",
    "                    if np.isnan(dist_m):\n",
    "                        correction_count_sig += 1\n",
    "                    else:\n",
    "                        log_dist_m = np.log(dist_m + eps)\n",
    "                        # print('mean - dist', mu_mle - log_dist_m)\n",
    "                        sigma2_mle += (mu_mle - log_dist_m) ** 2\n",
    "                    # if correction_count_sig == (number_shadow_models - 1):\n",
    "                    #    print('No CE found for any of the shadow models')\n",
    "                if self.global_variance:\n",
    "                    sigma2_mle = np.var(log_dists_all, \n",
    "                                        ddof=1)\n",
    "                else:\n",
    "                    if number_shadow_models - correction_count_sig - 1 == 0:\n",
    "                        sigma2_mle = np.var(log_dists_all, \n",
    "                                        ddof=1)\n",
    "                    else:\n",
    "                        sigma2_mle = 1 / (number_shadow_models - correction_count_sig - 1) * sigma2_mle\n",
    "                # print('sigma^2:', sigma2_mle)\n",
    "\n",
    "                # TEST STATISTICS\n",
    "                # We parameterize the log normal distribution according to scipy's documentation:\n",
    "                # https://docs.scipy.org/doc/scipy/reference/generated/scipy.stats.lognorm.html\n",
    "                \n",
    "                '''\n",
    "                The larger the model's distance to the decision boundary (i.e., dist_i) is compared to µ_out_dist\n",
    "                (i.e., mu_mle), the higher the likelihood that the query sample is a member.\n",
    "                '''\n",
    "                \n",
    "                if self.emp_cdf:\n",
    "                    if len(log_dists_shadow) < 3:\n",
    "                        cap_lambda = norm.cdf(x=np.log(dist_i),\n",
    "                                              loc=mu_mle,\n",
    "                                              scale=np.sqrt(sigma2_mle))\n",
    "                    else:\n",
    "                        ecdf = ECDF(log_dists_shadow)\n",
    "                        cap_lambda = ecdf(np.log(dist_i))\n",
    "                \n",
    "                else:\n",
    "                    cap_lambda = norm.cdf(x=np.log(dist_i),\n",
    "                                          loc=mu_mle,\n",
    "                                          scale=np.sqrt(sigma2_mle))\n",
    "\n",
    "            cap_lambda_list.append(cap_lambda)\n",
    "            sigmas2_mle_list.append(sigma2_mle)\n",
    "            mus_mle_list.append(mu_mle)\n",
    "        \n",
    "        results = dict()\n",
    "        results['cap_lambda_list'] = cap_lambda_list\n",
    "        results['mus_mle_list'] = mus_mle_list\n",
    "        results['sigmas2_mle_list'] = sigmas2_mle_list\n",
    "        results['preds_no_found_shadow'] = preds_no_found_shadow\n",
    "        results['preds_no_found'] = preds_no_found\n",
    "\n",
    "        return results\n",
    "\n",
    "\n",
    "    def measure_dist_lrt(self,\n",
    "                         eps: float = +1e-45):\n",
    "        \n",
    "        \n",
    "        if self.interpolation_intuition:\n",
    "            pos_label = 0\n",
    "        else:\n",
    "            pos_label = 1\n",
    "        \n",
    "        results = dict()\n",
    "        number_shadow_models = len(self.train_distance_shadow)\n",
    "        accuracies = []\n",
    "\n",
    "        # Compute Lambda on train\n",
    "        print(\"Compute Lambda on Train\")\n",
    "        results_train = self._compute_lambda_dist(distances=self.train_distance,\n",
    "                                                  distances_shadow=self.train_distance_shadow,\n",
    "                                                  predictions=self.train_predictions,\n",
    "                                                  predictions_shadow=self.train_predictions_shadow,\n",
    "                                                  number_shadow_models=number_shadow_models, \n",
    "                                                  eps=eps)\n",
    "\n",
    "        # Compute Lambda on test\n",
    "        print(\"Compute Lambda on Test\")\n",
    "        results_test = self._compute_lambda_dist(distances=self.test_distance,\n",
    "                                                 distances_shadow=self.test_distance_shadow, \n",
    "                                                 predictions=self.test_predictions,\n",
    "                                                 predictions_shadow=self.test_predictions_shadow,\n",
    "                                                 number_shadow_models=number_shadow_models, \n",
    "                                                 eps=eps)\n",
    "        \n",
    "        cap_lambda_train_list = results_train['cap_lambda_list'] \n",
    "        sigmas2_mle_train_list = results_train['mus_mle_list']\n",
    "        mus_mle_train_list = results_train['sigmas2_mle_list'] \n",
    "        results['preds_no_found_shadow_train'] = results_train['preds_no_found_shadow'] \n",
    "        results['preds_no_found_train'] = results_train['preds_no_found']\n",
    "        \n",
    "        cap_lambda_test_list = results_test['cap_lambda_list'] \n",
    "        sigmas2_mle_test_list = results_test['mus_mle_list']\n",
    "        mus_mle_test_list = results_test['sigmas2_mle_list'] \n",
    "        results['preds_no_found_shadow_test'] = results_test['preds_no_found_shadow'] \n",
    "        results['preds_no_found_test'] = results_test['preds_no_found']\n",
    "\n",
    "        # determine nans and disregard\n",
    "        test_nan_idx = np.where(~np.isnan(cap_lambda_test_list))[0]\n",
    "        train_nan_idx = np.where(~np.isnan(cap_lambda_train_list))[0]\n",
    "\n",
    "        # adjust Lambdas for presence of nans\n",
    "        cap_lambda_test_list = np.array(cap_lambda_test_list).reshape(-1)[test_nan_idx]\n",
    "        cap_lambda_train_list = np.array(cap_lambda_train_list).reshape(-1)[train_nan_idx]\n",
    "\n",
    "        # adjust vars for presence of nans\n",
    "        results['sigmas2_train'] = np.array(sigmas2_mle_train_list).reshape(-1)[train_nan_idx]\n",
    "        results['sigmas2_test'] = np.array(sigmas2_mle_test_list).reshape(-1)[test_nan_idx]\n",
    "\n",
    "        # adjust mus for presence of nans\n",
    "        results['mus_train'] = np.array(mus_mle_train_list).reshape(-1)[train_nan_idx]\n",
    "        results['mus_test'] = np.array(mus_mle_test_list).reshape(-1)[test_nan_idx]\n",
    "\n",
    "        # adjust distances for presence of nans\n",
    "        results['log_dist_train'] = np.log(self.train_distance).reshape(-1)[train_nan_idx]\n",
    "        results['log_dist_test'] = np.log(self.test_distance).reshape(-1)[test_nan_idx]\n",
    "\n",
    "        y0 = list(np.repeat(0, len(cap_lambda_test_list)))\n",
    "        y1 = list(np.repeat(1, len(cap_lambda_train_list)))\n",
    "        ytrue = y0 + y1\n",
    "        y = np.array(ytrue)\n",
    "\n",
    "        scores = np.array(cap_lambda_test_list.tolist() + cap_lambda_train_list.tolist())\n",
    "        fprs, tprs, thresholds = metrics.roc_curve(y, scores, pos_label=pos_label)\n",
    "\n",
    "        for threshold in thresholds:\n",
    "            predicted_train = (cap_lambda_train_list > threshold) * 1\n",
    "            predicted_test = (cap_lambda_test_list > threshold) * 1\n",
    "\n",
    "            \"\"\"\n",
    "            How good at correctly predicting train and test instances\n",
    "            \"\"\"\n",
    "            sum_train = np.sum(predicted_train == 1)  # for this part, the true label is y=1 (belong to train set)\n",
    "            sum_test = np.sum(predicted_test == 0)  # for this part, the true label is y=0 (belong to test set)\n",
    "            accuracy = (sum_train + sum_test) / (predicted_train.shape[0] + predicted_test.shape[0])\n",
    "            accuracies.append(accuracy)\n",
    "\n",
    "        auc = metrics.auc(fprs, tprs)\n",
    "\n",
    "        results['accuracies'] = accuracies\n",
    "        results['tprs'] = tprs\n",
    "        results['fprs'] = fprs\n",
    "        results['thresholds'] = thresholds\n",
    "        results['auc'] = auc\n",
    "        results['cap_lam_train'] = cap_lambda_train_list\n",
    "        results['cap_lam_test'] = cap_lambda_test_list\n",
    "        results['train_nan'] = train_nan_idx\n",
    "        results['test_nan'] = test_nan_idx\n",
    "\n",
    "        return accuracies, tprs, fprs, auc, thresholds, cap_lambda_train_list, cap_lambda_test_list, train_nan_idx, test_nan_idx, results\n"
   ]
  },
  {
   "cell_type": "code",
   "execution_count": 359,
   "metadata": {},
   "outputs": [],
   "source": [
    "def _correct_for_no_ces_dist(distances):\n",
    "    indeces = np.where(~np.isnan(distances))[0]\n",
    "    if len(indeces) == 0:\n",
    "        raise ValueError(\"Could not find any CEs\")\n",
    "    else:\n",
    "        nCEs = distances[indeces].shape[0]\n",
    "        print(f\"    Identified {nCEs} out of {distances.shape[0]} counterfactual explanations\")\n",
    "        return distances[indeces]\n",
    "    \n",
    "    \n",
    "def _correct_for_no_ces_dist_shadow(distances_list_shadow, distances):\n",
    "    indeces = np.where(~np.isnan(distances))[0]\n",
    "    if len(indeces) == 0:\n",
    "        raise ValueError(\"Could not find any CEs\")\n",
    "    else:\n",
    "        distances_list_adjusted_shadow = []\n",
    "        for i in range(len(distances_list_shadow)):\n",
    "            distances_list_adjusted_shadow.append(distances_list_shadow[i][indeces])\n",
    "        return distances_list_adjusted_shadow\n",
    "    \n",
    "def _correct_for_no_ces_pred(y, distances):\n",
    "    indeces = np.where(~np.isnan(distances))[0]\n",
    "    if len(indeces) == 0:\n",
    "        raise ValueError(\"Could not find any CEs\")\n",
    "    else:\n",
    "        nCEs = y[indeces].shape[0]\n",
    "        print(f\"    Identified {nCEs} out of {y.shape[0]} counterfactual explanations\")\n",
    "        return y[indeces]\n",
    "\n",
    "\n",
    "def _correct_for_no_ces_pred_shadow(y_list_shadow, distances):\n",
    "    indeces = np.where(~np.isnan(distances))[0]\n",
    "    if len(indeces) == 0:\n",
    "        raise ValueError(\"Could not find any CEs\")\n",
    "    else:\n",
    "        y_list_adjusted_shadow = []\n",
    "        for i in range(len(y_list_shadow)):\n",
    "            y_list_adjusted_shadow.append(y_list_shadow[i][indeces])\n",
    "        return y_list_adjusted_shadow"
   ]
  },
  {
   "cell_type": "code",
   "execution_count": 360,
   "metadata": {},
   "outputs": [],
   "source": [
    "def distances_to_list(result_dict_pri: dict, \n",
    "                      result_shadow_pri: dict,\n",
    "                      parameters_GENERAL: dict):\n",
    "    dist_train_list = []\n",
    "    dist_test_list = []\n",
    "    for m in range(parameters_GENERAL['n_shadow_models']):\n",
    "        dist_train_list.append(np.array(result_shadow_pri[str(m)]['train']['distances']))\n",
    "    for m in range(parameters_GENERAL['n_shadow_models']):\n",
    "        dist_test_list.append(np.array(result_shadow_pri[str(m)]['test']['distances']))\n",
    "    dist_train_list = _correct_for_no_ces_dist_shadow(dist_train_list, \n",
    "                                                      np.array(result_dict_pri['train']['distances']))\n",
    "    dist_test_list = _correct_for_no_ces_dist_shadow(dist_test_list, \n",
    "                                                     np.array(result_dict_pri['test']['distances']))\n",
    "    return dist_train_list, dist_test_list\n",
    "\n",
    "def predictions_to_list(result_dict_pri: dict, \n",
    "                        result_shadow_pri: dict,\n",
    "                        parameters_GENERAL: dict):\n",
    "    dist_train_list = []\n",
    "    dist_test_list = []\n",
    "    for m in range(parameters_GENERAL['n_shadow_models']):\n",
    "        dist_train_list.append(np.array(result_shadow_pri[str(m)]['train']['preds_at_inputs']))\n",
    "    for m in range(parameters_GENERAL['n_shadow_models']):\n",
    "        dist_test_list.append(np.array(result_shadow_pri[str(m)]['test']['preds_at_inputs']))\n",
    "    dist_train_list = _correct_for_no_ces_pred_shadow(dist_train_list, \n",
    "                                                      np.array(result_dict_pri['train']['distances']))\n",
    "    dist_test_list = _correct_for_no_ces_pred_shadow(dist_test_list, \n",
    "                                                     np.array(result_dict_pri['test']['distances']))\n",
    "    return dist_train_list, dist_test_list"
   ]
  },
  {
   "cell_type": "code",
   "execution_count": 361,
   "metadata": {},
   "outputs": [],
   "source": [
    "def pipeline(dataname,\n",
    "             parameters_DATA,\n",
    "             parameters_GENERAL,\n",
    "             parameters_MODEL,\n",
    "             parameters_CE,\n",
    "             verbose=False):\n",
    "    \n",
    "    datanames = ['Adult', 'Diabetes', 'Heloc', 'Synthetic']\n",
    "    \n",
    "    for ita in range(5):\n",
    "\n",
    "        parameters_DATA['dataset'] = dataname\n",
    "        print(f'GENERATING RESULTS FOR {dataname}')\n",
    "        if dataname == 'Synthetic':\n",
    "            parameters_DATA['scaler'] = 'standard'\n",
    "        else:\n",
    "            parameters_DATA['scaler'] = 'minmax'\n",
    "\n",
    "        if parameters_DATA['dataset'] == 'Synthetic':\n",
    "            # Parameters are choosen so that the classification probelm is not too easy!\n",
    "            X, y = make_classification(n_samples=parameters_DATA['n_samples'], \n",
    "                                       n_features=parameters_DATA['d_features_syn'], \n",
    "                                       n_informative=max(1, int(np.floor(parameters_DATA['frac_important'] * parameters_DATA['d_features_syn']))),\n",
    "                                       n_redundant=0,\n",
    "                                       n_clusters_per_class=1,\n",
    "                                       random_state=0,\n",
    "                                       class_sep=parameters_DATA['class_sep'],\n",
    "                                       flip_y=parameters_DATA['flip_y']\n",
    "                           )\n",
    "\n",
    "            if parameters_DATA['scaler'] == 'minmax':\n",
    "                scaler = MinMaxScaler(feature_range=(0, 1))\n",
    "            elif parameters_DATA['scaler'] == 'standard':\n",
    "                scaler = StandardScaler()\n",
    "            else:\n",
    "                raise ValueError(\"Currently standard and minmax are supported.\")\n",
    "            scaler.fit(X)\n",
    "            all_x = scaler.transform(X)\n",
    "            all_x = np.c_[all_x, y]\n",
    "\n",
    "            X_public, X_private = train_test_split(all_x, \n",
    "                                                   stratify=all_x[:, -1],\n",
    "                                                   test_size=0.50, \n",
    "                                                   random_state=0)\n",
    "\n",
    "            # On PUBLIC data: Split 85/15 between train/test\n",
    "            X_public_train, X_public_test = train_test_split(X_public, \n",
    "                                                             stratify=X_public[:, -1],\n",
    "                                                             test_size=0.15, \n",
    "                                                             random_state=0)\n",
    "            y_public_train = X_public_train[:,-1]\n",
    "            y_public_test = X_public_test[:,-1]\n",
    "\n",
    "            # On PRIVATE data: Split 80/20 between train/test\n",
    "            X_private_train, X_private_test = train_test_split(X_private, \n",
    "                                                               stratify=X_private[:, -1],\n",
    "                                                               test_size=0.50, \n",
    "                                                               random_state=0)\n",
    "            y_private_train = X_private_train[:,-1]\n",
    "            y_private_test = X_private_test[:,-1]\n",
    "\n",
    "        else:\n",
    "            X_private_train = pd.read_csv(f\".\\Data_Sets\\\\{parameters_DATA['dataset']}\\\\{parameters_DATA['dataset'].lower()}-private-train.csv\")\n",
    "            X_private_test = pd.read_csv(f\".\\Data_Sets\\\\{parameters_DATA['dataset']}\\\\{parameters_DATA['dataset'].lower()}-private-test.csv\")\n",
    "            X_public_train = pd.read_csv(f\".\\Data_Sets\\\\{parameters_DATA['dataset']}\\\\{parameters_DATA['dataset'].lower()}-public-train.csv\")\n",
    "            X_public_test = pd.read_csv(f\".\\Data_Sets\\\\{parameters_DATA['dataset']}\\\\{parameters_DATA['dataset'].lower()}-public-test.csv\")\n",
    "            X = np.r_[X_private_train.values, X_private_test.values, X_public_train.values, X_public_test.values]\n",
    "\n",
    "            n1 = X_private_train.shape[0]\n",
    "            n2 = X_private_train.shape[0] + X_private_test.shape[0]\n",
    "            n3 = X_private_train.shape[0] + X_private_test.shape[0] + X_public_train.shape[0]\n",
    "            n4 = X_private_train.shape[0] + X_private_test.shape[0] + X_public_train.shape[0] + X_public_test.shape[0]\n",
    "\n",
    "            if parameters_DATA['scaler'] == 'minmax':\n",
    "                scaler = MinMaxScaler(feature_range=(0, 1))\n",
    "            elif parameters_DATA['scaler'] == 'standard':\n",
    "                scaler = StandardScaler()\n",
    "            else:\n",
    "                raise ValueError(\"Currently standard and minmax are supported.\")\n",
    "            all_y = X[:,-1]\n",
    "            scaler.fit(X)\n",
    "            all_x = scaler.transform(X)\n",
    "\n",
    "            X_private_train = all_x[0:n1, :]\n",
    "            X_private_test = all_x[n1:n2, :]\n",
    "            X_public_train = all_x[n2:n3, :]\n",
    "            X_public_test = all_x[n3:n4, :]\n",
    "\n",
    "            y_private_train = all_y[0:n1]\n",
    "            y_private_test = all_y[n1:n2]\n",
    "            y_public_train = all_y[n2:n3]\n",
    "            y_public_test = all_y[n3:n4]\n",
    "\n",
    "        parameters_DATA['d'] = X_private_train.shape[1] - 1\n",
    "\n",
    "        vae_private = train_vae('private',\n",
    "                                X_private_train,\n",
    "                                y_private_train,\n",
    "                                X_private_test,\n",
    "                                y_private_test,\n",
    "                                ita,\n",
    "                                parameters_MODEL,\n",
    "                                parameters_DATA)\n",
    "\n",
    "        vae_public = train_vae('public',\n",
    "                                X_private_train,\n",
    "                                y_private_train,\n",
    "                                X_private_test,\n",
    "                                y_private_test,\n",
    "                                ita,\n",
    "                                parameters_MODEL,\n",
    "                                parameters_DATA)\n",
    "\n",
    "\n",
    "        # fit private models on private train data\n",
    "        print('Get private models ...')\n",
    "        model_private = train_private_model(X_private_train,\n",
    "                                            y_private_train,\n",
    "                                            X_private_test,\n",
    "                                            y_private_test,\n",
    "                                            ita,\n",
    "                                            parameters_MODEL,\n",
    "                                            parameters_DATA)\n",
    "\n",
    "        # fit public models on shadow data train sets\n",
    "        print('Get public models ...')\n",
    "        models_public = train_public_models(X_public_train,\n",
    "                                            y_public_train,\n",
    "                                            X_public_test,\n",
    "                                            y_public_test,\n",
    "                                            ita,\n",
    "                                            parameters_GENERAL,\n",
    "                                            parameters_MODEL,\n",
    "                                            parameters_DATA)\n",
    "        # get private model info\n",
    "        print('Get private info ...')\n",
    "        result_dict_pri = get_info_private(model_private,\n",
    "                                           vae_private,\n",
    "                                           X_private_train,\n",
    "                                           y_private_train,\n",
    "                                           X_private_test,\n",
    "                                           y_private_test,\n",
    "                                           parameters_GENERAL,\n",
    "                                           parameters_DATA,\n",
    "                                           parameters_CE)\n",
    "        \n",
    "        # get shadow model info\n",
    "        print(f'Obtaining shadow info on shadow model')\n",
    "        result_shadow_pri = get_info_shadow(result_dict_pri,\n",
    "                                            models_public,\n",
    "                                            vae_public,\n",
    "                                            ita,\n",
    "                                            parameters_GENERAL,\n",
    "                                            parameters_CE)"
   ]
  },
  {
   "cell_type": "code",
   "execution_count": null,
   "metadata": {},
   "outputs": [],
   "source": []
  },
  {
   "cell_type": "code",
   "execution_count": 362,
   "metadata": {},
   "outputs": [],
   "source": [
    "def plot(parameters_DATA,\n",
    "         parameters_GENERAL,\n",
    "         parameters_MODEL,\n",
    "         parameters_CE,\n",
    "         datanames=['Adult', 'Heloc', 'Diabetes'],\n",
    "         flag='attack'):\n",
    "    \n",
    "    base_fpr = np.linspace(0, 1, 1000)\n",
    "        \n",
    "    # PLOT BASICS\n",
    "    if flag == 'attack' or flag == \"thresholds\" or flag == 'distances':\n",
    "        f, axs = plt.subplots(1, len(datanames), figsize=(4 * len(datanames), 4), squeeze=False)\n",
    "    else:\n",
    "        f, axs = plt.subplots(len(datanames), 2, figsize=(10, 5 * len(datanames)))\n",
    "\n",
    "    for data_iter, dataname in enumerate(datanames):\n",
    "        \n",
    "        # labels fot plot 1\n",
    "        # axs[data_iter, 0].set_xlabel('Thresholds')\n",
    "        # axs[data_iter, 0].set_ylabel('Accuracies')\n",
    "\n",
    "        # labels fot plot 2\n",
    "        # axs[data_iter, 1].set_ylabel('Thresholds')\n",
    "        # axs[data_iter, 1].set_ylabel('Accuracies')\n",
    "\n",
    "        # labels fot plot 3\n",
    "        # axs[data_iter, 2].plot((0,1), (0,1), color='black', linestyle='dotted', label=\"Random Baseline\")\n",
    "        # axs[data_iter, 2].set_xlim([0.01, 1.01])\n",
    "        # axs[data_iter, 2].set_ylim([0.01, 1.01])\n",
    "        # axs[data_iter, 2].set_xlabel('False Positive Rate')\n",
    "        # axs[data_iter, 2].set_ylabel('True Positive Rate')\n",
    "        \n",
    "        tprs_collect_baseloss = []\n",
    "        tprs_collect_basedist = []\n",
    "        tprs_collect_basedist_reverse = []\n",
    "        tprs_collect_lrtloss = []\n",
    "        tprs_collect_lrtdist = []\n",
    "        tprs_collect_lrtdist_reverse = []\n",
    "        \n",
    "        ba_sum_base = 0\n",
    "        tp01_sum_base = 0\n",
    "        tp001_sum_base = 0\n",
    "        auc_sum_base = 0\n",
    "        \n",
    "        ba_sum_lrt = 0\n",
    "        tp01_sum_lrt = 0\n",
    "        tp001_sum_lrt = 0\n",
    "        auc_sum_lrt = 0\n",
    "        \n",
    "        for ita in range(4):\n",
    "            print(f'ITERATION: {ita}')\n",
    "            parameters_DATA['dataset'] = dataname\n",
    "            print(f'GENERATING RESULTS FOR {dataname}')\n",
    "            if dataname.split(\"_\")[0] == 'Synthetic':\n",
    "                parameters_DATA['scaler'] = 'standard'\n",
    "            else:\n",
    "                parameters_DATA['scaler'] = 'standard'\n",
    "\n",
    "            if dataname.split(\"_\")[0] == 'Synthetic':\n",
    "                print(dataname.split(\"_\")[1])\n",
    "                parameters_DATA['d_features_syn'] = int(dataname.split(\"_\")[1])\n",
    "                # Parameters are choosen so that the classification probelm is not too easy!\n",
    "                X, y = make_classification(n_samples=parameters_DATA['n_samples'], \n",
    "                                           n_features=parameters_DATA['d_features_syn'], \n",
    "                                           n_informative=max(1, int(np.floor(parameters_DATA['frac_important'] * parameters_DATA['d_features_syn']))),\n",
    "                                           n_redundant=0,\n",
    "                                           n_clusters_per_class=1,\n",
    "                                           random_state=0,\n",
    "                                           class_sep=parameters_DATA['class_sep'],\n",
    "                                           flip_y=parameters_DATA['flip_y']\n",
    "                               )\n",
    "\n",
    "                if parameters_DATA['scaler'] == 'minmax':\n",
    "                    scaler = MinMaxScaler(feature_range=(0, 1))\n",
    "                elif parameters_DATA['scaler'] == 'standard':\n",
    "                    scaler = StandardScaler()\n",
    "                else:\n",
    "                    raise ValueError(\"Currently standard and minmax are supported.\")\n",
    "                scaler.fit(X)\n",
    "                all_x = scaler.transform(X)\n",
    "                all_x = np.c_[all_x, y]\n",
    "\n",
    "                X_public, X_private = train_test_split(all_x, \n",
    "                                                       stratify=all_x[:, -1],\n",
    "                                                       test_size=0.50, \n",
    "                                                       random_state=0)\n",
    "\n",
    "                # On PUBLIC data: Split 85/15 between train/test\n",
    "                X_public_train, X_public_test = train_test_split(X_public, \n",
    "                                                                 stratify=X_public[:, -1],\n",
    "                                                                 test_size=0.15, \n",
    "                                                                 random_state=0)\n",
    "                y_public_train = X_public_train[:,-1]\n",
    "                y_public_test = X_public_test[:,-1]\n",
    "\n",
    "                # On PRIVATE data: Split 80/20 between train/test\n",
    "                X_private_train, X_private_test = train_test_split(X_private, \n",
    "                                                                   stratify=X_private[:, -1],\n",
    "                                                                   test_size=0.50, \n",
    "                                                                   random_state=0)\n",
    "                y_private_train = X_private_train[:,-1]\n",
    "                y_private_test = X_private_test[:,-1]\n",
    "\n",
    "            else:\n",
    "                X_private_train = pd.read_csv(f\".\\Data_Sets\\\\{parameters_DATA['dataset']}\\\\{parameters_DATA['dataset'].lower()}-private-train.csv\")\n",
    "                X_private_test = pd.read_csv(f\".\\Data_Sets\\\\{parameters_DATA['dataset']}\\\\{parameters_DATA['dataset'].lower()}-private-test.csv\")\n",
    "                X_public_train = pd.read_csv(f\".\\Data_Sets\\\\{parameters_DATA['dataset']}\\\\{parameters_DATA['dataset'].lower()}-public-train.csv\")\n",
    "                X_public_test = pd.read_csv(f\".\\Data_Sets\\\\{parameters_DATA['dataset']}\\\\{parameters_DATA['dataset'].lower()}-public-test.csv\")\n",
    "                X = np.r_[X_private_train.values, X_private_test.values, X_public_train.values, X_public_test.values]\n",
    "\n",
    "                n1 = X_private_train.shape[0]\n",
    "                n2 = X_private_train.shape[0] + X_private_test.shape[0]\n",
    "                n3 = X_private_train.shape[0] + X_private_test.shape[0] + X_public_train.shape[0]\n",
    "                n4 = X_private_train.shape[0] + X_private_test.shape[0] + X_public_train.shape[0] + X_public_test.shape[0]\n",
    "\n",
    "                if parameters_DATA['scaler'] == 'minmax':\n",
    "                    scaler = MinMaxScaler(feature_range=(0, 1))\n",
    "                elif parameters_DATA['scaler'] == 'standard':\n",
    "                    scaler = StandardScaler()\n",
    "                else:\n",
    "                    raise ValueError(\"Currently standard and minmax are supported.\")\n",
    "                all_y = X[:,-1]\n",
    "                scaler.fit(X)\n",
    "                all_x = scaler.transform(X)\n",
    "\n",
    "                X_private_train = all_x[0:n1, :]\n",
    "                X_private_test = all_x[n1:n2, :]\n",
    "                X_public_train = all_x[n2:n3, :]\n",
    "                X_public_test = all_x[n3:n4, :]\n",
    "\n",
    "                y_private_train = all_y[0:n1]\n",
    "                y_private_test = all_y[n1:n2]\n",
    "                y_public_train = all_y[n2:n3]\n",
    "                y_public_test = all_y[n3:n4]\n",
    "\n",
    "            parameters_DATA['d'] = X_private_train.shape[1] - 1\n",
    "\n",
    "            # fit private models on private train data\n",
    "            print('Get private models ...')\n",
    "            model_private = train_private_model(X_private_train,\n",
    "                                                y_private_train,\n",
    "                                                X_private_test,\n",
    "                                                y_private_test,\n",
    "                                                ita,\n",
    "                                                parameters_MODEL,\n",
    "                                                parameters_DATA)\n",
    "\n",
    "            # fit public models on shadow data train sets\n",
    "            print('Get public models ...')\n",
    "            models_public = train_public_models(X_public_train,\n",
    "                                                y_public_train,\n",
    "                                                X_public_test,\n",
    "                                                y_public_test,\n",
    "                                                ita,\n",
    "                                                parameters_GENERAL,\n",
    "                                                parameters_MODEL,\n",
    "                                                parameters_DATA)\n",
    "            # get private model info\n",
    "            print('Get private info ...')\n",
    "            result_dict_pri = get_info_private(model_private,\n",
    "                                               X_private_train,\n",
    "                                               y_private_train,\n",
    "                                               X_private_test,\n",
    "                                               y_private_test,\n",
    "                                               parameters_GENERAL,\n",
    "                                               parameters_DATA,\n",
    "                                               parameters_CE)\n",
    "\n",
    "            print('Get shadow info ...')\n",
    "            result_shadow_pri = get_info_shadow(result_dict_pri,\n",
    "                                                models_public,\n",
    "                                                ita,\n",
    "                                                parameters_GENERAL,\n",
    "                                                parameters_CE\n",
    "                                                )\n",
    "\n",
    "            # Clean array for cases where no CEs could be found\n",
    "            ce_predictions_train = _correct_for_no_ces_pred(np.array(result_dict_pri['train'][\"preds_at_ces\"]),\n",
    "                                                            np.array(result_dict_pri['train']['distances']))\n",
    "            ce_predictions_test = _correct_for_no_ces_pred(np.array(result_dict_pri['test'][\"preds_at_ces\"]),\n",
    "                                                           np.array(result_dict_pri['test']['distances']))\n",
    "\n",
    "            train_labels = _correct_for_no_ces_pred(np.array(result_dict_pri['train'][\"label\"]),\n",
    "                                                    np.array(result_dict_pri['train']['distances']))\n",
    "            test_labels = _correct_for_no_ces_pred(np.array(result_dict_pri['test'][\"label\"]),\n",
    "                                                   np.array(result_dict_pri['test']['distances']))\n",
    "\n",
    "            train_predictions = _correct_for_no_ces_pred(np.array(result_dict_pri['train'][\"preds_at_inputs\"]),\n",
    "                                                         np.array(result_dict_pri['train']['distances']))\n",
    "            test_predictions = _correct_for_no_ces_pred(np.array(result_dict_pri['test'][\"preds_at_inputs\"]),\n",
    "                                                        np.array(result_dict_pri['test']['distances']))\n",
    "\n",
    "            pred_train_list, pred_test_list = predictions_to_list(result_dict_pri, \n",
    "                                                                  result_shadow_pri,\n",
    "                                                                  parameters_GENERAL)\n",
    "\n",
    "            dist_train = _correct_for_no_ces_dist(np.array(result_dict_pri['train']['distances']))\n",
    "            dist_test = _correct_for_no_ces_dist(np.array(result_dict_pri['test']['distances']))\n",
    "\n",
    "            dist_train_list, dist_test_list = distances_to_list(result_dict_pri, \n",
    "                                                                result_shadow_pri,\n",
    "                                                                parameters_GENERAL)\n",
    "\n",
    "            # init attacks: global variance\n",
    "            \n",
    "            if parameters_CE['methods'] == 'cchvae':\n",
    "                interpolation_intuition = True\n",
    "            else:\n",
    "                interpolation_intuition = False\n",
    "\n",
    "            \n",
    "            attacks_global = performance_measures(train_labels=train_labels, \n",
    "                                                  test_labels=test_labels, \n",
    "                                                  train_predictions=train_predictions, \n",
    "                                                  test_predictions=test_predictions,\n",
    "                                                  train_predictions_shadow=pred_train_list,\n",
    "                                                  test_predictions_shadow=pred_test_list,\n",
    "                                                  train_distance=dist_train,\n",
    "                                                  test_distance=dist_test,\n",
    "                                                  train_distance_shadow=dist_train_list,\n",
    "                                                  test_distance_shadow=dist_test_list,\n",
    "                                                  var_dist_train=np.array([]),\n",
    "                                                  var_dist_test=np.array([]),\n",
    "                                                  global_variance=True,\n",
    "                                                  interpolation_intuition=interpolation_intuition,\n",
    "                                                  emp_cdf=False)\n",
    "\n",
    "            # init attacks: local variance\n",
    "            attacks_local = performance_measures(train_labels=train_labels, \n",
    "                                                 test_labels=test_labels, \n",
    "                                                 train_predictions=train_predictions, \n",
    "                                                 test_predictions=test_predictions,\n",
    "                                                 train_predictions_shadow=pred_train_list,\n",
    "                                                 test_predictions_shadow=pred_test_list,\n",
    "                                                 train_distance=dist_train,\n",
    "                                                 test_distance=dist_test,\n",
    "                                                 train_distance_shadow=dist_train_list,\n",
    "                                                 test_distance_shadow=dist_test_list,\n",
    "                                                 var_dist_train=np.array([]),\n",
    "                                                 var_dist_test=np.array([]),\n",
    "                                                 global_variance=False,\n",
    "                                                 interpolation_intuition=interpolation_intuition,\n",
    "                                                 emp_cdf=False)\n",
    "\n",
    "\n",
    "            # plot attack results\n",
    "            # base loss\n",
    "            accs, tprs, fprs, auc, thres = attacks_local.measure_baseline_loss()\n",
    "            tprs = np.interp(base_fpr, fprs, tprs)\n",
    "            tprs[0] = 0.0\n",
    "            tprs_collect_baseloss.append(tprs)\n",
    "\n",
    "            # base distance\n",
    "            accs, tprs, fprs, auc, thres  = attacks_local.measure_baseline_distance()\n",
    "            ba = np.max(0.5 * tprs + 0.5 * (1-fprs))\n",
    "            ba_sum_base += (1/4) * (ba)\n",
    "            auc_sum_base += (1/4) * (auc)\n",
    "            g = interpolate.interp1d(fprs, tprs)\n",
    "            tprs = np.interp(base_fpr, fprs, tprs)\n",
    "            tprs[0] = 0.0\n",
    "            tprs_collect_basedist.append(tprs)\n",
    "            tprs_collect_basedist_reverse.append(1-tprs)\n",
    "            \n",
    "            \n",
    "            ##  Metrics (base distance)\n",
    "            # AUC\n",
    "            ce_method = parameters_CE['methods']\n",
    "            depth = len(parameters_MODEL['hidden_layers'])\n",
    "            width = parameters_MODEL['hidden_layers'][0]\n",
    "            tp01 = np.round(g(0.1), 4)\n",
    "            tp001 = np.round(g(0.01), 4)\n",
    "            tp01_sum_base += (1/4) * (tp01)\n",
    "            tp001_sum_base += (1/4) * (tp001)\n",
    "            print(f'AUC for BASE DISTANCE when {ce_method} when depth {depth} and width {width}:', auc_sum_base)\n",
    "            print(f'BA for BASE DISTANCE when {ce_method} when depth {depth} and width {width}:', ba_sum_base)\n",
    "            print(f'TP0.1 for BASE DISTANCE when {ce_method} when depth {depth} and width {width}:', tp01_sum_base)\n",
    "            print(f'TP0.01 for BASE DISTANCE when {ce_method} when depth {depth} and width {width}:', tp001_sum_base)\n",
    "\n",
    "            # axs[data_iter, 0].plot(thres, accs, label=\"Baseline Distance\")\n",
    "            # axs[data_iter, 2].loglog(fprs, tprs, label=\"Baseline Distance\", color='cyan')\n",
    "\n",
    "            # lrt loss\n",
    "            accs, tprs, fprs, auc, thres = attacks_global.measure_loss_lrt()\n",
    "            tprs = np.interp(base_fpr, fprs, tprs)\n",
    "            tprs[0] = 0.0\n",
    "            tprs_collect_lrtloss.append(tprs)\n",
    "\n",
    "            # axs[data_iter, 1].plot(thres, accs, label=\"LRT Loss - global Var\", color='red', linestyle='dashed')\n",
    "            # axs[data_iter, 2].loglog(fprs, tprs, label=\"LRT Loss - global Var\", color='red', linestyle='dashed')\n",
    "\n",
    "            # lrt dist\n",
    "            \n",
    "            accs, tprs, fprs, auc, thres, cap_lam_tr, cap_lam_te, tr_nan, te_nan, results_all = attacks_global.measure_dist_lrt()\n",
    "            ba = np.max(0.5 * tprs + 0.5 * (1-fprs))\n",
    "            ba_sum_lrt += (1/4) * (ba)\n",
    "            auc_sum_lrt += (1/4) * (auc)\n",
    "            g = interpolate.interp1d(fprs, tprs)\n",
    "            tprs = np.interp(base_fpr, fprs, tprs)\n",
    "            tprs[0] = 0.0\n",
    "            tprs_collect_lrtdist.append(tprs)\n",
    "            tprs_collect_lrtdist_reverse.append(1-tprs)\n",
    "            \n",
    "            tp01 = np.round(g(0.1), 4)\n",
    "            tp001 = np.round(g(0.01), 4)\n",
    "            tp01_sum_lrt += (1/4) * (tp01)\n",
    "            tp001_sum_lrt += (1/4) * (tp001)\n",
    "            print(f'AUC for LRT DISTANCE when {ce_method} when depth {depth} and width {width}:', auc_sum_lrt)\n",
    "            print(f'BA for LRT DISTANCE when {ce_method} when depth {depth} and width {width}:', ba_sum_lrt)\n",
    "            print(f'TP0.1 for LRT DISTANCE when {ce_method} when depth {depth} and width {width}:', tp01_sum_lrt)\n",
    "            print(f'TP0.01 for LRT DISTANCE when {ce_method} when depth {depth} and width {width}:', tp001_sum_lrt)\n",
    "\n",
    "            # axs[data_iter, 1].plot(thres, accs, label=\"LRT Distance - global Var\", color='blue', linestyle='dashed')\n",
    "            # axs[data_iter, 2].loglog(fprs, tprs, label=\"LRT Distance - global Var\", color='blue', linestyle='dashed')\n",
    "\n",
    "        # base loss\n",
    "        tprs = np.array(tprs_collect_baseloss)\n",
    "        mean_tprs_baseloss = tprs.mean(axis=0)\n",
    "        std_baseloss = tprs.std(axis=0)\n",
    "        # print(std_baseloss)\n",
    "        tprs_upper_baseloss = mean_tprs_baseloss + std_baseloss\n",
    "        tprs_lower_baseloss = mean_tprs_baseloss - std_baseloss\n",
    "\n",
    "        # base dist\n",
    "        tprs = np.array(tprs_collect_basedist)\n",
    "        mean_tprs_basedist = tprs.mean(axis=0)\n",
    "        std_basedist = tprs.std(axis=0)\n",
    "        # print(std_basedist)\n",
    "        tprs_upper_basedist = mean_tprs_basedist + std_basedist\n",
    "        tprs_lower_basedist = mean_tprs_basedist - std_basedist\n",
    "\n",
    "        # loss dist\n",
    "        tprs = np.array(tprs_collect_lrtloss)\n",
    "        mean_tprs_lrtloss  = tprs.mean(axis=0)\n",
    "        std_lrtloss  = tprs.std(axis=0)\n",
    "        tprs_upper_lrtloss = mean_tprs_lrtloss + std_lrtloss \n",
    "        tprs_lower_lrtloss = mean_tprs_lrtloss - std_lrtloss \n",
    "\n",
    "        # lrt dist\n",
    "        tprs = np.array(tprs_collect_lrtdist)\n",
    "        mean_tprs_lrtdist = tprs.mean(axis=0)\n",
    "        std_lrtdist = tprs.std(axis=0)\n",
    "        tprs_upper_lrtdist = mean_tprs_lrtdist + std_lrtdist\n",
    "        tprs_lower_lrtdist = mean_tprs_lrtdist - std_lrtdist\n",
    "        \n",
    "        # if flag == 'attack':\n",
    "        axs[0, data_iter].set_title(parameters_DATA['dataset'])\n",
    "        axs[0, data_iter].set_xlabel('False Positive Rate')\n",
    "        axs[0, data_iter].set_ylabel('True Positive Rate')\n",
    "        axs[0, data_iter].set_xlim([0.01, 1.01])\n",
    "        axs[0, data_iter].set_ylim([0.01, 1.01])\n",
    "\n",
    "        # if data_iter == 0:\n",
    "        axs[0, data_iter].plot((0,1), (0,1), color='black', linestyle='dotted', label=\"Random\")\n",
    "        axs[0, data_iter].loglog(base_fpr, mean_tprs_basedist, label=\"CFD\", color='tab:cyan')\n",
    "        # axs[0, data_iter].loglog(base_fpr, mean_tprs_lrtloss, label=\"LRT Loss\", color='tab:red', linestyle='dashed')\n",
    "        # axs[0, data_iter].loglog(base_fpr, mean_tprs_baseloss, label=\"Loss\", color='magenta')\n",
    "        axs[0, data_iter].loglog(base_fpr, mean_tprs_lrtdist, label=\"CFD LRT\", color='tab:blue', linestyle='dashed')\n",
    "        axs[0, data_iter].legend()\n",
    "\n",
    "            #else:\n",
    "            #    axs[0, data_iter].plot((0,1), (0,1), color='black', linestyle='dotted')\n",
    "            #    # axs[0, data_iter].loglog(base_fpr, mean_tprs_baseloss, color='magenta')\n",
    "            #    axs[0, data_iter].loglog(base_fpr, mean_tprs_basedist, color='tab:cyan')\n",
    "            #    # axs[0, data_iter].loglog(base_fpr, mean_tprs_lrtloss, color='tab:red', linestyle='dashed')\n",
    "            #    axs[0, data_iter].loglog(base_fpr, mean_tprs_lrtdist, color='tab:blue', linestyle='dashed')\n",
    "        \n",
    "        # axs[data_iter, 0].plot(thres, accs, label='Baseline Loss')\n",
    "        # axs[data_iter, 2].loglog(base_fpr, mean_tprs_baseloss, label=\"Baseline Loss\", color='magenta')\n",
    "        # axs[data_iter, 2].fill_between(base_fpr, tprs_upper_baseloss, tprs_lower_baseloss, color='magenta', alpha=0.1)\n",
    "\n",
    "        # axs[data_iter, 0].plot(thres, accs, label=\"Baseline Distance\")\n",
    "        # axs[data_iter, 2].loglog(base_fpr, mean_tprs_basedist, label=\"Baseline Distance\", color='cyan')\n",
    "        # axs[data_iter, 2].fill_between(base_fpr, tprs_upper_basedist, tprs_lower_basedist, color='cyan', alpha=0.1)\n",
    "\n",
    "        # axs[data_iter, 1].plot(thres, accs, label=\"LRT Loss - global Var\", color='red', linestyle='dashed')\n",
    "        # axs[data_iter, 2].loglog(base_fpr, mean_tprs_lrtloss, label=\"LRT Loss - global Var\", color='red', linestyle='dashed')\n",
    "        # axs[data_iter, 2].fill_between(base_fpr, tprs_upper_lrtloss, tprs_lower_lrtloss, color='red', alpha=0.1)\n",
    "\n",
    "        # axs[data_iter, 1].plot(thres, accs, label=\"LRT Distance - global Var\", color='blue', linestyle='dashed')\n",
    "        # axs[data_iter, 2].loglog(base_fpr, mean_tprs_lrtdist, label=\"LRT Distance - global Var\", color='blue', linestyle='dashed')\n",
    "        # axs[data_iter, 2].fill_between(base_fpr, tprs_upper_lrtdist, tprs_lower_lrtdist, color='blue', alpha=0.1)\n",
    "\n",
    "        # axs[data_iter, 0].legend()\n",
    "        # axs[data_iter, 1].legend()\n",
    "        # axs[data_iter, 2].legend()\n",
    "\n",
    "        # axs[data_iter, 0].set_title(parameters_DATA['dataset'])\n",
    "        # axs[data_iter, 1].set_title(parameters_DATA['dataset'])\n",
    "        # axs[data_iter, 2].set_title(parameters_DATA['dataset'])\n",
    "\n",
    "    depth = len(parameters_MODEL['hidden_layers'])\n",
    "    width = parameters_MODEL['hidden_layers'][0]\n",
    "    ce_method = parameters_CE['methods']\n",
    "    \n",
    "    #if len(datanames) == 3:\n",
    "    #    #lgd = f.legend(ncol=5, labelspacing=0, loc = (+0.10, -0.007), framealpha=0.00) #full: loc = (0.07, -0.006)\n",
    "    #else:\n",
    "        #lgd = f.legend(ncol=5, labelspacing=0, loc = (-0.008, -0.010), framealpha=0.00) #full: loc = (0.07, -0.006)\n",
    "    plt.tight_layout()\n",
    "    plt.savefig(f'realworld_{ce_method}_attacks_depth{depth}_width{width}.pdf')\n"
   ]
  },
  {
   "cell_type": "code",
   "execution_count": 363,
   "metadata": {},
   "outputs": [],
   "source": [
    "parameters_GENERAL = {\n",
    "    'ce_subset': 3000,           # Upper limit of counterfactuals to compute\n",
    "    'n_shadow_models': 24,       # Number of shadow models [15: Heloc, 10: Adult, Diabetes, 15: Synthetic: 15]\n",
    "}\n",
    "\n",
    "parameters_MODEL = {\n",
    "    'hidden_layers': [1000] * 1, # NN model training parameters\n",
    "    'epochs': 750,\n",
    "    'batch_size': 32,\n",
    "    'train_from_scratch': False,\n",
    "    'sklearn': True,\n",
    "    'noise_ratio': None,\n",
    "    'epsilon': 100,\n",
    "    'delta': 1e-5,\n",
    "}\n",
    "\n",
    "parameters_CE = {\n",
    "    'lr_scfe': 0.005,             # Learning rate for SCFE gradient descent\n",
    "    'max_iter': 1000,             # Max number of iterations for SCFE gradient descent\n",
    "    'methods': 'scfe'\n",
    "}\n",
    "\n",
    "parameters_DATA = {\n",
    "    'dataset': 'Synthetic',      # {Synthetic, Adult, Diabetes, Heloc}\n",
    "    'scaler': 'standard',        # Data normalization {minmax (Adult, Heloc, Diabetes), standard (Synthetic)}\n",
    "    'n_samples': 20000,\n",
    "    'frac_important': 0.2,       # Fraction of Relevant Features\n",
    "    'class_sep': 1,              # How well should classes be separable (the lower the worse)\n",
    "    'flip_y': 0.075,             # Percent of label errors\n",
    "    'd_features_syn': 150,       # How many features to use\n",
    "}"
   ]
  },
  {
   "cell_type": "code",
   "execution_count": 364,
   "metadata": {},
   "outputs": [],
   "source": [
    "# hidden_layers = [[100] * 1, [1000] * 1, [333] * 2, [1000] * 2]\n",
    "hidden_layers_gs = [[333]*2, [100]*2]\n",
    "hidden_layers_scfe = [[1000], [333]*2, [100]*2]\n",
    "methods = ['scfe', 'gs', 'cchvae']\n",
    "datanames = ['Adult', 'Heloc', 'Diabetes']"
   ]
  },
  {
   "cell_type": "code",
   "execution_count": 365,
   "metadata": {
    "scrolled": true
   },
   "outputs": [
    {
     "name": "stdout",
     "output_type": "stream",
     "text": [
      "ITERATION: 0\n",
      "GENERATING RESULTS FOR Adult\n",
      "Get private models ...\n"
     ]
    },
    {
     "name": "stderr",
     "output_type": "stream",
     "text": [
      "  0%|                                                                                           | 0/24 [00:00<?, ?it/s]"
     ]
    },
    {
     "name": "stdout",
     "output_type": "stream",
     "text": [
      "./newresults\\Saved_Models/Private/Adult/iter0_private_depth1000_width1.pt\n",
      "Accuracy on Train set: 0.9755602149128555\n",
      "Accuracy on Test set: 0.8109276729559748\n",
      "Get public models ...\n",
      "./newresults\\Saved_Models/Public/Adult/iter0_depth1_width1000_0.pt\n",
      "Loading model ...\n"
     ]
    },
    {
     "name": "stderr",
     "output_type": "stream",
     "text": [
      "  8%|██████▉                                                                            | 2/24 [00:00<00:02,  9.38it/s]"
     ]
    },
    {
     "name": "stdout",
     "output_type": "stream",
     "text": [
      "./newresults\\Saved_Models/Public/Adult/iter0_depth1_width1000_1.pt\n",
      "Loading model ...\n",
      "./newresults\\Saved_Models/Public/Adult/iter0_depth1_width1000_2.pt\n",
      "Loading model ...\n"
     ]
    },
    {
     "name": "stderr",
     "output_type": "stream",
     "text": [
      " 17%|█████████████▊                                                                     | 4/24 [00:00<00:02,  8.76it/s]"
     ]
    },
    {
     "name": "stdout",
     "output_type": "stream",
     "text": [
      "./newresults\\Saved_Models/Public/Adult/iter0_depth1_width1000_3.pt\n",
      "Loading model ...\n",
      "./newresults\\Saved_Models/Public/Adult/iter0_depth1_width1000_4.pt\n",
      "Loading model ...\n"
     ]
    },
    {
     "name": "stderr",
     "output_type": "stream",
     "text": [
      " 25%|████████████████████▊                                                              | 6/24 [00:00<00:02,  7.93it/s]"
     ]
    },
    {
     "name": "stdout",
     "output_type": "stream",
     "text": [
      "./newresults\\Saved_Models/Public/Adult/iter0_depth1_width1000_5.pt\n",
      "Loading model ...\n",
      "./newresults\\Saved_Models/Public/Adult/iter0_depth1_width1000_6.pt\n",
      "Loading model ...\n"
     ]
    },
    {
     "name": "stderr",
     "output_type": "stream",
     "text": [
      " 33%|███████████████████████████▋                                                       | 8/24 [00:01<00:02,  7.20it/s]"
     ]
    },
    {
     "name": "stdout",
     "output_type": "stream",
     "text": [
      "./newresults\\Saved_Models/Public/Adult/iter0_depth1_width1000_7.pt\n",
      "Loading model ...\n",
      "./newresults\\Saved_Models/Public/Adult/iter0_depth1_width1000_8.pt\n",
      "Loading model ...\n"
     ]
    },
    {
     "name": "stderr",
     "output_type": "stream",
     "text": [
      " 42%|██████████████████████████████████▏                                               | 10/24 [00:01<00:01,  7.58it/s]"
     ]
    },
    {
     "name": "stdout",
     "output_type": "stream",
     "text": [
      "./newresults\\Saved_Models/Public/Adult/iter0_depth1_width1000_9.pt\n",
      "Loading model ...\n",
      "./newresults\\Saved_Models/Public/Adult/iter0_depth1_width1000_10.pt\n",
      "Loading model ...\n"
     ]
    },
    {
     "name": "stderr",
     "output_type": "stream",
     "text": [
      " 50%|█████████████████████████████████████████                                         | 12/24 [00:01<00:01,  8.17it/s]"
     ]
    },
    {
     "name": "stdout",
     "output_type": "stream",
     "text": [
      "./newresults\\Saved_Models/Public/Adult/iter0_depth1_width1000_11.pt\n",
      "Loading model ...\n",
      "./newresults\\Saved_Models/Public/Adult/iter0_depth1_width1000_12.pt\n",
      "Loading model ...\n"
     ]
    },
    {
     "name": "stderr",
     "output_type": "stream",
     "text": [
      " 62%|███████████████████████████████████████████████████▎                              | 15/24 [00:01<00:00,  9.07it/s]"
     ]
    },
    {
     "name": "stdout",
     "output_type": "stream",
     "text": [
      "./newresults\\Saved_Models/Public/Adult/iter0_depth1_width1000_13.pt\n",
      "Loading model ...\n",
      "./newresults\\Saved_Models/Public/Adult/iter0_depth1_width1000_14.pt\n",
      "Loading model ...\n"
     ]
    },
    {
     "name": "stderr",
     "output_type": "stream",
     "text": [
      " 67%|██████████████████████████████████████████████████████▋                           | 16/24 [00:01<00:00,  9.22it/s]"
     ]
    },
    {
     "name": "stdout",
     "output_type": "stream",
     "text": [
      "./newresults\\Saved_Models/Public/Adult/iter0_depth1_width1000_15.pt\n",
      "Loading model ...\n",
      "./newresults\\Saved_Models/Public/Adult/iter0_depth1_width1000_16.pt\n",
      "Loading model ...\n",
      "./newresults\\Saved_Models/Public/Adult/iter0_depth1_width1000_17.pt"
     ]
    },
    {
     "name": "stderr",
     "output_type": "stream",
     "text": [
      " 75%|█████████████████████████████████████████████████████████████▌                    | 18/24 [00:02<00:00,  9.70it/s]"
     ]
    },
    {
     "name": "stdout",
     "output_type": "stream",
     "text": [
      "\n",
      "Loading model ...\n",
      "./newresults\\Saved_Models/Public/Adult/iter0_depth1_width1000_18.pt\n",
      "Loading model ...\n",
      "./newresults\\Saved_Models/Public/Adult/iter0_depth1_width1000_19.pt\n",
      "Loading model ...\n"
     ]
    },
    {
     "name": "stderr",
     "output_type": "stream",
     "text": [
      " 92%|███████████████████████████████████████████████████████████████████████████▏      | 22/24 [00:02<00:00, 10.75it/s]"
     ]
    },
    {
     "name": "stdout",
     "output_type": "stream",
     "text": [
      "./newresults\\Saved_Models/Public/Adult/iter0_depth1_width1000_20.pt\n",
      "Loading model ...\n",
      "./newresults\\Saved_Models/Public/Adult/iter0_depth1_width1000_21.pt\n",
      "Loading model ...\n",
      "./newresults\\Saved_Models/Public/Adult/iter0_depth1_width1000_22.pt\n",
      "Loading model ...\n"
     ]
    },
    {
     "name": "stderr",
     "output_type": "stream",
     "text": [
      "100%|██████████████████████████████████████████████████████████████████████████████████| 24/24 [00:02<00:00,  9.16it/s]"
     ]
    },
    {
     "name": "stdout",
     "output_type": "stream",
     "text": [
      "./newresults\\Saved_Models/Public/Adult/iter0_depth1_width1000_23.pt\n",
      "Loading model ...\n",
      "Get private info ...\n"
     ]
    },
    {
     "name": "stderr",
     "output_type": "stream",
     "text": [
      "\n"
     ]
    },
    {
     "name": "stdout",
     "output_type": "stream",
     "text": [
      "Get shadow info ...\n",
      "Shadow model: 0\n",
      "Shadow model: 1\n",
      "Shadow model: 2\n",
      "Shadow model: 3\n",
      "Shadow model: 4\n",
      "Shadow model: 5\n",
      "Shadow model: 6\n",
      "Shadow model: 7\n",
      "Shadow model: 8\n",
      "Shadow model: 9\n",
      "Shadow model: 10\n",
      "Shadow model: 11\n",
      "Shadow model: 12\n",
      "Shadow model: 13\n",
      "Shadow model: 14\n",
      "Shadow model: 15\n",
      "Shadow model: 16\n",
      "Shadow model: 17\n",
      "Shadow model: 18\n",
      "Shadow model: 19\n",
      "Shadow model: 20\n",
      "Shadow model: 21\n",
      "Shadow model: 22\n",
      "Shadow model: 23\n",
      "    Identified 2781 out of 3000 counterfactual explanations\n",
      "    Identified 2812 out of 3000 counterfactual explanations\n",
      "    Identified 2781 out of 3000 counterfactual explanations\n",
      "    Identified 2812 out of 3000 counterfactual explanations\n",
      "    Identified 2781 out of 3000 counterfactual explanations\n",
      "    Identified 2812 out of 3000 counterfactual explanations\n",
      "    Identified 2781 out of 3000 counterfactual explanations\n",
      "    Identified 2812 out of 3000 counterfactual explanations\n"
     ]
    },
    {
     "name": "stderr",
     "output_type": "stream",
     "text": [
      "C:\\Users\\fred0\\Anaconda3\\lib\\site-packages\\torch\\nn\\_reduction.py:42: UserWarning: size_average and reduce args will be deprecated, please use reduction='none' instead.\n",
      "  warnings.warn(warning.format(ret))\n"
     ]
    },
    {
     "name": "stdout",
     "output_type": "stream",
     "text": [
      "AUC for BASE DISTANCE when scfe when depth 1 and width 1000: 0.12428337573649276\n",
      "BA for BASE DISTANCE when scfe when depth 1 and width 1000: 0.12788302482349492\n",
      "TP0.1 for BASE DISTANCE when scfe when depth 1 and width 1000: 0.025975\n",
      "TP0.01 for BASE DISTANCE when scfe when depth 1 and width 1000: 0.003025\n",
      "Compute Lambda on Train\n",
      "Compute Lambda on Test\n",
      "Compute Lambda on Train\n",
      "Compute Lambda on Test\n"
     ]
    },
    {
     "name": "stderr",
     "output_type": "stream",
     "text": [
      "  0%|                                                                                           | 0/24 [00:00<?, ?it/s]"
     ]
    },
    {
     "name": "stdout",
     "output_type": "stream",
     "text": [
      "AUC for LRT DISTANCE when scfe when depth 1 and width 1000: 0.12507375157477355\n",
      "BA for LRT DISTANCE when scfe when depth 1 and width 1000: 0.12833824179314726\n",
      "TP0.1 for LRT DISTANCE when scfe when depth 1 and width 1000: 0.023925\n",
      "TP0.01 for LRT DISTANCE when scfe when depth 1 and width 1000: 0.00415\n",
      "ITERATION: 1\n",
      "GENERATING RESULTS FOR Adult\n",
      "Get private models ...\n",
      "./newresults\\Saved_Models/Private/Adult/iter1_private_depth1000_width1.pt\n",
      "Accuracy on Train set: 0.9714323155549731\n",
      "Accuracy on Test set: 0.804441823899371\n",
      "Get public models ...\n",
      "./newresults\\Saved_Models/Public/Adult/iter1_depth1_width1000_0.pt\n",
      "Loading model ...\n"
     ]
    },
    {
     "name": "stderr",
     "output_type": "stream",
     "text": [
      " 12%|██████████▍                                                                        | 3/24 [00:00<00:02,  8.79it/s]"
     ]
    },
    {
     "name": "stdout",
     "output_type": "stream",
     "text": [
      "./newresults\\Saved_Models/Public/Adult/iter1_depth1_width1000_1.pt\n",
      "Loading model ...\n",
      "./newresults\\Saved_Models/Public/Adult/iter1_depth1_width1000_2.pt\n",
      "Loading model ...\n"
     ]
    },
    {
     "name": "stderr",
     "output_type": "stream",
     "text": [
      " 17%|█████████████▊                                                                     | 4/24 [00:00<00:02,  8.78it/s]"
     ]
    },
    {
     "name": "stdout",
     "output_type": "stream",
     "text": [
      "./newresults\\Saved_Models/Public/Adult/iter1_depth1_width1000_3.pt\n",
      "Loading model ...\n",
      "./newresults\\Saved_Models/Public/Adult/iter1_depth1_width1000_4.pt\n",
      "Loading model ...\n",
      "./newresults\\Saved_Models/Public/Adult/iter1_depth1_width1000_5.pt"
     ]
    },
    {
     "name": "stderr",
     "output_type": "stream",
     "text": [
      " 25%|████████████████████▊                                                              | 6/24 [00:00<00:01,  9.42it/s]"
     ]
    },
    {
     "name": "stdout",
     "output_type": "stream",
     "text": [
      "\n",
      "Loading model ...\n",
      "./newresults\\Saved_Models/Public/Adult/iter1_depth1_width1000_6.pt\n",
      "Loading model ...\n",
      "./newresults\\Saved_Models/Public/Adult/iter1_depth1_width1000_7.pt\n",
      "Loading model ...\n"
     ]
    },
    {
     "name": "stderr",
     "output_type": "stream",
     "text": [
      " 42%|██████████████████████████████████▏                                               | 10/24 [00:00<00:01, 10.42it/s]"
     ]
    },
    {
     "name": "stdout",
     "output_type": "stream",
     "text": [
      "./newresults\\Saved_Models/Public/Adult/iter1_depth1_width1000_8.pt\n",
      "Loading model ...\n",
      "./newresults\\Saved_Models/Public/Adult/iter1_depth1_width1000_9.pt\n",
      "Loading model ...\n",
      "./newresults\\Saved_Models/Public/Adult/iter1_depth1_width1000_10.pt\n",
      "Loading model ..."
     ]
    },
    {
     "name": "stderr",
     "output_type": "stream",
     "text": [
      " 50%|█████████████████████████████████████████                                         | 12/24 [00:01<00:01, 10.44it/s]"
     ]
    },
    {
     "name": "stdout",
     "output_type": "stream",
     "text": [
      "\n",
      "./newresults\\Saved_Models/Public/Adult/iter1_depth1_width1000_11.pt\n",
      "Loading model ...\n",
      "./newresults\\Saved_Models/Public/Adult/iter1_depth1_width1000_12.pt\n"
     ]
    },
    {
     "name": "stderr",
     "output_type": "stream",
     "text": [
      " 58%|███████████████████████████████████████████████▊                                  | 14/24 [00:01<00:00, 11.06it/s]"
     ]
    },
    {
     "name": "stdout",
     "output_type": "stream",
     "text": [
      "Loading model ...\n",
      "./newresults\\Saved_Models/Public/Adult/iter1_depth1_width1000_13.pt\n",
      "Loading model ...\n",
      "./newresults\\Saved_Models/Public/Adult/iter1_depth1_width1000_14.pt\n",
      "Loading model ...\n"
     ]
    },
    {
     "name": "stderr",
     "output_type": "stream",
     "text": [
      " 67%|██████████████████████████████████████████████████████▋                           | 16/24 [00:01<00:00, 11.31it/s]"
     ]
    },
    {
     "name": "stdout",
     "output_type": "stream",
     "text": [
      "./newresults\\Saved_Models/Public/Adult/iter1_depth1_width1000_15.pt\n",
      "Loading model ...\n",
      "./newresults\\Saved_Models/Public/Adult/iter1_depth1_width1000_16.pt\n",
      "Loading model ...\n",
      "./newresults\\Saved_Models/Public/Adult/iter1_depth1_width1000_17.pt\n",
      "Loading model ...\n"
     ]
    },
    {
     "name": "stderr",
     "output_type": "stream",
     "text": [
      " 83%|████████████████████████████████████████████████████████████████████▎             | 20/24 [00:01<00:00, 10.73it/s]"
     ]
    },
    {
     "name": "stdout",
     "output_type": "stream",
     "text": [
      "./newresults\\Saved_Models/Public/Adult/iter1_depth1_width1000_18.pt\n",
      "Loading model ...\n",
      "./newresults\\Saved_Models/Public/Adult/iter1_depth1_width1000_19.pt\n",
      "Loading model ...\n",
      "./newresults\\Saved_Models/Public/Adult/iter1_depth1_width1000_20.pt\n",
      "Loading model ...\n",
      "./newresults\\Saved_Models/Public/Adult/iter1_depth1_width1000_21.pt\n",
      "Loading model ...\n"
     ]
    },
    {
     "name": "stderr",
     "output_type": "stream",
     "text": [
      " 96%|██████████████████████████████████████████████████████████████████████████████▌   | 23/24 [00:02<00:00,  8.55it/s]"
     ]
    },
    {
     "name": "stdout",
     "output_type": "stream",
     "text": [
      "./newresults\\Saved_Models/Public/Adult/iter1_depth1_width1000_22.pt\n",
      "Loading model ...\n",
      "./newresults\\Saved_Models/Public/Adult/iter1_depth1_width1000_23.pt\n",
      "Loading model ...\n"
     ]
    },
    {
     "name": "stderr",
     "output_type": "stream",
     "text": [
      "100%|██████████████████████████████████████████████████████████████████████████████████| 24/24 [00:02<00:00,  9.90it/s]\n"
     ]
    },
    {
     "name": "stdout",
     "output_type": "stream",
     "text": [
      "Get private info ...\n",
      "Get shadow info ...\n",
      "Shadow model: 0\n",
      "Shadow model: 1\n",
      "Shadow model: 2\n",
      "Shadow model: 3\n",
      "Shadow model: 4\n",
      "Shadow model: 5\n",
      "Shadow model: 6\n",
      "Shadow model: 7\n",
      "Shadow model: 8\n",
      "Shadow model: 9\n",
      "Shadow model: 10\n",
      "Shadow model: 11\n",
      "Shadow model: 12\n",
      "Shadow model: 13\n",
      "Shadow model: 14\n",
      "Shadow model: 15\n",
      "Shadow model: 16\n",
      "Shadow model: 17\n",
      "Shadow model: 18\n",
      "Shadow model: 19\n",
      "Shadow model: 20\n",
      "Shadow model: 21\n",
      "Shadow model: 22\n",
      "Shadow model: 23\n",
      "    Identified 2781 out of 3000 counterfactual explanations\n",
      "    Identified 2812 out of 3000 counterfactual explanations\n",
      "    Identified 2781 out of 3000 counterfactual explanations\n",
      "    Identified 2812 out of 3000 counterfactual explanations\n",
      "    Identified 2781 out of 3000 counterfactual explanations\n",
      "    Identified 2812 out of 3000 counterfactual explanations\n",
      "    Identified 2781 out of 3000 counterfactual explanations\n",
      "    Identified 2812 out of 3000 counterfactual explanations\n"
     ]
    },
    {
     "name": "stderr",
     "output_type": "stream",
     "text": [
      "C:\\Users\\fred0\\Anaconda3\\lib\\site-packages\\torch\\nn\\_reduction.py:42: UserWarning: size_average and reduce args will be deprecated, please use reduction='none' instead.\n",
      "  warnings.warn(warning.format(ret))\n"
     ]
    },
    {
     "name": "stdout",
     "output_type": "stream",
     "text": [
      "AUC for BASE DISTANCE when scfe when depth 1 and width 1000: 0.24856675147298551\n",
      "BA for BASE DISTANCE when scfe when depth 1 and width 1000: 0.25576604964698985\n",
      "TP0.1 for BASE DISTANCE when scfe when depth 1 and width 1000: 0.05195\n",
      "TP0.01 for BASE DISTANCE when scfe when depth 1 and width 1000: 0.00605\n",
      "Compute Lambda on Train\n",
      "Compute Lambda on Test\n",
      "Compute Lambda on Train\n",
      "Compute Lambda on Test\n",
      "AUC for LRT DISTANCE when scfe when depth 1 and width 1000: 0.24983747160548386\n",
      "BA for LRT DISTANCE when scfe when depth 1 and width 1000: 0.25654913664303036\n",
      "TP0.1 for LRT DISTANCE when scfe when depth 1 and width 1000: 0.04695\n",
      "TP0.01 for LRT DISTANCE when scfe when depth 1 and width 1000: 0.007775000000000001\n",
      "ITERATION: 2\n",
      "GENERATING RESULTS FOR Adult\n",
      "Get private models ...\n",
      "./newresults\\Saved_Models/Private/Adult/iter2_private_depth1000_width1.pt\n",
      "Accuracy on Train set: 0.9749705150045865\n"
     ]
    },
    {
     "name": "stderr",
     "output_type": "stream",
     "text": [
      "  8%|██████▉                                                                            | 2/24 [00:00<00:01, 13.64it/s]"
     ]
    },
    {
     "name": "stdout",
     "output_type": "stream",
     "text": [
      "Accuracy on Test set: 0.8030660377358491\n",
      "Get public models ...\n",
      "./newresults\\Saved_Models/Public/Adult/iter2_depth1_width1000_0.pt\n",
      "Loading model ...\n",
      "./newresults\\Saved_Models/Public/Adult/iter2_depth1_width1000_1.pt\n",
      "Loading model ...\n",
      "./newresults\\Saved_Models/Public/Adult/iter2_depth1_width1000_2.pt\n",
      "Loading model ...\n"
     ]
    },
    {
     "name": "stderr",
     "output_type": "stream",
     "text": [
      " 17%|█████████████▊                                                                     | 4/24 [00:00<00:01, 13.00it/s]"
     ]
    },
    {
     "name": "stdout",
     "output_type": "stream",
     "text": [
      "./newresults\\Saved_Models/Public/Adult/iter2_depth1_width1000_3.pt\n",
      "Loading model ...\n",
      "./newresults\\Saved_Models/Public/Adult/iter2_depth1_width1000_4.pt\n",
      "Loading model ...\n",
      "./newresults\\Saved_Models/Public/Adult/iter2_depth1_width1000_5.pt\n"
     ]
    },
    {
     "name": "stderr",
     "output_type": "stream",
     "text": [
      " 25%|████████████████████▊                                                              | 6/24 [00:00<00:01, 12.38it/s]"
     ]
    },
    {
     "name": "stdout",
     "output_type": "stream",
     "text": [
      "Loading model ...\n",
      "./newresults\\Saved_Models/Public/Adult/iter2_depth1_width1000_6.pt\n",
      "Loading model ...\n",
      "./newresults\\Saved_Models/Public/Adult/iter2_depth1_width1000_7.pt\n",
      "Loading model ...\n"
     ]
    },
    {
     "name": "stderr",
     "output_type": "stream",
     "text": [
      " 42%|██████████████████████████████████▏                                               | 10/24 [00:00<00:01, 12.20it/s]"
     ]
    },
    {
     "name": "stdout",
     "output_type": "stream",
     "text": [
      "./newresults\\Saved_Models/Public/Adult/iter2_depth1_width1000_8.pt\n",
      "Loading model ...\n",
      "./newresults\\Saved_Models/Public/Adult/iter2_depth1_width1000_9.pt\n",
      "Loading model ...\n",
      "./newresults\\Saved_Models/Public/Adult/iter2_depth1_width1000_10.pt\n",
      "Loading model ...\n"
     ]
    },
    {
     "name": "stderr",
     "output_type": "stream",
     "text": [
      " 50%|█████████████████████████████████████████                                         | 12/24 [00:01<00:01, 11.75it/s]"
     ]
    },
    {
     "name": "stdout",
     "output_type": "stream",
     "text": [
      "./newresults\\Saved_Models/Public/Adult/iter2_depth1_width1000_11.pt\n",
      "Loading model ...\n",
      "./newresults\\Saved_Models/Public/Adult/iter2_depth1_width1000_12.pt\n",
      "Loading model ...\n",
      "./newresults\\Saved_Models/Public/Adult/iter2_depth1_width1000_13.pt\n",
      "Loading model ...\n"
     ]
    },
    {
     "name": "stderr",
     "output_type": "stream",
     "text": [
      " 67%|██████████████████████████████████████████████████████▋                           | 16/24 [00:01<00:00, 11.69it/s]"
     ]
    },
    {
     "name": "stdout",
     "output_type": "stream",
     "text": [
      "./newresults\\Saved_Models/Public/Adult/iter2_depth1_width1000_14.pt\n",
      "Loading model ...\n",
      "./newresults\\Saved_Models/Public/Adult/iter2_depth1_width1000_15.pt\n",
      "Loading model ...\n",
      "./newresults\\Saved_Models/Public/Adult/iter2_depth1_width1000_16.pt\n",
      "Loading model ...\n"
     ]
    },
    {
     "name": "stderr",
     "output_type": "stream",
     "text": [
      " 75%|█████████████████████████████████████████████████████████████▌                    | 18/24 [00:01<00:00, 11.81it/s]"
     ]
    },
    {
     "name": "stdout",
     "output_type": "stream",
     "text": [
      "./newresults\\Saved_Models/Public/Adult/iter2_depth1_width1000_17.pt\n",
      "Loading model ...\n",
      "./newresults\\Saved_Models/Public/Adult/iter2_depth1_width1000_18.pt\n",
      "Loading model ...\n",
      "./newresults\\Saved_Models/Public/Adult/iter2_depth1_width1000_19.pt\n",
      "Loading model ...\n"
     ]
    },
    {
     "name": "stderr",
     "output_type": "stream",
     "text": [
      " 92%|███████████████████████████████████████████████████████████████████████████▏      | 22/24 [00:01<00:00, 11.83it/s]"
     ]
    },
    {
     "name": "stdout",
     "output_type": "stream",
     "text": [
      "./newresults\\Saved_Models/Public/Adult/iter2_depth1_width1000_20.pt\n",
      "Loading model ...\n",
      "./newresults\\Saved_Models/Public/Adult/iter2_depth1_width1000_21.pt\n",
      "Loading model ...\n"
     ]
    },
    {
     "name": "stderr",
     "output_type": "stream",
     "text": [
      "100%|██████████████████████████████████████████████████████████████████████████████████| 24/24 [00:02<00:00, 11.74it/s]"
     ]
    },
    {
     "name": "stdout",
     "output_type": "stream",
     "text": [
      "./newresults\\Saved_Models/Public/Adult/iter2_depth1_width1000_22.pt\n",
      "Loading model ...\n",
      "./newresults\\Saved_Models/Public/Adult/iter2_depth1_width1000_23.pt\n",
      "Loading model ...\n"
     ]
    },
    {
     "name": "stderr",
     "output_type": "stream",
     "text": [
      "\n"
     ]
    },
    {
     "name": "stdout",
     "output_type": "stream",
     "text": [
      "Get private info ...\n",
      "Get shadow info ...\n",
      "Shadow model: 0\n",
      "Shadow model: 1\n",
      "Shadow model: 2\n",
      "Shadow model: 3\n",
      "Shadow model: 4\n",
      "Shadow model: 5\n",
      "Shadow model: 6\n",
      "Shadow model: 7\n",
      "Shadow model: 8\n",
      "Shadow model: 9\n",
      "Shadow model: 10\n",
      "Shadow model: 11\n",
      "Shadow model: 12\n",
      "Shadow model: 13\n",
      "Shadow model: 14\n",
      "Shadow model: 15\n",
      "Shadow model: 16\n",
      "Shadow model: 17\n",
      "Shadow model: 18\n",
      "Shadow model: 19\n",
      "Shadow model: 20\n",
      "Shadow model: 21\n",
      "Shadow model: 22\n",
      "Shadow model: 23\n",
      "    Identified 2781 out of 3000 counterfactual explanations\n",
      "    Identified 2812 out of 3000 counterfactual explanations\n",
      "    Identified 2781 out of 3000 counterfactual explanations\n",
      "    Identified 2812 out of 3000 counterfactual explanations\n",
      "    Identified 2781 out of 3000 counterfactual explanations\n",
      "    Identified 2812 out of 3000 counterfactual explanations\n",
      "    Identified 2781 out of 3000 counterfactual explanations\n",
      "    Identified 2812 out of 3000 counterfactual explanations\n"
     ]
    },
    {
     "name": "stderr",
     "output_type": "stream",
     "text": [
      "C:\\Users\\fred0\\Anaconda3\\lib\\site-packages\\torch\\nn\\_reduction.py:42: UserWarning: size_average and reduce args will be deprecated, please use reduction='none' instead.\n",
      "  warnings.warn(warning.format(ret))\n"
     ]
    },
    {
     "name": "stdout",
     "output_type": "stream",
     "text": [
      "AUC for BASE DISTANCE when scfe when depth 1 and width 1000: 0.3728501272094783\n",
      "BA for BASE DISTANCE when scfe when depth 1 and width 1000: 0.3836490744704848\n",
      "TP0.1 for BASE DISTANCE when scfe when depth 1 and width 1000: 0.07792500000000001\n",
      "TP0.01 for BASE DISTANCE when scfe when depth 1 and width 1000: 0.009075\n",
      "Compute Lambda on Train\n",
      "Compute Lambda on Test\n",
      "Compute Lambda on Train\n",
      "Compute Lambda on Test\n"
     ]
    },
    {
     "name": "stderr",
     "output_type": "stream",
     "text": [
      "  0%|                                                                                           | 0/24 [00:00<?, ?it/s]"
     ]
    },
    {
     "name": "stdout",
     "output_type": "stream",
     "text": [
      "AUC for LRT DISTANCE when scfe when depth 1 and width 1000: 0.37453990781788427\n",
      "BA for LRT DISTANCE when scfe when depth 1 and width 1000: 0.38485828700442903\n",
      "TP0.1 for LRT DISTANCE when scfe when depth 1 and width 1000: 0.0722\n",
      "TP0.01 for LRT DISTANCE when scfe when depth 1 and width 1000: 0.011725000000000001\n",
      "ITERATION: 3\n",
      "GENERATING RESULTS FOR Adult\n",
      "Get private models ...\n",
      "./newresults\\Saved_Models/Private/Adult/iter3_private_depth1000_width1.pt\n",
      "Accuracy on Train set: 0.9732669374918097\n",
      "Accuracy on Test set: 0.8089622641509434\n",
      "Get public models ...\n",
      "./newresults\\Saved_Models/Public/Adult/iter3_depth1_width1000_0.pt\n",
      "Loading model ...\n",
      "./newresults\\Saved_Models/Public/Adult/iter3_depth1_width1000_1.pt\n"
     ]
    },
    {
     "name": "stderr",
     "output_type": "stream",
     "text": [
      "  8%|██████▉                                                                            | 2/24 [00:00<00:01, 12.85it/s]"
     ]
    },
    {
     "name": "stdout",
     "output_type": "stream",
     "text": [
      "Loading model ...\n",
      "./newresults\\Saved_Models/Public/Adult/iter3_depth1_width1000_2.pt\n",
      "Loading model ...\n",
      "./newresults\\Saved_Models/Public/Adult/iter3_depth1_width1000_3.pt\n",
      "Loading model ...\n"
     ]
    },
    {
     "name": "stderr",
     "output_type": "stream",
     "text": [
      " 25%|████████████████████▊                                                              | 6/24 [00:00<00:01, 12.29it/s]"
     ]
    },
    {
     "name": "stdout",
     "output_type": "stream",
     "text": [
      "./newresults\\Saved_Models/Public/Adult/iter3_depth1_width1000_4.pt\n",
      "Loading model ...\n",
      "./newresults\\Saved_Models/Public/Adult/iter3_depth1_width1000_5.pt\n",
      "Loading model ...\n",
      "./newresults\\Saved_Models/Public/Adult/iter3_depth1_width1000_6.pt\n",
      "Loading model ...\n"
     ]
    },
    {
     "name": "stderr",
     "output_type": "stream",
     "text": [
      " 33%|███████████████████████████▋                                                       | 8/24 [00:00<00:01, 12.35it/s]"
     ]
    },
    {
     "name": "stdout",
     "output_type": "stream",
     "text": [
      "./newresults\\Saved_Models/Public/Adult/iter3_depth1_width1000_7.pt\n",
      "Loading model ...\n",
      "./newresults\\Saved_Models/Public/Adult/iter3_depth1_width1000_8.pt\n",
      "Loading model ...\n",
      "./newresults\\Saved_Models/Public/Adult/iter3_depth1_width1000_9.pt\n",
      "Loading model ...\n"
     ]
    },
    {
     "name": "stderr",
     "output_type": "stream",
     "text": [
      " 50%|█████████████████████████████████████████                                         | 12/24 [00:00<00:00, 12.15it/s]"
     ]
    },
    {
     "name": "stdout",
     "output_type": "stream",
     "text": [
      "./newresults\\Saved_Models/Public/Adult/iter3_depth1_width1000_10.pt\n",
      "Loading model ...\n",
      "./newresults\\Saved_Models/Public/Adult/iter3_depth1_width1000_11.pt\n",
      "Loading model ...\n",
      "./newresults\\Saved_Models/Public/Adult/iter3_depth1_width1000_12.pt\n",
      "Loading model ...\n"
     ]
    },
    {
     "name": "stderr",
     "output_type": "stream",
     "text": [
      " 58%|███████████████████████████████████████████████▊                                  | 14/24 [00:01<00:00, 11.82it/s]"
     ]
    },
    {
     "name": "stdout",
     "output_type": "stream",
     "text": [
      "./newresults\\Saved_Models/Public/Adult/iter3_depth1_width1000_13.pt\n",
      "Loading model ...\n",
      "./newresults\\Saved_Models/Public/Adult/iter3_depth1_width1000_14.pt\n",
      "Loading model ...\n",
      "./newresults\\Saved_Models/Public/Adult/iter3_depth1_width1000_15.pt\n"
     ]
    },
    {
     "name": "stderr",
     "output_type": "stream",
     "text": [
      " 67%|██████████████████████████████████████████████████████▋                           | 16/24 [00:01<00:00, 11.72it/s]"
     ]
    },
    {
     "name": "stdout",
     "output_type": "stream",
     "text": [
      "Loading model ...\n",
      "./newresults\\Saved_Models/Public/Adult/iter3_depth1_width1000_16.pt\n",
      "Loading model ...\n",
      "./newresults\\Saved_Models/Public/Adult/iter3_depth1_width1000_17.pt\n",
      "Loading model ...\n"
     ]
    },
    {
     "name": "stderr",
     "output_type": "stream",
     "text": [
      " 83%|████████████████████████████████████████████████████████████████████▎             | 20/24 [00:01<00:00, 11.95it/s]"
     ]
    },
    {
     "name": "stdout",
     "output_type": "stream",
     "text": [
      "./newresults\\Saved_Models/Public/Adult/iter3_depth1_width1000_18.pt\n",
      "Loading model ...\n",
      "./newresults\\Saved_Models/Public/Adult/iter3_depth1_width1000_19.pt\n",
      "Loading model ...\n",
      "./newresults\\Saved_Models/Public/Adult/iter3_depth1_width1000_20.pt\n",
      "Loading model ...\n"
     ]
    },
    {
     "name": "stderr",
     "output_type": "stream",
     "text": [
      " 92%|███████████████████████████████████████████████████████████████████████████▏      | 22/24 [00:01<00:00, 12.01it/s]"
     ]
    },
    {
     "name": "stdout",
     "output_type": "stream",
     "text": [
      "./newresults\\Saved_Models/Public/Adult/iter3_depth1_width1000_21.pt\n",
      "Loading model ...\n",
      "./newresults\\Saved_Models/Public/Adult/iter3_depth1_width1000_22.pt\n",
      "Loading model ...\n",
      "./newresults\\Saved_Models/Public/Adult/iter3_depth1_width1000_23.pt\n",
      "Loading model ...\n"
     ]
    },
    {
     "name": "stderr",
     "output_type": "stream",
     "text": [
      "100%|██████████████████████████████████████████████████████████████████████████████████| 24/24 [00:02<00:00, 11.94it/s]\n"
     ]
    },
    {
     "name": "stdout",
     "output_type": "stream",
     "text": [
      "Get private info ...\n",
      "Get shadow info ...\n",
      "Shadow model: 0\n",
      "Shadow model: 1\n",
      "Shadow model: 2\n",
      "Shadow model: 3\n",
      "Shadow model: 4\n",
      "Shadow model: 5\n",
      "Shadow model: 6\n",
      "Shadow model: 7\n",
      "Shadow model: 8\n",
      "Shadow model: 9\n",
      "Shadow model: 10\n",
      "Shadow model: 11\n",
      "Shadow model: 12\n",
      "Shadow model: 13\n",
      "Shadow model: 14\n",
      "Shadow model: 15\n",
      "Shadow model: 16\n",
      "Shadow model: 17\n",
      "Shadow model: 18\n",
      "Shadow model: 19\n",
      "Shadow model: 20\n",
      "Shadow model: 21\n",
      "Shadow model: 22\n",
      "Shadow model: 23\n",
      "    Identified 2781 out of 3000 counterfactual explanations\n",
      "    Identified 2812 out of 3000 counterfactual explanations\n",
      "    Identified 2781 out of 3000 counterfactual explanations\n",
      "    Identified 2812 out of 3000 counterfactual explanations\n",
      "    Identified 2781 out of 3000 counterfactual explanations\n",
      "    Identified 2812 out of 3000 counterfactual explanations\n",
      "    Identified 2781 out of 3000 counterfactual explanations\n",
      "    Identified 2812 out of 3000 counterfactual explanations\n"
     ]
    },
    {
     "name": "stderr",
     "output_type": "stream",
     "text": [
      "C:\\Users\\fred0\\Anaconda3\\lib\\site-packages\\torch\\nn\\_reduction.py:42: UserWarning: size_average and reduce args will be deprecated, please use reduction='none' instead.\n",
      "  warnings.warn(warning.format(ret))\n"
     ]
    },
    {
     "name": "stdout",
     "output_type": "stream",
     "text": [
      "AUC for BASE DISTANCE when scfe when depth 1 and width 1000: 0.49713350294597103\n",
      "BA for BASE DISTANCE when scfe when depth 1 and width 1000: 0.5115320992939797\n",
      "TP0.1 for BASE DISTANCE when scfe when depth 1 and width 1000: 0.1039\n",
      "TP0.01 for BASE DISTANCE when scfe when depth 1 and width 1000: 0.0121\n",
      "Compute Lambda on Train\n",
      "Compute Lambda on Test\n",
      "Compute Lambda on Train\n",
      "Compute Lambda on Test\n"
     ]
    },
    {
     "name": "stderr",
     "output_type": "stream",
     "text": [
      "  0%|                                                                                           | 0/24 [00:00<?, ?it/s]"
     ]
    },
    {
     "name": "stdout",
     "output_type": "stream",
     "text": [
      "AUC for LRT DISTANCE when scfe when depth 1 and width 1000: 0.49926296378135926\n",
      "BA for LRT DISTANCE when scfe when depth 1 and width 1000: 0.5128305042395487\n",
      "TP0.1 for LRT DISTANCE when scfe when depth 1 and width 1000: 0.095025\n",
      "TP0.01 for LRT DISTANCE when scfe when depth 1 and width 1000: 0.014875000000000001\n",
      "ITERATION: 0\n",
      "GENERATING RESULTS FOR Heloc\n",
      "Get private models ...\n",
      "./newresults\\Saved_Models/Private/Heloc/iter0_private_depth1000_width1.pt\n",
      "Accuracy on Train set: 1.0\n",
      "Accuracy on Test set: 0.6701782820097245\n",
      "Get public models ...\n",
      "./newresults\\Saved_Models/Public/Heloc/iter0_depth1_width1000_0.pt\n",
      "Loading model ...\n",
      "./newresults\\Saved_Models/Public/Heloc/iter0_depth1_width1000_1.pt\n",
      "Loading model ...\n",
      "./newresults\\Saved_Models/Public/Heloc/iter0_depth1_width1000_2.pt"
     ]
    },
    {
     "name": "stderr",
     "output_type": "stream",
     "text": [
      " 29%|████████████████████████▏                                                          | 7/24 [00:00<00:00, 30.65it/s]"
     ]
    },
    {
     "name": "stdout",
     "output_type": "stream",
     "text": [
      "\n",
      "Loading model ...\n",
      "./newresults\\Saved_Models/Public/Heloc/iter0_depth1_width1000_3.pt\n",
      "Loading model ...\n",
      "./newresults\\Saved_Models/Public/Heloc/iter0_depth1_width1000_4.pt\n",
      "Loading model ...\n",
      "./newresults\\Saved_Models/Public/Heloc/iter0_depth1_width1000_5.pt\n",
      "Loading model ...\n",
      "./newresults\\Saved_Models/Public/Heloc/iter0_depth1_width1000_6.pt\n",
      "Loading model ...\n",
      "./newresults\\Saved_Models/Public/Heloc/iter0_depth1_width1000_7.pt\n",
      "Loading model ...\n",
      "./newresults\\Saved_Models/Public/Heloc/iter0_depth1_width1000_8.pt"
     ]
    },
    {
     "name": "stderr",
     "output_type": "stream",
     "text": [
      " 58%|███████████████████████████████████████████████▊                                  | 14/24 [00:00<00:00, 31.85it/s]"
     ]
    },
    {
     "name": "stdout",
     "output_type": "stream",
     "text": [
      "\n",
      "Loading model ...\n",
      "./newresults\\Saved_Models/Public/Heloc/iter0_depth1_width1000_9.pt\n",
      "Loading model ...\n",
      "./newresults\\Saved_Models/Public/Heloc/iter0_depth1_width1000_10.pt\n",
      "Loading model ...\n",
      "./newresults\\Saved_Models/Public/Heloc/iter0_depth1_width1000_11.pt\n",
      "Loading model ...\n",
      "./newresults\\Saved_Models/Public/Heloc/iter0_depth1_width1000_12.pt\n",
      "Loading model ...\n",
      "./newresults\\Saved_Models/Public/Heloc/iter0_depth1_width1000_13.pt\n",
      "Loading model ...\n",
      "./newresults\\Saved_Models/Public/Heloc/iter0_depth1_width1000_14.pt\n",
      "Loading model ...\n",
      "./newresults\\Saved_Models/Public/Heloc/iter0_depth1_width1000_15.pt\n"
     ]
    },
    {
     "name": "stderr",
     "output_type": "stream",
     "text": [
      " 75%|█████████████████████████████████████████████████████████████▌                    | 18/24 [00:00<00:00, 33.56it/s]"
     ]
    },
    {
     "name": "stdout",
     "output_type": "stream",
     "text": [
      "Loading model ...\n",
      "./newresults\\Saved_Models/Public/Heloc/iter0_depth1_width1000_16.pt\n",
      "Loading model ...\n",
      "./newresults\\Saved_Models/Public/Heloc/iter0_depth1_width1000_17.pt\n",
      "Loading model ...\n",
      "./newresults\\Saved_Models/Public/Heloc/iter0_depth1_width1000_18.pt\n",
      "Loading model ...\n",
      "./newresults\\Saved_Models/Public/Heloc/iter0_depth1_width1000_19.pt\n",
      "Loading model ...\n",
      "./newresults\\Saved_Models/Public/Heloc/iter0_depth1_width1000_20.pt\n",
      "Loading model ...\n"
     ]
    },
    {
     "name": "stderr",
     "output_type": "stream",
     "text": [
      "100%|██████████████████████████████████████████████████████████████████████████████████| 24/24 [00:00<00:00, 30.21it/s]\n"
     ]
    },
    {
     "name": "stdout",
     "output_type": "stream",
     "text": [
      "./newresults\\Saved_Models/Public/Heloc/iter0_depth1_width1000_21.pt\n",
      "Loading model ...\n",
      "./newresults\\Saved_Models/Public/Heloc/iter0_depth1_width1000_22.pt\n",
      "Loading model ...\n",
      "./newresults\\Saved_Models/Public/Heloc/iter0_depth1_width1000_23.pt\n",
      "Loading model ...\n",
      "Get private info ...\n",
      "Get shadow info ...\n",
      "Shadow model: 0\n",
      "Shadow model: 1\n",
      "Shadow model: 2\n",
      "Shadow model: 3\n",
      "Shadow model: 4\n",
      "Shadow model: 5\n",
      "Shadow model: 6\n",
      "Shadow model: 7\n",
      "Shadow model: 8\n",
      "Shadow model: 9\n",
      "Shadow model: 10\n",
      "Shadow model: 11\n",
      "Shadow model: 12\n",
      "Shadow model: 13\n",
      "Shadow model: 14\n",
      "Shadow model: 15\n",
      "Shadow model: 16\n",
      "Shadow model: 17\n",
      "Shadow model: 18\n",
      "Shadow model: 19\n",
      "Shadow model: 20\n",
      "Shadow model: 21\n",
      "Shadow model: 22\n",
      "Shadow model: 23\n",
      "    Identified 1664 out of 1926 counterfactual explanations\n",
      "    Identified 549 out of 637 counterfactual explanations\n",
      "    Identified 1664 out of 1926 counterfactual explanations\n",
      "    Identified 549 out of 637 counterfactual explanations\n",
      "    Identified 1664 out of 1926 counterfactual explanations\n",
      "    Identified 549 out of 637 counterfactual explanations\n",
      "    Identified 1664 out of 1926 counterfactual explanations\n",
      "    Identified 549 out of 637 counterfactual explanations\n",
      "AUC for BASE DISTANCE when scfe when depth 1 and width 1000:"
     ]
    },
    {
     "name": "stderr",
     "output_type": "stream",
     "text": [
      "C:\\Users\\fred0\\Anaconda3\\lib\\site-packages\\torch\\nn\\_reduction.py:42: UserWarning: size_average and reduce args will be deprecated, please use reduction='none' instead.\n",
      "  warnings.warn(warning.format(ret))\n"
     ]
    },
    {
     "name": "stdout",
     "output_type": "stream",
     "text": [
      " 0.14718303383774695\n",
      "BA for BASE DISTANCE when scfe when depth 1 and width 1000: 0.14760775711083088\n",
      "TP0.1 for BASE DISTANCE when scfe when depth 1 and width 1000: 0.02825\n",
      "TP0.01 for BASE DISTANCE when scfe when depth 1 and width 1000: 0.003875\n",
      "Compute Lambda on Train\n",
      "Compute Lambda on Test\n",
      "Compute Lambda on Train\n",
      "Compute Lambda on Test\n"
     ]
    },
    {
     "name": "stderr",
     "output_type": "stream",
     "text": [
      "  0%|                                                                                           | 0/24 [00:00<?, ?it/s]"
     ]
    },
    {
     "name": "stdout",
     "output_type": "stream",
     "text": [
      "AUC for LRT DISTANCE when scfe when depth 1 and width 1000: 0.1460993327028163\n",
      "BA for LRT DISTANCE when scfe when depth 1 and width 1000: 0.14775266108834245\n",
      "TP0.1 for LRT DISTANCE when scfe when depth 1 and width 1000: 0.02855\n",
      "TP0.01 for LRT DISTANCE when scfe when depth 1 and width 1000: 0.0033\n",
      "ITERATION: 1\n",
      "GENERATING RESULTS FOR Heloc\n",
      "Get private models ...\n",
      "./newresults\\Saved_Models/Private/Heloc/iter1_private_depth1000_width1.pt\n",
      "Accuracy on Train set: 1.0\n",
      "Accuracy on Test set: 0.6701782820097245\n",
      "Get public models ...\n",
      "./newresults\\Saved_Models/Public/Heloc/iter1_depth1_width1000_0.pt\n",
      "Loading model ...\n",
      "./newresults\\Saved_Models/Public/Heloc/iter1_depth1_width1000_1.pt\n",
      "Loading model ...\n",
      "./newresults\\Saved_Models/Public/Heloc/iter1_depth1_width1000_2.pt\n",
      "Loading model ...\n",
      "./newresults\\Saved_Models/Public/Heloc/iter1_depth1_width1000_3.pt"
     ]
    },
    {
     "name": "stderr",
     "output_type": "stream",
     "text": [
      " 33%|███████████████████████████▋                                                       | 8/24 [00:00<00:00, 37.58it/s]"
     ]
    },
    {
     "name": "stdout",
     "output_type": "stream",
     "text": [
      "\n",
      "Loading model ...\n",
      "./newresults\\Saved_Models/Public/Heloc/iter1_depth1_width1000_4.pt\n",
      "Loading model ...\n",
      "./newresults\\Saved_Models/Public/Heloc/iter1_depth1_width1000_5.pt\n",
      "Loading model ...\n",
      "./newresults\\Saved_Models/Public/Heloc/iter1_depth1_width1000_6.pt\n",
      "Loading model ...\n",
      "./newresults\\Saved_Models/Public/Heloc/iter1_depth1_width1000_7.pt\n",
      "Loading model ...\n",
      "./newresults\\Saved_Models/Public/Heloc/iter1_depth1_width1000_8.pt\n",
      "Loading model ...\n",
      "./newresults\\Saved_Models/Public/Heloc/iter1_depth1_width1000_9.pt\n",
      "Loading model ...\n",
      "./newresults\\Saved_Models/Public/Heloc/iter1_depth1_width1000_10.pt\n",
      "Loading model ...\n",
      "./newresults\\Saved_Models/Public/Heloc/iter1_depth1_width1000_11.pt\n"
     ]
    },
    {
     "name": "stderr",
     "output_type": "stream",
     "text": [
      " 67%|██████████████████████████████████████████████████████▋                           | 16/24 [00:00<00:00, 34.72it/s]"
     ]
    },
    {
     "name": "stdout",
     "output_type": "stream",
     "text": [
      "Loading model ...\n",
      "./newresults\\Saved_Models/Public/Heloc/iter1_depth1_width1000_12.pt\n",
      "Loading model ...\n",
      "./newresults\\Saved_Models/Public/Heloc/iter1_depth1_width1000_13.pt\n",
      "Loading model ...\n",
      "./newresults\\Saved_Models/Public/Heloc/iter1_depth1_width1000_14.pt\n",
      "Loading model ...\n",
      "./newresults\\Saved_Models/Public/Heloc/iter1_depth1_width1000_15.pt\n",
      "Loading model ...\n",
      "./newresults\\Saved_Models/Public/Heloc/iter1_depth1_width1000_16.pt\n",
      "Loading model ...\n",
      "./newresults\\Saved_Models/Public/Heloc/iter1_depth1_width1000_17.pt"
     ]
    },
    {
     "name": "stderr",
     "output_type": "stream",
     "text": [
      " 83%|████████████████████████████████████████████████████████████████████▎             | 20/24 [00:00<00:00, 34.45it/s]"
     ]
    },
    {
     "name": "stdout",
     "output_type": "stream",
     "text": [
      "\n",
      "Loading model ...\n",
      "./newresults\\Saved_Models/Public/Heloc/iter1_depth1_width1000_18.pt\n",
      "Loading model ...\n",
      "./newresults\\Saved_Models/Public/Heloc/iter1_depth1_width1000_19.pt\n",
      "Loading model ...\n",
      "./newresults\\Saved_Models/Public/Heloc/iter1_depth1_width1000_20.pt\n",
      "Loading model ...\n",
      "./newresults\\Saved_Models/Public/Heloc/iter1_depth1_width1000_21.pt\n",
      "Loading model ...\n",
      "./newresults\\Saved_Models/Public/Heloc/iter1_depth1_width1000_22.pt\n",
      "Loading model ...\n",
      "./newresults\\Saved_Models/Public/Heloc/iter1_depth1_width1000_23.pt\n"
     ]
    },
    {
     "name": "stderr",
     "output_type": "stream",
     "text": [
      "100%|██████████████████████████████████████████████████████████████████████████████████| 24/24 [00:00<00:00, 34.49it/s]\n"
     ]
    },
    {
     "name": "stdout",
     "output_type": "stream",
     "text": [
      "Loading model ...\n",
      "Get private info ...\n",
      "Get shadow info ...\n",
      "Shadow model: 0\n",
      "Shadow model: 1\n",
      "Shadow model: 2\n",
      "Shadow model: 3\n",
      "Shadow model: 4\n",
      "Shadow model: 5\n",
      "Shadow model: 6\n",
      "Shadow model: 7\n",
      "Shadow model: 8\n",
      "Shadow model: 9\n",
      "Shadow model: 10\n",
      "Shadow model: 11\n",
      "Shadow model: 12\n",
      "Shadow model: 13\n",
      "Shadow model: 14\n",
      "Shadow model: 15\n",
      "Shadow model: 16\n",
      "Shadow model: 17\n",
      "Shadow model: 18\n",
      "Shadow model: 19\n",
      "Shadow model: 20\n",
      "Shadow model: 21\n",
      "Shadow model: 22\n",
      "Shadow model: 23\n",
      "    Identified 1664 out of 1926 counterfactual explanations\n",
      "    Identified 549 out of 637 counterfactual explanations\n",
      "    Identified 1664 out of 1926 counterfactual explanations\n",
      "    Identified 549 out of 637 counterfactual explanations\n",
      "    Identified 1664 out of 1926 counterfactual explanations\n",
      "    Identified 549 out of 637 counterfactual explanations\n",
      "    Identified 1664 out of 1926 counterfactual explanations\n",
      "    Identified 549 out of 637 counterfactual explanations\n",
      "AUC for BASE DISTANCE when scfe when depth 1 and width 1000: 0.2943660676754939\n",
      "BA for BASE DISTANCE when scfe when depth 1 and width 1000: 0.29521551422166176\n",
      "TP0.1 for BASE DISTANCE when scfe when depth 1 and width 1000: 0.0565\n",
      "TP0.01 for BASE DISTANCE when scfe when depth 1 and width 1000: 0.00775\n",
      "Compute Lambda on Train\n"
     ]
    },
    {
     "name": "stderr",
     "output_type": "stream",
     "text": [
      "C:\\Users\\fred0\\Anaconda3\\lib\\site-packages\\torch\\nn\\_reduction.py:42: UserWarning: size_average and reduce args will be deprecated, please use reduction='none' instead.\n",
      "  warnings.warn(warning.format(ret))\n"
     ]
    },
    {
     "name": "stdout",
     "output_type": "stream",
     "text": [
      "Compute Lambda on Test\n",
      "Compute Lambda on Train\n",
      "Compute Lambda on Test\n"
     ]
    },
    {
     "name": "stderr",
     "output_type": "stream",
     "text": [
      "  0%|                                                                                           | 0/24 [00:00<?, ?it/s]"
     ]
    },
    {
     "name": "stdout",
     "output_type": "stream",
     "text": [
      "AUC for LRT DISTANCE when scfe when depth 1 and width 1000: 0.29182238028933727\n",
      "BA for LRT DISTANCE when scfe when depth 1 and width 1000: 0.29586464025500914\n",
      "TP0.1 for LRT DISTANCE when scfe when depth 1 and width 1000: 0.054599999999999996\n",
      "TP0.01 for LRT DISTANCE when scfe when depth 1 and width 1000: 0.006675\n",
      "ITERATION: 2\n",
      "GENERATING RESULTS FOR Heloc\n",
      "Get private models ...\n",
      "./newresults\\Saved_Models/Private/Heloc/iter2_private_depth1000_width1.pt\n",
      "Accuracy on Train set: 1.0\n",
      "Accuracy on Test set: 0.6693679092382496\n",
      "Get public models ...\n",
      "./newresults\\Saved_Models/Public/Heloc/iter2_depth1_width1000_0.pt\n",
      "Loading model ...\n",
      "./newresults\\Saved_Models/Public/Heloc/iter2_depth1_width1000_1.pt\n",
      "Loading model ...\n",
      "./newresults\\Saved_Models/Public/Heloc/iter2_depth1_width1000_2.pt\n",
      "Loading model ...\n",
      "./newresults\\Saved_Models/Public/Heloc/iter2_depth1_width1000_3.pt\n",
      "Loading model ...\n",
      "./newresults\\Saved_Models/Public/Heloc/iter2_depth1_width1000_4.pt\n"
     ]
    },
    {
     "name": "stderr",
     "output_type": "stream",
     "text": [
      " 42%|██████████████████████████████████▏                                               | 10/24 [00:00<00:00, 42.92it/s]"
     ]
    },
    {
     "name": "stdout",
     "output_type": "stream",
     "text": [
      "Loading model ...\n",
      "./newresults\\Saved_Models/Public/Heloc/iter2_depth1_width1000_5.pt\n",
      "Loading model ...\n",
      "./newresults\\Saved_Models/Public/Heloc/iter2_depth1_width1000_6.pt\n",
      "Loading model ...\n",
      "./newresults\\Saved_Models/Public/Heloc/iter2_depth1_width1000_7.pt\n",
      "Loading model ...\n",
      "./newresults\\Saved_Models/Public/Heloc/iter2_depth1_width1000_8.pt\n",
      "Loading model ...\n",
      "./newresults\\Saved_Models/Public/Heloc/iter2_depth1_width1000_9.pt\n",
      "Loading model ...\n",
      "./newresults\\Saved_Models/Public/Heloc/iter2_depth1_width1000_10.pt\n",
      "Loading model ...\n",
      "./newresults\\Saved_Models/Public/Heloc/iter2_depth1_width1000_11.pt"
     ]
    },
    {
     "name": "stderr",
     "output_type": "stream",
     "text": [
      " 54%|████████████████████████████████████████████▍                                     | 13/24 [00:00<00:00, 35.23it/s]"
     ]
    },
    {
     "name": "stdout",
     "output_type": "stream",
     "text": [
      "\n",
      "Loading model ...\n",
      "./newresults\\Saved_Models/Public/Heloc/iter2_depth1_width1000_12.pt\n",
      "Loading model ...\n",
      "./newresults\\Saved_Models/Public/Heloc/iter2_depth1_width1000_13.pt\n",
      "Loading model ...\n",
      "./newresults\\Saved_Models/Public/Heloc/iter2_depth1_width1000_14.pt\n",
      "Loading model ...\n",
      "./newresults\\Saved_Models/Public/Heloc/iter2_depth1_width1000_15.pt\n",
      "Loading model ...\n"
     ]
    },
    {
     "name": "stderr",
     "output_type": "stream",
     "text": [
      " 83%|████████████████████████████████████████████████████████████████████▎             | 20/24 [00:00<00:00, 32.36it/s]"
     ]
    },
    {
     "name": "stdout",
     "output_type": "stream",
     "text": [
      "./newresults\\Saved_Models/Public/Heloc/iter2_depth1_width1000_16.pt\n",
      "Loading model ...\n",
      "./newresults\\Saved_Models/Public/Heloc/iter2_depth1_width1000_17.pt\n",
      "Loading model ...\n",
      "./newresults\\Saved_Models/Public/Heloc/iter2_depth1_width1000_18.pt\n",
      "Loading model ...\n",
      "./newresults\\Saved_Models/Public/Heloc/iter2_depth1_width1000_19.pt\n",
      "Loading model ...\n",
      "./newresults\\Saved_Models/Public/Heloc/iter2_depth1_width1000_20.pt\n",
      "Loading model ...\n",
      "./newresults\\Saved_Models/Public/Heloc/iter2_depth1_width1000_21.pt\n",
      "Loading model ...\n",
      "./newresults\\Saved_Models/Public/Heloc/iter2_depth1_width1000_22.pt\n"
     ]
    },
    {
     "name": "stderr",
     "output_type": "stream",
     "text": [
      "100%|██████████████████████████████████████████████████████████████████████████████████| 24/24 [00:00<00:00, 33.44it/s]\n"
     ]
    },
    {
     "name": "stdout",
     "output_type": "stream",
     "text": [
      "Loading model ...\n",
      "./newresults\\Saved_Models/Public/Heloc/iter2_depth1_width1000_23.pt\n",
      "Loading model ...\n",
      "Get private info ...\n",
      "Get shadow info ...\n",
      "Shadow model: 0\n",
      "Shadow model: 1\n",
      "Shadow model: 2\n",
      "Shadow model: 3\n",
      "Shadow model: 4\n",
      "Shadow model: 5\n",
      "Shadow model: 6\n",
      "Shadow model: 7\n",
      "Shadow model: 8\n",
      "Shadow model: 9\n",
      "Shadow model: 10\n",
      "Shadow model: 11\n",
      "Shadow model: 12\n",
      "Shadow model: 13\n",
      "Shadow model: 14\n",
      "Shadow model: 15\n",
      "Shadow model: 16\n",
      "Shadow model: 17\n",
      "Shadow model: 18\n",
      "Shadow model: 19\n",
      "Shadow model: 20\n",
      "Shadow model: 21\n",
      "Shadow model: 22\n",
      "Shadow model: 23\n",
      "    Identified 1664 out of 1926 counterfactual explanations\n",
      "    Identified 549 out of 637 counterfactual explanations\n",
      "    Identified 1664 out of 1926 counterfactual explanations\n",
      "    Identified 549 out of 637 counterfactual explanations\n",
      "    Identified 1664 out of 1926 counterfactual explanations\n",
      "    Identified 549 out of 637 counterfactual explanations\n",
      "    Identified 1664 out of 1926 counterfactual explanations\n",
      "    Identified 549 out of 637 counterfactual explanations\n"
     ]
    },
    {
     "name": "stderr",
     "output_type": "stream",
     "text": [
      "C:\\Users\\fred0\\Anaconda3\\lib\\site-packages\\torch\\nn\\_reduction.py:42: UserWarning: size_average and reduce args will be deprecated, please use reduction='none' instead.\n",
      "  warnings.warn(warning.format(ret))\n"
     ]
    },
    {
     "name": "stdout",
     "output_type": "stream",
     "text": [
      "AUC for BASE DISTANCE when scfe when depth 1 and width 1000: 0.44154910151324084\n",
      "BA for BASE DISTANCE when scfe when depth 1 and width 1000: 0.44282327133249266\n",
      "TP0.1 for BASE DISTANCE when scfe when depth 1 and width 1000: 0.08475\n",
      "TP0.01 for BASE DISTANCE when scfe when depth 1 and width 1000: 0.011625\n",
      "Compute Lambda on Train\n",
      "Compute Lambda on Test\n",
      "Compute Lambda on Train\n",
      "Compute Lambda on Test\n"
     ]
    },
    {
     "name": "stderr",
     "output_type": "stream",
     "text": [
      "  0%|                                                                                           | 0/24 [00:00<?, ?it/s]"
     ]
    },
    {
     "name": "stdout",
     "output_type": "stream",
     "text": [
      "AUC for LRT DISTANCE when scfe when depth 1 and width 1000: 0.4379780873441222\n",
      "BA for LRT DISTANCE when scfe when depth 1 and width 1000: 0.4432114607415581\n",
      "TP0.1 for LRT DISTANCE when scfe when depth 1 and width 1000: 0.08149999999999999\n",
      "TP0.01 for LRT DISTANCE when scfe when depth 1 and width 1000: 0.008625\n",
      "ITERATION: 3\n",
      "GENERATING RESULTS FOR Heloc\n",
      "Get private models ...\n",
      "./newresults\\Saved_Models/Private/Heloc/iter3_private_depth1000_width1.pt\n",
      "Accuracy on Train set: 1.0\n",
      "Accuracy on Test set: 0.6717990275526742\n",
      "Get public models ...\n",
      "./newresults\\Saved_Models/Public/Heloc/iter3_depth1_width1000_0.pt\n",
      "Loading model ...\n",
      "./newresults\\Saved_Models/Public/Heloc/iter3_depth1_width1000_1.pt"
     ]
    },
    {
     "name": "stderr",
     "output_type": "stream",
     "text": [
      " 33%|███████████████████████████▋                                                       | 8/24 [00:00<00:00, 28.46it/s]"
     ]
    },
    {
     "name": "stdout",
     "output_type": "stream",
     "text": [
      "\n",
      "Loading model ...\n",
      "./newresults\\Saved_Models/Public/Heloc/iter3_depth1_width1000_2.pt\n",
      "Loading model ...\n",
      "./newresults\\Saved_Models/Public/Heloc/iter3_depth1_width1000_3.pt\n",
      "Loading model ...\n",
      "./newresults\\Saved_Models/Public/Heloc/iter3_depth1_width1000_4.pt\n",
      "Loading model ...\n",
      "./newresults\\Saved_Models/Public/Heloc/iter3_depth1_width1000_5.pt\n",
      "Loading model ...\n",
      "./newresults\\Saved_Models/Public/Heloc/iter3_depth1_width1000_6.pt\n",
      "Loading model ...\n",
      "./newresults\\Saved_Models/Public/Heloc/iter3_depth1_width1000_7.pt\n",
      "Loading model ...\n"
     ]
    },
    {
     "name": "stderr",
     "output_type": "stream",
     "text": [
      " 54%|████████████████████████████████████████████▍                                     | 13/24 [00:00<00:00, 31.44it/s]"
     ]
    },
    {
     "name": "stdout",
     "output_type": "stream",
     "text": [
      "./newresults\\Saved_Models/Public/Heloc/iter3_depth1_width1000_8.pt\n",
      "Loading model ...\n",
      "./newresults\\Saved_Models/Public/Heloc/iter3_depth1_width1000_9.pt\n",
      "Loading model ...\n",
      "./newresults\\Saved_Models/Public/Heloc/iter3_depth1_width1000_10.pt\n",
      "Loading model ...\n",
      "./newresults\\Saved_Models/Public/Heloc/iter3_depth1_width1000_11.pt\n",
      "Loading model ...\n",
      "./newresults\\Saved_Models/Public/Heloc/iter3_depth1_width1000_12.pt\n",
      "Loading model ...\n",
      "./newresults\\Saved_Models/Public/Heloc/iter3_depth1_width1000_13.pt\n",
      "Loading model ...\n",
      "./newresults\\Saved_Models/Public/Heloc/iter3_depth1_width1000_14.pt\n",
      "Loading model ...\n",
      "./newresults\\Saved_Models/Public/Heloc/iter3_depth1_width1000_15.pt\n",
      "Loading model ...\n",
      "./newresults\\Saved_Models/Public/Heloc/iter3_depth1_width1000_16.pt\n",
      "Loading model ...\n"
     ]
    },
    {
     "name": "stderr",
     "output_type": "stream",
     "text": [
      "100%|██████████████████████████████████████████████████████████████████████████████████| 24/24 [00:00<00:00, 39.01it/s]"
     ]
    },
    {
     "name": "stdout",
     "output_type": "stream",
     "text": [
      "./newresults\\Saved_Models/Public/Heloc/iter3_depth1_width1000_17.pt\n",
      "Loading model ...\n",
      "./newresults\\Saved_Models/Public/Heloc/iter3_depth1_width1000_18.pt\n",
      "Loading model ...\n",
      "./newresults\\Saved_Models/Public/Heloc/iter3_depth1_width1000_19.pt\n",
      "Loading model ...\n",
      "./newresults\\Saved_Models/Public/Heloc/iter3_depth1_width1000_20.pt\n",
      "Loading model ...\n",
      "./newresults\\Saved_Models/Public/Heloc/iter3_depth1_width1000_21.pt\n",
      "Loading model ...\n",
      "./newresults\\Saved_Models/Public/Heloc/iter3_depth1_width1000_22.pt\n",
      "Loading model ...\n",
      "./newresults\\Saved_Models/Public/Heloc/iter3_depth1_width1000_23.pt\n",
      "Loading model ...\n",
      "Get private info ...\n"
     ]
    },
    {
     "name": "stderr",
     "output_type": "stream",
     "text": [
      "\n"
     ]
    },
    {
     "name": "stdout",
     "output_type": "stream",
     "text": [
      "Get shadow info ...\n",
      "Shadow model: 0\n",
      "Shadow model: 1\n",
      "Shadow model: 2\n",
      "Shadow model: 3\n",
      "Shadow model: 4\n",
      "Shadow model: 5\n",
      "Shadow model: 6\n",
      "Shadow model: 7\n",
      "Shadow model: 8\n",
      "Shadow model: 9\n",
      "Shadow model: 10\n",
      "Shadow model: 11\n",
      "Shadow model: 12\n",
      "Shadow model: 13\n",
      "Shadow model: 14\n",
      "Shadow model: 15\n",
      "Shadow model: 16\n",
      "Shadow model: 17\n",
      "Shadow model: 18\n",
      "Shadow model: 19\n",
      "Shadow model: 20\n",
      "Shadow model: 21\n",
      "Shadow model: 22\n",
      "Shadow model: 23\n",
      "    Identified 1664 out of 1926 counterfactual explanations\n",
      "    Identified 549 out of 637 counterfactual explanations\n",
      "    Identified 1664 out of 1926 counterfactual explanations\n",
      "    Identified 549 out of 637 counterfactual explanations\n",
      "    Identified 1664 out of 1926 counterfactual explanations\n",
      "    Identified 549 out of 637 counterfactual explanations\n",
      "    Identified 1664 out of 1926 counterfactual explanations\n",
      "    Identified 549 out of 637 counterfactual explanations\n"
     ]
    },
    {
     "name": "stderr",
     "output_type": "stream",
     "text": [
      "C:\\Users\\fred0\\Anaconda3\\lib\\site-packages\\torch\\nn\\_reduction.py:42: UserWarning: size_average and reduce args will be deprecated, please use reduction='none' instead.\n",
      "  warnings.warn(warning.format(ret))\n"
     ]
    },
    {
     "name": "stdout",
     "output_type": "stream",
     "text": [
      "AUC for BASE DISTANCE when scfe when depth 1 and width 1000: 0.5887321353509878\n",
      "BA for BASE DISTANCE when scfe when depth 1 and width 1000: 0.5904310284433235\n",
      "TP0.1 for BASE DISTANCE when scfe when depth 1 and width 1000: 0.113\n",
      "TP0.01 for BASE DISTANCE when scfe when depth 1 and width 1000: 0.0155\n",
      "Compute Lambda on Train\n",
      "Compute Lambda on Test\n",
      "Compute Lambda on Train\n",
      "Compute Lambda on Test\n",
      "AUC for LRT DISTANCE when scfe when depth 1 and width 1000: 0.5852418514431834\n",
      "BA for LRT DISTANCE when scfe when depth 1 and width 1000: 0.5919616194654617\n",
      "TP0.1 for LRT DISTANCE when scfe when depth 1 and width 1000: 0.11064999999999998\n",
      "TP0.01 for LRT DISTANCE when scfe when depth 1 and width 1000: 0.012150000000000001\n",
      "ITERATION: 0\n",
      "GENERATING RESULTS FOR Diabetes\n",
      "Get private models ...\n",
      "./newresults\\Saved_Models/Private/Diabetes/iter0_private_depth1000_width1.pt\n",
      "Accuracy on Train set:"
     ]
    },
    {
     "name": "stderr",
     "output_type": "stream",
     "text": [
      "  4%|███▍                                                                               | 1/24 [00:00<00:03,  6.89it/s]"
     ]
    },
    {
     "name": "stdout",
     "output_type": "stream",
     "text": [
      " 0.9088093599449415\n",
      "Accuracy on Test set: 0.5394484589293614\n",
      "Get public models ...\n",
      "./newresults\\Saved_Models/Public/Diabetes/iter0_depth1_width1000_0.pt\n",
      "Loading model ...\n",
      "./newresults\\Saved_Models/Public/Diabetes/iter0_depth1_width1000_1.pt\n",
      "Loading model ...\n"
     ]
    },
    {
     "name": "stderr",
     "output_type": "stream",
     "text": [
      " 12%|██████████▍                                                                        | 3/24 [00:00<00:02,  7.01it/s]"
     ]
    },
    {
     "name": "stdout",
     "output_type": "stream",
     "text": [
      "./newresults\\Saved_Models/Public/Diabetes/iter0_depth1_width1000_2.pt\n",
      "Loading model ...\n",
      "./newresults\\Saved_Models/Public/Diabetes/iter0_depth1_width1000_3.pt\n",
      "Loading model ...\n"
     ]
    },
    {
     "name": "stderr",
     "output_type": "stream",
     "text": [
      " 21%|█████████████████▎                                                                 | 5/24 [00:00<00:02,  6.80it/s]"
     ]
    },
    {
     "name": "stdout",
     "output_type": "stream",
     "text": [
      "./newresults\\Saved_Models/Public/Diabetes/iter0_depth1_width1000_4.pt\n",
      "Loading model ...\n",
      "./newresults\\Saved_Models/Public/Diabetes/iter0_depth1_width1000_5.pt\n",
      "Loading model ...\n"
     ]
    },
    {
     "name": "stderr",
     "output_type": "stream",
     "text": [
      " 29%|████████████████████████▏                                                          | 7/24 [00:01<00:02,  6.79it/s]"
     ]
    },
    {
     "name": "stdout",
     "output_type": "stream",
     "text": [
      "./newresults\\Saved_Models/Public/Diabetes/iter0_depth1_width1000_6.pt\n",
      "Loading model ...\n",
      "./newresults\\Saved_Models/Public/Diabetes/iter0_depth1_width1000_7.pt\n",
      "Loading model ...\n"
     ]
    },
    {
     "name": "stderr",
     "output_type": "stream",
     "text": [
      " 38%|███████████████████████████████▏                                                   | 9/24 [00:01<00:02,  7.35it/s]"
     ]
    },
    {
     "name": "stdout",
     "output_type": "stream",
     "text": [
      "./newresults\\Saved_Models/Public/Diabetes/iter0_depth1_width1000_8.pt\n",
      "Loading model ...\n",
      "./newresults\\Saved_Models/Public/Diabetes/iter0_depth1_width1000_9.pt\n",
      "Loading model ...\n"
     ]
    },
    {
     "name": "stderr",
     "output_type": "stream",
     "text": [
      " 46%|█████████████████████████████████████▌                                            | 11/24 [00:01<00:01,  7.49it/s]"
     ]
    },
    {
     "name": "stdout",
     "output_type": "stream",
     "text": [
      "./newresults\\Saved_Models/Public/Diabetes/iter0_depth1_width1000_10.pt\n",
      "Loading model ...\n",
      "./newresults\\Saved_Models/Public/Diabetes/iter0_depth1_width1000_11.pt\n",
      "Loading model ...\n"
     ]
    },
    {
     "name": "stderr",
     "output_type": "stream",
     "text": [
      " 54%|████████████████████████████████████████████▍                                     | 13/24 [00:01<00:01,  7.63it/s]"
     ]
    },
    {
     "name": "stdout",
     "output_type": "stream",
     "text": [
      "./newresults\\Saved_Models/Public/Diabetes/iter0_depth1_width1000_12.pt\n",
      "Loading model ...\n",
      "./newresults\\Saved_Models/Public/Diabetes/iter0_depth1_width1000_13.pt\n",
      "Loading model ...\n"
     ]
    },
    {
     "name": "stderr",
     "output_type": "stream",
     "text": [
      " 62%|███████████████████████████████████████████████████▎                              | 15/24 [00:02<00:01,  7.56it/s]"
     ]
    },
    {
     "name": "stdout",
     "output_type": "stream",
     "text": [
      "./newresults\\Saved_Models/Public/Diabetes/iter0_depth1_width1000_14.pt\n",
      "Loading model ...\n",
      "./newresults\\Saved_Models/Public/Diabetes/iter0_depth1_width1000_15.pt\n",
      "Loading model ...\n"
     ]
    },
    {
     "name": "stderr",
     "output_type": "stream",
     "text": [
      " 71%|██████████████████████████████████████████████████████████                        | 17/24 [00:02<00:00,  7.57it/s]"
     ]
    },
    {
     "name": "stdout",
     "output_type": "stream",
     "text": [
      "./newresults\\Saved_Models/Public/Diabetes/iter0_depth1_width1000_16.pt\n",
      "Loading model ...\n",
      "./newresults\\Saved_Models/Public/Diabetes/iter0_depth1_width1000_17.pt\n",
      "Loading model ...\n"
     ]
    },
    {
     "name": "stderr",
     "output_type": "stream",
     "text": [
      " 79%|████████████████████████████████████████████████████████████████▉                 | 19/24 [00:02<00:00,  7.77it/s]"
     ]
    },
    {
     "name": "stdout",
     "output_type": "stream",
     "text": [
      "./newresults\\Saved_Models/Public/Diabetes/iter0_depth1_width1000_18.pt\n",
      "Loading model ...\n",
      "./newresults\\Saved_Models/Public/Diabetes/iter0_depth1_width1000_19.pt\n",
      "Loading model ...\n"
     ]
    },
    {
     "name": "stderr",
     "output_type": "stream",
     "text": [
      " 88%|███████████████████████████████████████████████████████████████████████▊          | 21/24 [00:02<00:00,  7.69it/s]"
     ]
    },
    {
     "name": "stdout",
     "output_type": "stream",
     "text": [
      "./newresults\\Saved_Models/Public/Diabetes/iter0_depth1_width1000_20.pt\n",
      "Loading model ...\n",
      "./newresults\\Saved_Models/Public/Diabetes/iter0_depth1_width1000_21.pt\n",
      "Loading model ...\n"
     ]
    },
    {
     "name": "stderr",
     "output_type": "stream",
     "text": [
      " 96%|██████████████████████████████████████████████████████████████████████████████▌   | 23/24 [00:03<00:00,  7.78it/s]"
     ]
    },
    {
     "name": "stdout",
     "output_type": "stream",
     "text": [
      "./newresults\\Saved_Models/Public/Diabetes/iter0_depth1_width1000_22.pt\n",
      "Loading model ...\n",
      "./newresults\\Saved_Models/Public/Diabetes/iter0_depth1_width1000_23.pt\n",
      "Loading model ...\n"
     ]
    },
    {
     "name": "stderr",
     "output_type": "stream",
     "text": [
      "100%|██████████████████████████████████████████████████████████████████████████████████| 24/24 [00:03<00:00,  7.44it/s]\n"
     ]
    },
    {
     "name": "stdout",
     "output_type": "stream",
     "text": [
      "Get private info ...\n",
      "Get shadow info ...\n",
      "Shadow model: 0\n",
      "Shadow model: 1\n",
      "Shadow model: 2\n",
      "Shadow model: 3\n",
      "Shadow model: 4\n",
      "Shadow model: 5\n",
      "Shadow model: 6\n",
      "Shadow model: 7\n",
      "Shadow model: 8\n",
      "Shadow model: 9\n",
      "Shadow model: 10\n",
      "Shadow model: 11\n",
      "Shadow model: 12\n",
      "Shadow model: 13\n",
      "Shadow model: 14\n",
      "Shadow model: 15\n",
      "Shadow model: 16\n",
      "Shadow model: 17\n",
      "Shadow model: 18\n",
      "Shadow model: 19\n",
      "Shadow model: 20\n",
      "Shadow model: 21\n",
      "Shadow model: 22\n",
      "Shadow model: 23\n",
      "    Identified 2999 out of 3000 counterfactual explanations\n",
      "    Identified 2997 out of 3000 counterfactual explanations\n",
      "    Identified 2999 out of 3000 counterfactual explanations\n",
      "    Identified 2997 out of 3000 counterfactual explanations\n",
      "    Identified 2999 out of 3000 counterfactual explanations\n",
      "    Identified 2997 out of 3000 counterfactual explanations\n",
      "    Identified 2999 out of 3000 counterfactual explanations\n",
      "    Identified 2997 out of 3000 counterfactual explanations\n"
     ]
    },
    {
     "name": "stderr",
     "output_type": "stream",
     "text": [
      "C:\\Users\\fred0\\Anaconda3\\lib\\site-packages\\torch\\nn\\_reduction.py:42: UserWarning: size_average and reduce args will be deprecated, please use reduction='none' instead.\n",
      "  warnings.warn(warning.format(ret))\n"
     ]
    },
    {
     "name": "stdout",
     "output_type": "stream",
     "text": [
      "AUC for BASE DISTANCE when scfe when depth 1 and width 1000: 0.12627887140224586\n",
      "BA for BASE DISTANCE when scfe when depth 1 and width 1000: 0.12773788571276623\n",
      "TP0.1 for BASE DISTANCE when scfe when depth 1 and width 1000: 0.0255\n",
      "TP0.01 for BASE DISTANCE when scfe when depth 1 and width 1000: 0.002325\n",
      "Compute Lambda on Train\n",
      "Compute Lambda on Test\n",
      "Compute Lambda on Train\n",
      "Compute Lambda on Test\n",
      "AUC for LRT DISTANCE when scfe when depth 1 and width 1000: 0.12623780276886867\n",
      "BA for LRT DISTANCE when scfe when depth 1 and width 1000: 0.12861387284806203\n",
      "TP0.1 for LRT DISTANCE when scfe when depth 1 and width 1000: 0.02235\n",
      "TP0.01 for LRT DISTANCE when scfe when depth 1 and width 1000: 0.002825\n",
      "ITERATION: 1\n",
      "GENERATING RESULTS FOR Diabetes\n"
     ]
    },
    {
     "name": "stderr",
     "output_type": "stream",
     "text": [
      "  0%|                                                                                           | 0/24 [00:00<?, ?it/s]"
     ]
    },
    {
     "name": "stdout",
     "output_type": "stream",
     "text": [
      "Get private models ...\n",
      "./newresults\\Saved_Models/Private/Diabetes/iter1_private_depth1000_width1.pt\n",
      "Accuracy on Train set: 0.9137744567889097\n",
      "Accuracy on Test set: 0.5416605220468957\n",
      "Get public models ...\n",
      "./newresults\\Saved_Models/Public/Diabetes/iter1_depth1_width1000_0.pt\n",
      "Loading model ...\n"
     ]
    },
    {
     "name": "stderr",
     "output_type": "stream",
     "text": [
      "  8%|██████▉                                                                            | 2/24 [00:00<00:02,  7.52it/s]"
     ]
    },
    {
     "name": "stdout",
     "output_type": "stream",
     "text": [
      "./newresults\\Saved_Models/Public/Diabetes/iter1_depth1_width1000_1.pt\n",
      "Loading model ...\n",
      "./newresults\\Saved_Models/Public/Diabetes/iter1_depth1_width1000_2.pt\n",
      "Loading model ...\n"
     ]
    },
    {
     "name": "stderr",
     "output_type": "stream",
     "text": [
      " 17%|█████████████▊                                                                     | 4/24 [00:00<00:02,  7.48it/s]"
     ]
    },
    {
     "name": "stdout",
     "output_type": "stream",
     "text": [
      "./newresults\\Saved_Models/Public/Diabetes/iter1_depth1_width1000_3.pt\n",
      "Loading model ...\n",
      "./newresults\\Saved_Models/Public/Diabetes/iter1_depth1_width1000_4.pt\n",
      "Loading model ...\n"
     ]
    },
    {
     "name": "stderr",
     "output_type": "stream",
     "text": [
      " 25%|████████████████████▊                                                              | 6/24 [00:00<00:02,  7.51it/s]"
     ]
    },
    {
     "name": "stdout",
     "output_type": "stream",
     "text": [
      "./newresults\\Saved_Models/Public/Diabetes/iter1_depth1_width1000_5.pt\n",
      "Loading model ...\n",
      "./newresults\\Saved_Models/Public/Diabetes/iter1_depth1_width1000_6.pt\n",
      "Loading model ...\n"
     ]
    },
    {
     "name": "stderr",
     "output_type": "stream",
     "text": [
      " 33%|███████████████████████████▋                                                       | 8/24 [00:01<00:02,  7.48it/s]"
     ]
    },
    {
     "name": "stdout",
     "output_type": "stream",
     "text": [
      "./newresults\\Saved_Models/Public/Diabetes/iter1_depth1_width1000_7.pt\n",
      "Loading model ...\n",
      "./newresults\\Saved_Models/Public/Diabetes/iter1_depth1_width1000_8.pt\n",
      "Loading model ...\n"
     ]
    },
    {
     "name": "stderr",
     "output_type": "stream",
     "text": [
      " 42%|██████████████████████████████████▏                                               | 10/24 [00:01<00:01,  7.45it/s]"
     ]
    },
    {
     "name": "stdout",
     "output_type": "stream",
     "text": [
      "./newresults\\Saved_Models/Public/Diabetes/iter1_depth1_width1000_9.pt\n",
      "Loading model ...\n",
      "./newresults\\Saved_Models/Public/Diabetes/iter1_depth1_width1000_10.pt\n",
      "Loading model ...\n"
     ]
    },
    {
     "name": "stderr",
     "output_type": "stream",
     "text": [
      " 50%|█████████████████████████████████████████                                         | 12/24 [00:01<00:01,  7.49it/s]"
     ]
    },
    {
     "name": "stdout",
     "output_type": "stream",
     "text": [
      "./newresults\\Saved_Models/Public/Diabetes/iter1_depth1_width1000_11.pt\n",
      "Loading model ...\n",
      "./newresults\\Saved_Models/Public/Diabetes/iter1_depth1_width1000_12.pt\n",
      "Loading model ...\n"
     ]
    },
    {
     "name": "stderr",
     "output_type": "stream",
     "text": [
      " 58%|███████████████████████████████████████████████▊                                  | 14/24 [00:01<00:01,  7.42it/s]"
     ]
    },
    {
     "name": "stdout",
     "output_type": "stream",
     "text": [
      "./newresults\\Saved_Models/Public/Diabetes/iter1_depth1_width1000_13.pt\n",
      "Loading model ...\n",
      "./newresults\\Saved_Models/Public/Diabetes/iter1_depth1_width1000_14.pt\n",
      "Loading model ...\n"
     ]
    },
    {
     "name": "stderr",
     "output_type": "stream",
     "text": [
      " 62%|███████████████████████████████████████████████████▎                              | 15/24 [00:02<00:01,  7.18it/s]"
     ]
    },
    {
     "name": "stdout",
     "output_type": "stream",
     "text": [
      "./newresults\\Saved_Models/Public/Diabetes/iter1_depth1_width1000_15.pt\n",
      "Loading model ...\n"
     ]
    },
    {
     "name": "stderr",
     "output_type": "stream",
     "text": [
      " 71%|██████████████████████████████████████████████████████████                        | 17/24 [00:02<00:01,  6.64it/s]"
     ]
    },
    {
     "name": "stdout",
     "output_type": "stream",
     "text": [
      "./newresults\\Saved_Models/Public/Diabetes/iter1_depth1_width1000_16.pt\n",
      "Loading model ...\n",
      "./newresults\\Saved_Models/Public/Diabetes/iter1_depth1_width1000_17.pt\n",
      "Loading model ...\n"
     ]
    },
    {
     "name": "stderr",
     "output_type": "stream",
     "text": [
      " 79%|████████████████████████████████████████████████████████████████▉                 | 19/24 [00:02<00:00,  7.13it/s]"
     ]
    },
    {
     "name": "stdout",
     "output_type": "stream",
     "text": [
      "./newresults\\Saved_Models/Public/Diabetes/iter1_depth1_width1000_18.pt\n",
      "Loading model ...\n",
      "./newresults\\Saved_Models/Public/Diabetes/iter1_depth1_width1000_19.pt\n",
      "Loading model ...\n"
     ]
    },
    {
     "name": "stderr",
     "output_type": "stream",
     "text": [
      " 88%|███████████████████████████████████████████████████████████████████████▊          | 21/24 [00:02<00:00,  7.39it/s]"
     ]
    },
    {
     "name": "stdout",
     "output_type": "stream",
     "text": [
      "./newresults\\Saved_Models/Public/Diabetes/iter1_depth1_width1000_20.pt\n",
      "Loading model ...\n",
      "./newresults\\Saved_Models/Public/Diabetes/iter1_depth1_width1000_21.pt\n",
      "Loading model ...\n"
     ]
    },
    {
     "name": "stderr",
     "output_type": "stream",
     "text": [
      " 96%|██████████████████████████████████████████████████████████████████████████████▌   | 23/24 [00:03<00:00,  7.27it/s]"
     ]
    },
    {
     "name": "stdout",
     "output_type": "stream",
     "text": [
      "./newresults\\Saved_Models/Public/Diabetes/iter1_depth1_width1000_22.pt\n",
      "Loading model ...\n",
      "./newresults\\Saved_Models/Public/Diabetes/iter1_depth1_width1000_23.pt\n",
      "Loading model ...\n"
     ]
    },
    {
     "name": "stderr",
     "output_type": "stream",
     "text": [
      "100%|██████████████████████████████████████████████████████████████████████████████████| 24/24 [00:03<00:00,  7.11it/s]\n"
     ]
    },
    {
     "name": "stdout",
     "output_type": "stream",
     "text": [
      "Get private info ...\n",
      "Get shadow info ...\n",
      "Shadow model: 0\n",
      "Shadow model: 1\n",
      "Shadow model: 2\n",
      "Shadow model: 3\n",
      "Shadow model: 4\n",
      "Shadow model: 5\n",
      "Shadow model: 6\n",
      "Shadow model: 7\n",
      "Shadow model: 8\n",
      "Shadow model: 9\n",
      "Shadow model: 10\n",
      "Shadow model: 11\n",
      "Shadow model: 12\n",
      "Shadow model: 13\n",
      "Shadow model: 14\n",
      "Shadow model: 15\n",
      "Shadow model: 16\n",
      "Shadow model: 17\n",
      "Shadow model: 18\n",
      "Shadow model: 19\n",
      "Shadow model: 20\n",
      "Shadow model: 21\n",
      "Shadow model: 22\n",
      "Shadow model: 23\n",
      "    Identified 2999 out of 3000 counterfactual explanations\n",
      "    Identified 2997 out of 3000 counterfactual explanations\n",
      "    Identified 2999 out of 3000 counterfactual explanations\n",
      "    Identified 2997 out of 3000 counterfactual explanations\n",
      "    Identified 2999 out of 3000 counterfactual explanations\n",
      "    Identified 2997 out of 3000 counterfactual explanations\n",
      "    Identified 2999 out of 3000 counterfactual explanations\n",
      "    Identified 2997 out of 3000 counterfactual explanations\n"
     ]
    },
    {
     "name": "stderr",
     "output_type": "stream",
     "text": [
      "C:\\Users\\fred0\\Anaconda3\\lib\\site-packages\\torch\\nn\\_reduction.py:42: UserWarning: size_average and reduce args will be deprecated, please use reduction='none' instead.\n",
      "  warnings.warn(warning.format(ret))\n"
     ]
    },
    {
     "name": "stdout",
     "output_type": "stream",
     "text": [
      "AUC for BASE DISTANCE when scfe when depth 1 and width 1000: 0.2525577428044917\n",
      "BA for BASE DISTANCE when scfe when depth 1 and width 1000: 0.25547577142553246\n",
      "TP0.1 for BASE DISTANCE when scfe when depth 1 and width 1000: 0.051\n",
      "TP0.01 for BASE DISTANCE when scfe when depth 1 and width 1000: 0.00465\n",
      "Compute Lambda on Train\n",
      "Compute Lambda on Test\n",
      "Compute Lambda on Train\n",
      "Compute Lambda on Test\n",
      "AUC for LRT DISTANCE when scfe when depth 1 and width 1000: 0.2529537150799794\n",
      "BA for LRT DISTANCE when scfe when depth 1 and width 1000: 0.2569606952734662\n",
      "TP0.1 for LRT DISTANCE when scfe when depth 1 and width 1000: 0.04535\n",
      "TP0.01 for LRT DISTANCE when scfe when depth 1 and width 1000: 0.005825\n",
      "ITERATION: 2\n",
      "GENERATING RESULTS FOR Diabetes\n",
      "Get private models ...\n"
     ]
    },
    {
     "name": "stderr",
     "output_type": "stream",
     "text": [
      "  0%|                                                                                           | 0/24 [00:00<?, ?it/s]"
     ]
    },
    {
     "name": "stdout",
     "output_type": "stream",
     "text": [
      "./newresults\\Saved_Models/Private/Diabetes/iter2_private_depth1000_width1.pt\n",
      "Accuracy on Train set: 0.9127912692950546\n",
      "Accuracy on Test set: 0.5509511871405397\n",
      "Get public models ...\n",
      "./newresults\\Saved_Models/Public/Diabetes/iter2_depth1_width1000_0.pt\n",
      "Loading model ...\n"
     ]
    },
    {
     "name": "stderr",
     "output_type": "stream",
     "text": [
      "  8%|██████▉                                                                            | 2/24 [00:00<00:02,  8.08it/s]"
     ]
    },
    {
     "name": "stdout",
     "output_type": "stream",
     "text": [
      "./newresults\\Saved_Models/Public/Diabetes/iter2_depth1_width1000_1.pt\n",
      "Loading model ...\n",
      "./newresults\\Saved_Models/Public/Diabetes/iter2_depth1_width1000_2.pt\n",
      "Loading model ...\n"
     ]
    },
    {
     "name": "stderr",
     "output_type": "stream",
     "text": [
      " 17%|█████████████▊                                                                     | 4/24 [00:00<00:02,  7.84it/s]"
     ]
    },
    {
     "name": "stdout",
     "output_type": "stream",
     "text": [
      "./newresults\\Saved_Models/Public/Diabetes/iter2_depth1_width1000_3.pt\n",
      "Loading model ...\n",
      "./newresults\\Saved_Models/Public/Diabetes/iter2_depth1_width1000_4.pt\n",
      "Loading model ...\n"
     ]
    },
    {
     "name": "stderr",
     "output_type": "stream",
     "text": [
      " 25%|████████████████████▊                                                              | 6/24 [00:00<00:02,  6.84it/s]"
     ]
    },
    {
     "name": "stdout",
     "output_type": "stream",
     "text": [
      "./newresults\\Saved_Models/Public/Diabetes/iter2_depth1_width1000_5.pt\n",
      "Loading model ...\n",
      "./newresults\\Saved_Models/Public/Diabetes/iter2_depth1_width1000_6.pt\n",
      "Loading model ...\n"
     ]
    },
    {
     "name": "stderr",
     "output_type": "stream",
     "text": [
      " 33%|███████████████████████████▋                                                       | 8/24 [00:01<00:02,  7.10it/s]"
     ]
    },
    {
     "name": "stdout",
     "output_type": "stream",
     "text": [
      "./newresults\\Saved_Models/Public/Diabetes/iter2_depth1_width1000_7.pt\n",
      "Loading model ...\n",
      "./newresults\\Saved_Models/Public/Diabetes/iter2_depth1_width1000_8.pt\n",
      "Loading model ...\n"
     ]
    },
    {
     "name": "stderr",
     "output_type": "stream",
     "text": [
      " 42%|██████████████████████████████████▏                                               | 10/24 [00:01<00:01,  7.73it/s]"
     ]
    },
    {
     "name": "stdout",
     "output_type": "stream",
     "text": [
      "./newresults\\Saved_Models/Public/Diabetes/iter2_depth1_width1000_9.pt\n",
      "Loading model ...\n",
      "./newresults\\Saved_Models/Public/Diabetes/iter2_depth1_width1000_10.pt\n",
      "Loading model ...\n"
     ]
    },
    {
     "name": "stderr",
     "output_type": "stream",
     "text": [
      " 50%|█████████████████████████████████████████                                         | 12/24 [00:01<00:01,  7.41it/s]"
     ]
    },
    {
     "name": "stdout",
     "output_type": "stream",
     "text": [
      "./newresults\\Saved_Models/Public/Diabetes/iter2_depth1_width1000_11.pt\n",
      "Loading model ...\n",
      "./newresults\\Saved_Models/Public/Diabetes/iter2_depth1_width1000_12.pt\n",
      "Loading model ...\n"
     ]
    },
    {
     "name": "stderr",
     "output_type": "stream",
     "text": [
      " 58%|███████████████████████████████████████████████▊                                  | 14/24 [00:01<00:01,  7.33it/s]"
     ]
    },
    {
     "name": "stdout",
     "output_type": "stream",
     "text": [
      "./newresults\\Saved_Models/Public/Diabetes/iter2_depth1_width1000_13.pt\n",
      "Loading model ...\n",
      "./newresults\\Saved_Models/Public/Diabetes/iter2_depth1_width1000_14.pt\n",
      "Loading model ...\n"
     ]
    },
    {
     "name": "stderr",
     "output_type": "stream",
     "text": [
      " 67%|██████████████████████████████████████████████████████▋                           | 16/24 [00:02<00:01,  7.45it/s]"
     ]
    },
    {
     "name": "stdout",
     "output_type": "stream",
     "text": [
      "./newresults\\Saved_Models/Public/Diabetes/iter2_depth1_width1000_15.pt\n",
      "Loading model ...\n",
      "./newresults\\Saved_Models/Public/Diabetes/iter2_depth1_width1000_16.pt\n",
      "Loading model ...\n"
     ]
    },
    {
     "name": "stderr",
     "output_type": "stream",
     "text": [
      " 75%|█████████████████████████████████████████████████████████████▌                    | 18/24 [00:02<00:00,  7.27it/s]"
     ]
    },
    {
     "name": "stdout",
     "output_type": "stream",
     "text": [
      "./newresults\\Saved_Models/Public/Diabetes/iter2_depth1_width1000_17.pt\n",
      "Loading model ...\n",
      "./newresults\\Saved_Models/Public/Diabetes/iter2_depth1_width1000_18.pt\n",
      "Loading model ...\n"
     ]
    },
    {
     "name": "stderr",
     "output_type": "stream",
     "text": [
      " 83%|████████████████████████████████████████████████████████████████████▎             | 20/24 [00:02<00:00,  7.13it/s]"
     ]
    },
    {
     "name": "stdout",
     "output_type": "stream",
     "text": [
      "./newresults\\Saved_Models/Public/Diabetes/iter2_depth1_width1000_19.pt\n",
      "Loading model ...\n",
      "./newresults\\Saved_Models/Public/Diabetes/iter2_depth1_width1000_20.pt\n",
      "Loading model ...\n"
     ]
    },
    {
     "name": "stderr",
     "output_type": "stream",
     "text": [
      " 92%|███████████████████████████████████████████████████████████████████████████▏      | 22/24 [00:02<00:00,  7.59it/s]"
     ]
    },
    {
     "name": "stdout",
     "output_type": "stream",
     "text": [
      "./newresults\\Saved_Models/Public/Diabetes/iter2_depth1_width1000_21.pt\n",
      "Loading model ...\n",
      "./newresults\\Saved_Models/Public/Diabetes/iter2_depth1_width1000_22.pt\n",
      "Loading model ...\n"
     ]
    },
    {
     "name": "stderr",
     "output_type": "stream",
     "text": [
      "100%|██████████████████████████████████████████████████████████████████████████████████| 24/24 [00:03<00:00,  7.34it/s]\n"
     ]
    },
    {
     "name": "stdout",
     "output_type": "stream",
     "text": [
      "./newresults\\Saved_Models/Public/Diabetes/iter2_depth1_width1000_23.pt\n",
      "Loading model ...\n",
      "Get private info ...\n",
      "Get shadow info ...\n",
      "Shadow model: 0\n",
      "Shadow model: 1\n",
      "Shadow model: 2\n",
      "Shadow model: 3\n",
      "Shadow model: 4\n",
      "Shadow model: 5\n",
      "Shadow model: 6\n",
      "Shadow model: 7\n",
      "Shadow model: 8\n",
      "Shadow model: 9\n",
      "Shadow model: 10\n",
      "Shadow model: 11\n",
      "Shadow model: 12\n",
      "Shadow model: 13\n",
      "Shadow model: 14\n",
      "Shadow model: 15\n",
      "Shadow model: 16\n",
      "Shadow model: 17\n",
      "Shadow model: 18\n",
      "Shadow model: 19\n",
      "Shadow model: 20\n",
      "Shadow model: 21\n",
      "Shadow model: 22\n",
      "Shadow model: 23\n",
      "    Identified 2999 out of 3000 counterfactual explanations\n",
      "    Identified 2997 out of 3000 counterfactual explanations\n",
      "    Identified 2999 out of 3000 counterfactual explanations\n",
      "    Identified 2997 out of 3000 counterfactual explanations\n",
      "    Identified 2999 out of 3000 counterfactual explanations\n",
      "    Identified 2997 out of 3000 counterfactual explanations\n",
      "    Identified 2999 out of 3000 counterfactual explanations\n",
      "    Identified 2997 out of 3000 counterfactual explanations\n"
     ]
    },
    {
     "name": "stderr",
     "output_type": "stream",
     "text": [
      "C:\\Users\\fred0\\Anaconda3\\lib\\site-packages\\torch\\nn\\_reduction.py:42: UserWarning: size_average and reduce args will be deprecated, please use reduction='none' instead.\n",
      "  warnings.warn(warning.format(ret))\n"
     ]
    },
    {
     "name": "stdout",
     "output_type": "stream",
     "text": [
      "AUC for BASE DISTANCE when scfe when depth 1 and width 1000: 0.3788366142067376\n",
      "BA for BASE DISTANCE when scfe when depth 1 and width 1000: 0.3832136571382987\n",
      "TP0.1 for BASE DISTANCE when scfe when depth 1 and width 1000: 0.0765\n",
      "TP0.01 for BASE DISTANCE when scfe when depth 1 and width 1000: 0.006974999999999999\n",
      "Compute Lambda on Train\n",
      "Compute Lambda on Test\n",
      "Compute Lambda on Train\n",
      "Compute Lambda on Test\n",
      "AUC for LRT DISTANCE when scfe when depth 1 and width 1000: 0.37893448077398284\n",
      "BA for LRT DISTANCE when scfe when depth 1 and width 1000: 0.3852205128324946\n",
      "TP0.1 for LRT DISTANCE when scfe when depth 1 and width 1000: 0.069025\n",
      "TP0.01 for LRT DISTANCE when scfe when depth 1 and width 1000: 0.008825\n",
      "ITERATION: 3\n",
      "GENERATING RESULTS FOR Diabetes\n"
     ]
    },
    {
     "name": "stderr",
     "output_type": "stream",
     "text": [
      "  0%|                                                                                           | 0/24 [00:00<?, ?it/s]"
     ]
    },
    {
     "name": "stdout",
     "output_type": "stream",
     "text": [
      "Get private models ...\n",
      "./newresults\\Saved_Models/Private/Diabetes/iter3_private_depth1000_width1.pt\n",
      "Accuracy on Train set: 0.901730409989185\n",
      "Accuracy on Test set: 0.5426928181684118\n",
      "Get public models ...\n",
      "./newresults\\Saved_Models/Public/Diabetes/iter3_depth1_width1000_0.pt\n",
      "Loading model ...\n"
     ]
    },
    {
     "name": "stderr",
     "output_type": "stream",
     "text": [
      "  8%|██████▉                                                                            | 2/24 [00:00<00:02,  7.63it/s]"
     ]
    },
    {
     "name": "stdout",
     "output_type": "stream",
     "text": [
      "./newresults\\Saved_Models/Public/Diabetes/iter3_depth1_width1000_1.pt\n",
      "Loading model ...\n",
      "./newresults\\Saved_Models/Public/Diabetes/iter3_depth1_width1000_2.pt\n",
      "Loading model ...\n"
     ]
    },
    {
     "name": "stderr",
     "output_type": "stream",
     "text": [
      " 17%|█████████████▊                                                                     | 4/24 [00:00<00:02,  7.47it/s]"
     ]
    },
    {
     "name": "stdout",
     "output_type": "stream",
     "text": [
      "./newresults\\Saved_Models/Public/Diabetes/iter3_depth1_width1000_3.pt\n",
      "Loading model ...\n",
      "./newresults\\Saved_Models/Public/Diabetes/iter3_depth1_width1000_4.pt\n",
      "Loading model ...\n"
     ]
    },
    {
     "name": "stderr",
     "output_type": "stream",
     "text": [
      " 25%|████████████████████▊                                                              | 6/24 [00:00<00:02,  7.30it/s]"
     ]
    },
    {
     "name": "stdout",
     "output_type": "stream",
     "text": [
      "./newresults\\Saved_Models/Public/Diabetes/iter3_depth1_width1000_5.pt\n",
      "Loading model ...\n",
      "./newresults\\Saved_Models/Public/Diabetes/iter3_depth1_width1000_6.pt\n",
      "Loading model ...\n"
     ]
    },
    {
     "name": "stderr",
     "output_type": "stream",
     "text": [
      " 33%|███████████████████████████▋                                                       | 8/24 [00:01<00:02,  7.14it/s]"
     ]
    },
    {
     "name": "stdout",
     "output_type": "stream",
     "text": [
      "./newresults\\Saved_Models/Public/Diabetes/iter3_depth1_width1000_7.pt\n",
      "Loading model ...\n",
      "./newresults\\Saved_Models/Public/Diabetes/iter3_depth1_width1000_8.pt\n",
      "Loading model ...\n"
     ]
    },
    {
     "name": "stderr",
     "output_type": "stream",
     "text": [
      " 42%|██████████████████████████████████▏                                               | 10/24 [00:01<00:01,  7.57it/s]"
     ]
    },
    {
     "name": "stdout",
     "output_type": "stream",
     "text": [
      "./newresults\\Saved_Models/Public/Diabetes/iter3_depth1_width1000_9.pt\n",
      "Loading model ...\n",
      "./newresults\\Saved_Models/Public/Diabetes/iter3_depth1_width1000_10.pt\n",
      "Loading model ...\n"
     ]
    },
    {
     "name": "stderr",
     "output_type": "stream",
     "text": [
      " 50%|█████████████████████████████████████████                                         | 12/24 [00:01<00:01,  7.37it/s]"
     ]
    },
    {
     "name": "stdout",
     "output_type": "stream",
     "text": [
      "./newresults\\Saved_Models/Public/Diabetes/iter3_depth1_width1000_11.pt\n",
      "Loading model ...\n",
      "./newresults\\Saved_Models/Public/Diabetes/iter3_depth1_width1000_12.pt\n",
      "Loading model ...\n"
     ]
    },
    {
     "name": "stderr",
     "output_type": "stream",
     "text": [
      " 58%|███████████████████████████████████████████████▊                                  | 14/24 [00:01<00:01,  7.08it/s]"
     ]
    },
    {
     "name": "stdout",
     "output_type": "stream",
     "text": [
      "./newresults\\Saved_Models/Public/Diabetes/iter3_depth1_width1000_13.pt\n",
      "Loading model ...\n",
      "./newresults\\Saved_Models/Public/Diabetes/iter3_depth1_width1000_14.pt\n",
      "Loading model ...\n"
     ]
    },
    {
     "name": "stderr",
     "output_type": "stream",
     "text": [
      " 67%|██████████████████████████████████████████████████████▋                           | 16/24 [00:02<00:01,  7.45it/s]"
     ]
    },
    {
     "name": "stdout",
     "output_type": "stream",
     "text": [
      "./newresults\\Saved_Models/Public/Diabetes/iter3_depth1_width1000_15.pt\n",
      "Loading model ...\n",
      "./newresults\\Saved_Models/Public/Diabetes/iter3_depth1_width1000_16.pt\n",
      "Loading model ...\n"
     ]
    },
    {
     "name": "stderr",
     "output_type": "stream",
     "text": [
      " 75%|█████████████████████████████████████████████████████████████▌                    | 18/24 [00:02<00:00,  7.43it/s]"
     ]
    },
    {
     "name": "stdout",
     "output_type": "stream",
     "text": [
      "./newresults\\Saved_Models/Public/Diabetes/iter3_depth1_width1000_17.pt\n",
      "Loading model ...\n",
      "./newresults\\Saved_Models/Public/Diabetes/iter3_depth1_width1000_18.pt\n",
      "Loading model ...\n"
     ]
    },
    {
     "name": "stderr",
     "output_type": "stream",
     "text": [
      " 83%|████████████████████████████████████████████████████████████████████▎             | 20/24 [00:02<00:00,  6.29it/s]"
     ]
    },
    {
     "name": "stdout",
     "output_type": "stream",
     "text": [
      "./newresults\\Saved_Models/Public/Diabetes/iter3_depth1_width1000_19.pt\n",
      "Loading model ...\n"
     ]
    },
    {
     "name": "stderr",
     "output_type": "stream",
     "text": [
      " 88%|███████████████████████████████████████████████████████████████████████▊          | 21/24 [00:03<00:00,  5.85it/s]"
     ]
    },
    {
     "name": "stdout",
     "output_type": "stream",
     "text": [
      "./newresults\\Saved_Models/Public/Diabetes/iter3_depth1_width1000_20.pt\n",
      "Loading model ...\n"
     ]
    },
    {
     "name": "stderr",
     "output_type": "stream",
     "text": [
      " 92%|███████████████████████████████████████████████████████████████████████████▏      | 22/24 [00:03<00:00,  5.76it/s]"
     ]
    },
    {
     "name": "stdout",
     "output_type": "stream",
     "text": [
      "./newresults\\Saved_Models/Public/Diabetes/iter3_depth1_width1000_21.pt\n",
      "Loading model ...\n",
      "./newresults\\Saved_Models/Public/Diabetes/iter3_depth1_width1000_22.pt\n",
      "Loading model ..."
     ]
    },
    {
     "name": "stderr",
     "output_type": "stream",
     "text": [
      " 96%|██████████████████████████████████████████████████████████████████████████████▌   | 23/24 [00:03<00:00,  5.89it/s]"
     ]
    },
    {
     "name": "stdout",
     "output_type": "stream",
     "text": [
      "\n",
      "./newresults\\Saved_Models/Public/Diabetes/iter3_depth1_width1000_23.pt\n",
      "Loading model ...\n"
     ]
    },
    {
     "name": "stderr",
     "output_type": "stream",
     "text": [
      "100%|██████████████████████████████████████████████████████████████████████████████████| 24/24 [00:03<00:00,  6.79it/s]\n"
     ]
    },
    {
     "name": "stdout",
     "output_type": "stream",
     "text": [
      "Get private info ...\n",
      "Get shadow info ...\n",
      "Shadow model: 0\n",
      "Shadow model: 1\n",
      "Shadow model: 2\n",
      "Shadow model: 3\n",
      "Shadow model: 4\n",
      "Shadow model: 5\n",
      "Shadow model: 6\n",
      "Shadow model: 7\n",
      "Shadow model: 8\n",
      "Shadow model: 9\n",
      "Shadow model: 10\n",
      "Shadow model: 11\n",
      "Shadow model: 12\n",
      "Shadow model: 13\n",
      "Shadow model: 14\n",
      "Shadow model: 15\n",
      "Shadow model: 16\n",
      "Shadow model: 17\n",
      "Shadow model: 18\n",
      "Shadow model: 19\n",
      "Shadow model: 20\n",
      "Shadow model: 21\n",
      "Shadow model: 22\n",
      "Shadow model: 23\n",
      "    Identified 2999 out of 3000 counterfactual explanations\n",
      "    Identified 2997 out of 3000 counterfactual explanations\n",
      "    Identified 2999 out of 3000 counterfactual explanations\n",
      "    Identified 2997 out of 3000 counterfactual explanations\n",
      "    Identified 2999 out of 3000 counterfactual explanations\n",
      "    Identified 2997 out of 3000 counterfactual explanations\n",
      "    Identified 2999 out of 3000 counterfactual explanations\n",
      "    Identified 2997 out of 3000 counterfactual explanations\n"
     ]
    },
    {
     "name": "stderr",
     "output_type": "stream",
     "text": [
      "C:\\Users\\fred0\\Anaconda3\\lib\\site-packages\\torch\\nn\\_reduction.py:42: UserWarning: size_average and reduce args will be deprecated, please use reduction='none' instead.\n",
      "  warnings.warn(warning.format(ret))\n"
     ]
    },
    {
     "name": "stdout",
     "output_type": "stream",
     "text": [
      "AUC for BASE DISTANCE when scfe when depth 1 and width 1000: 0.5051154856089834\n",
      "BA for BASE DISTANCE when scfe when depth 1 and width 1000: 0.5109515428510649\n",
      "TP0.1 for BASE DISTANCE when scfe when depth 1 and width 1000: 0.102\n",
      "TP0.01 for BASE DISTANCE when scfe when depth 1 and width 1000: 0.0093\n",
      "Compute Lambda on Train\n",
      "Compute Lambda on Test\n",
      "Compute Lambda on Train\n",
      "Compute Lambda on Test\n",
      "AUC for LRT DISTANCE when scfe when depth 1 and width 1000: 0.5047293319773035\n",
      "BA for LRT DISTANCE when scfe when depth 1 and width 1000: 0.5135643868832709\n",
      "TP0.1 for LRT DISTANCE when scfe when depth 1 and width 1000: 0.093375\n",
      "TP0.01 for LRT DISTANCE when scfe when depth 1 and width 1000: 0.011975\n"
     ]
    },
    {
     "name": "stderr",
     "output_type": "stream",
     "text": [
      "  0%|                                                                                           | 0/24 [00:00<?, ?it/s]"
     ]
    },
    {
     "name": "stdout",
     "output_type": "stream",
     "text": [
      "ITERATION: 0\n",
      "GENERATING RESULTS FOR Adult\n",
      "Get private models ...\n",
      "./newresults\\Saved_Models/Private/Adult/iter0_private_depth333_width2.pt\n",
      "Accuracy on Train set: 0.9824400471759926\n",
      "Accuracy on Test set: 0.8007075471698113\n",
      "Get public models ...\n",
      "./newresults\\Saved_Models/Public/Adult/iter0_depth2_width333_0.pt\n",
      "Loading model ...\n"
     ]
    },
    {
     "name": "stderr",
     "output_type": "stream",
     "text": [
      "  8%|██████▉                                                                            | 2/24 [00:00<00:01, 11.58it/s]"
     ]
    },
    {
     "name": "stdout",
     "output_type": "stream",
     "text": [
      "./newresults\\Saved_Models/Public/Adult/iter0_depth2_width333_1.pt\n",
      "Loading model ...\n",
      "./newresults\\Saved_Models/Public/Adult/iter0_depth2_width333_2.pt\n",
      "Loading model ...\n"
     ]
    },
    {
     "name": "stderr",
     "output_type": "stream",
     "text": [
      " 17%|█████████████▊                                                                     | 4/24 [00:00<00:02,  8.36it/s]"
     ]
    },
    {
     "name": "stdout",
     "output_type": "stream",
     "text": [
      "./newresults\\Saved_Models/Public/Adult/iter0_depth2_width333_3.pt\n",
      "Loading model ...\n",
      "./newresults\\Saved_Models/Public/Adult/iter0_depth2_width333_4.pt\n",
      "Loading model ...\n"
     ]
    },
    {
     "name": "stderr",
     "output_type": "stream",
     "text": [
      " 25%|████████████████████▊                                                              | 6/24 [00:00<00:02,  8.81it/s]"
     ]
    },
    {
     "name": "stdout",
     "output_type": "stream",
     "text": [
      "./newresults\\Saved_Models/Public/Adult/iter0_depth2_width333_5.pt\n",
      "Loading model ...\n",
      "./newresults\\Saved_Models/Public/Adult/iter0_depth2_width333_6.pt\n",
      "Loading model ...\n"
     ]
    },
    {
     "name": "stderr",
     "output_type": "stream",
     "text": [
      " 38%|███████████████████████████████▏                                                   | 9/24 [00:00<00:01,  9.49it/s]"
     ]
    },
    {
     "name": "stdout",
     "output_type": "stream",
     "text": [
      "./newresults\\Saved_Models/Public/Adult/iter0_depth2_width333_7.pt\n",
      "Loading model ...\n",
      "./newresults\\Saved_Models/Public/Adult/iter0_depth2_width333_8.pt\n",
      "Loading model ...\n"
     ]
    },
    {
     "name": "stderr",
     "output_type": "stream",
     "text": [
      " 42%|██████████████████████████████████▏                                               | 10/24 [00:01<00:01,  9.35it/s]"
     ]
    },
    {
     "name": "stdout",
     "output_type": "stream",
     "text": [
      "./newresults\\Saved_Models/Public/Adult/iter0_depth2_width333_9.pt\n",
      "Loading model ...\n",
      "./newresults\\Saved_Models/Public/Adult/iter0_depth2_width333_10.pt\n",
      "Loading model ...\n"
     ]
    },
    {
     "name": "stderr",
     "output_type": "stream",
     "text": [
      " 50%|█████████████████████████████████████████                                         | 12/24 [00:01<00:01,  8.89it/s]"
     ]
    },
    {
     "name": "stdout",
     "output_type": "stream",
     "text": [
      "./newresults\\Saved_Models/Public/Adult/iter0_depth2_width333_11.pt\n",
      "Loading model ...\n",
      "./newresults\\Saved_Models/Public/Adult/iter0_depth2_width333_12.pt\n",
      "Loading model ...\n"
     ]
    },
    {
     "name": "stderr",
     "output_type": "stream",
     "text": [
      " 62%|███████████████████████████████████████████████████▎                              | 15/24 [00:01<00:00,  9.77it/s]"
     ]
    },
    {
     "name": "stdout",
     "output_type": "stream",
     "text": [
      "./newresults\\Saved_Models/Public/Adult/iter0_depth2_width333_13.pt\n",
      "Loading model ...\n",
      "./newresults\\Saved_Models/Public/Adult/iter0_depth2_width333_14.pt\n",
      "Loading model ...\n",
      "./newresults\\Saved_Models/Public/Adult/iter0_depth2_width333_15.pt\n",
      "Loading model ...\n"
     ]
    },
    {
     "name": "stderr",
     "output_type": "stream",
     "text": [
      " 71%|██████████████████████████████████████████████████████████                        | 17/24 [00:01<00:00, 10.35it/s]"
     ]
    },
    {
     "name": "stdout",
     "output_type": "stream",
     "text": [
      "./newresults\\Saved_Models/Public/Adult/iter0_depth2_width333_16.pt\n",
      "Loading model ...\n",
      "./newresults\\Saved_Models/Public/Adult/iter0_depth2_width333_17.pt\n",
      "Loading model ...\n",
      "./newresults\\Saved_Models/Public/Adult/iter0_depth2_width333_18.pt\n",
      "Loading model ..."
     ]
    },
    {
     "name": "stderr",
     "output_type": "stream",
     "text": [
      " 79%|████████████████████████████████████████████████████████████████▉                 | 19/24 [00:01<00:00, 10.59it/s]"
     ]
    },
    {
     "name": "stdout",
     "output_type": "stream",
     "text": [
      "\n",
      "./newresults\\Saved_Models/Public/Adult/iter0_depth2_width333_19.pt\n",
      "Loading model ...\n",
      "./newresults\\Saved_Models/Public/Adult/iter0_depth2_width333_20.pt\n",
      "Loading model ...\n"
     ]
    },
    {
     "name": "stderr",
     "output_type": "stream",
     "text": [
      " 88%|███████████████████████████████████████████████████████████████████████▊          | 21/24 [00:02<00:00, 10.41it/s]"
     ]
    },
    {
     "name": "stdout",
     "output_type": "stream",
     "text": [
      "./newresults\\Saved_Models/Public/Adult/iter0_depth2_width333_21.pt\n",
      "Loading model ...\n",
      "./newresults\\Saved_Models/Public/Adult/iter0_depth2_width333_22.pt\n",
      "Loading model ...\n"
     ]
    },
    {
     "name": "stderr",
     "output_type": "stream",
     "text": [
      "100%|██████████████████████████████████████████████████████████████████████████████████| 24/24 [00:02<00:00,  9.61it/s]\n"
     ]
    },
    {
     "name": "stdout",
     "output_type": "stream",
     "text": [
      "./newresults\\Saved_Models/Public/Adult/iter0_depth2_width333_23.pt\n",
      "Loading model ...\n",
      "Get private info ...\n",
      "Get shadow info ...\n",
      "Shadow model: 0\n",
      "Shadow model: 1\n",
      "Shadow model: 2\n",
      "Shadow model: 3\n",
      "Shadow model: 4\n",
      "Shadow model: 5\n",
      "Shadow model: 6\n",
      "Shadow model: 7\n",
      "Shadow model: 8\n",
      "Shadow model: 9\n",
      "Shadow model: 10\n",
      "Shadow model: 11\n",
      "Shadow model: 12\n",
      "Shadow model: 13\n",
      "Shadow model: 14\n",
      "Shadow model: 15\n",
      "Shadow model: 16\n",
      "Shadow model: 17\n",
      "Shadow model: 18\n",
      "Shadow model: 19\n",
      "Shadow model: 20\n",
      "Shadow model: 21\n",
      "Shadow model: 22\n",
      "Shadow model: 23\n",
      "    Identified 3000 out of 3000 counterfactual explanations\n",
      "    Identified 3000 out of 3000 counterfactual explanations\n",
      "    Identified 3000 out of 3000 counterfactual explanations\n",
      "    Identified 3000 out of 3000 counterfactual explanations\n",
      "    Identified 3000 out of 3000 counterfactual explanations\n",
      "    Identified 3000 out of 3000 counterfactual explanations\n",
      "    Identified 3000 out of 3000 counterfactual explanations\n",
      "    Identified 3000 out of 3000 counterfactual explanations\n"
     ]
    },
    {
     "name": "stderr",
     "output_type": "stream",
     "text": [
      "C:\\Users\\fred0\\Anaconda3\\lib\\site-packages\\torch\\nn\\_reduction.py:42: UserWarning: size_average and reduce args will be deprecated, please use reduction='none' instead.\n",
      "  warnings.warn(warning.format(ret))\n"
     ]
    },
    {
     "name": "stdout",
     "output_type": "stream",
     "text": [
      "AUC for BASE DISTANCE when gs when depth 2 and width 333: 0.12595144444444445\n",
      "BA for BASE DISTANCE when gs when depth 2 and width 333: 0.128125\n",
      "TP0.1 for BASE DISTANCE when gs when depth 2 and width 333: 0.0255\n",
      "TP0.01 for BASE DISTANCE when gs when depth 2 and width 333: 0.002425\n",
      "Compute Lambda on Train\n",
      "Compute Lambda on Test\n",
      "Compute Lambda on Train\n",
      "Compute Lambda on Test\n",
      "AUC for LRT DISTANCE when gs when depth 2 and width 333: 0.12733966666666666\n",
      "BA for LRT DISTANCE when gs when depth 2 and width 333: 0.12745833333333334\n",
      "TP0.1 for LRT DISTANCE when gs when depth 2 and width 333: 0.026075\n",
      "TP0.01 for LRT DISTANCE when gs when depth 2 and width 333: 0.002375\n",
      "ITERATION: 1\n",
      "GENERATING RESULTS FOR Adult\n",
      "Get private models ...\n",
      "./newresults\\Saved_Models/Private/Adult/iter1_private_depth333_width2.pt\n"
     ]
    },
    {
     "name": "stderr",
     "output_type": "stream",
     "text": [
      "  4%|███▍                                                                               | 1/24 [00:00<00:02,  8.29it/s]"
     ]
    },
    {
     "name": "stdout",
     "output_type": "stream",
     "text": [
      "Accuracy on Train set: 0.9805399030271262\n",
      "Accuracy on Test set: 0.8042452830188679\n",
      "Get public models ...\n",
      "./newresults\\Saved_Models/Public/Adult/iter1_depth2_width333_0.pt\n",
      "Loading model ...\n",
      "./newresults\\Saved_Models/Public/Adult/iter1_depth2_width333_1.pt\n",
      "Loading model ...\n"
     ]
    },
    {
     "name": "stderr",
     "output_type": "stream",
     "text": [
      " 12%|██████████▍                                                                        | 3/24 [00:00<00:02,  8.94it/s]"
     ]
    },
    {
     "name": "stdout",
     "output_type": "stream",
     "text": [
      "./newresults\\Saved_Models/Public/Adult/iter1_depth2_width333_2.pt\n",
      "Loading model ...\n",
      "./newresults\\Saved_Models/Public/Adult/iter1_depth2_width333_3.pt\n",
      "Loading model ...\n",
      "./newresults\\Saved_Models/Public/Adult/iter1_depth2_width333_4.pt\n",
      "Loading model ...\n"
     ]
    },
    {
     "name": "stderr",
     "output_type": "stream",
     "text": [
      " 25%|████████████████████▊                                                              | 6/24 [00:00<00:01,  9.25it/s]"
     ]
    },
    {
     "name": "stdout",
     "output_type": "stream",
     "text": [
      "./newresults\\Saved_Models/Public/Adult/iter1_depth2_width333_5.pt\n",
      "Loading model ...\n",
      "./newresults\\Saved_Models/Public/Adult/iter1_depth2_width333_6.pt\n",
      "Loading model ...\n"
     ]
    },
    {
     "name": "stderr",
     "output_type": "stream",
     "text": [
      " 33%|███████████████████████████▋                                                       | 8/24 [00:00<00:01,  9.49it/s]"
     ]
    },
    {
     "name": "stdout",
     "output_type": "stream",
     "text": [
      "./newresults\\Saved_Models/Public/Adult/iter1_depth2_width333_7.pt\n",
      "Loading model ...\n",
      "./newresults\\Saved_Models/Public/Adult/iter1_depth2_width333_8.pt\n",
      "Loading model ...\n"
     ]
    },
    {
     "name": "stderr",
     "output_type": "stream",
     "text": [
      " 42%|██████████████████████████████████▏                                               | 10/24 [00:01<00:01,  8.87it/s]"
     ]
    },
    {
     "name": "stdout",
     "output_type": "stream",
     "text": [
      "./newresults\\Saved_Models/Public/Adult/iter1_depth2_width333_9.pt\n",
      "Loading model ...\n",
      "./newresults\\Saved_Models/Public/Adult/iter1_depth2_width333_10.pt\n",
      "Loading model ...\n"
     ]
    },
    {
     "name": "stderr",
     "output_type": "stream",
     "text": [
      " 50%|█████████████████████████████████████████                                         | 12/24 [00:01<00:01,  8.41it/s]"
     ]
    },
    {
     "name": "stdout",
     "output_type": "stream",
     "text": [
      "./newresults\\Saved_Models/Public/Adult/iter1_depth2_width333_11.pt\n",
      "Loading model ...\n",
      "./newresults\\Saved_Models/Public/Adult/iter1_depth2_width333_12.pt\n",
      "Loading model ...\n",
      "./newresults\\Saved_Models/Public/Adult/iter1_depth2_width333_13.pt"
     ]
    },
    {
     "name": "stderr",
     "output_type": "stream",
     "text": [
      " 62%|███████████████████████████████████████████████████▎                              | 15/24 [00:01<00:01,  8.90it/s]"
     ]
    },
    {
     "name": "stdout",
     "output_type": "stream",
     "text": [
      "\n",
      "Loading model ...\n",
      "./newresults\\Saved_Models/Public/Adult/iter1_depth2_width333_14.pt\n",
      "Loading model ...\n"
     ]
    },
    {
     "name": "stderr",
     "output_type": "stream",
     "text": [
      " 71%|██████████████████████████████████████████████████████████                        | 17/24 [00:01<00:00,  9.47it/s]"
     ]
    },
    {
     "name": "stdout",
     "output_type": "stream",
     "text": [
      "./newresults\\Saved_Models/Public/Adult/iter1_depth2_width333_15.pt\n",
      "Loading model ...\n",
      "./newresults\\Saved_Models/Public/Adult/iter1_depth2_width333_16.pt\n",
      "Loading model ...\n",
      "./newresults\\Saved_Models/Public/Adult/iter1_depth2_width333_17.pt\n",
      "Loading model ..."
     ]
    },
    {
     "name": "stderr",
     "output_type": "stream",
     "text": [
      " 79%|████████████████████████████████████████████████████████████████▉                 | 19/24 [00:01<00:00,  9.78it/s]"
     ]
    },
    {
     "name": "stdout",
     "output_type": "stream",
     "text": [
      "\n",
      "./newresults\\Saved_Models/Public/Adult/iter1_depth2_width333_18.pt\n",
      "Loading model ...\n",
      "./newresults\\Saved_Models/Public/Adult/iter1_depth2_width333_19.pt\n",
      "Loading model ...\n"
     ]
    },
    {
     "name": "stderr",
     "output_type": "stream",
     "text": [
      " 88%|███████████████████████████████████████████████████████████████████████▊          | 21/24 [00:02<00:00,  9.82it/s]"
     ]
    },
    {
     "name": "stdout",
     "output_type": "stream",
     "text": [
      "./newresults\\Saved_Models/Public/Adult/iter1_depth2_width333_20.pt\n",
      "Loading model ...\n",
      "./newresults\\Saved_Models/Public/Adult/iter1_depth2_width333_21.pt\n",
      "Loading model ...\n",
      "./newresults\\Saved_Models/Public/Adult/iter1_depth2_width333_22.pt\n"
     ]
    },
    {
     "name": "stderr",
     "output_type": "stream",
     "text": [
      "100%|██████████████████████████████████████████████████████████████████████████████████| 24/24 [00:02<00:00,  9.85it/s]"
     ]
    },
    {
     "name": "stdout",
     "output_type": "stream",
     "text": [
      "Loading model ...\n",
      "./newresults\\Saved_Models/Public/Adult/iter1_depth2_width333_23.pt\n",
      "Loading model ...\n",
      "Get private info ...\n"
     ]
    },
    {
     "name": "stderr",
     "output_type": "stream",
     "text": [
      "\n"
     ]
    },
    {
     "name": "stdout",
     "output_type": "stream",
     "text": [
      "Get shadow info ...\n",
      "Shadow model: 0\n",
      "Shadow model: 1\n",
      "Shadow model: 2\n",
      "Shadow model: 3\n",
      "Shadow model: 4\n",
      "Shadow model: 5\n",
      "Shadow model: 6\n",
      "Shadow model: 7\n",
      "Shadow model: 8\n",
      "Shadow model: 9\n",
      "Shadow model: 10\n",
      "Shadow model: 11\n",
      "Shadow model: 12\n",
      "Shadow model: 13\n",
      "Shadow model: 14\n",
      "Shadow model: 15\n",
      "Shadow model: 16\n",
      "Shadow model: 17\n",
      "Shadow model: 18\n",
      "Shadow model: 19\n",
      "Shadow model: 20\n",
      "Shadow model: 21\n",
      "Shadow model: 22\n",
      "Shadow model: 23\n",
      "    Identified 3000 out of 3000 counterfactual explanations\n",
      "    Identified 3000 out of 3000 counterfactual explanations\n",
      "    Identified 3000 out of 3000 counterfactual explanations\n",
      "    Identified 3000 out of 3000 counterfactual explanations\n",
      "    Identified 3000 out of 3000 counterfactual explanations\n",
      "    Identified 3000 out of 3000 counterfactual explanations\n",
      "    Identified 3000 out of 3000 counterfactual explanations\n",
      "    Identified 3000 out of 3000 counterfactual explanations\n"
     ]
    },
    {
     "name": "stderr",
     "output_type": "stream",
     "text": [
      "C:\\Users\\fred0\\Anaconda3\\lib\\site-packages\\torch\\nn\\_reduction.py:42: UserWarning: size_average and reduce args will be deprecated, please use reduction='none' instead.\n",
      "  warnings.warn(warning.format(ret))\n"
     ]
    },
    {
     "name": "stdout",
     "output_type": "stream",
     "text": [
      "AUC for BASE DISTANCE when gs when depth 2 and width 333: 0.2519028888888889\n",
      "BA for BASE DISTANCE when gs when depth 2 and width 333: 0.25625\n",
      "TP0.1 for BASE DISTANCE when gs when depth 2 and width 333: 0.051\n",
      "TP0.01 for BASE DISTANCE when gs when depth 2 and width 333: 0.00485\n",
      "Compute Lambda on Train\n",
      "Compute Lambda on Test\n",
      "Compute Lambda on Train\n",
      "Compute Lambda on Test\n",
      "AUC for LRT DISTANCE when gs when depth 2 and width 333: 0.25520941666666663\n",
      "BA for LRT DISTANCE when gs when depth 2 and width 333: 0.25566666666666665\n",
      "TP0.1 for LRT DISTANCE when gs when depth 2 and width 333: 0.051325\n",
      "TP0.01 for LRT DISTANCE when gs when depth 2 and width 333: 0.00455\n",
      "ITERATION: 2\n",
      "GENERATING RESULTS FOR Adult\n",
      "Get private models ...\n",
      "./newresults\\Saved_Models/Private/Adult/iter2_private_depth333_width2.pt\n"
     ]
    },
    {
     "name": "stderr",
     "output_type": "stream",
     "text": [
      "  0%|                                                                                           | 0/24 [00:00<?, ?it/s]"
     ]
    },
    {
     "name": "stdout",
     "output_type": "stream",
     "text": [
      "Accuracy on Train set: 0.9826366138120823\n",
      "Accuracy on Test set: 0.7989386792452831\n",
      "Get public models ...\n",
      "./newresults\\Saved_Models/Public/Adult/iter2_depth2_width333_0.pt\n",
      "Loading model ...\n",
      "./newresults\\Saved_Models/Public/Adult/iter2_depth2_width333_1.pt\n",
      "Loading model ...\n"
     ]
    },
    {
     "name": "stderr",
     "output_type": "stream",
     "text": [
      " 17%|█████████████▊                                                                     | 4/24 [00:00<00:01, 10.75it/s]"
     ]
    },
    {
     "name": "stdout",
     "output_type": "stream",
     "text": [
      "./newresults\\Saved_Models/Public/Adult/iter2_depth2_width333_2.pt\n",
      "Loading model ...\n",
      "./newresults\\Saved_Models/Public/Adult/iter2_depth2_width333_3.pt\n",
      "Loading model ...\n",
      "./newresults\\Saved_Models/Public/Adult/iter2_depth2_width333_4.pt\n",
      "Loading model ...\n"
     ]
    },
    {
     "name": "stderr",
     "output_type": "stream",
     "text": [
      " 25%|████████████████████▊                                                              | 6/24 [00:00<00:01, 10.96it/s]"
     ]
    },
    {
     "name": "stdout",
     "output_type": "stream",
     "text": [
      "./newresults\\Saved_Models/Public/Adult/iter2_depth2_width333_5.pt\n",
      "Loading model ...\n",
      "./newresults\\Saved_Models/Public/Adult/iter2_depth2_width333_6.pt\n",
      "Loading model ...\n"
     ]
    },
    {
     "name": "stderr",
     "output_type": "stream",
     "text": [
      " 38%|███████████████████████████████▏                                                   | 9/24 [00:00<00:01, 10.79it/s]"
     ]
    },
    {
     "name": "stdout",
     "output_type": "stream",
     "text": [
      "./newresults\\Saved_Models/Public/Adult/iter2_depth2_width333_7.pt\n",
      "Loading model ...\n",
      "./newresults\\Saved_Models/Public/Adult/iter2_depth2_width333_8.pt\n",
      "Loading model ...\n",
      "./newresults\\Saved_Models/Public/Adult/iter2_depth2_width333_9.pt\n",
      "Loading model ...\n"
     ]
    },
    {
     "name": "stderr",
     "output_type": "stream",
     "text": [
      " 46%|█████████████████████████████████████▌                                            | 11/24 [00:00<00:01, 10.91it/s]"
     ]
    },
    {
     "name": "stdout",
     "output_type": "stream",
     "text": [
      "./newresults\\Saved_Models/Public/Adult/iter2_depth2_width333_10.pt\n",
      "Loading model ...\n",
      "./newresults\\Saved_Models/Public/Adult/iter2_depth2_width333_11.pt\n",
      "Loading model ...\n",
      "./newresults\\Saved_Models/Public/Adult/iter2_depth2_width333_12.pt\n"
     ]
    },
    {
     "name": "stderr",
     "output_type": "stream",
     "text": [
      " 54%|████████████████████████████████████████████▍                                     | 13/24 [00:01<00:01, 10.96it/s]"
     ]
    },
    {
     "name": "stdout",
     "output_type": "stream",
     "text": [
      "Loading model ...\n",
      "./newresults\\Saved_Models/Public/Adult/iter2_depth2_width333_13.pt\n",
      "Loading model ...\n",
      "./newresults\\Saved_Models/Public/Adult/iter2_depth2_width333_14.pt"
     ]
    },
    {
     "name": "stderr",
     "output_type": "stream",
     "text": [
      " 62%|███████████████████████████████████████████████████▎                              | 15/24 [00:01<00:00, 10.80it/s]"
     ]
    },
    {
     "name": "stdout",
     "output_type": "stream",
     "text": [
      "\n",
      "Loading model ...\n",
      "./newresults\\Saved_Models/Public/Adult/iter2_depth2_width333_15.pt\n",
      "Loading model ...\n",
      "./newresults\\Saved_Models/Public/Adult/iter2_depth2_width333_16.pt"
     ]
    },
    {
     "name": "stderr",
     "output_type": "stream",
     "text": [
      " 71%|██████████████████████████████████████████████████████████                        | 17/24 [00:01<00:00, 10.85it/s]"
     ]
    },
    {
     "name": "stdout",
     "output_type": "stream",
     "text": [
      "\n",
      "Loading model ...\n",
      "./newresults\\Saved_Models/Public/Adult/iter2_depth2_width333_17.pt\n",
      "Loading model ...\n",
      "./newresults\\Saved_Models/Public/Adult/iter2_depth2_width333_18.pt\n",
      "Loading model ...\n"
     ]
    },
    {
     "name": "stderr",
     "output_type": "stream",
     "text": [
      " 88%|███████████████████████████████████████████████████████████████████████▊          | 21/24 [00:01<00:00, 10.90it/s]"
     ]
    },
    {
     "name": "stdout",
     "output_type": "stream",
     "text": [
      "./newresults\\Saved_Models/Public/Adult/iter2_depth2_width333_19.pt\n",
      "Loading model ...\n",
      "./newresults\\Saved_Models/Public/Adult/iter2_depth2_width333_20.pt\n",
      "Loading model ...\n"
     ]
    },
    {
     "name": "stderr",
     "output_type": "stream",
     "text": [
      " 96%|██████████████████████████████████████████████████████████████████████████████▌   | 23/24 [00:02<00:00, 10.83it/s]"
     ]
    },
    {
     "name": "stdout",
     "output_type": "stream",
     "text": [
      "./newresults\\Saved_Models/Public/Adult/iter2_depth2_width333_21.pt\n",
      "Loading model ...\n",
      "./newresults\\Saved_Models/Public/Adult/iter2_depth2_width333_22.pt\n",
      "Loading model ...\n"
     ]
    },
    {
     "name": "stderr",
     "output_type": "stream",
     "text": [
      "100%|██████████████████████████████████████████████████████████████████████████████████| 24/24 [00:02<00:00, 10.96it/s]\n"
     ]
    },
    {
     "name": "stdout",
     "output_type": "stream",
     "text": [
      "./newresults\\Saved_Models/Public/Adult/iter2_depth2_width333_23.pt\n",
      "Loading model ...\n",
      "Get private info ...\n",
      "Get shadow info ...\n",
      "Shadow model: 0\n",
      "Shadow model: 1\n",
      "Shadow model: 2\n",
      "Shadow model: 3\n",
      "Shadow model: 4\n",
      "Shadow model: 5\n",
      "Shadow model: 6\n",
      "Shadow model: 7\n",
      "Shadow model: 8\n",
      "Shadow model: 9\n",
      "Shadow model: 10\n",
      "Shadow model: 11\n",
      "Shadow model: 12\n",
      "Shadow model: 13\n",
      "Shadow model: 14\n",
      "Shadow model: 15\n",
      "Shadow model: 16\n",
      "Shadow model: 17\n",
      "Shadow model: 18\n",
      "Shadow model: 19\n",
      "Shadow model: 20\n",
      "Shadow model: 21\n",
      "Shadow model: 22\n",
      "Shadow model: 23\n",
      "    Identified 3000 out of 3000 counterfactual explanations\n",
      "    Identified 3000 out of 3000 counterfactual explanations\n",
      "    Identified 3000 out of 3000 counterfactual explanations\n",
      "    Identified 3000 out of 3000 counterfactual explanations\n",
      "    Identified 3000 out of 3000 counterfactual explanations\n",
      "    Identified 3000 out of 3000 counterfactual explanations\n",
      "    Identified 3000 out of 3000 counterfactual explanations\n",
      "    Identified 3000 out of 3000 counterfactual explanations\n"
     ]
    },
    {
     "name": "stderr",
     "output_type": "stream",
     "text": [
      "C:\\Users\\fred0\\Anaconda3\\lib\\site-packages\\torch\\nn\\_reduction.py:42: UserWarning: size_average and reduce args will be deprecated, please use reduction='none' instead.\n",
      "  warnings.warn(warning.format(ret))\n"
     ]
    },
    {
     "name": "stdout",
     "output_type": "stream",
     "text": [
      "AUC for BASE DISTANCE when gs when depth 2 and width 333: 0.37785433333333335\n",
      "BA for BASE DISTANCE when gs when depth 2 and width 333: 0.38437499999999997\n",
      "TP0.1 for BASE DISTANCE when gs when depth 2 and width 333: 0.0765\n",
      "TP0.01 for BASE DISTANCE when gs when depth 2 and width 333: 0.007275\n",
      "Compute Lambda on Train\n",
      "Compute Lambda on Test\n",
      "Compute Lambda on Train\n",
      "Compute Lambda on Test\n",
      "AUC for LRT DISTANCE when gs when depth 2 and width 333: 0.38279274999999996\n",
      "BA for LRT DISTANCE when gs when depth 2 and width 333: 0.38325\n",
      "TP0.1 for LRT DISTANCE when gs when depth 2 and width 333: 0.076625\n",
      "TP0.01 for LRT DISTANCE when gs when depth 2 and width 333: 0.0068000000000000005\n",
      "ITERATION: 3\n",
      "GENERATING RESULTS FOR Adult\n",
      "Get private models ...\n",
      "./newresults\\Saved_Models/Private/Adult/iter3_private_depth333_width2.pt\n"
     ]
    },
    {
     "name": "stderr",
     "output_type": "stream",
     "text": [
      "  8%|██████▉                                                                            | 2/24 [00:00<00:01, 11.38it/s]"
     ]
    },
    {
     "name": "stdout",
     "output_type": "stream",
     "text": [
      "Accuracy on Train set: 0.9825055693880226\n",
      "Accuracy on Test set: 0.8011006289308176\n",
      "Get public models ...\n",
      "./newresults\\Saved_Models/Public/Adult/iter3_depth2_width333_0.pt\n",
      "Loading model ...\n",
      "./newresults\\Saved_Models/Public/Adult/iter3_depth2_width333_1.pt\n",
      "Loading model ...\n",
      "./newresults\\Saved_Models/Public/Adult/iter3_depth2_width333_2.pt\n"
     ]
    },
    {
     "name": "stderr",
     "output_type": "stream",
     "text": [
      " 17%|█████████████▊                                                                     | 4/24 [00:00<00:01, 11.43it/s]"
     ]
    },
    {
     "name": "stdout",
     "output_type": "stream",
     "text": [
      "Loading model ...\n",
      "./newresults\\Saved_Models/Public/Adult/iter3_depth2_width333_3.pt\n",
      "Loading model ...\n",
      "./newresults\\Saved_Models/Public/Adult/iter3_depth2_width333_4.pt\n",
      "Loading model ...\n"
     ]
    },
    {
     "name": "stderr",
     "output_type": "stream",
     "text": [
      " 25%|████████████████████▊                                                              | 6/24 [00:00<00:01, 11.49it/s]"
     ]
    },
    {
     "name": "stdout",
     "output_type": "stream",
     "text": [
      "./newresults\\Saved_Models/Public/Adult/iter3_depth2_width333_5.pt\n",
      "Loading model ...\n",
      "./newresults\\Saved_Models/Public/Adult/iter3_depth2_width333_6.pt\n",
      "Loading model ...\n",
      "./newresults\\Saved_Models/Public/Adult/iter3_depth2_width333_7.pt\n",
      "Loading model ..."
     ]
    },
    {
     "name": "stderr",
     "output_type": "stream",
     "text": [
      " 33%|███████████████████████████▋                                                       | 8/24 [00:00<00:01, 11.49it/s]"
     ]
    },
    {
     "name": "stdout",
     "output_type": "stream",
     "text": [
      "\n",
      "./newresults\\Saved_Models/Public/Adult/iter3_depth2_width333_8.pt\n",
      "Loading model ...\n",
      "./newresults\\Saved_Models/Public/Adult/iter3_depth2_width333_9.pt\n",
      "Loading model ...\n"
     ]
    },
    {
     "name": "stderr",
     "output_type": "stream",
     "text": [
      " 50%|█████████████████████████████████████████                                         | 12/24 [00:01<00:01, 11.33it/s]"
     ]
    },
    {
     "name": "stdout",
     "output_type": "stream",
     "text": [
      "./newresults\\Saved_Models/Public/Adult/iter3_depth2_width333_10.pt\n",
      "Loading model ...\n",
      "./newresults\\Saved_Models/Public/Adult/iter3_depth2_width333_11.pt\n",
      "Loading model ...\n",
      "./newresults\\Saved_Models/Public/Adult/iter3_depth2_width333_12.pt\n"
     ]
    },
    {
     "name": "stderr",
     "output_type": "stream",
     "text": [
      " 58%|███████████████████████████████████████████████▊                                  | 14/24 [00:01<00:00, 11.05it/s]"
     ]
    },
    {
     "name": "stdout",
     "output_type": "stream",
     "text": [
      "Loading model ...\n",
      "./newresults\\Saved_Models/Public/Adult/iter3_depth2_width333_13.pt\n",
      "Loading model ...\n"
     ]
    },
    {
     "name": "stderr",
     "output_type": "stream",
     "text": [
      " 67%|██████████████████████████████████████████████████████▋                           | 16/24 [00:01<00:00, 11.21it/s]"
     ]
    },
    {
     "name": "stdout",
     "output_type": "stream",
     "text": [
      "./newresults\\Saved_Models/Public/Adult/iter3_depth2_width333_14.pt\n",
      "Loading model ...\n",
      "./newresults\\Saved_Models/Public/Adult/iter3_depth2_width333_15.pt\n",
      "Loading model ...\n",
      "./newresults\\Saved_Models/Public/Adult/iter3_depth2_width333_16.pt\n",
      "Loading model ...\n"
     ]
    },
    {
     "name": "stderr",
     "output_type": "stream",
     "text": [
      " 75%|█████████████████████████████████████████████████████████████▌                    | 18/24 [00:01<00:00, 11.22it/s]"
     ]
    },
    {
     "name": "stdout",
     "output_type": "stream",
     "text": [
      "./newresults\\Saved_Models/Public/Adult/iter3_depth2_width333_17.pt\n",
      "Loading model ...\n",
      "./newresults\\Saved_Models/Public/Adult/iter3_depth2_width333_18.pt\n",
      "Loading model ...\n",
      "./newresults\\Saved_Models/Public/Adult/iter3_depth2_width333_19.pt\n",
      "Loading model ...\n"
     ]
    },
    {
     "name": "stderr",
     "output_type": "stream",
     "text": [
      " 92%|███████████████████████████████████████████████████████████████████████████▏      | 22/24 [00:01<00:00, 11.57it/s]"
     ]
    },
    {
     "name": "stdout",
     "output_type": "stream",
     "text": [
      "./newresults\\Saved_Models/Public/Adult/iter3_depth2_width333_20.pt\n",
      "Loading model ...\n",
      "./newresults\\Saved_Models/Public/Adult/iter3_depth2_width333_21.pt\n",
      "Loading model ...\n",
      "./newresults\\Saved_Models/Public/Adult/iter3_depth2_width333_22.pt\n",
      "Loading model ...\n"
     ]
    },
    {
     "name": "stderr",
     "output_type": "stream",
     "text": [
      "100%|██████████████████████████████████████████████████████████████████████████████████| 24/24 [00:02<00:00, 11.40it/s]\n"
     ]
    },
    {
     "name": "stdout",
     "output_type": "stream",
     "text": [
      "./newresults\\Saved_Models/Public/Adult/iter3_depth2_width333_23.pt\n",
      "Loading model ...\n",
      "Get private info ...\n",
      "Get shadow info ...\n",
      "Shadow model: 0\n",
      "Shadow model: 1\n",
      "Shadow model: 2\n",
      "Shadow model: 3\n",
      "Shadow model: 4\n",
      "Shadow model: 5\n",
      "Shadow model: 6\n",
      "Shadow model: 7\n",
      "Shadow model: 8\n",
      "Shadow model: 9\n",
      "Shadow model: 10\n",
      "Shadow model: 11\n",
      "Shadow model: 12\n",
      "Shadow model: 13\n",
      "Shadow model: 14\n",
      "Shadow model: 15\n",
      "Shadow model: 16\n",
      "Shadow model: 17\n",
      "Shadow model: 18\n",
      "Shadow model: 19\n",
      "Shadow model: 20\n",
      "Shadow model: 21\n",
      "Shadow model: 22\n",
      "Shadow model: 23\n",
      "    Identified 3000 out of 3000 counterfactual explanations\n",
      "    Identified 3000 out of 3000 counterfactual explanations\n",
      "    Identified 3000 out of 3000 counterfactual explanations\n",
      "    Identified 3000 out of 3000 counterfactual explanations\n",
      "    Identified 3000 out of 3000 counterfactual explanations\n",
      "    Identified 3000 out of 3000 counterfactual explanations\n",
      "    Identified 3000 out of 3000 counterfactual explanations\n",
      "    Identified 3000 out of 3000 counterfactual explanations\n"
     ]
    },
    {
     "name": "stderr",
     "output_type": "stream",
     "text": [
      "C:\\Users\\fred0\\Anaconda3\\lib\\site-packages\\torch\\nn\\_reduction.py:42: UserWarning: size_average and reduce args will be deprecated, please use reduction='none' instead.\n",
      "  warnings.warn(warning.format(ret))\n"
     ]
    },
    {
     "name": "stdout",
     "output_type": "stream",
     "text": [
      "AUC for BASE DISTANCE when gs when depth 2 and width 333: 0.5038057777777778\n",
      "BA for BASE DISTANCE when gs when depth 2 and width 333: 0.5125\n",
      "TP0.1 for BASE DISTANCE when gs when depth 2 and width 333: 0.102\n",
      "TP0.01 for BASE DISTANCE when gs when depth 2 and width 333: 0.0097\n",
      "Compute Lambda on Train\n",
      "Compute Lambda on Test\n",
      "Compute Lambda on Train\n",
      "Compute Lambda on Test\n",
      "AUC for LRT DISTANCE when gs when depth 2 and width 333: 0.5101628611111111\n",
      "BA for LRT DISTANCE when gs when depth 2 and width 333: 0.510875\n",
      "TP0.1 for LRT DISTANCE when gs when depth 2 and width 333: 0.10137499999999999\n",
      "TP0.01 for LRT DISTANCE when gs when depth 2 and width 333: 0.008625\n",
      "ITERATION: 0\n",
      "GENERATING RESULTS FOR Heloc\n",
      "Get private models ...\n",
      "./newresults\\Saved_Models/Private/Heloc/iter0_private_depth333_width2.pt\n"
     ]
    },
    {
     "name": "stderr",
     "output_type": "stream",
     "text": [
      "  8%|██████▉                                                                            | 2/24 [00:00<00:01, 19.35it/s]"
     ]
    },
    {
     "name": "stdout",
     "output_type": "stream",
     "text": [
      "Accuracy on Train set: 1.0\n",
      "Accuracy on Test set: 0.679902755267423\n",
      "Get public models ...\n",
      "./newresults\\Saved_Models/Public/Heloc/iter0_depth2_width333_0.pt\n",
      "Loading model ...\n",
      "./newresults\\Saved_Models/Public/Heloc/iter0_depth2_width333_1.pt\n",
      "Loading model ...\n",
      "./newresults\\Saved_Models/Public/Heloc/iter0_depth2_width333_2.pt\n",
      "Loading model ...\n",
      "./newresults\\Saved_Models/Public/Heloc/iter0_depth2_width333_3.pt\n",
      "Loading model ...\n",
      "./newresults\\Saved_Models/Public/Heloc/iter0_depth2_width333_4.pt"
     ]
    },
    {
     "name": "stderr",
     "output_type": "stream",
     "text": [
      " 38%|███████████████████████████████▏                                                   | 9/24 [00:00<00:00, 23.37it/s]"
     ]
    },
    {
     "name": "stdout",
     "output_type": "stream",
     "text": [
      "\n",
      "Loading model ...\n",
      "./newresults\\Saved_Models/Public/Heloc/iter0_depth2_width333_5.pt\n",
      "Loading model ...\n",
      "./newresults\\Saved_Models/Public/Heloc/iter0_depth2_width333_6.pt\n",
      "Loading model ...\n",
      "./newresults\\Saved_Models/Public/Heloc/iter0_depth2_width333_7.pt\n",
      "Loading model ...\n",
      "./newresults\\Saved_Models/Public/Heloc/iter0_depth2_width333_8.pt\n",
      "Loading model ...\n",
      "./newresults\\Saved_Models/Public/Heloc/iter0_depth2_width333_9.pt\n",
      "Loading model ...\n",
      "./newresults\\Saved_Models/Public/Heloc/iter0_depth2_width333_10.pt"
     ]
    },
    {
     "name": "stderr",
     "output_type": "stream",
     "text": [
      " 54%|████████████████████████████████████████████▍                                     | 13/24 [00:00<00:00, 25.06it/s]"
     ]
    },
    {
     "name": "stdout",
     "output_type": "stream",
     "text": [
      "\n",
      "Loading model ...\n",
      "./newresults\\Saved_Models/Public/Heloc/iter0_depth2_width333_11.pt\n",
      "Loading model ...\n",
      "./newresults\\Saved_Models/Public/Heloc/iter0_depth2_width333_12.pt\n",
      "Loading model ...\n",
      "./newresults\\Saved_Models/Public/Heloc/iter0_depth2_width333_13.pt\n",
      "Loading model ...\n",
      "./newresults\\Saved_Models/Public/Heloc/iter0_depth2_width333_14.pt\n",
      "Loading model ...\n",
      "./newresults\\Saved_Models/Public/Heloc/iter0_depth2_width333_15.pt\n",
      "Loading model ...\n"
     ]
    },
    {
     "name": "stderr",
     "output_type": "stream",
     "text": [
      " 79%|████████████████████████████████████████████████████████████████▉                 | 19/24 [00:00<00:00, 26.71it/s]"
     ]
    },
    {
     "name": "stdout",
     "output_type": "stream",
     "text": [
      "./newresults\\Saved_Models/Public/Heloc/iter0_depth2_width333_16.pt\n",
      "Loading model ...\n",
      "./newresults\\Saved_Models/Public/Heloc/iter0_depth2_width333_17.pt\n",
      "Loading model ...\n",
      "./newresults\\Saved_Models/Public/Heloc/iter0_depth2_width333_18.pt\n",
      "Loading model ...\n",
      "./newresults\\Saved_Models/Public/Heloc/iter0_depth2_width333_19.pt\n",
      "Loading model ...\n",
      "./newresults\\Saved_Models/Public/Heloc/iter0_depth2_width333_20.pt\n",
      "Loading model ...\n",
      "./newresults\\Saved_Models/Public/Heloc/iter0_depth2_width333_21.pt"
     ]
    },
    {
     "name": "stderr",
     "output_type": "stream",
     "text": [
      "100%|██████████████████████████████████████████████████████████████████████████████████| 24/24 [00:00<00:00, 26.82it/s]"
     ]
    },
    {
     "name": "stdout",
     "output_type": "stream",
     "text": [
      "\n",
      "Loading model ...\n",
      "./newresults\\Saved_Models/Public/Heloc/iter0_depth2_width333_22.pt\n",
      "Loading model ...\n",
      "./newresults\\Saved_Models/Public/Heloc/iter0_depth2_width333_23.pt\n",
      "Loading model ...\n",
      "Get private info ...\n"
     ]
    },
    {
     "name": "stderr",
     "output_type": "stream",
     "text": [
      "\n"
     ]
    },
    {
     "name": "stdout",
     "output_type": "stream",
     "text": [
      "Get shadow info ...\n",
      "Shadow model: 0\n",
      "Shadow model: 1\n",
      "Shadow model: 2\n",
      "Shadow model: 3\n",
      "Shadow model: 4\n",
      "Shadow model: 5\n",
      "Shadow model: 6\n",
      "Shadow model: 7\n",
      "Shadow model: 8\n",
      "Shadow model: 9\n",
      "Shadow model: 10\n",
      "Shadow model: 11\n",
      "Shadow model: 12\n",
      "Shadow model: 13\n",
      "Shadow model: 14\n",
      "Shadow model: 15\n",
      "Shadow model: 16\n",
      "Shadow model: 17\n",
      "Shadow model: 18\n",
      "Shadow model: 19\n",
      "Shadow model: 20\n",
      "Shadow model: 21\n",
      "Shadow model: 22\n",
      "Shadow model: 23\n",
      "    Identified 1926 out of 1926 counterfactual explanations\n",
      "    Identified 641 out of 641 counterfactual explanations\n",
      "    Identified 1926 out of 1926 counterfactual explanations\n",
      "    Identified 641 out of 641 counterfactual explanations\n",
      "    Identified 1926 out of 1926 counterfactual explanations\n",
      "    Identified 641 out of 641 counterfactual explanations\n",
      "    Identified 1926 out of 1926 counterfactual explanations\n",
      "    Identified 641 out of 641 counterfactual explanations\n"
     ]
    },
    {
     "name": "stderr",
     "output_type": "stream",
     "text": [
      "C:\\Users\\fred0\\Anaconda3\\lib\\site-packages\\torch\\nn\\_reduction.py:42: UserWarning: size_average and reduce args will be deprecated, please use reduction='none' instead.\n",
      "  warnings.warn(warning.format(ret))\n"
     ]
    },
    {
     "name": "stdout",
     "output_type": "stream",
     "text": [
      "AUC for BASE DISTANCE when gs when depth 2 and width 333: 0.1352653483086364\n",
      "BA for BASE DISTANCE when gs when depth 2 and width 333: 0.13510780306601672\n",
      "TP0.1 for BASE DISTANCE when gs when depth 2 and width 333: 0.030575\n",
      "TP0.01 for BASE DISTANCE when gs when depth 2 and width 333: 0.0044\n",
      "Compute Lambda on Train\n",
      "Compute Lambda on Test\n",
      "Compute Lambda on Train\n",
      "Compute Lambda on Test\n"
     ]
    },
    {
     "name": "stderr",
     "output_type": "stream",
     "text": [
      " 17%|█████████████▊                                                                     | 4/24 [00:00<00:00, 34.37it/s]"
     ]
    },
    {
     "name": "stdout",
     "output_type": "stream",
     "text": [
      "AUC for LRT DISTANCE when gs when depth 2 and width 333: 0.12567452853877395\n",
      "BA for LRT DISTANCE when gs when depth 2 and width 333: 0.13315306755572404\n",
      "TP0.1 for LRT DISTANCE when gs when depth 2 and width 333: 0.02585\n",
      "TP0.01 for LRT DISTANCE when gs when depth 2 and width 333: 0.0093\n",
      "ITERATION: 1\n",
      "GENERATING RESULTS FOR Heloc\n",
      "Get private models ...\n",
      "./newresults\\Saved_Models/Private/Heloc/iter1_private_depth333_width2.pt\n",
      "Accuracy on Train set: 1.0\n",
      "Accuracy on Test set: 0.6726094003241491\n",
      "Get public models ...\n",
      "./newresults\\Saved_Models/Public/Heloc/iter1_depth2_width333_0.pt\n",
      "Loading model ...\n",
      "./newresults\\Saved_Models/Public/Heloc/iter1_depth2_width333_1.pt\n",
      "Loading model ...\n",
      "./newresults\\Saved_Models/Public/Heloc/iter1_depth2_width333_2.pt\n",
      "Loading model ...\n",
      "./newresults\\Saved_Models/Public/Heloc/iter1_depth2_width333_3.pt\n",
      "Loading model ...\n"
     ]
    },
    {
     "name": "stderr",
     "output_type": "stream",
     "text": [
      " 33%|███████████████████████████▋                                                       | 8/24 [00:00<00:00, 33.38it/s]"
     ]
    },
    {
     "name": "stdout",
     "output_type": "stream",
     "text": [
      "./newresults\\Saved_Models/Public/Heloc/iter1_depth2_width333_4.pt\n",
      "Loading model ...\n",
      "./newresults\\Saved_Models/Public/Heloc/iter1_depth2_width333_5.pt\n",
      "Loading model ...\n",
      "./newresults\\Saved_Models/Public/Heloc/iter1_depth2_width333_6.pt\n",
      "Loading model ...\n",
      "./newresults\\Saved_Models/Public/Heloc/iter1_depth2_width333_7.pt\n",
      "Loading model ...\n",
      "./newresults\\Saved_Models/Public/Heloc/iter1_depth2_width333_8.pt\n",
      "Loading model ...\n",
      "./newresults\\Saved_Models/Public/Heloc/iter1_depth2_width333_9.pt\n",
      "Loading model ...\n",
      "./newresults\\Saved_Models/Public/Heloc/iter1_depth2_width333_10.pt\n"
     ]
    },
    {
     "name": "stderr",
     "output_type": "stream",
     "text": [
      " 62%|███████████████████████████████████████████████████▎                              | 15/24 [00:00<00:00, 31.87it/s]"
     ]
    },
    {
     "name": "stdout",
     "output_type": "stream",
     "text": [
      "Loading model ...\n",
      "./newresults\\Saved_Models/Public/Heloc/iter1_depth2_width333_11.pt\n",
      "Loading model ...\n",
      "./newresults\\Saved_Models/Public/Heloc/iter1_depth2_width333_12.pt\n",
      "Loading model ...\n",
      "./newresults\\Saved_Models/Public/Heloc/iter1_depth2_width333_13.pt\n",
      "Loading model ...\n",
      "./newresults\\Saved_Models/Public/Heloc/iter1_depth2_width333_14.pt\n",
      "Loading model ...\n",
      "./newresults\\Saved_Models/Public/Heloc/iter1_depth2_width333_15.pt\n",
      "Loading model ...\n",
      "./newresults\\Saved_Models/Public/Heloc/iter1_depth2_width333_16.pt"
     ]
    },
    {
     "name": "stderr",
     "output_type": "stream",
     "text": [
      " 88%|███████████████████████████████████████████████████████████████████████▊          | 21/24 [00:00<00:00, 30.33it/s]"
     ]
    },
    {
     "name": "stdout",
     "output_type": "stream",
     "text": [
      "\n",
      "Loading model ...\n",
      "./newresults\\Saved_Models/Public/Heloc/iter1_depth2_width333_17.pt\n",
      "Loading model ...\n",
      "./newresults\\Saved_Models/Public/Heloc/iter1_depth2_width333_18.pt\n",
      "Loading model ...\n",
      "./newresults\\Saved_Models/Public/Heloc/iter1_depth2_width333_19.pt\n",
      "Loading model ...\n",
      "./newresults\\Saved_Models/Public/Heloc/iter1_depth2_width333_20.pt\n",
      "Loading model ...\n",
      "./newresults\\Saved_Models/Public/Heloc/iter1_depth2_width333_21.pt\n",
      "Loading model ...\n",
      "./newresults\\Saved_Models/Public/Heloc/iter1_depth2_width333_22.pt\n"
     ]
    },
    {
     "name": "stderr",
     "output_type": "stream",
     "text": [
      "100%|██████████████████████████████████████████████████████████████████████████████████| 24/24 [00:00<00:00, 30.91it/s]\n"
     ]
    },
    {
     "name": "stdout",
     "output_type": "stream",
     "text": [
      "Loading model ...\n",
      "./newresults\\Saved_Models/Public/Heloc/iter1_depth2_width333_23.pt\n",
      "Loading model ...\n",
      "Get private info ...\n",
      "Get shadow info ...\n",
      "Shadow model: 0\n",
      "Shadow model: 1\n",
      "Shadow model: 2\n",
      "Shadow model: 3\n",
      "Shadow model: 4\n",
      "Shadow model: 5\n",
      "Shadow model: 6\n",
      "Shadow model: 7\n",
      "Shadow model: 8\n",
      "Shadow model: 9\n",
      "Shadow model: 10\n",
      "Shadow model: 11\n",
      "Shadow model: 12\n",
      "Shadow model: 13\n",
      "Shadow model: 14\n",
      "Shadow model: 15\n",
      "Shadow model: 16\n",
      "Shadow model: 17\n",
      "Shadow model: 18\n",
      "Shadow model: 19\n",
      "Shadow model: 20\n",
      "Shadow model: 21\n",
      "Shadow model: 22\n",
      "Shadow model: 23\n",
      "    Identified 1926 out of 1926 counterfactual explanations\n",
      "    Identified 641 out of 641 counterfactual explanations\n",
      "    Identified 1926 out of 1926 counterfactual explanations\n",
      "    Identified 641 out of 641 counterfactual explanations\n",
      "    Identified 1926 out of 1926 counterfactual explanations\n",
      "    Identified 641 out of 641 counterfactual explanations\n",
      "    Identified 1926 out of 1926 counterfactual explanations\n",
      "    Identified 641 out of 641 counterfactual explanations\n",
      "AUC for BASE DISTANCE when gs when depth 2 and width 333: 0.2705306966172728\n",
      "BA for BASE DISTANCE when gs when depth 2 and width 333: 0.27021560613203344\n",
      "TP0.1 for BASE DISTANCE when gs when depth 2 and width 333: 0.06115\n",
      "TP0.01 for BASE DISTANCE when gs when depth 2 and width 333: 0.0088\n",
      "Compute Lambda on Train\n"
     ]
    },
    {
     "name": "stderr",
     "output_type": "stream",
     "text": [
      "C:\\Users\\fred0\\Anaconda3\\lib\\site-packages\\torch\\nn\\_reduction.py:42: UserWarning: size_average and reduce args will be deprecated, please use reduction='none' instead.\n",
      "  warnings.warn(warning.format(ret))\n"
     ]
    },
    {
     "name": "stdout",
     "output_type": "stream",
     "text": [
      "Compute Lambda on Test\n",
      "Compute Lambda on Train\n",
      "Compute Lambda on Test\n"
     ]
    },
    {
     "name": "stderr",
     "output_type": "stream",
     "text": [
      "  0%|                                                                                           | 0/24 [00:00<?, ?it/s]"
     ]
    },
    {
     "name": "stdout",
     "output_type": "stream",
     "text": [
      "AUC for LRT DISTANCE when gs when depth 2 and width 333: 0.2505445233385659\n",
      "BA for LRT DISTANCE when gs when depth 2 and width 333: 0.26590700699679076\n",
      "TP0.1 for LRT DISTANCE when gs when depth 2 and width 333: 0.051975\n",
      "TP0.01 for LRT DISTANCE when gs when depth 2 and width 333: 0.016975\n",
      "ITERATION: 2\n",
      "GENERATING RESULTS FOR Heloc\n",
      "Get private models ...\n",
      "./newresults\\Saved_Models/Private/Heloc/iter2_private_depth333_width2.pt\n",
      "Accuracy on Train set: 1.0\n",
      "Accuracy on Test set: 0.6742301458670988\n",
      "Get public models ...\n",
      "./newresults\\Saved_Models/Public/Heloc/iter2_depth2_width333_0.pt\n",
      "Loading model ...\n",
      "./newresults\\Saved_Models/Public/Heloc/iter2_depth2_width333_1.pt\n",
      "Loading model ...\n",
      "./newresults\\Saved_Models/Public/Heloc/iter2_depth2_width333_2.pt\n"
     ]
    },
    {
     "name": "stderr",
     "output_type": "stream",
     "text": [
      " 33%|███████████████████████████▋                                                       | 8/24 [00:00<00:00, 33.06it/s]"
     ]
    },
    {
     "name": "stdout",
     "output_type": "stream",
     "text": [
      "Loading model ...\n",
      "./newresults\\Saved_Models/Public/Heloc/iter2_depth2_width333_3.pt\n",
      "Loading model ...\n",
      "./newresults\\Saved_Models/Public/Heloc/iter2_depth2_width333_4.pt\n",
      "Loading model ...\n",
      "./newresults\\Saved_Models/Public/Heloc/iter2_depth2_width333_5.pt\n",
      "Loading model ...\n",
      "./newresults\\Saved_Models/Public/Heloc/iter2_depth2_width333_6.pt\n",
      "Loading model ...\n",
      "./newresults\\Saved_Models/Public/Heloc/iter2_depth2_width333_7.pt\n",
      "Loading model ...\n",
      "./newresults\\Saved_Models/Public/Heloc/iter2_depth2_width333_8.pt\n",
      "Loading model ...\n"
     ]
    },
    {
     "name": "stderr",
     "output_type": "stream",
     "text": [
      " 58%|███████████████████████████████████████████████▊                                  | 14/24 [00:00<00:00, 30.77it/s]"
     ]
    },
    {
     "name": "stdout",
     "output_type": "stream",
     "text": [
      "./newresults\\Saved_Models/Public/Heloc/iter2_depth2_width333_9.pt\n",
      "Loading model ...\n",
      "./newresults\\Saved_Models/Public/Heloc/iter2_depth2_width333_10.pt\n",
      "Loading model ...\n",
      "./newresults\\Saved_Models/Public/Heloc/iter2_depth2_width333_11.pt\n",
      "Loading model ...\n",
      "./newresults\\Saved_Models/Public/Heloc/iter2_depth2_width333_12.pt\n",
      "Loading model ...\n",
      "./newresults\\Saved_Models/Public/Heloc/iter2_depth2_width333_13.pt\n",
      "Loading model ...\n"
     ]
    },
    {
     "name": "stderr",
     "output_type": "stream",
     "text": [
      " 83%|████████████████████████████████████████████████████████████████████▎             | 20/24 [00:00<00:00, 29.72it/s]"
     ]
    },
    {
     "name": "stdout",
     "output_type": "stream",
     "text": [
      "./newresults\\Saved_Models/Public/Heloc/iter2_depth2_width333_14.pt\n",
      "Loading model ...\n",
      "./newresults\\Saved_Models/Public/Heloc/iter2_depth2_width333_15.pt\n",
      "Loading model ...\n",
      "./newresults\\Saved_Models/Public/Heloc/iter2_depth2_width333_16.pt\n",
      "Loading model ...\n",
      "./newresults\\Saved_Models/Public/Heloc/iter2_depth2_width333_17.pt\n",
      "Loading model ...\n",
      "./newresults\\Saved_Models/Public/Heloc/iter2_depth2_width333_18.pt\n",
      "Loading model ...\n",
      "./newresults\\Saved_Models/Public/Heloc/iter2_depth2_width333_19.pt\n",
      "Loading model ...\n"
     ]
    },
    {
     "name": "stderr",
     "output_type": "stream",
     "text": [
      "100%|██████████████████████████████████████████████████████████████████████████████████| 24/24 [00:00<00:00, 30.64it/s]\n"
     ]
    },
    {
     "name": "stdout",
     "output_type": "stream",
     "text": [
      "./newresults\\Saved_Models/Public/Heloc/iter2_depth2_width333_20.pt\n",
      "Loading model ...\n",
      "./newresults\\Saved_Models/Public/Heloc/iter2_depth2_width333_21.pt\n",
      "Loading model ...\n",
      "./newresults\\Saved_Models/Public/Heloc/iter2_depth2_width333_22.pt\n",
      "Loading model ...\n",
      "./newresults\\Saved_Models/Public/Heloc/iter2_depth2_width333_23.pt\n",
      "Loading model ...\n",
      "Get private info ...\n",
      "Get shadow info ...\n",
      "Shadow model: 0\n",
      "Shadow model: 1\n",
      "Shadow model: 2\n",
      "Shadow model: 3\n",
      "Shadow model: 4\n",
      "Shadow model: 5\n",
      "Shadow model: 6\n",
      "Shadow model: 7\n",
      "Shadow model: 8\n",
      "Shadow model: 9\n",
      "Shadow model: 10\n",
      "Shadow model: 11\n",
      "Shadow model: 12\n",
      "Shadow model: 13\n",
      "Shadow model: 14\n",
      "Shadow model: 15\n",
      "Shadow model: 16\n",
      "Shadow model: 17\n",
      "Shadow model: 18\n",
      "Shadow model: 19\n",
      "Shadow model: 20\n",
      "Shadow model: 21\n",
      "Shadow model: 22\n",
      "Shadow model: 23\n",
      "    Identified 1926 out of 1926 counterfactual explanations\n",
      "    Identified 641 out of 641 counterfactual explanations\n",
      "    Identified 1926 out of 1926 counterfactual explanations\n",
      "    Identified 641 out of 641 counterfactual explanations\n",
      "    Identified 1926 out of 1926 counterfactual explanations\n",
      "    Identified 641 out of 641 counterfactual explanations\n",
      "    Identified 1926 out of 1926 counterfactual explanations\n",
      "    Identified 641 out of 641 counterfactual explanations\n",
      "AUC for BASE DISTANCE when gs when depth 2 and width 333: 0.4057960449259092\n",
      "BA for BASE DISTANCE when gs when depth 2 and width 333: 0.40532340919805016\n",
      "TP0.1 for BASE DISTANCE when gs when depth 2 and width 333: 0.091725\n",
      "TP0.01 for BASE DISTANCE when gs when depth 2 and width 333: 0.0132\n",
      "Compute Lambda on Train\n"
     ]
    },
    {
     "name": "stderr",
     "output_type": "stream",
     "text": [
      "C:\\Users\\fred0\\Anaconda3\\lib\\site-packages\\torch\\nn\\_reduction.py:42: UserWarning: size_average and reduce args will be deprecated, please use reduction='none' instead.\n",
      "  warnings.warn(warning.format(ret))\n"
     ]
    },
    {
     "name": "stdout",
     "output_type": "stream",
     "text": [
      "Compute Lambda on Test\n",
      "Compute Lambda on Train\n",
      "Compute Lambda on Test\n",
      "AUC for LRT DISTANCE when gs when depth 2 and width 333: 0.37543841317515625\n",
      "BA for LRT DISTANCE when gs when depth 2 and width 333: 0.3964533892882195\n",
      "TP0.1 for LRT DISTANCE when gs when depth 2 and width 333: 0.08015\n",
      "TP0.01 for LRT DISTANCE when gs when depth 2 and width 333: 0.02425\n",
      "ITERATION: 3\n",
      "GENERATING RESULTS FOR Heloc\n",
      "Get private models ...\n",
      "./newresults\\Saved_Models/Private/Heloc/iter3_private_depth333_width2.pt\n"
     ]
    },
    {
     "name": "stderr",
     "output_type": "stream",
     "text": [
      " 12%|██████████▍                                                                        | 3/24 [00:00<00:00, 29.81it/s]"
     ]
    },
    {
     "name": "stdout",
     "output_type": "stream",
     "text": [
      "Accuracy on Train set: 1.0\n",
      "Accuracy on Test set: 0.6677471636952999\n",
      "Get public models ...\n",
      "./newresults\\Saved_Models/Public/Heloc/iter3_depth2_width333_0.pt\n",
      "Loading model ...\n",
      "./newresults\\Saved_Models/Public/Heloc/iter3_depth2_width333_1.pt\n",
      "Loading model ...\n",
      "./newresults\\Saved_Models/Public/Heloc/iter3_depth2_width333_2.pt\n",
      "Loading model ...\n",
      "./newresults\\Saved_Models/Public/Heloc/iter3_depth2_width333_3.pt\n",
      "Loading model ...\n",
      "./newresults\\Saved_Models/Public/Heloc/iter3_depth2_width333_4.pt\n",
      "Loading model ...\n",
      "./newresults\\Saved_Models/Public/Heloc/iter3_depth2_width333_5.pt\n",
      "Loading model ...\n",
      "./newresults\\Saved_Models/Public/Heloc/iter3_depth2_width333_6.pt\n"
     ]
    },
    {
     "name": "stderr",
     "output_type": "stream",
     "text": [
      " 42%|██████████████████████████████████▏                                               | 10/24 [00:00<00:00, 29.12it/s]"
     ]
    },
    {
     "name": "stdout",
     "output_type": "stream",
     "text": [
      "Loading model ...\n",
      "./newresults\\Saved_Models/Public/Heloc/iter3_depth2_width333_7.pt\n",
      "Loading model ...\n",
      "./newresults\\Saved_Models/Public/Heloc/iter3_depth2_width333_8.pt\n",
      "Loading model ...\n",
      "./newresults\\Saved_Models/Public/Heloc/iter3_depth2_width333_9.pt\n",
      "Loading model ...\n",
      "./newresults\\Saved_Models/Public/Heloc/iter3_depth2_width333_10.pt\n",
      "Loading model ...\n",
      "./newresults\\Saved_Models/Public/Heloc/iter3_depth2_width333_11.pt"
     ]
    },
    {
     "name": "stderr",
     "output_type": "stream",
     "text": [
      " 58%|███████████████████████████████████████████████▊                                  | 14/24 [00:00<00:00, 22.99it/s]"
     ]
    },
    {
     "name": "stdout",
     "output_type": "stream",
     "text": [
      "\n",
      "Loading model ...\n",
      "./newresults\\Saved_Models/Public/Heloc/iter3_depth2_width333_12.pt\n",
      "Loading model ...\n",
      "./newresults\\Saved_Models/Public/Heloc/iter3_depth2_width333_13.pt\n",
      "Loading model ...\n",
      "./newresults\\Saved_Models/Public/Heloc/iter3_depth2_width333_14.pt\n",
      "Loading model ...\n",
      "./newresults\\Saved_Models/Public/Heloc/iter3_depth2_width333_15.pt\n"
     ]
    },
    {
     "name": "stderr",
     "output_type": "stream",
     "text": [
      " 83%|████████████████████████████████████████████████████████████████████▎             | 20/24 [00:00<00:00, 25.33it/s]"
     ]
    },
    {
     "name": "stdout",
     "output_type": "stream",
     "text": [
      "Loading model ...\n",
      "./newresults\\Saved_Models/Public/Heloc/iter3_depth2_width333_16.pt\n",
      "Loading model ...\n",
      "./newresults\\Saved_Models/Public/Heloc/iter3_depth2_width333_17.pt\n",
      "Loading model ...\n",
      "./newresults\\Saved_Models/Public/Heloc/iter3_depth2_width333_18.pt\n",
      "Loading model ...\n",
      "./newresults\\Saved_Models/Public/Heloc/iter3_depth2_width333_19.pt\n",
      "Loading model ...\n",
      "./newresults\\Saved_Models/Public/Heloc/iter3_depth2_width333_20.pt\n",
      "Loading model ...\n",
      "./newresults\\Saved_Models/Public/Heloc/iter3_depth2_width333_21.pt\n"
     ]
    },
    {
     "name": "stderr",
     "output_type": "stream",
     "text": [
      "100%|██████████████████████████████████████████████████████████████████████████████████| 24/24 [00:00<00:00, 26.47it/s]\n"
     ]
    },
    {
     "name": "stdout",
     "output_type": "stream",
     "text": [
      "Loading model ...\n",
      "./newresults\\Saved_Models/Public/Heloc/iter3_depth2_width333_22.pt\n",
      "Loading model ...\n",
      "./newresults\\Saved_Models/Public/Heloc/iter3_depth2_width333_23.pt\n",
      "Loading model ...\n",
      "Get private info ...\n",
      "Get shadow info ...\n",
      "Shadow model: 0\n",
      "Shadow model: 1\n",
      "Shadow model: 2\n",
      "Shadow model: 3\n",
      "Shadow model: 4\n",
      "Shadow model: 5\n",
      "Shadow model: 6\n",
      "Shadow model: 7\n",
      "Shadow model: 8\n",
      "Shadow model: 9\n",
      "Shadow model: 10\n",
      "Shadow model: 11\n",
      "Shadow model: 12\n",
      "Shadow model: 13\n",
      "Shadow model: 14\n",
      "Shadow model: 15\n",
      "Shadow model: 16\n",
      "Shadow model: 17\n",
      "Shadow model: 18\n",
      "Shadow model: 19\n",
      "Shadow model: 20\n",
      "Shadow model: 21\n",
      "Shadow model: 22\n",
      "Shadow model: 23\n",
      "    Identified 1926 out of 1926 counterfactual explanations\n",
      "    Identified 641 out of 641 counterfactual explanations\n",
      "    Identified 1926 out of 1926 counterfactual explanations\n",
      "    Identified 641 out of 641 counterfactual explanations\n",
      "    Identified 1926 out of 1926 counterfactual explanations\n",
      "    Identified 641 out of 641 counterfactual explanations\n",
      "    Identified 1926 out of 1926 counterfactual explanations\n",
      "    Identified 641 out of 641 counterfactual explanations\n",
      "AUC for BASE DISTANCE when gs when depth 2 and width 333: 0.5410613932345456\n",
      "BA for BASE DISTANCE when gs when depth 2 and width 333: 0.5404312122640669\n",
      "TP0.1 for BASE DISTANCE when gs when depth 2 and width 333: 0.1223\n",
      "TP0.01 for BASE DISTANCE when gs when depth 2 and width 333: 0.0176\n",
      "Compute Lambda on Train\n"
     ]
    },
    {
     "name": "stderr",
     "output_type": "stream",
     "text": [
      "C:\\Users\\fred0\\Anaconda3\\lib\\site-packages\\torch\\nn\\_reduction.py:42: UserWarning: size_average and reduce args will be deprecated, please use reduction='none' instead.\n",
      "  warnings.warn(warning.format(ret))\n"
     ]
    },
    {
     "name": "stdout",
     "output_type": "stream",
     "text": [
      "Compute Lambda on Test\n",
      "Compute Lambda on Train\n",
      "Compute Lambda on Test\n",
      "AUC for LRT DISTANCE when gs when depth 2 and width 333: 0.49926229136392863\n",
      "BA for LRT DISTANCE when gs when depth 2 and width 333: 0.5273300495882763\n",
      "TP0.1 for LRT DISTANCE when gs when depth 2 and width 333: 0.104825\n",
      "TP0.01 for LRT DISTANCE when gs when depth 2 and width 333: 0.030925\n",
      "ITERATION: 0\n",
      "GENERATING RESULTS FOR Diabetes\n",
      "Get private models ...\n",
      "./newresults\\Saved_Models/Private/Diabetes/iter0_private_depth333_width2.pt\n",
      "Accuracy on Train set: 0.9613607314914955\n"
     ]
    },
    {
     "name": "stderr",
     "output_type": "stream",
     "text": [
      "  4%|███▍                                                                               | 1/24 [00:00<00:02,  8.91it/s]"
     ]
    },
    {
     "name": "stdout",
     "output_type": "stream",
     "text": [
      "Accuracy on Test set: 0.5378262793098363\n",
      "Get public models ...\n",
      "./newresults\\Saved_Models/Public/Diabetes/iter0_depth2_width333_0.pt\n",
      "Loading model ...\n",
      "./newresults\\Saved_Models/Public/Diabetes/iter0_depth2_width333_1.pt\n",
      "Loading model ...\n"
     ]
    },
    {
     "name": "stderr",
     "output_type": "stream",
     "text": [
      " 12%|██████████▍                                                                        | 3/24 [00:00<00:02,  8.63it/s]"
     ]
    },
    {
     "name": "stdout",
     "output_type": "stream",
     "text": [
      "./newresults\\Saved_Models/Public/Diabetes/iter0_depth2_width333_2.pt\n",
      "Loading model ...\n",
      "./newresults\\Saved_Models/Public/Diabetes/iter0_depth2_width333_3.pt\n",
      "Loading model ...\n"
     ]
    },
    {
     "name": "stderr",
     "output_type": "stream",
     "text": [
      " 21%|█████████████████▎                                                                 | 5/24 [00:00<00:02,  8.37it/s]"
     ]
    },
    {
     "name": "stdout",
     "output_type": "stream",
     "text": [
      "./newresults\\Saved_Models/Public/Diabetes/iter0_depth2_width333_4.pt\n",
      "Loading model ...\n",
      "./newresults\\Saved_Models/Public/Diabetes/iter0_depth2_width333_5.pt\n",
      "Loading model ...\n"
     ]
    },
    {
     "name": "stderr",
     "output_type": "stream",
     "text": [
      " 29%|████████████████████████▏                                                          | 7/24 [00:00<00:02,  7.77it/s]"
     ]
    },
    {
     "name": "stdout",
     "output_type": "stream",
     "text": [
      "./newresults\\Saved_Models/Public/Diabetes/iter0_depth2_width333_6.pt\n",
      "Loading model ...\n",
      "./newresults\\Saved_Models/Public/Diabetes/iter0_depth2_width333_7.pt\n",
      "Loading model ...\n"
     ]
    },
    {
     "name": "stderr",
     "output_type": "stream",
     "text": [
      " 38%|███████████████████████████████▏                                                   | 9/24 [00:01<00:01,  8.12it/s]"
     ]
    },
    {
     "name": "stdout",
     "output_type": "stream",
     "text": [
      "./newresults\\Saved_Models/Public/Diabetes/iter0_depth2_width333_8.pt\n",
      "Loading model ...\n",
      "./newresults\\Saved_Models/Public/Diabetes/iter0_depth2_width333_9.pt\n",
      "Loading model ...\n"
     ]
    },
    {
     "name": "stderr",
     "output_type": "stream",
     "text": [
      " 46%|█████████████████████████████████████▌                                            | 11/24 [00:01<00:01,  7.57it/s]"
     ]
    },
    {
     "name": "stdout",
     "output_type": "stream",
     "text": [
      "./newresults\\Saved_Models/Public/Diabetes/iter0_depth2_width333_10.pt\n",
      "Loading model ...\n",
      "./newresults\\Saved_Models/Public/Diabetes/iter0_depth2_width333_11.pt\n",
      "Loading model ...\n"
     ]
    },
    {
     "name": "stderr",
     "output_type": "stream",
     "text": [
      " 54%|████████████████████████████████████████████▍                                     | 13/24 [00:01<00:01,  7.90it/s]"
     ]
    },
    {
     "name": "stdout",
     "output_type": "stream",
     "text": [
      "./newresults\\Saved_Models/Public/Diabetes/iter0_depth2_width333_12.pt\n",
      "Loading model ...\n",
      "./newresults\\Saved_Models/Public/Diabetes/iter0_depth2_width333_13.pt\n",
      "Loading model ...\n"
     ]
    },
    {
     "name": "stderr",
     "output_type": "stream",
     "text": [
      " 62%|███████████████████████████████████████████████████▎                              | 15/24 [00:01<00:01,  7.56it/s]"
     ]
    },
    {
     "name": "stdout",
     "output_type": "stream",
     "text": [
      "./newresults\\Saved_Models/Public/Diabetes/iter0_depth2_width333_14.pt\n",
      "Loading model ...\n",
      "./newresults\\Saved_Models/Public/Diabetes/iter0_depth2_width333_15.pt\n",
      "Loading model ...\n"
     ]
    },
    {
     "name": "stderr",
     "output_type": "stream",
     "text": [
      " 71%|██████████████████████████████████████████████████████████                        | 17/24 [00:02<00:00,  7.69it/s]"
     ]
    },
    {
     "name": "stdout",
     "output_type": "stream",
     "text": [
      "./newresults\\Saved_Models/Public/Diabetes/iter0_depth2_width333_16.pt\n",
      "Loading model ...\n",
      "./newresults\\Saved_Models/Public/Diabetes/iter0_depth2_width333_17.pt\n",
      "Loading model ...\n"
     ]
    },
    {
     "name": "stderr",
     "output_type": "stream",
     "text": [
      " 79%|████████████████████████████████████████████████████████████████▉                 | 19/24 [00:02<00:00,  7.91it/s]"
     ]
    },
    {
     "name": "stdout",
     "output_type": "stream",
     "text": [
      "./newresults\\Saved_Models/Public/Diabetes/iter0_depth2_width333_18.pt\n",
      "Loading model ...\n",
      "./newresults\\Saved_Models/Public/Diabetes/iter0_depth2_width333_19.pt\n",
      "Loading model ...\n"
     ]
    },
    {
     "name": "stderr",
     "output_type": "stream",
     "text": [
      " 88%|███████████████████████████████████████████████████████████████████████▊          | 21/24 [00:02<00:00,  7.48it/s]"
     ]
    },
    {
     "name": "stdout",
     "output_type": "stream",
     "text": [
      "./newresults\\Saved_Models/Public/Diabetes/iter0_depth2_width333_20.pt\n",
      "Loading model ...\n",
      "./newresults\\Saved_Models/Public/Diabetes/iter0_depth2_width333_21.pt\n",
      "Loading model ...\n"
     ]
    },
    {
     "name": "stderr",
     "output_type": "stream",
     "text": [
      " 96%|██████████████████████████████████████████████████████████████████████████████▌   | 23/24 [00:02<00:00,  7.70it/s]"
     ]
    },
    {
     "name": "stdout",
     "output_type": "stream",
     "text": [
      "./newresults\\Saved_Models/Public/Diabetes/iter0_depth2_width333_22.pt\n",
      "Loading model ...\n",
      "./newresults\\Saved_Models/Public/Diabetes/iter0_depth2_width333_23.pt\n",
      "Loading model ...\n"
     ]
    },
    {
     "name": "stderr",
     "output_type": "stream",
     "text": [
      "100%|██████████████████████████████████████████████████████████████████████████████████| 24/24 [00:03<00:00,  7.81it/s]\n"
     ]
    },
    {
     "name": "stdout",
     "output_type": "stream",
     "text": [
      "Get private info ...\n",
      "Get shadow info ...\n",
      "Shadow model: 0\n",
      "Shadow model: 1\n",
      "Shadow model: 2\n",
      "Shadow model: 3\n",
      "Shadow model: 4\n",
      "Shadow model: 5\n",
      "Shadow model: 6\n",
      "Shadow model: 7\n",
      "Shadow model: 8\n",
      "Shadow model: 9\n",
      "Shadow model: 10\n",
      "Shadow model: 11\n",
      "Shadow model: 12\n",
      "Shadow model: 13\n",
      "Shadow model: 14\n",
      "Shadow model: 15\n",
      "Shadow model: 16\n",
      "Shadow model: 17\n",
      "Shadow model: 18\n",
      "Shadow model: 19\n",
      "Shadow model: 20\n",
      "Shadow model: 21\n",
      "Shadow model: 22\n",
      "Shadow model: 23\n",
      "    Identified 3000 out of 3000 counterfactual explanations\n",
      "    Identified 3000 out of 3000 counterfactual explanations\n",
      "    Identified 3000 out of 3000 counterfactual explanations\n",
      "    Identified 3000 out of 3000 counterfactual explanations\n",
      "    Identified 3000 out of 3000 counterfactual explanations\n",
      "    Identified 3000 out of 3000 counterfactual explanations\n",
      "    Identified 3000 out of 3000 counterfactual explanations\n",
      "    Identified 3000 out of 3000 counterfactual explanations\n"
     ]
    },
    {
     "name": "stderr",
     "output_type": "stream",
     "text": [
      "C:\\Users\\fred0\\Anaconda3\\lib\\site-packages\\torch\\nn\\_reduction.py:42: UserWarning: size_average and reduce args will be deprecated, please use reduction='none' instead.\n",
      "  warnings.warn(warning.format(ret))\n"
     ]
    },
    {
     "name": "stdout",
     "output_type": "stream",
     "text": [
      "AUC for BASE DISTANCE when gs when depth 2 and width 333: 0.12401631944444444\n",
      "BA for BASE DISTANCE when gs when depth 2 and width 333: 0.12754166666666666\n",
      "TP0.1 for BASE DISTANCE when gs when depth 2 and width 333: 0.022\n",
      "TP0.01 for BASE DISTANCE when gs when depth 2 and width 333: 0.002675\n",
      "Compute Lambda on Train\n",
      "Compute Lambda on Test\n",
      "Compute Lambda on Train\n",
      "Compute Lambda on Test\n",
      "AUC for LRT DISTANCE when gs when depth 2 and width 333: 0.12443763888888888\n",
      "BA for LRT DISTANCE when gs when depth 2 and width 333: 0.12695833333333334\n",
      "TP0.1 for LRT DISTANCE when gs when depth 2 and width 333: 0.026325\n",
      "TP0.01 for LRT DISTANCE when gs when depth 2 and width 333: 0.00315\n",
      "ITERATION: 1\n",
      "GENERATING RESULTS FOR Diabetes\n"
     ]
    },
    {
     "name": "stderr",
     "output_type": "stream",
     "text": [
      "  0%|                                                                                           | 0/24 [00:00<?, ?it/s]"
     ]
    },
    {
     "name": "stdout",
     "output_type": "stream",
     "text": [
      "Get private models ...\n",
      "./newresults\\Saved_Models/Private/Diabetes/iter1_private_depth333_width2.pt\n",
      "Accuracy on Train set: 0.9568380690197621\n",
      "Accuracy on Test set: 0.5320749152042472\n",
      "Get public models ...\n",
      "./newresults\\Saved_Models/Public/Diabetes/iter1_depth2_width333_0.pt\n",
      "Loading model ...\n"
     ]
    },
    {
     "name": "stderr",
     "output_type": "stream",
     "text": [
      "  8%|██████▉                                                                            | 2/24 [00:00<00:02,  7.37it/s]"
     ]
    },
    {
     "name": "stdout",
     "output_type": "stream",
     "text": [
      "./newresults\\Saved_Models/Public/Diabetes/iter1_depth2_width333_1.pt\n",
      "Loading model ...\n",
      "./newresults\\Saved_Models/Public/Diabetes/iter1_depth2_width333_2.pt\n",
      "Loading model ...\n"
     ]
    },
    {
     "name": "stderr",
     "output_type": "stream",
     "text": [
      " 17%|█████████████▊                                                                     | 4/24 [00:00<00:02,  7.26it/s]"
     ]
    },
    {
     "name": "stdout",
     "output_type": "stream",
     "text": [
      "./newresults\\Saved_Models/Public/Diabetes/iter1_depth2_width333_3.pt\n",
      "Loading model ...\n",
      "./newresults\\Saved_Models/Public/Diabetes/iter1_depth2_width333_4.pt\n",
      "Loading model ...\n"
     ]
    },
    {
     "name": "stderr",
     "output_type": "stream",
     "text": [
      " 25%|████████████████████▊                                                              | 6/24 [00:00<00:02,  7.48it/s]"
     ]
    },
    {
     "name": "stdout",
     "output_type": "stream",
     "text": [
      "./newresults\\Saved_Models/Public/Diabetes/iter1_depth2_width333_5.pt\n",
      "Loading model ...\n",
      "./newresults\\Saved_Models/Public/Diabetes/iter1_depth2_width333_6.pt\n",
      "Loading model ...\n"
     ]
    },
    {
     "name": "stderr",
     "output_type": "stream",
     "text": [
      " 33%|███████████████████████████▋                                                       | 8/24 [00:01<00:02,  7.98it/s]"
     ]
    },
    {
     "name": "stdout",
     "output_type": "stream",
     "text": [
      "./newresults\\Saved_Models/Public/Diabetes/iter1_depth2_width333_7.pt\n",
      "Loading model ...\n",
      "./newresults\\Saved_Models/Public/Diabetes/iter1_depth2_width333_8.pt\n",
      "Loading model ...\n"
     ]
    },
    {
     "name": "stderr",
     "output_type": "stream",
     "text": [
      " 42%|██████████████████████████████████▏                                               | 10/24 [00:01<00:01,  7.69it/s]"
     ]
    },
    {
     "name": "stdout",
     "output_type": "stream",
     "text": [
      "./newresults\\Saved_Models/Public/Diabetes/iter1_depth2_width333_9.pt\n",
      "Loading model ...\n",
      "./newresults\\Saved_Models/Public/Diabetes/iter1_depth2_width333_10.pt\n",
      "Loading model ...\n"
     ]
    },
    {
     "name": "stderr",
     "output_type": "stream",
     "text": [
      " 50%|█████████████████████████████████████████                                         | 12/24 [00:01<00:01,  7.01it/s]"
     ]
    },
    {
     "name": "stdout",
     "output_type": "stream",
     "text": [
      "./newresults\\Saved_Models/Public/Diabetes/iter1_depth2_width333_11.pt\n",
      "Loading model ...\n",
      "./newresults\\Saved_Models/Public/Diabetes/iter1_depth2_width333_12.pt\n",
      "Loading model ...\n"
     ]
    },
    {
     "name": "stderr",
     "output_type": "stream",
     "text": [
      " 58%|███████████████████████████████████████████████▊                                  | 14/24 [00:01<00:01,  7.50it/s]"
     ]
    },
    {
     "name": "stdout",
     "output_type": "stream",
     "text": [
      "./newresults\\Saved_Models/Public/Diabetes/iter1_depth2_width333_13.pt\n",
      "Loading model ...\n",
      "./newresults\\Saved_Models/Public/Diabetes/iter1_depth2_width333_14.pt\n",
      "Loading model ...\n"
     ]
    },
    {
     "name": "stderr",
     "output_type": "stream",
     "text": [
      " 67%|██████████████████████████████████████████████████████▋                           | 16/24 [00:02<00:01,  7.82it/s]"
     ]
    },
    {
     "name": "stdout",
     "output_type": "stream",
     "text": [
      "./newresults\\Saved_Models/Public/Diabetes/iter1_depth2_width333_15.pt\n",
      "Loading model ...\n",
      "./newresults\\Saved_Models/Public/Diabetes/iter1_depth2_width333_16.pt\n",
      "Loading model ...\n"
     ]
    },
    {
     "name": "stderr",
     "output_type": "stream",
     "text": [
      " 75%|█████████████████████████████████████████████████████████████▌                    | 18/24 [00:02<00:00,  7.85it/s]"
     ]
    },
    {
     "name": "stdout",
     "output_type": "stream",
     "text": [
      "./newresults\\Saved_Models/Public/Diabetes/iter1_depth2_width333_17.pt\n",
      "Loading model ...\n",
      "./newresults\\Saved_Models/Public/Diabetes/iter1_depth2_width333_18.pt\n",
      "Loading model ...\n"
     ]
    },
    {
     "name": "stderr",
     "output_type": "stream",
     "text": [
      " 83%|████████████████████████████████████████████████████████████████████▎             | 20/24 [00:02<00:00,  7.87it/s]"
     ]
    },
    {
     "name": "stdout",
     "output_type": "stream",
     "text": [
      "./newresults\\Saved_Models/Public/Diabetes/iter1_depth2_width333_19.pt\n",
      "Loading model ...\n",
      "./newresults\\Saved_Models/Public/Diabetes/iter1_depth2_width333_20.pt\n",
      "Loading model ...\n"
     ]
    },
    {
     "name": "stderr",
     "output_type": "stream",
     "text": [
      " 92%|███████████████████████████████████████████████████████████████████████████▏      | 22/24 [00:02<00:00,  7.18it/s]"
     ]
    },
    {
     "name": "stdout",
     "output_type": "stream",
     "text": [
      "./newresults\\Saved_Models/Public/Diabetes/iter1_depth2_width333_21.pt\n",
      "Loading model ...\n",
      "./newresults\\Saved_Models/Public/Diabetes/iter1_depth2_width333_22.pt\n",
      "Loading model ...\n"
     ]
    },
    {
     "name": "stderr",
     "output_type": "stream",
     "text": [
      "100%|██████████████████████████████████████████████████████████████████████████████████| 24/24 [00:03<00:00,  7.25it/s]\n"
     ]
    },
    {
     "name": "stdout",
     "output_type": "stream",
     "text": [
      "./newresults\\Saved_Models/Public/Diabetes/iter1_depth2_width333_23.pt\n",
      "Loading model ...\n",
      "Get private info ...\n",
      "Get shadow info ...\n",
      "Shadow model: 0\n",
      "Shadow model: 1\n",
      "Shadow model: 2\n",
      "Shadow model: 3\n",
      "Shadow model: 4\n",
      "Shadow model: 5\n",
      "Shadow model: 6\n",
      "Shadow model: 7\n",
      "Shadow model: 8\n",
      "Shadow model: 9\n",
      "Shadow model: 10\n",
      "Shadow model: 11\n",
      "Shadow model: 12\n",
      "Shadow model: 13\n",
      "Shadow model: 14\n",
      "Shadow model: 15\n",
      "Shadow model: 16\n",
      "Shadow model: 17\n",
      "Shadow model: 18\n",
      "Shadow model: 19\n",
      "Shadow model: 20\n",
      "Shadow model: 21\n",
      "Shadow model: 22\n",
      "Shadow model: 23\n",
      "    Identified 3000 out of 3000 counterfactual explanations\n",
      "    Identified 3000 out of 3000 counterfactual explanations\n",
      "    Identified 3000 out of 3000 counterfactual explanations\n",
      "    Identified 3000 out of 3000 counterfactual explanations\n",
      "    Identified 3000 out of 3000 counterfactual explanations\n",
      "    Identified 3000 out of 3000 counterfactual explanations\n",
      "    Identified 3000 out of 3000 counterfactual explanations\n",
      "    Identified 3000 out of 3000 counterfactual explanations\n"
     ]
    },
    {
     "name": "stderr",
     "output_type": "stream",
     "text": [
      "C:\\Users\\fred0\\Anaconda3\\lib\\site-packages\\torch\\nn\\_reduction.py:42: UserWarning: size_average and reduce args will be deprecated, please use reduction='none' instead.\n",
      "  warnings.warn(warning.format(ret))\n"
     ]
    },
    {
     "name": "stdout",
     "output_type": "stream",
     "text": [
      "AUC for BASE DISTANCE when gs when depth 2 and width 333: 0.24803263888888888\n",
      "BA for BASE DISTANCE when gs when depth 2 and width 333: 0.25508333333333333\n",
      "TP0.1 for BASE DISTANCE when gs when depth 2 and width 333: 0.044\n",
      "TP0.01 for BASE DISTANCE when gs when depth 2 and width 333: 0.00535\n",
      "Compute Lambda on Train\n",
      "Compute Lambda on Test\n",
      "Compute Lambda on Train\n",
      "Compute Lambda on Test\n",
      "AUC for LRT DISTANCE when gs when depth 2 and width 333: 0.24975119444444444\n",
      "BA for LRT DISTANCE when gs when depth 2 and width 333: 0.25458333333333333\n",
      "TP0.1 for LRT DISTANCE when gs when depth 2 and width 333: 0.05365\n",
      "TP0.01 for LRT DISTANCE when gs when depth 2 and width 333: 0.005974999999999999\n",
      "ITERATION: 2\n",
      "GENERATING RESULTS FOR Diabetes\n",
      "Get private models ...\n",
      "./newresults\\Saved_Models/Private/Diabetes/iter2_private_depth333_width2.pt\n"
     ]
    },
    {
     "name": "stderr",
     "output_type": "stream",
     "text": [
      "  4%|███▍                                                                               | 1/24 [00:00<00:02,  8.46it/s]"
     ]
    },
    {
     "name": "stdout",
     "output_type": "stream",
     "text": [
      "Accuracy on Train set: 0.9461704847114345\n",
      "Accuracy on Test set: 0.5372363958118271\n",
      "Get public models ...\n",
      "./newresults\\Saved_Models/Public/Diabetes/iter2_depth2_width333_0.pt\n",
      "Loading model ...\n",
      "./newresults\\Saved_Models/Public/Diabetes/iter2_depth2_width333_1.pt\n",
      "Loading model ...\n"
     ]
    },
    {
     "name": "stderr",
     "output_type": "stream",
     "text": [
      " 12%|██████████▍                                                                        | 3/24 [00:00<00:02,  8.29it/s]"
     ]
    },
    {
     "name": "stdout",
     "output_type": "stream",
     "text": [
      "./newresults\\Saved_Models/Public/Diabetes/iter2_depth2_width333_2.pt\n",
      "Loading model ...\n",
      "./newresults\\Saved_Models/Public/Diabetes/iter2_depth2_width333_3.pt\n",
      "Loading model ...\n"
     ]
    },
    {
     "name": "stderr",
     "output_type": "stream",
     "text": [
      " 21%|█████████████████▎                                                                 | 5/24 [00:00<00:02,  8.29it/s]"
     ]
    },
    {
     "name": "stdout",
     "output_type": "stream",
     "text": [
      "./newresults\\Saved_Models/Public/Diabetes/iter2_depth2_width333_4.pt\n",
      "Loading model ...\n",
      "./newresults\\Saved_Models/Public/Diabetes/iter2_depth2_width333_5.pt\n",
      "Loading model ...\n"
     ]
    },
    {
     "name": "stderr",
     "output_type": "stream",
     "text": [
      " 29%|████████████████████████▏                                                          | 7/24 [00:00<00:01,  8.53it/s]"
     ]
    },
    {
     "name": "stdout",
     "output_type": "stream",
     "text": [
      "./newresults\\Saved_Models/Public/Diabetes/iter2_depth2_width333_6.pt\n",
      "Loading model ...\n",
      "./newresults\\Saved_Models/Public/Diabetes/iter2_depth2_width333_7.pt\n",
      "Loading model ...\n"
     ]
    },
    {
     "name": "stderr",
     "output_type": "stream",
     "text": [
      " 38%|███████████████████████████████▏                                                   | 9/24 [00:01<00:01,  8.78it/s]"
     ]
    },
    {
     "name": "stdout",
     "output_type": "stream",
     "text": [
      "./newresults\\Saved_Models/Public/Diabetes/iter2_depth2_width333_8.pt\n",
      "Loading model ...\n",
      "./newresults\\Saved_Models/Public/Diabetes/iter2_depth2_width333_9.pt\n",
      "Loading model ...\n"
     ]
    },
    {
     "name": "stderr",
     "output_type": "stream",
     "text": [
      " 46%|█████████████████████████████████████▌                                            | 11/24 [00:01<00:01,  8.66it/s]"
     ]
    },
    {
     "name": "stdout",
     "output_type": "stream",
     "text": [
      "./newresults\\Saved_Models/Public/Diabetes/iter2_depth2_width333_10.pt\n",
      "Loading model ...\n",
      "./newresults\\Saved_Models/Public/Diabetes/iter2_depth2_width333_11.pt\n",
      "Loading model ...\n"
     ]
    },
    {
     "name": "stderr",
     "output_type": "stream",
     "text": [
      " 54%|████████████████████████████████████████████▍                                     | 13/24 [00:01<00:01,  8.46it/s]"
     ]
    },
    {
     "name": "stdout",
     "output_type": "stream",
     "text": [
      "./newresults\\Saved_Models/Public/Diabetes/iter2_depth2_width333_12.pt\n",
      "Loading model ...\n",
      "./newresults\\Saved_Models/Public/Diabetes/iter2_depth2_width333_13.pt\n",
      "Loading model ...\n"
     ]
    },
    {
     "name": "stderr",
     "output_type": "stream",
     "text": [
      " 62%|███████████████████████████████████████████████████▎                              | 15/24 [00:01<00:01,  8.47it/s]"
     ]
    },
    {
     "name": "stdout",
     "output_type": "stream",
     "text": [
      "./newresults\\Saved_Models/Public/Diabetes/iter2_depth2_width333_14.pt\n",
      "Loading model ...\n",
      "./newresults\\Saved_Models/Public/Diabetes/iter2_depth2_width333_15.pt\n",
      "Loading model ...\n"
     ]
    },
    {
     "name": "stderr",
     "output_type": "stream",
     "text": [
      " 71%|██████████████████████████████████████████████████████████                        | 17/24 [00:02<00:00,  8.24it/s]"
     ]
    },
    {
     "name": "stdout",
     "output_type": "stream",
     "text": [
      "./newresults\\Saved_Models/Public/Diabetes/iter2_depth2_width333_16.pt\n",
      "Loading model ...\n",
      "./newresults\\Saved_Models/Public/Diabetes/iter2_depth2_width333_17.pt\n",
      "Loading model ...\n"
     ]
    },
    {
     "name": "stderr",
     "output_type": "stream",
     "text": [
      " 79%|████████████████████████████████████████████████████████████████▉                 | 19/24 [00:02<00:00,  8.31it/s]"
     ]
    },
    {
     "name": "stdout",
     "output_type": "stream",
     "text": [
      "./newresults\\Saved_Models/Public/Diabetes/iter2_depth2_width333_18.pt\n",
      "Loading model ...\n",
      "./newresults\\Saved_Models/Public/Diabetes/iter2_depth2_width333_19.pt\n",
      "Loading model ...\n"
     ]
    },
    {
     "name": "stderr",
     "output_type": "stream",
     "text": [
      " 88%|███████████████████████████████████████████████████████████████████████▊          | 21/24 [00:02<00:00,  8.32it/s]"
     ]
    },
    {
     "name": "stdout",
     "output_type": "stream",
     "text": [
      "./newresults\\Saved_Models/Public/Diabetes/iter2_depth2_width333_20.pt\n",
      "Loading model ...\n",
      "./newresults\\Saved_Models/Public/Diabetes/iter2_depth2_width333_21.pt\n",
      "Loading model ...\n"
     ]
    },
    {
     "name": "stderr",
     "output_type": "stream",
     "text": [
      " 96%|██████████████████████████████████████████████████████████████████████████████▌   | 23/24 [00:02<00:00,  8.55it/s]"
     ]
    },
    {
     "name": "stdout",
     "output_type": "stream",
     "text": [
      "./newresults\\Saved_Models/Public/Diabetes/iter2_depth2_width333_22.pt\n",
      "Loading model ...\n",
      "./newresults\\Saved_Models/Public/Diabetes/iter2_depth2_width333_23.pt\n",
      "Loading model ...\n"
     ]
    },
    {
     "name": "stderr",
     "output_type": "stream",
     "text": [
      "100%|██████████████████████████████████████████████████████████████████████████████████| 24/24 [00:02<00:00,  8.46it/s]\n"
     ]
    },
    {
     "name": "stdout",
     "output_type": "stream",
     "text": [
      "Get private info ...\n",
      "Get shadow info ...\n",
      "Shadow model: 0\n",
      "Shadow model: 1\n",
      "Shadow model: 2\n",
      "Shadow model: 3\n",
      "Shadow model: 4\n",
      "Shadow model: 5\n",
      "Shadow model: 6\n",
      "Shadow model: 7\n",
      "Shadow model: 8\n",
      "Shadow model: 9\n",
      "Shadow model: 10\n",
      "Shadow model: 11\n",
      "Shadow model: 12\n",
      "Shadow model: 13\n",
      "Shadow model: 14\n",
      "Shadow model: 15\n",
      "Shadow model: 16\n",
      "Shadow model: 17\n",
      "Shadow model: 18\n",
      "Shadow model: 19\n",
      "Shadow model: 20\n",
      "Shadow model: 21\n",
      "Shadow model: 22\n",
      "Shadow model: 23\n",
      "    Identified 3000 out of 3000 counterfactual explanations\n",
      "    Identified 3000 out of 3000 counterfactual explanations\n",
      "    Identified 3000 out of 3000 counterfactual explanations\n",
      "    Identified 3000 out of 3000 counterfactual explanations\n",
      "    Identified 3000 out of 3000 counterfactual explanations\n",
      "    Identified 3000 out of 3000 counterfactual explanations\n",
      "    Identified 3000 out of 3000 counterfactual explanations\n",
      "    Identified 3000 out of 3000 counterfactual explanations\n"
     ]
    },
    {
     "name": "stderr",
     "output_type": "stream",
     "text": [
      "C:\\Users\\fred0\\Anaconda3\\lib\\site-packages\\torch\\nn\\_reduction.py:42: UserWarning: size_average and reduce args will be deprecated, please use reduction='none' instead.\n",
      "  warnings.warn(warning.format(ret))\n"
     ]
    },
    {
     "name": "stdout",
     "output_type": "stream",
     "text": [
      "AUC for BASE DISTANCE when gs when depth 2 and width 333: 0.3720489583333333\n",
      "BA for BASE DISTANCE when gs when depth 2 and width 333: 0.382625\n",
      "TP0.1 for BASE DISTANCE when gs when depth 2 and width 333: 0.066\n",
      "TP0.01 for BASE DISTANCE when gs when depth 2 and width 333: 0.008025\n",
      "Compute Lambda on Train\n",
      "Compute Lambda on Test\n",
      "Compute Lambda on Train\n",
      "Compute Lambda on Test\n",
      "AUC for LRT DISTANCE when gs when depth 2 and width 333: 0.37535919444444443\n",
      "BA for LRT DISTANCE when gs when depth 2 and width 333: 0.3825\n",
      "TP0.1 for LRT DISTANCE when gs when depth 2 and width 333: 0.08132500000000001\n",
      "TP0.01 for LRT DISTANCE when gs when depth 2 and width 333: 0.008725\n",
      "ITERATION: 3\n",
      "GENERATING RESULTS FOR Diabetes\n"
     ]
    },
    {
     "name": "stderr",
     "output_type": "stream",
     "text": [
      "  0%|                                                                                           | 0/24 [00:00<?, ?it/s]"
     ]
    },
    {
     "name": "stdout",
     "output_type": "stream",
     "text": [
      "Get private models ...\n",
      "./newresults\\Saved_Models/Private/Diabetes/iter3_private_depth333_width2.pt\n",
      "Accuracy on Train set: 0.9476944253269098\n",
      "Accuracy on Test set: 0.5320749152042472\n",
      "Get public models ...\n",
      "./newresults\\Saved_Models/Public/Diabetes/iter3_depth2_width333_0.pt\n",
      "Loading model ...\n"
     ]
    },
    {
     "name": "stderr",
     "output_type": "stream",
     "text": [
      "  8%|██████▉                                                                            | 2/24 [00:00<00:02,  8.02it/s]"
     ]
    },
    {
     "name": "stdout",
     "output_type": "stream",
     "text": [
      "./newresults\\Saved_Models/Public/Diabetes/iter3_depth2_width333_1.pt\n",
      "Loading model ...\n",
      "./newresults\\Saved_Models/Public/Diabetes/iter3_depth2_width333_2.pt\n",
      "Loading model ...\n"
     ]
    },
    {
     "name": "stderr",
     "output_type": "stream",
     "text": [
      " 17%|█████████████▊                                                                     | 4/24 [00:00<00:02,  8.02it/s]"
     ]
    },
    {
     "name": "stdout",
     "output_type": "stream",
     "text": [
      "./newresults\\Saved_Models/Public/Diabetes/iter3_depth2_width333_3.pt\n",
      "Loading model ...\n",
      "./newresults\\Saved_Models/Public/Diabetes/iter3_depth2_width333_4.pt\n",
      "Loading model ...\n"
     ]
    },
    {
     "name": "stderr",
     "output_type": "stream",
     "text": [
      " 25%|████████████████████▊                                                              | 6/24 [00:00<00:02,  8.10it/s]"
     ]
    },
    {
     "name": "stdout",
     "output_type": "stream",
     "text": [
      "./newresults\\Saved_Models/Public/Diabetes/iter3_depth2_width333_5.pt\n",
      "Loading model ...\n",
      "./newresults\\Saved_Models/Public/Diabetes/iter3_depth2_width333_6.pt\n",
      "Loading model ...\n"
     ]
    },
    {
     "name": "stderr",
     "output_type": "stream",
     "text": [
      " 33%|███████████████████████████▋                                                       | 8/24 [00:00<00:01,  8.27it/s]"
     ]
    },
    {
     "name": "stdout",
     "output_type": "stream",
     "text": [
      "./newresults\\Saved_Models/Public/Diabetes/iter3_depth2_width333_7.pt\n",
      "Loading model ...\n",
      "./newresults\\Saved_Models/Public/Diabetes/iter3_depth2_width333_8.pt\n",
      "Loading model ...\n"
     ]
    },
    {
     "name": "stderr",
     "output_type": "stream",
     "text": [
      " 42%|██████████████████████████████████▏                                               | 10/24 [00:01<00:01,  8.02it/s]"
     ]
    },
    {
     "name": "stdout",
     "output_type": "stream",
     "text": [
      "./newresults\\Saved_Models/Public/Diabetes/iter3_depth2_width333_9.pt\n",
      "Loading model ...\n",
      "./newresults\\Saved_Models/Public/Diabetes/iter3_depth2_width333_10.pt\n",
      "Loading model ...\n"
     ]
    },
    {
     "name": "stderr",
     "output_type": "stream",
     "text": [
      " 50%|█████████████████████████████████████████                                         | 12/24 [00:01<00:01,  8.25it/s]"
     ]
    },
    {
     "name": "stdout",
     "output_type": "stream",
     "text": [
      "./newresults\\Saved_Models/Public/Diabetes/iter3_depth2_width333_11.pt\n",
      "Loading model ...\n",
      "./newresults\\Saved_Models/Public/Diabetes/iter3_depth2_width333_12.pt\n",
      "Loading model ...\n"
     ]
    },
    {
     "name": "stderr",
     "output_type": "stream",
     "text": [
      " 58%|███████████████████████████████████████████████▊                                  | 14/24 [00:01<00:01,  8.27it/s]"
     ]
    },
    {
     "name": "stdout",
     "output_type": "stream",
     "text": [
      "./newresults\\Saved_Models/Public/Diabetes/iter3_depth2_width333_13.pt\n",
      "Loading model ...\n",
      "./newresults\\Saved_Models/Public/Diabetes/iter3_depth2_width333_14.pt\n",
      "Loading model ...\n"
     ]
    },
    {
     "name": "stderr",
     "output_type": "stream",
     "text": [
      " 67%|██████████████████████████████████████████████████████▋                           | 16/24 [00:01<00:00,  8.03it/s]"
     ]
    },
    {
     "name": "stdout",
     "output_type": "stream",
     "text": [
      "./newresults\\Saved_Models/Public/Diabetes/iter3_depth2_width333_15.pt\n",
      "Loading model ...\n",
      "./newresults\\Saved_Models/Public/Diabetes/iter3_depth2_width333_16.pt\n",
      "Loading model ...\n"
     ]
    },
    {
     "name": "stderr",
     "output_type": "stream",
     "text": [
      " 75%|█████████████████████████████████████████████████████████████▌                    | 18/24 [00:02<00:00,  8.19it/s]"
     ]
    },
    {
     "name": "stdout",
     "output_type": "stream",
     "text": [
      "./newresults\\Saved_Models/Public/Diabetes/iter3_depth2_width333_17.pt\n",
      "Loading model ...\n",
      "./newresults\\Saved_Models/Public/Diabetes/iter3_depth2_width333_18.pt\n",
      "Loading model ...\n"
     ]
    },
    {
     "name": "stderr",
     "output_type": "stream",
     "text": [
      " 83%|████████████████████████████████████████████████████████████████████▎             | 20/24 [00:02<00:00,  8.22it/s]"
     ]
    },
    {
     "name": "stdout",
     "output_type": "stream",
     "text": [
      "./newresults\\Saved_Models/Public/Diabetes/iter3_depth2_width333_19.pt\n",
      "Loading model ...\n",
      "./newresults\\Saved_Models/Public/Diabetes/iter3_depth2_width333_20.pt\n",
      "Loading model ...\n"
     ]
    },
    {
     "name": "stderr",
     "output_type": "stream",
     "text": [
      " 92%|███████████████████████████████████████████████████████████████████████████▏      | 22/24 [00:02<00:00,  7.91it/s]"
     ]
    },
    {
     "name": "stdout",
     "output_type": "stream",
     "text": [
      "./newresults\\Saved_Models/Public/Diabetes/iter3_depth2_width333_21.pt\n",
      "Loading model ...\n",
      "./newresults\\Saved_Models/Public/Diabetes/iter3_depth2_width333_22.pt\n",
      "Loading model ...\n"
     ]
    },
    {
     "name": "stderr",
     "output_type": "stream",
     "text": [
      "100%|██████████████████████████████████████████████████████████████████████████████████| 24/24 [00:02<00:00,  8.14it/s]\n"
     ]
    },
    {
     "name": "stdout",
     "output_type": "stream",
     "text": [
      "./newresults\\Saved_Models/Public/Diabetes/iter3_depth2_width333_23.pt\n",
      "Loading model ...\n",
      "Get private info ...\n",
      "Get shadow info ...\n",
      "Shadow model: 0\n",
      "Shadow model: 1\n",
      "Shadow model: 2\n",
      "Shadow model: 3\n",
      "Shadow model: 4\n",
      "Shadow model: 5\n",
      "Shadow model: 6\n",
      "Shadow model: 7\n",
      "Shadow model: 8\n",
      "Shadow model: 9\n",
      "Shadow model: 10\n",
      "Shadow model: 11\n",
      "Shadow model: 12\n",
      "Shadow model: 13\n",
      "Shadow model: 14\n",
      "Shadow model: 15\n",
      "Shadow model: 16\n",
      "Shadow model: 17\n",
      "Shadow model: 18\n",
      "Shadow model: 19\n",
      "Shadow model: 20\n",
      "Shadow model: 21\n",
      "Shadow model: 22\n",
      "Shadow model: 23\n",
      "    Identified 3000 out of 3000 counterfactual explanations\n",
      "    Identified 3000 out of 3000 counterfactual explanations\n",
      "    Identified 3000 out of 3000 counterfactual explanations\n",
      "    Identified 3000 out of 3000 counterfactual explanations\n",
      "    Identified 3000 out of 3000 counterfactual explanations\n",
      "    Identified 3000 out of 3000 counterfactual explanations\n",
      "    Identified 3000 out of 3000 counterfactual explanations\n",
      "    Identified 3000 out of 3000 counterfactual explanations\n"
     ]
    },
    {
     "name": "stderr",
     "output_type": "stream",
     "text": [
      "C:\\Users\\fred0\\Anaconda3\\lib\\site-packages\\torch\\nn\\_reduction.py:42: UserWarning: size_average and reduce args will be deprecated, please use reduction='none' instead.\n",
      "  warnings.warn(warning.format(ret))\n"
     ]
    },
    {
     "name": "stdout",
     "output_type": "stream",
     "text": [
      "AUC for BASE DISTANCE when gs when depth 2 and width 333: 0.49606527777777776\n",
      "BA for BASE DISTANCE when gs when depth 2 and width 333: 0.5101666666666667\n",
      "TP0.1 for BASE DISTANCE when gs when depth 2 and width 333: 0.088\n",
      "TP0.01 for BASE DISTANCE when gs when depth 2 and width 333: 0.0107\n",
      "Compute Lambda on Train\n",
      "Compute Lambda on Test\n",
      "Compute Lambda on Train\n",
      "Compute Lambda on Test\n",
      "AUC for LRT DISTANCE when gs when depth 2 and width 333: 0.50039625\n",
      "BA for LRT DISTANCE when gs when depth 2 and width 333: 0.510125\n",
      "TP0.1 for LRT DISTANCE when gs when depth 2 and width 333: 0.10990000000000001\n",
      "TP0.01 for LRT DISTANCE when gs when depth 2 and width 333: 0.011474999999999999\n",
      "ITERATION: 0\n",
      "GENERATING RESULTS FOR Adult\n",
      "Get private models ...\n",
      "./newresults\\Saved_Models/Private/Adult/iter0_private_depth1000_width1.pt\n",
      "Accuracy on Train set:"
     ]
    },
    {
     "name": "stderr",
     "output_type": "stream",
     "text": [
      "  4%|███▍                                                                               | 1/24 [00:00<00:03,  7.20it/s]"
     ]
    },
    {
     "name": "stdout",
     "output_type": "stream",
     "text": [
      " 0.9755602149128555\n",
      "Accuracy on Test set: 0.8109276729559748\n",
      "Get public models ...\n",
      "./newresults\\Saved_Models/Public/Adult/iter0_depth1_width1000_0.pt\n",
      "Loading model ...\n",
      "./newresults\\Saved_Models/Public/Adult/iter0_depth1_width1000_1.pt\n",
      "Loading model ...\n"
     ]
    },
    {
     "name": "stderr",
     "output_type": "stream",
     "text": [
      " 12%|██████████▍                                                                        | 3/24 [00:00<00:02,  8.16it/s]"
     ]
    },
    {
     "name": "stdout",
     "output_type": "stream",
     "text": [
      "./newresults\\Saved_Models/Public/Adult/iter0_depth1_width1000_2.pt\n",
      "Loading model ...\n",
      "./newresults\\Saved_Models/Public/Adult/iter0_depth1_width1000_3.pt\n",
      "Loading model ...\n"
     ]
    },
    {
     "name": "stderr",
     "output_type": "stream",
     "text": [
      " 21%|█████████████████▎                                                                 | 5/24 [00:00<00:02,  8.63it/s]"
     ]
    },
    {
     "name": "stdout",
     "output_type": "stream",
     "text": [
      "./newresults\\Saved_Models/Public/Adult/iter0_depth1_width1000_4.pt\n",
      "Loading model ...\n",
      "./newresults\\Saved_Models/Public/Adult/iter0_depth1_width1000_5.pt\n",
      "Loading model ...\n"
     ]
    },
    {
     "name": "stderr",
     "output_type": "stream",
     "text": [
      " 29%|████████████████████████▏                                                          | 7/24 [00:00<00:01,  8.90it/s]"
     ]
    },
    {
     "name": "stdout",
     "output_type": "stream",
     "text": [
      "./newresults\\Saved_Models/Public/Adult/iter0_depth1_width1000_6.pt\n",
      "Loading model ...\n",
      "./newresults\\Saved_Models/Public/Adult/iter0_depth1_width1000_7.pt\n",
      "Loading model ...\n"
     ]
    },
    {
     "name": "stderr",
     "output_type": "stream",
     "text": [
      " 38%|███████████████████████████████▏                                                   | 9/24 [00:01<00:01,  9.09it/s]"
     ]
    },
    {
     "name": "stdout",
     "output_type": "stream",
     "text": [
      "./newresults\\Saved_Models/Public/Adult/iter0_depth1_width1000_8.pt\n",
      "Loading model ...\n",
      "./newresults\\Saved_Models/Public/Adult/iter0_depth1_width1000_9.pt\n",
      "Loading model ...\n"
     ]
    },
    {
     "name": "stderr",
     "output_type": "stream",
     "text": [
      " 46%|█████████████████████████████████████▌                                            | 11/24 [00:01<00:01,  9.23it/s]"
     ]
    },
    {
     "name": "stdout",
     "output_type": "stream",
     "text": [
      "./newresults\\Saved_Models/Public/Adult/iter0_depth1_width1000_10.pt\n",
      "Loading model ...\n",
      "./newresults\\Saved_Models/Public/Adult/iter0_depth1_width1000_11.pt\n",
      "Loading model ...\n"
     ]
    },
    {
     "name": "stderr",
     "output_type": "stream",
     "text": [
      " 54%|████████████████████████████████████████████▍                                     | 13/24 [00:01<00:01,  9.33it/s]"
     ]
    },
    {
     "name": "stdout",
     "output_type": "stream",
     "text": [
      "./newresults\\Saved_Models/Public/Adult/iter0_depth1_width1000_12.pt\n",
      "Loading model ...\n",
      "./newresults\\Saved_Models/Public/Adult/iter0_depth1_width1000_13.pt\n",
      "Loading model ...\n",
      "./newresults\\Saved_Models/Public/Adult/iter0_depth1_width1000_14.pt"
     ]
    },
    {
     "name": "stderr",
     "output_type": "stream",
     "text": [
      " 62%|███████████████████████████████████████████████████▎                              | 15/24 [00:01<00:00,  9.89it/s]"
     ]
    },
    {
     "name": "stdout",
     "output_type": "stream",
     "text": [
      "\n",
      "Loading model ...\n",
      "./newresults\\Saved_Models/Public/Adult/iter0_depth1_width1000_15.pt\n",
      "Loading model ...\n",
      "./newresults\\Saved_Models/Public/Adult/iter0_depth1_width1000_16.pt\n",
      "Loading model ...\n"
     ]
    },
    {
     "name": "stderr",
     "output_type": "stream",
     "text": [
      " 79%|████████████████████████████████████████████████████████████████▉                 | 19/24 [00:02<00:00,  9.92it/s]"
     ]
    },
    {
     "name": "stdout",
     "output_type": "stream",
     "text": [
      "./newresults\\Saved_Models/Public/Adult/iter0_depth1_width1000_17.pt\n",
      "Loading model ...\n",
      "./newresults\\Saved_Models/Public/Adult/iter0_depth1_width1000_18.pt\n",
      "Loading model ...\n"
     ]
    },
    {
     "name": "stderr",
     "output_type": "stream",
     "text": [
      " 83%|████████████████████████████████████████████████████████████████████▎             | 20/24 [00:02<00:00,  8.98it/s]"
     ]
    },
    {
     "name": "stdout",
     "output_type": "stream",
     "text": [
      "./newresults\\Saved_Models/Public/Adult/iter0_depth1_width1000_19.pt\n",
      "Loading model ...\n",
      "./newresults\\Saved_Models/Public/Adult/iter0_depth1_width1000_20.pt\n",
      "Loading model ...\n"
     ]
    },
    {
     "name": "stderr",
     "output_type": "stream",
     "text": [
      " 92%|███████████████████████████████████████████████████████████████████████████▏      | 22/24 [00:02<00:00,  8.77it/s]"
     ]
    },
    {
     "name": "stdout",
     "output_type": "stream",
     "text": [
      "./newresults\\Saved_Models/Public/Adult/iter0_depth1_width1000_21.pt\n",
      "Loading model ...\n",
      "./newresults\\Saved_Models/Public/Adult/iter0_depth1_width1000_22.pt\n",
      "Loading model ...\n"
     ]
    },
    {
     "name": "stderr",
     "output_type": "stream",
     "text": [
      "100%|██████████████████████████████████████████████████████████████████████████████████| 24/24 [00:02<00:00,  9.17it/s]\n"
     ]
    },
    {
     "name": "stdout",
     "output_type": "stream",
     "text": [
      "./newresults\\Saved_Models/Public/Adult/iter0_depth1_width1000_23.pt\n",
      "Loading model ...\n",
      "Get private info ...\n",
      "Get shadow info ...\n",
      "Shadow model: 0\n",
      "Shadow model: 1\n",
      "Shadow model: 2\n",
      "Shadow model: 3\n",
      "Shadow model: 4\n",
      "Shadow model: 5\n",
      "Shadow model: 6\n",
      "Shadow model: 7\n",
      "Shadow model: 8\n",
      "Shadow model: 9\n",
      "Shadow model: 10\n",
      "Shadow model: 11\n",
      "Shadow model: 12\n",
      "Shadow model: 13\n",
      "Shadow model: 14\n",
      "Shadow model: 15\n",
      "Shadow model: 16\n",
      "Shadow model: 17\n",
      "Shadow model: 18\n",
      "Shadow model: 19\n",
      "Shadow model: 20\n",
      "Shadow model: 21\n",
      "Shadow model: 22\n",
      "Shadow model: 23\n",
      "    Identified 3000 out of 3000 counterfactual explanations\n",
      "    Identified 3000 out of 3000 counterfactual explanations\n",
      "    Identified 3000 out of 3000 counterfactual explanations\n",
      "    Identified 3000 out of 3000 counterfactual explanations\n",
      "    Identified 3000 out of 3000 counterfactual explanations\n",
      "    Identified 3000 out of 3000 counterfactual explanations\n",
      "    Identified 3000 out of 3000 counterfactual explanations\n",
      "    Identified 3000 out of 3000 counterfactual explanations\n"
     ]
    },
    {
     "name": "stderr",
     "output_type": "stream",
     "text": [
      "C:\\Users\\fred0\\Anaconda3\\lib\\site-packages\\torch\\nn\\_reduction.py:42: UserWarning: size_average and reduce args will be deprecated, please use reduction='none' instead.\n",
      "  warnings.warn(warning.format(ret))\n"
     ]
    },
    {
     "name": "stdout",
     "output_type": "stream",
     "text": [
      "AUC for BASE DISTANCE when cchvae when depth 1 and width 1000: 0.12521519444444446\n",
      "BA for BASE DISTANCE when cchvae when depth 1 and width 1000: 0.12641666666666668\n",
      "TP0.1 for BASE DISTANCE when cchvae when depth 1 and width 1000: 0.02645\n",
      "TP0.01 for BASE DISTANCE when cchvae when depth 1 and width 1000: 0.003925\n",
      "Compute Lambda on Train\n",
      "Compute Lambda on Test\n",
      "Compute Lambda on Train\n",
      "Compute Lambda on Test\n"
     ]
    },
    {
     "name": "stderr",
     "output_type": "stream",
     "text": [
      "  0%|                                                                                           | 0/24 [00:00<?, ?it/s]"
     ]
    },
    {
     "name": "stdout",
     "output_type": "stream",
     "text": [
      "AUC for LRT DISTANCE when cchvae when depth 1 and width 1000: 0.13282408333333334\n",
      "BA for LRT DISTANCE when cchvae when depth 1 and width 1000: 0.136625\n",
      "TP0.1 for LRT DISTANCE when cchvae when depth 1 and width 1000: 0.045175\n",
      "TP0.01 for LRT DISTANCE when cchvae when depth 1 and width 1000: 0.002575\n",
      "ITERATION: 1\n",
      "GENERATING RESULTS FOR Adult\n",
      "Get private models ...\n",
      "./newresults\\Saved_Models/Private/Adult/iter1_private_depth1000_width1.pt\n",
      "Accuracy on Train set: 0.9714323155549731\n",
      "Accuracy on Test set: 0.804441823899371\n",
      "Get public models ...\n",
      "./newresults\\Saved_Models/Public/Adult/iter1_depth1_width1000_0.pt\n",
      "Loading model ...\n"
     ]
    },
    {
     "name": "stderr",
     "output_type": "stream",
     "text": [
      "  8%|██████▉                                                                            | 2/24 [00:00<00:01, 11.24it/s]"
     ]
    },
    {
     "name": "stdout",
     "output_type": "stream",
     "text": [
      "./newresults\\Saved_Models/Public/Adult/iter1_depth1_width1000_1.pt\n",
      "Loading model ...\n",
      "./newresults\\Saved_Models/Public/Adult/iter1_depth1_width1000_2.pt\n",
      "Loading model ...\n",
      "./newresults\\Saved_Models/Public/Adult/iter1_depth1_width1000_3.pt\n",
      "Loading model ...\n"
     ]
    },
    {
     "name": "stderr",
     "output_type": "stream",
     "text": [
      " 25%|████████████████████▊                                                              | 6/24 [00:00<00:01, 11.49it/s]"
     ]
    },
    {
     "name": "stdout",
     "output_type": "stream",
     "text": [
      "./newresults\\Saved_Models/Public/Adult/iter1_depth1_width1000_4.pt\n",
      "Loading model ...\n",
      "./newresults\\Saved_Models/Public/Adult/iter1_depth1_width1000_5.pt\n",
      "Loading model ...\n",
      "./newresults\\Saved_Models/Public/Adult/iter1_depth1_width1000_6.pt\n",
      "Loading model ..."
     ]
    },
    {
     "name": "stderr",
     "output_type": "stream",
     "text": [
      " 29%|████████████████████████▏                                                          | 7/24 [00:00<00:01, 10.95it/s]"
     ]
    },
    {
     "name": "stdout",
     "output_type": "stream",
     "text": [
      "\n",
      "./newresults\\Saved_Models/Public/Adult/iter1_depth1_width1000_7.pt\n",
      "Loading model ...\n",
      "./newresults\\Saved_Models/Public/Adult/iter1_depth1_width1000_8.pt"
     ]
    },
    {
     "name": "stderr",
     "output_type": "stream",
     "text": [
      " 38%|███████████████████████████████▏                                                   | 9/24 [00:00<00:01, 10.74it/s]"
     ]
    },
    {
     "name": "stdout",
     "output_type": "stream",
     "text": [
      "\n",
      "Loading model ...\n",
      "./newresults\\Saved_Models/Public/Adult/iter1_depth1_width1000_9.pt\n",
      "Loading model ...\n",
      "./newresults\\Saved_Models/Public/Adult/iter1_depth1_width1000_10.pt"
     ]
    },
    {
     "name": "stderr",
     "output_type": "stream",
     "text": [
      " 46%|█████████████████████████████████████▌                                            | 11/24 [00:00<00:01, 10.72it/s]"
     ]
    },
    {
     "name": "stdout",
     "output_type": "stream",
     "text": [
      "\n",
      "Loading model ...\n",
      "./newresults\\Saved_Models/Public/Adult/iter1_depth1_width1000_11.pt\n",
      "Loading model ...\n",
      "./newresults\\Saved_Models/Public/Adult/iter1_depth1_width1000_12.pt"
     ]
    },
    {
     "name": "stderr",
     "output_type": "stream",
     "text": [
      " 54%|████████████████████████████████████████████▍                                     | 13/24 [00:01<00:01, 10.78it/s]"
     ]
    },
    {
     "name": "stdout",
     "output_type": "stream",
     "text": [
      "\n",
      "Loading model ...\n",
      "./newresults\\Saved_Models/Public/Adult/iter1_depth1_width1000_13.pt\n",
      "Loading model ...\n",
      "./newresults\\Saved_Models/Public/Adult/iter1_depth1_width1000_14.pt"
     ]
    },
    {
     "name": "stderr",
     "output_type": "stream",
     "text": [
      " 62%|███████████████████████████████████████████████████▎                              | 15/24 [00:01<00:00, 10.99it/s]"
     ]
    },
    {
     "name": "stdout",
     "output_type": "stream",
     "text": [
      "\n",
      "Loading model ...\n",
      "./newresults\\Saved_Models/Public/Adult/iter1_depth1_width1000_15.pt\n",
      "Loading model ...\n",
      "./newresults\\Saved_Models/Public/Adult/iter1_depth1_width1000_16.pt\n",
      "Loading model ...\n"
     ]
    },
    {
     "name": "stderr",
     "output_type": "stream",
     "text": [
      " 79%|████████████████████████████████████████████████████████████████▉                 | 19/24 [00:01<00:00, 11.63it/s]"
     ]
    },
    {
     "name": "stdout",
     "output_type": "stream",
     "text": [
      "./newresults\\Saved_Models/Public/Adult/iter1_depth1_width1000_17.pt\n",
      "Loading model ...\n",
      "./newresults\\Saved_Models/Public/Adult/iter1_depth1_width1000_18.pt\n",
      "Loading model ...\n",
      "./newresults\\Saved_Models/Public/Adult/iter1_depth1_width1000_19.pt\n",
      "Loading model ...\n"
     ]
    },
    {
     "name": "stderr",
     "output_type": "stream",
     "text": [
      " 88%|███████████████████████████████████████████████████████████████████████▊          | 21/24 [00:01<00:00, 11.15it/s]"
     ]
    },
    {
     "name": "stdout",
     "output_type": "stream",
     "text": [
      "./newresults\\Saved_Models/Public/Adult/iter1_depth1_width1000_20.pt\n",
      "Loading model ...\n",
      "./newresults\\Saved_Models/Public/Adult/iter1_depth1_width1000_21.pt\n",
      "Loading model ...\n",
      "./newresults\\Saved_Models/Public/Adult/iter1_depth1_width1000_22.pt\n"
     ]
    },
    {
     "name": "stderr",
     "output_type": "stream",
     "text": [
      " 96%|██████████████████████████████████████████████████████████████████████████████▌   | 23/24 [00:02<00:00, 10.96it/s]"
     ]
    },
    {
     "name": "stdout",
     "output_type": "stream",
     "text": [
      "Loading model ...\n",
      "./newresults\\Saved_Models/Public/Adult/iter1_depth1_width1000_23.pt\n",
      "Loading model ...\n"
     ]
    },
    {
     "name": "stderr",
     "output_type": "stream",
     "text": [
      "100%|██████████████████████████████████████████████████████████████████████████████████| 24/24 [00:02<00:00, 11.12it/s]\n"
     ]
    },
    {
     "name": "stdout",
     "output_type": "stream",
     "text": [
      "Get private info ...\n",
      "Get shadow info ...\n",
      "Shadow model: 0\n",
      "Shadow model: 1\n",
      "Shadow model: 2\n",
      "Shadow model: 3\n",
      "Shadow model: 4\n",
      "Shadow model: 5\n",
      "Shadow model: 6\n",
      "Shadow model: 7\n",
      "Shadow model: 8\n",
      "Shadow model: 9\n",
      "Shadow model: 10\n",
      "Shadow model: 11\n",
      "Shadow model: 12\n",
      "Shadow model: 13\n",
      "Shadow model: 14\n",
      "Shadow model: 15\n",
      "Shadow model: 16\n",
      "Shadow model: 17\n",
      "Shadow model: 18\n",
      "Shadow model: 19\n",
      "Shadow model: 20\n",
      "Shadow model: 21\n",
      "Shadow model: 22\n",
      "Shadow model: 23\n",
      "    Identified 3000 out of 3000 counterfactual explanations\n",
      "    Identified 3000 out of 3000 counterfactual explanations\n",
      "    Identified 3000 out of 3000 counterfactual explanations\n",
      "    Identified 3000 out of 3000 counterfactual explanations\n",
      "    Identified 3000 out of 3000 counterfactual explanations\n",
      "    Identified 3000 out of 3000 counterfactual explanations\n",
      "    Identified 3000 out of 3000 counterfactual explanations\n",
      "    Identified 3000 out of 3000 counterfactual explanations\n"
     ]
    },
    {
     "name": "stderr",
     "output_type": "stream",
     "text": [
      "C:\\Users\\fred0\\Anaconda3\\lib\\site-packages\\torch\\nn\\_reduction.py:42: UserWarning: size_average and reduce args will be deprecated, please use reduction='none' instead.\n",
      "  warnings.warn(warning.format(ret))\n"
     ]
    },
    {
     "name": "stdout",
     "output_type": "stream",
     "text": [
      "AUC for BASE DISTANCE when cchvae when depth 1 and width 1000: 0.2504303888888889\n",
      "BA for BASE DISTANCE when cchvae when depth 1 and width 1000: 0.25283333333333335\n",
      "TP0.1 for BASE DISTANCE when cchvae when depth 1 and width 1000: 0.0529\n",
      "TP0.01 for BASE DISTANCE when cchvae when depth 1 and width 1000: 0.00785\n",
      "Compute Lambda on Train\n",
      "Compute Lambda on Test\n",
      "Compute Lambda on Train\n",
      "Compute Lambda on Test\n"
     ]
    },
    {
     "name": "stderr",
     "output_type": "stream",
     "text": [
      "  0%|                                                                                           | 0/24 [00:00<?, ?it/s]"
     ]
    },
    {
     "name": "stdout",
     "output_type": "stream",
     "text": [
      "AUC for LRT DISTANCE when cchvae when depth 1 and width 1000: 0.2578023888888889\n",
      "BA for LRT DISTANCE when cchvae when depth 1 and width 1000: 0.26416666666666666\n",
      "TP0.1 for LRT DISTANCE when cchvae when depth 1 and width 1000: 0.074875\n",
      "TP0.01 for LRT DISTANCE when cchvae when depth 1 and width 1000: 0.006275\n",
      "ITERATION: 2\n",
      "GENERATING RESULTS FOR Adult\n",
      "Get private models ...\n",
      "./newresults\\Saved_Models/Private/Adult/iter2_private_depth1000_width1.pt\n",
      "Accuracy on Train set: 0.9749705150045865\n",
      "Accuracy on Test set: 0.8030660377358491\n",
      "Get public models ...\n",
      "./newresults\\Saved_Models/Public/Adult/iter2_depth1_width1000_0.pt\n",
      "Loading model ...\n"
     ]
    },
    {
     "name": "stderr",
     "output_type": "stream",
     "text": [
      "  8%|██████▉                                                                            | 2/24 [00:00<00:01, 13.29it/s]"
     ]
    },
    {
     "name": "stdout",
     "output_type": "stream",
     "text": [
      "./newresults\\Saved_Models/Public/Adult/iter2_depth1_width1000_1.pt\n",
      "Loading model ...\n",
      "./newresults\\Saved_Models/Public/Adult/iter2_depth1_width1000_2.pt\n",
      "Loading model ...\n",
      "./newresults\\Saved_Models/Public/Adult/iter2_depth1_width1000_3.pt\n",
      "Loading model ...\n"
     ]
    },
    {
     "name": "stderr",
     "output_type": "stream",
     "text": [
      " 25%|████████████████████▊                                                              | 6/24 [00:00<00:01, 12.40it/s]"
     ]
    },
    {
     "name": "stdout",
     "output_type": "stream",
     "text": [
      "./newresults\\Saved_Models/Public/Adult/iter2_depth1_width1000_4.pt\n",
      "Loading model ...\n",
      "./newresults\\Saved_Models/Public/Adult/iter2_depth1_width1000_5.pt\n",
      "Loading model ...\n",
      "./newresults\\Saved_Models/Public/Adult/iter2_depth1_width1000_6.pt\n",
      "Loading model ...\n"
     ]
    },
    {
     "name": "stderr",
     "output_type": "stream",
     "text": [
      " 33%|███████████████████████████▋                                                       | 8/24 [00:00<00:01, 12.04it/s]"
     ]
    },
    {
     "name": "stdout",
     "output_type": "stream",
     "text": [
      "./newresults\\Saved_Models/Public/Adult/iter2_depth1_width1000_7.pt\n",
      "Loading model ...\n",
      "./newresults\\Saved_Models/Public/Adult/iter2_depth1_width1000_8.pt\n",
      "Loading model ...\n",
      "./newresults\\Saved_Models/Public/Adult/iter2_depth1_width1000_9.pt\n",
      "Loading model ...\n"
     ]
    },
    {
     "name": "stderr",
     "output_type": "stream",
     "text": [
      " 50%|█████████████████████████████████████████                                         | 12/24 [00:00<00:00, 12.41it/s]"
     ]
    },
    {
     "name": "stdout",
     "output_type": "stream",
     "text": [
      "./newresults\\Saved_Models/Public/Adult/iter2_depth1_width1000_10.pt\n",
      "Loading model ...\n",
      "./newresults\\Saved_Models/Public/Adult/iter2_depth1_width1000_11.pt\n",
      "Loading model ...\n",
      "./newresults\\Saved_Models/Public/Adult/iter2_depth1_width1000_12.pt\n",
      "Loading model ...\n"
     ]
    },
    {
     "name": "stderr",
     "output_type": "stream",
     "text": [
      " 58%|███████████████████████████████████████████████▊                                  | 14/24 [00:01<00:00, 12.27it/s]"
     ]
    },
    {
     "name": "stdout",
     "output_type": "stream",
     "text": [
      "./newresults\\Saved_Models/Public/Adult/iter2_depth1_width1000_13.pt\n",
      "Loading model ...\n",
      "./newresults\\Saved_Models/Public/Adult/iter2_depth1_width1000_14.pt\n",
      "Loading model ...\n",
      "./newresults\\Saved_Models/Public/Adult/iter2_depth1_width1000_15.pt\n",
      "Loading model ...\n"
     ]
    },
    {
     "name": "stderr",
     "output_type": "stream",
     "text": [
      " 75%|█████████████████████████████████████████████████████████████▌                    | 18/24 [00:01<00:00, 11.64it/s]"
     ]
    },
    {
     "name": "stdout",
     "output_type": "stream",
     "text": [
      "./newresults\\Saved_Models/Public/Adult/iter2_depth1_width1000_16.pt\n",
      "Loading model ...\n",
      "./newresults\\Saved_Models/Public/Adult/iter2_depth1_width1000_17.pt\n",
      "Loading model ...\n",
      "./newresults\\Saved_Models/Public/Adult/iter2_depth1_width1000_18.pt\n",
      "Loading model ...\n"
     ]
    },
    {
     "name": "stderr",
     "output_type": "stream",
     "text": [
      " 83%|████████████████████████████████████████████████████████████████████▎             | 20/24 [00:01<00:00, 11.83it/s]"
     ]
    },
    {
     "name": "stdout",
     "output_type": "stream",
     "text": [
      "./newresults\\Saved_Models/Public/Adult/iter2_depth1_width1000_19.pt\n",
      "Loading model ...\n",
      "./newresults\\Saved_Models/Public/Adult/iter2_depth1_width1000_20.pt\n",
      "Loading model ...\n",
      "./newresults\\Saved_Models/Public/Adult/iter2_depth1_width1000_21.pt\n",
      "Loading model ...\n"
     ]
    },
    {
     "name": "stderr",
     "output_type": "stream",
     "text": [
      "100%|██████████████████████████████████████████████████████████████████████████████████| 24/24 [00:01<00:00, 12.04it/s]\n"
     ]
    },
    {
     "name": "stdout",
     "output_type": "stream",
     "text": [
      "./newresults\\Saved_Models/Public/Adult/iter2_depth1_width1000_22.pt\n",
      "Loading model ...\n",
      "./newresults\\Saved_Models/Public/Adult/iter2_depth1_width1000_23.pt\n",
      "Loading model ...\n",
      "Get private info ...\n",
      "Get shadow info ...\n",
      "Shadow model: 0\n",
      "Shadow model: 1\n",
      "Shadow model: 2\n",
      "Shadow model: 3\n",
      "Shadow model: 4\n",
      "Shadow model: 5\n",
      "Shadow model: 6\n",
      "Shadow model: 7\n",
      "Shadow model: 8\n",
      "Shadow model: 9\n",
      "Shadow model: 10\n",
      "Shadow model: 11\n",
      "Shadow model: 12\n",
      "Shadow model: 13\n",
      "Shadow model: 14\n",
      "Shadow model: 15\n",
      "Shadow model: 16\n",
      "Shadow model: 17\n",
      "Shadow model: 18\n",
      "Shadow model: 19\n",
      "Shadow model: 20\n",
      "Shadow model: 21\n",
      "Shadow model: 22\n",
      "Shadow model: 23\n",
      "    Identified 3000 out of 3000 counterfactual explanations\n",
      "    Identified 3000 out of 3000 counterfactual explanations\n",
      "    Identified 3000 out of 3000 counterfactual explanations\n",
      "    Identified 3000 out of 3000 counterfactual explanations\n",
      "    Identified 3000 out of 3000 counterfactual explanations\n",
      "    Identified 3000 out of 3000 counterfactual explanations\n",
      "    Identified 3000 out of 3000 counterfactual explanations\n",
      "    Identified 3000 out of 3000 counterfactual explanations\n"
     ]
    },
    {
     "name": "stderr",
     "output_type": "stream",
     "text": [
      "C:\\Users\\fred0\\Anaconda3\\lib\\site-packages\\torch\\nn\\_reduction.py:42: UserWarning: size_average and reduce args will be deprecated, please use reduction='none' instead.\n",
      "  warnings.warn(warning.format(ret))\n"
     ]
    },
    {
     "name": "stdout",
     "output_type": "stream",
     "text": [
      "AUC for BASE DISTANCE when cchvae when depth 1 and width 1000: 0.37564558333333337\n",
      "BA for BASE DISTANCE when cchvae when depth 1 and width 1000: 0.37925000000000003\n",
      "TP0.1 for BASE DISTANCE when cchvae when depth 1 and width 1000: 0.07935\n",
      "TP0.01 for BASE DISTANCE when cchvae when depth 1 and width 1000: 0.011774999999999999\n",
      "Compute Lambda on Train\n",
      "Compute Lambda on Test\n",
      "Compute Lambda on Train\n",
      "Compute Lambda on Test\n"
     ]
    },
    {
     "name": "stderr",
     "output_type": "stream",
     "text": [
      "  0%|                                                                                           | 0/24 [00:00<?, ?it/s]"
     ]
    },
    {
     "name": "stdout",
     "output_type": "stream",
     "text": [
      "AUC for LRT DISTANCE when cchvae when depth 1 and width 1000: 0.3811084722222222\n",
      "BA for LRT DISTANCE when cchvae when depth 1 and width 1000: 0.39045833333333335\n",
      "TP0.1 for LRT DISTANCE when cchvae when depth 1 and width 1000: 0.10087499999999999\n",
      "TP0.01 for LRT DISTANCE when cchvae when depth 1 and width 1000: 0.00945\n",
      "ITERATION: 3\n",
      "GENERATING RESULTS FOR Adult\n",
      "Get private models ...\n",
      "./newresults\\Saved_Models/Private/Adult/iter3_private_depth1000_width1.pt\n",
      "Accuracy on Train set: 0.9732669374918097\n",
      "Accuracy on Test set: 0.8089622641509434\n",
      "Get public models ...\n",
      "./newresults\\Saved_Models/Public/Adult/iter3_depth1_width1000_0.pt\n",
      "Loading model ...\n"
     ]
    },
    {
     "name": "stderr",
     "output_type": "stream",
     "text": [
      "  8%|██████▉                                                                            | 2/24 [00:00<00:01, 12.22it/s]"
     ]
    },
    {
     "name": "stdout",
     "output_type": "stream",
     "text": [
      "./newresults\\Saved_Models/Public/Adult/iter3_depth1_width1000_1.pt\n",
      "Loading model ...\n",
      "./newresults\\Saved_Models/Public/Adult/iter3_depth1_width1000_2.pt\n",
      "Loading model ...\n",
      "./newresults\\Saved_Models/Public/Adult/iter3_depth1_width1000_3.pt\n",
      "Loading model ...\n"
     ]
    },
    {
     "name": "stderr",
     "output_type": "stream",
     "text": [
      " 25%|████████████████████▊                                                              | 6/24 [00:00<00:01, 12.12it/s]"
     ]
    },
    {
     "name": "stdout",
     "output_type": "stream",
     "text": [
      "./newresults\\Saved_Models/Public/Adult/iter3_depth1_width1000_4.pt\n",
      "Loading model ...\n",
      "./newresults\\Saved_Models/Public/Adult/iter3_depth1_width1000_5.pt\n",
      "Loading model ...\n",
      "./newresults\\Saved_Models/Public/Adult/iter3_depth1_width1000_6.pt\n",
      "Loading model ...\n"
     ]
    },
    {
     "name": "stderr",
     "output_type": "stream",
     "text": [
      " 38%|███████████████████████████████▏                                                   | 9/24 [00:00<00:01, 11.18it/s]"
     ]
    },
    {
     "name": "stdout",
     "output_type": "stream",
     "text": [
      "./newresults\\Saved_Models/Public/Adult/iter3_depth1_width1000_7.pt\n",
      "Loading model ...\n",
      "./newresults\\Saved_Models/Public/Adult/iter3_depth1_width1000_8.pt\n",
      "Loading model ...\n"
     ]
    },
    {
     "name": "stderr",
     "output_type": "stream",
     "text": [
      " 46%|█████████████████████████████████████▌                                            | 11/24 [00:00<00:01, 11.51it/s]"
     ]
    },
    {
     "name": "stdout",
     "output_type": "stream",
     "text": [
      "./newresults\\Saved_Models/Public/Adult/iter3_depth1_width1000_9.pt\n",
      "Loading model ...\n",
      "./newresults\\Saved_Models/Public/Adult/iter3_depth1_width1000_10.pt\n",
      "Loading model ...\n",
      "./newresults\\Saved_Models/Public/Adult/iter3_depth1_width1000_11.pt\n",
      "Loading model ...\n"
     ]
    },
    {
     "name": "stderr",
     "output_type": "stream",
     "text": [
      " 54%|████████████████████████████████████████████▍                                     | 13/24 [00:01<00:00, 12.06it/s]"
     ]
    },
    {
     "name": "stdout",
     "output_type": "stream",
     "text": [
      "./newresults\\Saved_Models/Public/Adult/iter3_depth1_width1000_12.pt\n",
      "Loading model ...\n",
      "./newresults\\Saved_Models/Public/Adult/iter3_depth1_width1000_13.pt\n",
      "Loading model ...\n",
      "./newresults\\Saved_Models/Public/Adult/iter3_depth1_width1000_14.pt\n",
      "Loading model ...\n"
     ]
    },
    {
     "name": "stderr",
     "output_type": "stream",
     "text": [
      " 71%|██████████████████████████████████████████████████████████                        | 17/24 [00:01<00:00, 11.92it/s]"
     ]
    },
    {
     "name": "stdout",
     "output_type": "stream",
     "text": [
      "./newresults\\Saved_Models/Public/Adult/iter3_depth1_width1000_15.pt\n",
      "Loading model ...\n",
      "./newresults\\Saved_Models/Public/Adult/iter3_depth1_width1000_16.pt\n",
      "Loading model ...\n",
      "./newresults\\Saved_Models/Public/Adult/iter3_depth1_width1000_17.pt\n",
      "Loading model ...\n"
     ]
    },
    {
     "name": "stderr",
     "output_type": "stream",
     "text": [
      " 79%|████████████████████████████████████████████████████████████████▉                 | 19/24 [00:01<00:00, 11.73it/s]"
     ]
    },
    {
     "name": "stdout",
     "output_type": "stream",
     "text": [
      "./newresults\\Saved_Models/Public/Adult/iter3_depth1_width1000_18.pt\n",
      "Loading model ...\n",
      "./newresults\\Saved_Models/Public/Adult/iter3_depth1_width1000_19.pt\n",
      "Loading model ...\n",
      "./newresults\\Saved_Models/Public/Adult/iter3_depth1_width1000_20.pt\n",
      "Loading model ...\n"
     ]
    },
    {
     "name": "stderr",
     "output_type": "stream",
     "text": [
      " 96%|██████████████████████████████████████████████████████████████████████████████▌   | 23/24 [00:01<00:00, 11.57it/s]"
     ]
    },
    {
     "name": "stdout",
     "output_type": "stream",
     "text": [
      "./newresults\\Saved_Models/Public/Adult/iter3_depth1_width1000_21.pt\n",
      "Loading model ...\n",
      "./newresults\\Saved_Models/Public/Adult/iter3_depth1_width1000_22.pt\n",
      "Loading model ...\n",
      "./newresults\\Saved_Models/Public/Adult/iter3_depth1_width1000_23.pt\n",
      "Loading model ...\n"
     ]
    },
    {
     "name": "stderr",
     "output_type": "stream",
     "text": [
      "100%|██████████████████████████████████████████████████████████████████████████████████| 24/24 [00:02<00:00, 11.76it/s]\n"
     ]
    },
    {
     "name": "stdout",
     "output_type": "stream",
     "text": [
      "Get private info ...\n",
      "Get shadow info ...\n",
      "Shadow model: 0\n",
      "Shadow model: 1\n",
      "Shadow model: 2\n",
      "Shadow model: 3\n",
      "Shadow model: 4\n",
      "Shadow model: 5\n",
      "Shadow model: 6\n",
      "Shadow model: 7\n",
      "Shadow model: 8\n",
      "Shadow model: 9\n",
      "Shadow model: 10\n",
      "Shadow model: 11\n",
      "Shadow model: 12\n",
      "Shadow model: 13\n",
      "Shadow model: 14\n",
      "Shadow model: 15\n",
      "Shadow model: 16\n",
      "Shadow model: 17\n",
      "Shadow model: 18\n",
      "Shadow model: 19\n",
      "Shadow model: 20\n",
      "Shadow model: 21\n",
      "Shadow model: 22\n",
      "Shadow model: 23\n",
      "    Identified 3000 out of 3000 counterfactual explanations\n",
      "    Identified 3000 out of 3000 counterfactual explanations\n",
      "    Identified 3000 out of 3000 counterfactual explanations\n",
      "    Identified 3000 out of 3000 counterfactual explanations\n",
      "    Identified 3000 out of 3000 counterfactual explanations\n",
      "    Identified 3000 out of 3000 counterfactual explanations\n",
      "    Identified 3000 out of 3000 counterfactual explanations\n",
      "    Identified 3000 out of 3000 counterfactual explanations\n",
      "AUC for BASE DISTANCE when cchvae when depth 1 and width 1000: 0.5008607777777778\n",
      "BA for BASE DISTANCE when cchvae when depth 1 and width 1000: 0.5056666666666667\n",
      "TP0.1 for BASE DISTANCE when cchvae when depth 1 and width 1000: 0.1058\n",
      "TP0.01 for BASE DISTANCE when cchvae when depth 1 and width 1000: 0.0157\n",
      "Compute Lambda on Train\n"
     ]
    },
    {
     "name": "stderr",
     "output_type": "stream",
     "text": [
      "C:\\Users\\fred0\\Anaconda3\\lib\\site-packages\\torch\\nn\\_reduction.py:42: UserWarning: size_average and reduce args will be deprecated, please use reduction='none' instead.\n",
      "  warnings.warn(warning.format(ret))\n"
     ]
    },
    {
     "name": "stdout",
     "output_type": "stream",
     "text": [
      "Compute Lambda on Test\n",
      "Compute Lambda on Train\n",
      "Compute Lambda on Test\n"
     ]
    },
    {
     "name": "stderr",
     "output_type": "stream",
     "text": [
      " 21%|█████████████████▎                                                                 | 5/24 [00:00<00:00, 48.65it/s]"
     ]
    },
    {
     "name": "stdout",
     "output_type": "stream",
     "text": [
      "AUC for LRT DISTANCE when cchvae when depth 1 and width 1000: 0.5066210555555555\n",
      "BA for LRT DISTANCE when cchvae when depth 1 and width 1000: 0.5175833333333333\n",
      "TP0.1 for LRT DISTANCE when cchvae when depth 1 and width 1000: 0.1298\n",
      "TP0.01 for LRT DISTANCE when cchvae when depth 1 and width 1000: 0.013375\n",
      "ITERATION: 0\n",
      "GENERATING RESULTS FOR Heloc\n",
      "Get private models ...\n",
      "./newresults\\Saved_Models/Private/Heloc/iter0_private_depth1000_width1.pt\n",
      "Accuracy on Train set: 1.0\n",
      "Accuracy on Test set: 0.6701782820097245\n",
      "Get public models ...\n",
      "./newresults\\Saved_Models/Public/Heloc/iter0_depth1_width1000_0.pt\n",
      "Loading model ...\n",
      "./newresults\\Saved_Models/Public/Heloc/iter0_depth1_width1000_1.pt\n",
      "Loading model ...\n",
      "./newresults\\Saved_Models/Public/Heloc/iter0_depth1_width1000_2.pt\n",
      "Loading model ...\n",
      "./newresults\\Saved_Models/Public/Heloc/iter0_depth1_width1000_3.pt\n",
      "Loading model ...\n",
      "./newresults\\Saved_Models/Public/Heloc/iter0_depth1_width1000_4.pt\n",
      "Loading model ...\n",
      "./newresults\\Saved_Models/Public/Heloc/iter0_depth1_width1000_5.pt\n",
      "Loading model ...\n",
      "./newresults\\Saved_Models/Public/Heloc/iter0_depth1_width1000_6.pt\n"
     ]
    },
    {
     "name": "stderr",
     "output_type": "stream",
     "text": [
      " 42%|██████████████████████████████████▏                                               | 10/24 [00:00<00:00, 46.90it/s]"
     ]
    },
    {
     "name": "stdout",
     "output_type": "stream",
     "text": [
      "Loading model ...\n",
      "./newresults\\Saved_Models/Public/Heloc/iter0_depth1_width1000_7.pt\n",
      "Loading model ...\n",
      "./newresults\\Saved_Models/Public/Heloc/iter0_depth1_width1000_8.pt\n",
      "Loading model ...\n",
      "./newresults\\Saved_Models/Public/Heloc/iter0_depth1_width1000_9.pt\n",
      "Loading model ...\n",
      "./newresults\\Saved_Models/Public/Heloc/iter0_depth1_width1000_10.pt\n",
      "Loading model ...\n",
      "./newresults\\Saved_Models/Public/Heloc/iter0_depth1_width1000_11.pt\n",
      "Loading model ...\n",
      "./newresults\\Saved_Models/Public/Heloc/iter0_depth1_width1000_12.pt\n",
      "Loading model ...\n",
      "./newresults\\Saved_Models/Public/Heloc/iter0_depth1_width1000_13.pt\n",
      "Loading model ...\n",
      "./newresults\\Saved_Models/Public/Heloc/iter0_depth1_width1000_14.pt\n"
     ]
    },
    {
     "name": "stderr",
     "output_type": "stream",
     "text": [
      " 83%|████████████████████████████████████████████████████████████████████▎             | 20/24 [00:00<00:00, 46.53it/s]"
     ]
    },
    {
     "name": "stdout",
     "output_type": "stream",
     "text": [
      "Loading model ...\n",
      "./newresults\\Saved_Models/Public/Heloc/iter0_depth1_width1000_15.pt\n",
      "Loading model ...\n",
      "./newresults\\Saved_Models/Public/Heloc/iter0_depth1_width1000_16.pt\n",
      "Loading model ...\n",
      "./newresults\\Saved_Models/Public/Heloc/iter0_depth1_width1000_17.pt\n",
      "Loading model ...\n",
      "./newresults\\Saved_Models/Public/Heloc/iter0_depth1_width1000_18.pt\n",
      "Loading model ...\n",
      "./newresults\\Saved_Models/Public/Heloc/iter0_depth1_width1000_19.pt\n",
      "Loading model ...\n",
      "./newresults\\Saved_Models/Public/Heloc/iter0_depth1_width1000_20.pt\n",
      "Loading model ...\n",
      "./newresults\\Saved_Models/Public/Heloc/iter0_depth1_width1000_21.pt\n",
      "Loading model ...\n",
      "./newresults\\Saved_Models/Public/Heloc/iter0_depth1_width1000_22.pt\n",
      "Loading model ...\n"
     ]
    },
    {
     "name": "stderr",
     "output_type": "stream",
     "text": [
      "100%|██████████████████████████████████████████████████████████████████████████████████| 24/24 [00:00<00:00, 45.12it/s]\n"
     ]
    },
    {
     "name": "stdout",
     "output_type": "stream",
     "text": [
      "./newresults\\Saved_Models/Public/Heloc/iter0_depth1_width1000_23.pt\n",
      "Loading model ...\n",
      "Get private info ...\n",
      "Get shadow info ...\n",
      "Shadow model: 0\n",
      "Shadow model: 1\n",
      "Shadow model: 2\n",
      "Shadow model: 3\n",
      "Shadow model: 4\n",
      "Shadow model: 5\n",
      "Shadow model: 6\n",
      "Shadow model: 7\n",
      "Shadow model: 8\n",
      "Shadow model: 9\n",
      "Shadow model: 10\n",
      "Shadow model: 11\n",
      "Shadow model: 12\n",
      "Shadow model: 13\n",
      "Shadow model: 14\n",
      "Shadow model: 15\n",
      "Shadow model: 16\n",
      "Shadow model: 17\n",
      "Shadow model: 18\n",
      "Shadow model: 19\n",
      "Shadow model: 20\n",
      "Shadow model: 21\n",
      "Shadow model: 22\n",
      "Shadow model: 23\n",
      "    Identified 1926 out of 1926 counterfactual explanations\n",
      "    Identified 637 out of 637 counterfactual explanations\n",
      "    Identified 1926 out of 1926 counterfactual explanations\n",
      "    Identified 637 out of 637 counterfactual explanations\n",
      "    Identified 1926 out of 1926 counterfactual explanations\n",
      "    Identified 637 out of 637 counterfactual explanations\n",
      "    Identified 1926 out of 1926 counterfactual explanations\n",
      "    Identified 637 out of 637 counterfactual explanations\n",
      "AUC for BASE DISTANCE when cchvae when depth 1 and width 1000: 0.12118742776286168\n",
      "BA for BASE DISTANCE when cchvae when depth 1 and width 1000: 0.1279341115789714\n",
      "TP0.1 for BASE DISTANCE when cchvae when depth 1 and width 1000: 0.021575\n",
      "TP0.01 for BASE DISTANCE when cchvae when depth 1 and width 1000: 0.0004\n",
      "Compute Lambda on Train\n"
     ]
    },
    {
     "name": "stderr",
     "output_type": "stream",
     "text": [
      "C:\\Users\\fred0\\Anaconda3\\lib\\site-packages\\torch\\nn\\_reduction.py:42: UserWarning: size_average and reduce args will be deprecated, please use reduction='none' instead.\n",
      "  warnings.warn(warning.format(ret))\n"
     ]
    },
    {
     "name": "stdout",
     "output_type": "stream",
     "text": [
      "Compute Lambda on Test\n",
      "Compute Lambda on Train\n",
      "Compute Lambda on Test\n"
     ]
    },
    {
     "name": "stderr",
     "output_type": "stream",
     "text": [
      " 21%|█████████████████▎                                                                 | 5/24 [00:00<00:00, 48.51it/s]"
     ]
    },
    {
     "name": "stdout",
     "output_type": "stream",
     "text": [
      "AUC for LRT DISTANCE when cchvae when depth 1 and width 1000: 0.1644647075221174\n",
      "BA for LRT DISTANCE when cchvae when depth 1 and width 1000: 0.15507489839933097\n",
      "TP0.1 for LRT DISTANCE when cchvae when depth 1 and width 1000: 0.062\n",
      "TP0.01 for LRT DISTANCE when cchvae when depth 1 and width 1000: 0.01185\n",
      "ITERATION: 1\n",
      "GENERATING RESULTS FOR Heloc\n",
      "Get private models ...\n",
      "./newresults\\Saved_Models/Private/Heloc/iter1_private_depth1000_width1.pt\n",
      "Accuracy on Train set: 1.0\n",
      "Accuracy on Test set: 0.6701782820097245\n",
      "Get public models ...\n",
      "./newresults\\Saved_Models/Public/Heloc/iter1_depth1_width1000_0.pt\n",
      "Loading model ...\n",
      "./newresults\\Saved_Models/Public/Heloc/iter1_depth1_width1000_1.pt\n",
      "Loading model ...\n",
      "./newresults\\Saved_Models/Public/Heloc/iter1_depth1_width1000_2.pt\n",
      "Loading model ...\n",
      "./newresults\\Saved_Models/Public/Heloc/iter1_depth1_width1000_3.pt\n",
      "Loading model ...\n",
      "./newresults\\Saved_Models/Public/Heloc/iter1_depth1_width1000_4.pt\n",
      "Loading model ...\n"
     ]
    },
    {
     "name": "stderr",
     "output_type": "stream",
     "text": [
      " 42%|██████████████████████████████████▏                                               | 10/24 [00:00<00:00, 47.87it/s]"
     ]
    },
    {
     "name": "stdout",
     "output_type": "stream",
     "text": [
      "./newresults\\Saved_Models/Public/Heloc/iter1_depth1_width1000_5.pt\n",
      "Loading model ...\n",
      "./newresults\\Saved_Models/Public/Heloc/iter1_depth1_width1000_6.pt\n",
      "Loading model ...\n",
      "./newresults\\Saved_Models/Public/Heloc/iter1_depth1_width1000_7.pt\n",
      "Loading model ...\n",
      "./newresults\\Saved_Models/Public/Heloc/iter1_depth1_width1000_8.pt\n",
      "Loading model ...\n",
      "./newresults\\Saved_Models/Public/Heloc/iter1_depth1_width1000_9.pt\n",
      "Loading model ...\n",
      "./newresults\\Saved_Models/Public/Heloc/iter1_depth1_width1000_10.pt\n",
      "Loading model ...\n",
      "./newresults\\Saved_Models/Public/Heloc/iter1_depth1_width1000_11.pt\n",
      "Loading model ...\n",
      "./newresults\\Saved_Models/Public/Heloc/iter1_depth1_width1000_12.pt\n",
      "Loading model ...\n",
      "./newresults\\Saved_Models/Public/Heloc/iter1_depth1_width1000_13.pt\n",
      "Loading model ...\n",
      "./newresults\\Saved_Models/Public/Heloc/iter1_depth1_width1000_14.pt\n"
     ]
    },
    {
     "name": "stderr",
     "output_type": "stream",
     "text": [
      " 83%|████████████████████████████████████████████████████████████████████▎             | 20/24 [00:00<00:00, 47.47it/s]"
     ]
    },
    {
     "name": "stdout",
     "output_type": "stream",
     "text": [
      "Loading model ...\n",
      "./newresults\\Saved_Models/Public/Heloc/iter1_depth1_width1000_15.pt\n",
      "Loading model ...\n",
      "./newresults\\Saved_Models/Public/Heloc/iter1_depth1_width1000_16.pt\n",
      "Loading model ...\n",
      "./newresults\\Saved_Models/Public/Heloc/iter1_depth1_width1000_17.pt\n",
      "Loading model ...\n",
      "./newresults\\Saved_Models/Public/Heloc/iter1_depth1_width1000_18.pt\n",
      "Loading model ...\n",
      "./newresults\\Saved_Models/Public/Heloc/iter1_depth1_width1000_19.pt\n",
      "Loading model ...\n",
      "./newresults\\Saved_Models/Public/Heloc/iter1_depth1_width1000_20.pt\n",
      "Loading model ...\n",
      "./newresults\\Saved_Models/Public/Heloc/iter1_depth1_width1000_21.pt\n",
      "Loading model ...\n",
      "./newresults\\Saved_Models/Public/Heloc/iter1_depth1_width1000_22.pt\n",
      "Loading model ...\n",
      "./newresults\\Saved_Models/Public/Heloc/iter1_depth1_width1000_23.pt\n"
     ]
    },
    {
     "name": "stderr",
     "output_type": "stream",
     "text": [
      "100%|██████████████████████████████████████████████████████████████████████████████████| 24/24 [00:00<00:00, 46.07it/s]\n"
     ]
    },
    {
     "name": "stdout",
     "output_type": "stream",
     "text": [
      "Loading model ...\n",
      "Get private info ...\n",
      "Get shadow info ...\n",
      "Shadow model: 0\n",
      "Shadow model: 1\n",
      "Shadow model: 2\n",
      "Shadow model: 3\n",
      "Shadow model: 4\n",
      "Shadow model: 5\n",
      "Shadow model: 6\n",
      "Shadow model: 7\n",
      "Shadow model: 8\n",
      "Shadow model: 9\n",
      "Shadow model: 10\n",
      "Shadow model: 11\n",
      "Shadow model: 12\n",
      "Shadow model: 13\n",
      "Shadow model: 14\n",
      "Shadow model: 15\n",
      "Shadow model: 16\n",
      "Shadow model: 17\n",
      "Shadow model: 18\n",
      "Shadow model: 19\n",
      "Shadow model: 20\n",
      "Shadow model: 21\n",
      "Shadow model: 22\n",
      "Shadow model: 23\n",
      "    Identified 1926 out of 1926 counterfactual explanations\n",
      "    Identified 637 out of 637 counterfactual explanations\n",
      "    Identified 1926 out of 1926 counterfactual explanations\n",
      "    Identified 637 out of 637 counterfactual explanations\n",
      "    Identified 1926 out of 1926 counterfactual explanations\n",
      "    Identified 637 out of 637 counterfactual explanations\n",
      "    Identified 1926 out of 1926 counterfactual explanations\n",
      "    Identified 637 out of 637 counterfactual explanations\n",
      "AUC for BASE DISTANCE when cchvae when depth 1 and width 1000: 0.24237485552572335\n",
      "BA for BASE DISTANCE when cchvae when depth 1 and width 1000: 0.2558682231579428\n",
      "TP0.1 for BASE DISTANCE when cchvae when depth 1 and width 1000: 0.04315\n",
      "TP0.01 for BASE DISTANCE when cchvae when depth 1 and width 1000: 0.0008\n",
      "Compute Lambda on Train\n"
     ]
    },
    {
     "name": "stderr",
     "output_type": "stream",
     "text": [
      "C:\\Users\\fred0\\Anaconda3\\lib\\site-packages\\torch\\nn\\_reduction.py:42: UserWarning: size_average and reduce args will be deprecated, please use reduction='none' instead.\n",
      "  warnings.warn(warning.format(ret))\n"
     ]
    },
    {
     "name": "stdout",
     "output_type": "stream",
     "text": [
      "Compute Lambda on Test\n",
      "Compute Lambda on Train\n",
      "Compute Lambda on Test\n"
     ]
    },
    {
     "name": "stderr",
     "output_type": "stream",
     "text": [
      " 21%|█████████████████▎                                                                 | 5/24 [00:00<00:00, 48.11it/s]"
     ]
    },
    {
     "name": "stdout",
     "output_type": "stream",
     "text": [
      "AUC for LRT DISTANCE when cchvae when depth 1 and width 1000: 0.34635231998382865\n",
      "BA for LRT DISTANCE when cchvae when depth 1 and width 1000: 0.3240594704212862\n",
      "TP0.1 for LRT DISTANCE when cchvae when depth 1 and width 1000: 0.1395\n",
      "TP0.01 for LRT DISTANCE when cchvae when depth 1 and width 1000: 0.034625\n",
      "ITERATION: 2\n",
      "GENERATING RESULTS FOR Heloc\n",
      "Get private models ...\n",
      "./newresults\\Saved_Models/Private/Heloc/iter2_private_depth1000_width1.pt\n",
      "Accuracy on Train set: 1.0\n",
      "Accuracy on Test set: 0.6693679092382496\n",
      "Get public models ...\n",
      "./newresults\\Saved_Models/Public/Heloc/iter2_depth1_width1000_0.pt\n",
      "Loading model ...\n",
      "./newresults\\Saved_Models/Public/Heloc/iter2_depth1_width1000_1.pt\n",
      "Loading model ...\n",
      "./newresults\\Saved_Models/Public/Heloc/iter2_depth1_width1000_2.pt\n",
      "Loading model ...\n",
      "./newresults\\Saved_Models/Public/Heloc/iter2_depth1_width1000_3.pt\n",
      "Loading model ...\n",
      "./newresults\\Saved_Models/Public/Heloc/iter2_depth1_width1000_4.pt\n",
      "Loading model ...\n",
      "./newresults\\Saved_Models/Public/Heloc/iter2_depth1_width1000_5.pt\n",
      "Loading model ...\n",
      "./newresults\\Saved_Models/Public/Heloc/iter2_depth1_width1000_6.pt\n"
     ]
    },
    {
     "name": "stderr",
     "output_type": "stream",
     "text": [
      " 62%|███████████████████████████████████████████████████▎                              | 15/24 [00:00<00:00, 47.33it/s]"
     ]
    },
    {
     "name": "stdout",
     "output_type": "stream",
     "text": [
      "Loading model ...\n",
      "./newresults\\Saved_Models/Public/Heloc/iter2_depth1_width1000_7.pt\n",
      "Loading model ...\n",
      "./newresults\\Saved_Models/Public/Heloc/iter2_depth1_width1000_8.pt\n",
      "Loading model ...\n",
      "./newresults\\Saved_Models/Public/Heloc/iter2_depth1_width1000_9.pt\n",
      "Loading model ...\n",
      "./newresults\\Saved_Models/Public/Heloc/iter2_depth1_width1000_10.pt\n",
      "Loading model ...\n",
      "./newresults\\Saved_Models/Public/Heloc/iter2_depth1_width1000_11.pt\n",
      "Loading model ...\n",
      "./newresults\\Saved_Models/Public/Heloc/iter2_depth1_width1000_12.pt\n",
      "Loading model ...\n",
      "./newresults\\Saved_Models/Public/Heloc/iter2_depth1_width1000_13.pt\n",
      "Loading model ...\n",
      "./newresults\\Saved_Models/Public/Heloc/iter2_depth1_width1000_14.pt\n",
      "Loading model ...\n"
     ]
    },
    {
     "name": "stderr",
     "output_type": "stream",
     "text": [
      " 83%|████████████████████████████████████████████████████████████████████▎             | 20/24 [00:00<00:00, 47.25it/s]"
     ]
    },
    {
     "name": "stdout",
     "output_type": "stream",
     "text": [
      "./newresults\\Saved_Models/Public/Heloc/iter2_depth1_width1000_15.pt\n",
      "Loading model ...\n",
      "./newresults\\Saved_Models/Public/Heloc/iter2_depth1_width1000_16.pt\n",
      "Loading model ...\n",
      "./newresults\\Saved_Models/Public/Heloc/iter2_depth1_width1000_17.pt\n",
      "Loading model ...\n",
      "./newresults\\Saved_Models/Public/Heloc/iter2_depth1_width1000_18.pt\n",
      "Loading model ...\n",
      "./newresults\\Saved_Models/Public/Heloc/iter2_depth1_width1000_19.pt\n",
      "Loading model ...\n",
      "./newresults\\Saved_Models/Public/Heloc/iter2_depth1_width1000_20.pt\n",
      "Loading model ...\n",
      "./newresults\\Saved_Models/Public/Heloc/iter2_depth1_width1000_21.pt\n",
      "Loading model ...\n",
      "./newresults\\Saved_Models/Public/Heloc/iter2_depth1_width1000_22.pt\n",
      "Loading model ...\n",
      "./newresults\\Saved_Models/Public/Heloc/iter2_depth1_width1000_23.pt\n",
      "Loading model ...\n"
     ]
    },
    {
     "name": "stderr",
     "output_type": "stream",
     "text": [
      "100%|██████████████████████████████████████████████████████████████████████████████████| 24/24 [00:00<00:00, 46.34it/s]\n"
     ]
    },
    {
     "name": "stdout",
     "output_type": "stream",
     "text": [
      "Get private info ...\n",
      "Get shadow info ...\n",
      "Shadow model: 0\n",
      "Shadow model: 1\n",
      "Shadow model: 2\n",
      "Shadow model: 3\n",
      "Shadow model: 4\n",
      "Shadow model: 5\n",
      "Shadow model: 6\n",
      "Shadow model: 7\n",
      "Shadow model: 8\n",
      "Shadow model: 9\n",
      "Shadow model: 10\n",
      "Shadow model: 11\n",
      "Shadow model: 12\n",
      "Shadow model: 13\n",
      "Shadow model: 14\n",
      "Shadow model: 15\n",
      "Shadow model: 16\n",
      "Shadow model: 17\n",
      "Shadow model: 18\n",
      "Shadow model: 19\n",
      "Shadow model: 20\n",
      "Shadow model: 21\n",
      "Shadow model: 22\n",
      "Shadow model: 23\n",
      "    Identified 1926 out of 1926 counterfactual explanations\n",
      "    Identified 637 out of 637 counterfactual explanations\n",
      "    Identified 1926 out of 1926 counterfactual explanations\n",
      "    Identified 637 out of 637 counterfactual explanations\n",
      "    Identified 1926 out of 1926 counterfactual explanations\n",
      "    Identified 637 out of 637 counterfactual explanations\n",
      "    Identified 1926 out of 1926 counterfactual explanations\n",
      "    Identified 637 out of 637 counterfactual explanations\n",
      "AUC for BASE DISTANCE when cchvae when depth 1 and width 1000: 0.36356228328858503\n",
      "BA for BASE DISTANCE when cchvae when depth 1 and width 1000: 0.38380233473691416\n",
      "TP0.1 for BASE DISTANCE when cchvae when depth 1 and width 1000: 0.064725\n",
      "TP0.01 for BASE DISTANCE when cchvae when depth 1 and width 1000: 0.0012000000000000001\n",
      "Compute Lambda on Train\n"
     ]
    },
    {
     "name": "stderr",
     "output_type": "stream",
     "text": [
      "C:\\Users\\fred0\\Anaconda3\\lib\\site-packages\\torch\\nn\\_reduction.py:42: UserWarning: size_average and reduce args will be deprecated, please use reduction='none' instead.\n",
      "  warnings.warn(warning.format(ret))\n"
     ]
    },
    {
     "name": "stdout",
     "output_type": "stream",
     "text": [
      "Compute Lambda on Test\n",
      "Compute Lambda on Train\n",
      "Compute Lambda on Test\n"
     ]
    },
    {
     "name": "stderr",
     "output_type": "stream",
     "text": [
      " 21%|█████████████████▎                                                                 | 5/24 [00:00<00:00, 46.88it/s]"
     ]
    },
    {
     "name": "stdout",
     "output_type": "stream",
     "text": [
      "AUC for LRT DISTANCE when cchvae when depth 1 and width 1000: 0.5081219403649311\n",
      "BA for LRT DISTANCE when cchvae when depth 1 and width 1000: 0.4782747570631416\n",
      "TP0.1 for LRT DISTANCE when cchvae when depth 1 and width 1000: 0.195225\n",
      "TP0.01 for LRT DISTANCE when cchvae when depth 1 and width 1000: 0.039525000000000005\n",
      "ITERATION: 3\n",
      "GENERATING RESULTS FOR Heloc\n",
      "Get private models ...\n",
      "./newresults\\Saved_Models/Private/Heloc/iter3_private_depth1000_width1.pt\n",
      "Accuracy on Train set: 1.0\n",
      "Accuracy on Test set: 0.6717990275526742\n",
      "Get public models ...\n",
      "./newresults\\Saved_Models/Public/Heloc/iter3_depth1_width1000_0.pt\n",
      "Loading model ...\n",
      "./newresults\\Saved_Models/Public/Heloc/iter3_depth1_width1000_1.pt\n",
      "Loading model ...\n",
      "./newresults\\Saved_Models/Public/Heloc/iter3_depth1_width1000_2.pt\n",
      "Loading model ...\n",
      "./newresults\\Saved_Models/Public/Heloc/iter3_depth1_width1000_3.pt\n",
      "Loading model ...\n",
      "./newresults\\Saved_Models/Public/Heloc/iter3_depth1_width1000_4.pt\n",
      "Loading model ...\n",
      "./newresults\\Saved_Models/Public/Heloc/iter3_depth1_width1000_5.pt\n",
      "Loading model ...\n",
      "./newresults\\Saved_Models/Public/Heloc/iter3_depth1_width1000_6.pt\n"
     ]
    },
    {
     "name": "stderr",
     "output_type": "stream",
     "text": [
      " 62%|███████████████████████████████████████████████████▎                              | 15/24 [00:00<00:00, 46.64it/s]"
     ]
    },
    {
     "name": "stdout",
     "output_type": "stream",
     "text": [
      "Loading model ...\n",
      "./newresults\\Saved_Models/Public/Heloc/iter3_depth1_width1000_7.pt\n",
      "Loading model ...\n",
      "./newresults\\Saved_Models/Public/Heloc/iter3_depth1_width1000_8.pt\n",
      "Loading model ...\n",
      "./newresults\\Saved_Models/Public/Heloc/iter3_depth1_width1000_9.pt\n",
      "Loading model ...\n",
      "./newresults\\Saved_Models/Public/Heloc/iter3_depth1_width1000_10.pt\n",
      "Loading model ...\n",
      "./newresults\\Saved_Models/Public/Heloc/iter3_depth1_width1000_11.pt\n",
      "Loading model ...\n",
      "./newresults\\Saved_Models/Public/Heloc/iter3_depth1_width1000_12.pt\n",
      "Loading model ...\n",
      "./newresults\\Saved_Models/Public/Heloc/iter3_depth1_width1000_13.pt\n",
      "Loading model ...\n",
      "./newresults\\Saved_Models/Public/Heloc/iter3_depth1_width1000_14.pt\n",
      "Loading model ...\n"
     ]
    },
    {
     "name": "stderr",
     "output_type": "stream",
     "text": [
      " 83%|████████████████████████████████████████████████████████████████████▎             | 20/24 [00:00<00:00, 46.27it/s]"
     ]
    },
    {
     "name": "stdout",
     "output_type": "stream",
     "text": [
      "./newresults\\Saved_Models/Public/Heloc/iter3_depth1_width1000_15.pt\n",
      "Loading model ...\n",
      "./newresults\\Saved_Models/Public/Heloc/iter3_depth1_width1000_16.pt\n",
      "Loading model ...\n",
      "./newresults\\Saved_Models/Public/Heloc/iter3_depth1_width1000_17.pt\n",
      "Loading model ...\n",
      "./newresults\\Saved_Models/Public/Heloc/iter3_depth1_width1000_18.pt\n",
      "Loading model ...\n",
      "./newresults\\Saved_Models/Public/Heloc/iter3_depth1_width1000_19.pt\n",
      "Loading model ...\n",
      "./newresults\\Saved_Models/Public/Heloc/iter3_depth1_width1000_20.pt\n",
      "Loading model ...\n",
      "./newresults\\Saved_Models/Public/Heloc/iter3_depth1_width1000_21.pt\n",
      "Loading model ...\n",
      "./newresults\\Saved_Models/Public/Heloc/iter3_depth1_width1000_22.pt\n",
      "Loading model ...\n",
      "./newresults\\Saved_Models/Public/Heloc/iter3_depth1_width1000_23.pt\n",
      "Loading model ...\n"
     ]
    },
    {
     "name": "stderr",
     "output_type": "stream",
     "text": [
      "100%|██████████████████████████████████████████████████████████████████████████████████| 24/24 [00:00<00:00, 45.97it/s]\n"
     ]
    },
    {
     "name": "stdout",
     "output_type": "stream",
     "text": [
      "Get private info ...\n",
      "Get shadow info ...\n",
      "Shadow model: 0\n",
      "Shadow model: 1\n",
      "Shadow model: 2\n",
      "Shadow model: 3\n",
      "Shadow model: 4\n",
      "Shadow model: 5\n",
      "Shadow model: 6\n",
      "Shadow model: 7\n",
      "Shadow model: 8\n",
      "Shadow model: 9\n",
      "Shadow model: 10\n",
      "Shadow model: 11\n",
      "Shadow model: 12\n",
      "Shadow model: 13\n",
      "Shadow model: 14\n",
      "Shadow model: 15\n",
      "Shadow model: 16\n",
      "Shadow model: 17\n",
      "Shadow model: 18\n",
      "Shadow model: 19\n",
      "Shadow model: 20\n",
      "Shadow model: 21\n",
      "Shadow model: 22\n",
      "Shadow model: 23\n",
      "    Identified 1926 out of 1926 counterfactual explanations\n",
      "    Identified 637 out of 637 counterfactual explanations\n",
      "    Identified 1926 out of 1926 counterfactual explanations\n",
      "    Identified 637 out of 637 counterfactual explanations\n",
      "    Identified 1926 out of 1926 counterfactual explanations\n",
      "    Identified 637 out of 637 counterfactual explanations\n",
      "    Identified 1926 out of 1926 counterfactual explanations\n",
      "    Identified 637 out of 637 counterfactual explanations\n",
      "AUC for BASE DISTANCE when cchvae when depth 1 and width 1000: 0.4847497110514467\n",
      "BA for BASE DISTANCE when cchvae when depth 1 and width 1000: 0.5117364463158856\n",
      "TP0.1 for BASE DISTANCE when cchvae when depth 1 and width 1000: 0.0863\n",
      "TP0.01 for BASE DISTANCE when cchvae when depth 1 and width 1000: 0.0016\n",
      "Compute Lambda on Train\n"
     ]
    },
    {
     "name": "stderr",
     "output_type": "stream",
     "text": [
      "C:\\Users\\fred0\\Anaconda3\\lib\\site-packages\\torch\\nn\\_reduction.py:42: UserWarning: size_average and reduce args will be deprecated, please use reduction='none' instead.\n",
      "  warnings.warn(warning.format(ret))\n"
     ]
    },
    {
     "name": "stdout",
     "output_type": "stream",
     "text": [
      "Compute Lambda on Test\n",
      "Compute Lambda on Train\n",
      "Compute Lambda on Test\n",
      "AUC for LRT DISTANCE when cchvae when depth 1 and width 1000: 0.6789310859738097\n",
      "BA for LRT DISTANCE when cchvae when depth 1 and width 1000: 0.6388740135402352\n",
      "TP0.1 for LRT DISTANCE when cchvae when depth 1 and width 1000: 0.263525\n",
      "TP0.01 for LRT DISTANCE when cchvae when depth 1 and width 1000: 0.051325\n"
     ]
    },
    {
     "data": {
      "image/png": "[encoded data removed]",
      "text/plain": [
       "<Figure size 864x288 with 3 Axes>"
      ]
     },
     "metadata": {},
     "output_type": "display_data"
    },
    {
     "data": {
      "image/png": "[encoded data removed]",
      "text/plain": [
       "<Figure size 864x288 with 3 Axes>"
      ]
     },
     "metadata": {},
     "output_type": "display_data"
    },
    {
     "data": {
      "image/png": "[encoded data removed]",
      "text/plain": [
       "<Figure size 576x288 with 2 Axes>"
      ]
     },
     "metadata": {},
     "output_type": "display_data"
    }
   ],
   "source": [
    "for method in methods:\n",
    "    if method == 'gs':\n",
    "        hidden_layers = [[333]*2]\n",
    "        datanames = ['Adult', 'Heloc', 'Diabetes']\n",
    "    elif method == 'cchvae':\n",
    "        hidden_layers = [[1000]]\n",
    "        datanames = ['Adult', 'Heloc']\n",
    "    else:\n",
    "        hidden_layers = [[1000]]\n",
    "        datanames = ['Adult', 'Heloc', 'Diabetes']\n",
    "    \n",
    "    parameters_CE['methods'] = method\n",
    "    for hidden_layer in hidden_layers:\n",
    "        parameters_MODEL['hidden_layers'] = hidden_layer\n",
    "        plot(parameters_DATA,\n",
    "             parameters_GENERAL,\n",
    "             parameters_MODEL,\n",
    "             parameters_CE,\n",
    "             datanames,\n",
    "             flag='attack')"
   ]
  }
 ],
 "metadata": {
  "kernelspec": {
   "display_name": "Python 3 (ipykernel)",
   "language": "python",
   "name": "python3"
  },
  "language_info": {
   "codemirror_mode": {
    "name": "ipython",
    "version": 3
   },
   "file_extension": ".py",
   "mimetype": "text/x-python",
   "name": "python",
   "nbconvert_exporter": "python",
   "pygments_lexer": "ipython3",
   "version": "3.9.13"
  }
 },
 "nbformat": 4,
 "nbformat_minor": 4
}
